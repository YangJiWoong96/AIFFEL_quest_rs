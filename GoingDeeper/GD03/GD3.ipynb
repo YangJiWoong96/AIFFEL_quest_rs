{
 "cells": [
  {
   "cell_type": "code",
   "execution_count": 7,
   "id": "977865fd",
   "metadata": {},
   "outputs": [
    {
     "name": "stdout",
     "output_type": "stream",
     "text": [
      "0.5.2\n",
      "4.1.2\n",
      "1.0\n",
      "0.11.2\n"
     ]
    }
   ],
   "source": [
    "import konlpy\n",
    "import gensim\n",
    "import sklearn\n",
    "import seaborn\n",
    "import os \n",
    "from sklearn.feature_extraction.text import TfidfVectorizer\n",
    "import numpy as np\n",
    "from konlpy.tag import Okt\n",
    "from numpy import dot\n",
    "from numpy.linalg import norm\n",
    "import seaborn as sns; \n",
    "import matplotlib.pyplot as plt\n",
    "print(konlpy.__version__)\n",
    "print(gensim.__version__)\n",
    "print(sklearn.__version__)\n",
    "print(seaborn.__version__)"
   ]
  },
  {
   "cell_type": "code",
   "execution_count": 8,
   "id": "49c7df30",
   "metadata": {},
   "outputs": [],
   "source": [
    "# 약 15분정도 걸립니다.\n",
    "okt = Okt()\n",
    "tokenized = []\n",
    "with open(os.getenv('HOME')+'/aiffel/weat/synopsis.txt', 'r') as file:\n",
    "    while True:\n",
    "        line = file.readline()\n",
    "        if not line: break\n",
    "        words = okt.pos(line, stem=True, norm=True)\n",
    "        res = []\n",
    "        for w in words:\n",
    "            if w[1] in [\"Noun\"]:      # \"Adjective\", \"Verb\" 등을 포함할 수도 있습니다.\n",
    "                res.append(w[0])    # 명사일 때만 tokenized 에 저장하게 됩니다. \n",
    "        tokenized.append(res)"
   ]
  },
  {
   "cell_type": "code",
   "execution_count": 9,
   "id": "cbc83a46",
   "metadata": {},
   "outputs": [
    {
     "name": "stdout",
     "output_type": "stream",
     "text": [
      "71156\n"
     ]
    }
   ],
   "source": [
    "print(len(tokenized))"
   ]
  },
  {
   "cell_type": "code",
   "execution_count": 10,
   "id": "e90eb700",
   "metadata": {},
   "outputs": [
    {
     "data": {
      "text/plain": [
       "[('작품', 0.895541250705719),\n",
       " ('다큐멘터리', 0.8614234328269958),\n",
       " ('드라마', 0.8149378895759583),\n",
       " ('코미디', 0.7963703870773315),\n",
       " ('영화로', 0.7943252921104431),\n",
       " ('주제', 0.7865523099899292),\n",
       " ('영상', 0.7836326360702515),\n",
       " ('감동', 0.7820609211921692),\n",
       " ('형식', 0.7819716334342957),\n",
       " ('캐릭터', 0.7635389566421509)]"
      ]
     },
     "execution_count": 10,
     "metadata": {},
     "output_type": "execute_result"
    }
   ],
   "source": [
    "from gensim.models import Word2Vec\n",
    "\n",
    "# tokenized에 담긴 데이터를 가지고 나만의 Word2Vec을 생성합니다. (Gensim 4.0 기준)\n",
    "model = Word2Vec(tokenized, vector_size=100, window=5, min_count=3, sg=0)  \n",
    "model.wv.most_similar(positive=['영화'])\n",
    "\n",
    "# Gensim 3.X 에서는 아래와 같이 생성합니다. \n",
    "# model = Word2Vec(tokenized, size=100, window=5, min_count=3, sg=0)  \n",
    "# model.most_similar(positive=['영화'])"
   ]
  },
  {
   "cell_type": "code",
   "execution_count": 11,
   "id": "07642c59",
   "metadata": {},
   "outputs": [
    {
     "data": {
      "text/plain": [
       "[('행복', 0.7179516553878784),\n",
       " ('첫사랑', 0.716096818447113),\n",
       " ('애정', 0.7064253091812134),\n",
       " ('연애관', 0.6942117810249329),\n",
       " ('이별', 0.692031979560852),\n",
       " ('식지', 0.6912932395935059),\n",
       " ('진심', 0.6863855719566345),\n",
       " ('만남', 0.6839345097541809),\n",
       " ('가슴', 0.6781213879585266),\n",
       " ('우정', 0.6773350238800049)]"
      ]
     },
     "execution_count": 11,
     "metadata": {},
     "output_type": "execute_result"
    }
   ],
   "source": [
    "model.wv.most_similar(positive=['사랑'])"
   ]
  },
  {
   "cell_type": "code",
   "execution_count": 12,
   "id": "c83d60ce",
   "metadata": {},
   "outputs": [
    {
     "data": {
      "text/plain": [
       "[('시나리오', 0.9212069511413574),\n",
       " ('영화감독', 0.9095240831375122),\n",
       " ('캐스팅', 0.8932217955589294),\n",
       " ('배우', 0.8840868473052979),\n",
       " ('영감', 0.8750982880592346),\n",
       " ('각색', 0.8667960166931152),\n",
       " ('데뷔', 0.8590781688690186),\n",
       " ('대본', 0.8550133109092712),\n",
       " ('주크', 0.855004608631134),\n",
       " ('출연', 0.8529792428016663)]"
      ]
     },
     "execution_count": 12,
     "metadata": {},
     "output_type": "execute_result"
    }
   ],
   "source": [
    "model.wv.most_similar(positive=['연극'])"
   ]
  },
  {
   "cell_type": "code",
   "execution_count": 13,
   "id": "2d49e9e3",
   "metadata": {},
   "outputs": [],
   "source": [
    "art_txt = 'synopsis_art.txt'\n",
    "gen_txt = 'synopsis_gen.txt'\n",
    "\n",
    "def read_token(file_name):\n",
    "    okt = Okt()\n",
    "    result = []\n",
    "    with open(os.getenv('HOME')+'/aiffel/weat/'+file_name, 'r') as fread: \n",
    "        print(file_name, '파일을 읽고 있습니다.')\n",
    "        while True:\n",
    "            line = fread.readline() \n",
    "            if not line: break \n",
    "            tokenlist = okt.pos(line, stem=True, norm=True) \n",
    "            for word in tokenlist:\n",
    "                if word[1] in [\"Noun\"]:#, \"Adjective\", \"Verb\"]:\n",
    "                    result.append((word[0])) \n",
    "    return ' '.join(result)"
   ]
  },
  {
   "cell_type": "code",
   "execution_count": 14,
   "id": "c7202e63",
   "metadata": {
    "scrolled": true
   },
   "outputs": [
    {
     "name": "stdout",
     "output_type": "stream",
     "text": [
      "synopsis_art.txt 파일을 읽고 있습니다.\n",
      "synopsis_gen.txt 파일을 읽고 있습니다.\n"
     ]
    }
   ],
   "source": [
    "# 2개의 파일을 처리하는데 10분 가량 걸립니다. \n",
    "art = read_token(art_txt)\n",
    "gen = read_token(gen_txt)"
   ]
  },
  {
   "cell_type": "code",
   "execution_count": 15,
   "id": "c17eb9e9",
   "metadata": {},
   "outputs": [
    {
     "name": "stdout",
     "output_type": "stream",
     "text": [
      "(2, 41082)\n"
     ]
    }
   ],
   "source": [
    "vectorizer = TfidfVectorizer()\n",
    "X = vectorizer.fit_transform([art, gen])\n",
    "\n",
    "print(X.shape)"
   ]
  },
  {
   "cell_type": "code",
   "execution_count": 16,
   "id": "ffea1246",
   "metadata": {},
   "outputs": [
    {
     "name": "stdout",
     "output_type": "stream",
     "text": [
      "23976\n",
      "영화\n"
     ]
    },
    {
     "name": "stderr",
     "output_type": "stream",
     "text": [
      "/opt/conda/lib/python3.9/site-packages/sklearn/utils/deprecation.py:87: FutureWarning: Function get_feature_names is deprecated; get_feature_names is deprecated in 1.0 and will be removed in 1.2. Please use get_feature_names_out instead.\n",
      "  warnings.warn(msg, category=FutureWarning)\n"
     ]
    }
   ],
   "source": [
    "print(vectorizer.vocabulary_['영화'])\n",
    "print(vectorizer.get_feature_names()[23976])"
   ]
  },
  {
   "cell_type": "code",
   "execution_count": 17,
   "id": "c1e70e1f",
   "metadata": {},
   "outputs": [
    {
     "name": "stdout",
     "output_type": "stream",
     "text": [
      "예술영화를 대표하는 단어들:\n",
      "그녀, 자신, 시작, 위해, 사랑, 사람, 영화, 친구, 남자, 가족, 이야기, 마을, 사건, 마음, 세상, 아버지, 아이, 엄마, 모든, 여자, 대한, 서로, 과연, 다시, 시간, 아들, 소녀, 아내, 다른, 사이, 영화제, 세계, 사실, 하나, 점점, 남편, 감독, 여행, 인생, 발견, 모두, 순간, 우리, 가장, 마지막, 생활, 아빠, 모습, 통해, 죽음, 기억, 비밀, 학교, 음악, 한편, 소년, 생각, 도시, 명의, 사고, 결혼, 전쟁, 때문, 위기, 이제, 최고, 이자, 과거, 일상, 경찰, 상황, 간다, 미국, 결심, 운명, 현실, 관계, 지금, 단편, 여인, 하루, 이름, 이후, 준비, 인간, 감정, 만난, 국제, 처음, 충격, 살인, 누구, 동안, 존재, 그린, 어머니, 연인, 계속, 동생, 작품, \n",
      "\n",
      "일반영화를 대표하는 단어들:\n",
      "자신, 그녀, 영화제, 위해, 사람, 시작, 국제, 영화, 친구, 사랑, 남자, 이야기, 대한, 서울, 여자, 사건, 남편, 아이, 가족, 아버지, 다른, 마을, 시간, 엄마, 아들, 모든, 단편, 마음, 사실, 다시, 세계, 모습, 작품, 통해, 생각, 서로, 세상, 발견, 감독, 아내, 관계, 소녀, 사이, 하나, 우리, 애니메이션, 때문, 여성, 죽음, 과연, 점점, 인간, 생활, 한편, 결혼, 상황, 모두, 기억, 명의, 소년, 여행, 가장, 간다, 순간, 이제, 도시, 비밀, 학교, 과거, 가지, 이자, 경찰, 마지막, 미국, 동안, 전쟁, 주인공, 대해, 존재, 현실, 연출, 사고, 살인, 일상, 어머니, 계속, 사회, 인생, 다큐멘터리, 부문, 섹스, 최고, 바로, 동생, 의도, 하루, 위기, 계획, 정체, 한국, "
     ]
    }
   ],
   "source": [
    "m1 = X[0].tocoo()   # art를 TF-IDF로 표현한 sparse matrix를 가져옵니다. \n",
    "m2 = X[1].tocoo()   # gen을 TF-IDF로 표현한 sparse matrix를 가져옵니다. \n",
    "\n",
    "w1 = [[i, j] for i, j in zip(m1.col, m1.data)]\n",
    "w2 = [[i, j] for i, j in zip(m2.col, m2.data)]\n",
    "\n",
    "w1.sort(key=lambda x: x[1], reverse=True)   #art를 구성하는 단어들을 TF-IDF가 높은 순으로 정렬합니다. \n",
    "w2.sort(key=lambda x: x[1], reverse=True)   #gen을 구성하는 단어들을 TF-IDF가 높은 순으로 정렬합니다. \n",
    "\n",
    "print('예술영화를 대표하는 단어들:')\n",
    "for i in range(100):\n",
    "    print(vectorizer.get_feature_names()[w1[i][0]], end=', ')\n",
    "\n",
    "print('\\n')\n",
    "    \n",
    "print('일반영화를 대표하는 단어들:')\n",
    "for i in range(100):\n",
    "    print(vectorizer.get_feature_names()[w2[i][0]], end=', ')"
   ]
  },
  {
   "cell_type": "code",
   "execution_count": 18,
   "id": "f90ed69c",
   "metadata": {},
   "outputs": [],
   "source": [
    "n = 15\n",
    "w1_, w2_ = [], []\n",
    "for i in range(100):\n",
    "    w1_.append(vectorizer.get_feature_names()[w1[i][0]])\n",
    "    w2_.append(vectorizer.get_feature_names()[w2[i][0]])\n",
    "\n",
    "# w1에만 있고 w2에는 없는, 예술영화를 잘 대표하는 단어를 15개 추출한다.\n",
    "target_art, target_gen = [], []\n",
    "for i in range(100):\n",
    "    if (w1_[i] not in w2_) and (w1_[i] in model.wv): target_art.append(w1_[i])\n",
    "    if len(target_art) == n: break \n",
    "\n",
    "# w2에만 있고 w1에는 없는, 일반영화를 잘 대표하는 단어를 15개 추출한다.\n",
    "for i in range(100):\n",
    "    if (w2_[i] not in w1_) and (w2_[i] in model.wv): target_gen.append(w2_[i])\n",
    "    if len(target_gen) == n: break"
   ]
  },
  {
   "cell_type": "code",
   "execution_count": 19,
   "id": "3c651115",
   "metadata": {},
   "outputs": [
    {
     "name": "stdout",
     "output_type": "stream",
     "text": [
      "['아빠', '음악', '결심', '운명', '지금', '여인', '이름', '이후', '준비', '감정', '만난', '처음', '충격', '누구', '그린']\n",
      "['서울', '애니메이션', '여성', '가지', '주인공', '대해', '연출', '사회', '다큐멘터리', '부문', '섹스', '바로', '의도', '계획', '정체']\n"
     ]
    }
   ],
   "source": [
    "print(target_art)\n",
    "print(target_gen)"
   ]
  },
  {
   "cell_type": "code",
   "execution_count": 20,
   "id": "9b0ea485",
   "metadata": {},
   "outputs": [],
   "source": [
    "genre_txt = ['synopsis_drama.txt', 'synopsis_romance.txt', 'synopsis_action.txt', 'synopsis_comedy.txt', 'synopsis_war.txt', 'synopsis_horror.txt']\n",
    "genre_name = ['드라마', '멜로로맨스', '액션', '코미디', '전쟁', '공포(호러)']"
   ]
  },
  {
   "cell_type": "code",
   "execution_count": 21,
   "id": "35da6fa4",
   "metadata": {},
   "outputs": [
    {
     "name": "stdout",
     "output_type": "stream",
     "text": [
      "synopsis_drama.txt 파일을 읽고 있습니다.\n",
      "synopsis_romance.txt 파일을 읽고 있습니다.\n",
      "synopsis_action.txt 파일을 읽고 있습니다.\n",
      "synopsis_comedy.txt 파일을 읽고 있습니다.\n",
      "synopsis_war.txt 파일을 읽고 있습니다.\n",
      "synopsis_horror.txt 파일을 읽고 있습니다.\n"
     ]
    }
   ],
   "source": [
    "# 약 10분정도 걸립니다.\n",
    "genre = []\n",
    "for file_name in genre_txt:\n",
    "    genre.append(read_token(file_name))"
   ]
  },
  {
   "cell_type": "code",
   "execution_count": 22,
   "id": "6b60ce93",
   "metadata": {},
   "outputs": [
    {
     "name": "stdout",
     "output_type": "stream",
     "text": [
      "(6, 33151)\n"
     ]
    }
   ],
   "source": [
    "vectorizer = TfidfVectorizer()\n",
    "X = vectorizer.fit_transform(genre)\n",
    "\n",
    "print(X.shape)"
   ]
  },
  {
   "cell_type": "code",
   "execution_count": 23,
   "id": "1bd62618",
   "metadata": {},
   "outputs": [
    {
     "name": "stdout",
     "output_type": "stream",
     "text": [
      "드라마: 자신, 영화제, 그녀, 사람, 사랑, 위해, 영화, 시작, 국제, 남자, 친구, 이야기, 여자, 아버지, 엄마, \n",
      "멜로로맨스: 그녀, 사랑, 자신, 시작, 남자, 남편, 여자, 사람, 친구, 위해, 마음, 섹스, 결혼, 서로, 아내, \n",
      "액션: 위해, 자신, 시작, 조직, 사건, 사람, 그녀, 경찰, 전쟁, 친구, 모든, 목숨, 사실, 세계, 가족, \n",
      "코미디: 그녀, 자신, 시작, 위해, 사랑, 사람, 친구, 영화, 남자, 여자, 영화제, 가족, 과연, 마을, 사건, \n",
      "전쟁: 전쟁, 위해, 전투, 시작, 작전, 독일군, 부대, 독일, 윈터스, 자신, 사람, 공격, 임무, 연합군, 병사, \n",
      "공포(호러): 시작, 위해, 사람, 자신, 친구, 그녀, 사건, 공포, 발견, 죽음, 마을, 남자, 가족, 영화, 하나, \n"
     ]
    }
   ],
   "source": [
    "m = [X[i].tocoo() for i in range(X.shape[0])]\n",
    "\n",
    "w = [[[i, j] for i, j in zip(mm.col, mm.data)] for mm in m]\n",
    "\n",
    "for i in range(len(w)):\n",
    "    w[i].sort(key=lambda x: x[1], reverse=True)\n",
    "attributes = []\n",
    "for i in range(len(w)):\n",
    "    print(genre_name[i], end=': ')\n",
    "    attr = []\n",
    "    j = 0\n",
    "    while (len(attr) < 15):\n",
    "        if vectorizer.get_feature_names()[w[i][j][0]] in model.wv:\n",
    "            attr.append(vectorizer.get_feature_names()[w[i][j][0]])\n",
    "            print(vectorizer.get_feature_names()[w[i][j][0]], end=', ')\n",
    "        j += 1\n",
    "    attributes.append(attr)\n",
    "    print()"
   ]
  },
  {
   "cell_type": "code",
   "execution_count": 24,
   "id": "9ea7bdf5",
   "metadata": {},
   "outputs": [
    {
     "name": "stdout",
     "output_type": "stream",
     "text": [
      "슝~\n"
     ]
    }
   ],
   "source": [
    "matrix = [[0 for _ in range(len(genre_name))] for _ in range(len(genre_name))]\n",
    "print(\"슝~\")"
   ]
  },
  {
   "cell_type": "code",
   "execution_count": 25,
   "id": "a0e9e000",
   "metadata": {},
   "outputs": [],
   "source": [
    "def cos_sim(i, j):\n",
    "    return dot(i, j.T)/(norm(i)*norm(j))\n",
    "\n",
    "def s(w, A, B):\n",
    "    c_a = cos_sim(w, A)\n",
    "    c_b = cos_sim(w, B)\n",
    "    mean_A = np.mean(c_a, axis=-1)\n",
    "    mean_B = np.mean(c_b, axis=-1)\n",
    "    return mean_A - mean_B #, c_a, c_b\n",
    "\n",
    "def weat_score(X, Y, A, B):\n",
    "    \n",
    "    s_X = s(X, A, B)\n",
    "    s_Y = s(Y, A, B)\n",
    "\n",
    "    mean_X = np.mean(s_X)\n",
    "    mean_Y = np.mean(s_Y)\n",
    "    \n",
    "    std_dev = np.std(np.concatenate([s_X, s_Y], axis=0))\n",
    "    \n",
    "    return  (mean_X-mean_Y)/std_dev"
   ]
  },
  {
   "cell_type": "code",
   "execution_count": 26,
   "id": "9d4da5ac",
   "metadata": {},
   "outputs": [
    {
     "name": "stdout",
     "output_type": "stream",
     "text": [
      "슝~\n"
     ]
    }
   ],
   "source": [
    "X = np.array([model.wv[word] for word in target_art])\n",
    "Y = np.array([model.wv[word] for word in target_gen])\n",
    "\n",
    "for i in range(len(genre_name)-1):\n",
    "    for j in range(i+1, len(genre_name)):\n",
    "        A = np.array([model.wv[word] for word in attributes[i]])\n",
    "        B = np.array([model.wv[word] for word in attributes[j]])\n",
    "        matrix[i][j] = weat_score(X, Y, A, B)\n",
    "\n",
    "print(\"슝~\")"
   ]
  },
  {
   "cell_type": "code",
   "execution_count": 27,
   "id": "e5afa545",
   "metadata": {},
   "outputs": [
    {
     "name": "stdout",
     "output_type": "stream",
     "text": [
      "드라마 멜로로맨스 -0.82216114\n",
      "드라마 액션 -0.035852123\n",
      "드라마 코미디 -0.051701427\n",
      "드라마 전쟁 0.35232767\n",
      "드라마 공포(호러) -0.23864278\n",
      "멜로로맨스 액션 0.7495757\n",
      "멜로로맨스 코미디 0.89495593\n",
      "멜로로맨스 전쟁 0.7616433\n",
      "멜로로맨스 공포(호러) 0.7276985\n",
      "액션 코미디 0.026219515\n",
      "액션 전쟁 0.5305893\n",
      "액션 공포(호러) -0.26057157\n",
      "코미디 전쟁 0.41397074\n",
      "코미디 공포(호러) -0.3458508\n",
      "전쟁 공포(호러) -0.51838815\n"
     ]
    }
   ],
   "source": [
    "for i in range(len(genre_name)-1):\n",
    "    for j in range(i+1, len(genre_name)):\n",
    "        print(genre_name[i], genre_name[j],matrix[i][j])"
   ]
  },
  {
   "cell_type": "code",
   "execution_count": 28,
   "id": "5f0a1689",
   "metadata": {},
   "outputs": [
    {
     "data": {
      "text/plain": [
       "<AxesSubplot:>"
      ]
     },
     "execution_count": 28,
     "metadata": {},
     "output_type": "execute_result"
    },
    {
     "data": {
      "image/png": "[encoded data removed]",
      "text/plain": [
       "<Figure size 432x288 with 2 Axes>"
      ]
     },
     "metadata": {},
     "output_type": "display_data"
    }
   ],
   "source": [
    "np.random.seed(0)\n",
    "\n",
    "# 한글 지원 폰트\n",
    "sns.set(font='NanumGothic')\n",
    "\n",
    "# 마이너스 부호 \n",
    "\n",
    "plt.rcParams['axes.unicode_minus'] = False\n",
    "\n",
    "ax = sns.heatmap(matrix, xticklabels=genre_name, yticklabels=genre_name, annot=True,  cmap='RdYlGn_r')\n",
    "ax"
   ]
  },
  {
   "cell_type": "markdown",
   "id": "95d551a9",
   "metadata": {},
   "source": [
    "### STEP 1. 형태소 분석기를 이용하여 품사가 명사인 경우 해당 단어를 추출하기"
   ]
  },
  {
   "cell_type": "code",
   "execution_count": 127,
   "id": "ee159226",
   "metadata": {},
   "outputs": [],
   "source": [
    "from konlpy.tag import Mecab\n",
    "\n",
    "mecab = Mecab()\n",
    "tokenized = []\n",
    "with open(os.getenv('HOME')+'/aiffel/weat/synopsis.txt', 'r') as file:\n",
    "    while True:\n",
    "        line = file.readline()\n",
    "        if not line: break\n",
    "        words = mecab.pos(line)\n",
    "        res = []\n",
    "        for w in words:\n",
    "            if w[1] in [\"NNG\", \"NNP\"]:  # 일반 명사(NNG), 고유 명사(NNP)\n",
    "                res.append(w[0])        # 명사일 때만 tokenized에 저장\n",
    "        tokenized.append(res)"
   ]
  },
  {
   "cell_type": "code",
   "execution_count": 128,
   "id": "a5ff4bc2",
   "metadata": {},
   "outputs": [
    {
     "name": "stdout",
     "output_type": "stream",
     "text": [
      "71156\n"
     ]
    }
   ],
   "source": [
    "print(len(tokenized))"
   ]
  },
  {
   "cell_type": "markdown",
   "id": "7ea4ba0e",
   "metadata": {},
   "source": [
    "### STEP 2. 추출된 결과로 embedding model 만들기"
   ]
  },
  {
   "cell_type": "code",
   "execution_count": 130,
   "id": "1720dc58",
   "metadata": {},
   "outputs": [],
   "source": [
    "from gensim.models import Word2Vec\n",
    "\n",
    "# tokenized에 담긴 데이터를 가지고 나만의 Word2Vec을 생성합니다. (Gensim 4.0 기준)\n",
    "model = Word2Vec(tokenized, vector_size=100, window=5, min_count=3, sg=1) # Skip-gram  "
   ]
  },
  {
   "cell_type": "code",
   "execution_count": 131,
   "id": "db3f219c",
   "metadata": {},
   "outputs": [
    {
     "data": {
      "text/plain": [
       "[('작품', 0.7499178647994995),\n",
       " ('옴니버스', 0.7414065003395081),\n",
       " ('다큐멘터리', 0.7358245849609375),\n",
       " ('전작', 0.7291509509086609),\n",
       " ('주제', 0.7290034294128418),\n",
       " ('키아로스타미', 0.7253565788269043),\n",
       " ('서사', 0.7228180766105652),\n",
       " ('데뷔작', 0.7213262319564819),\n",
       " ('설정', 0.7204282283782959),\n",
       " ('자전', 0.7194441556930542)]"
      ]
     },
     "execution_count": 131,
     "metadata": {},
     "output_type": "execute_result"
    }
   ],
   "source": [
    "# Skip-gram  \n",
    "model.wv.most_similar(positive=['영화'])"
   ]
  },
  {
   "cell_type": "code",
   "execution_count": 132,
   "id": "5fce0c57",
   "metadata": {},
   "outputs": [
    {
     "data": {
      "text/plain": [
       "[('영화관', 0.8005615472793579),\n",
       " ('스튜디오', 0.7791035175323486),\n",
       " ('갤러리', 0.7487655282020569),\n",
       " ('열기', 0.7472404837608337),\n",
       " ('볼쇼이', 0.7431339025497437),\n",
       " ('라이브', 0.7416097521781921),\n",
       " ('미술관', 0.7408959269523621),\n",
       " ('디렉터', 0.7372441291809082),\n",
       " ('프로덕션', 0.732905387878418),\n",
       " ('스탭', 0.730598509311676)]"
      ]
     },
     "execution_count": 132,
     "metadata": {},
     "output_type": "execute_result"
    }
   ],
   "source": [
    "# Skip-gram  \n",
    "model.wv.most_similar(positive=['극장'])"
   ]
  },
  {
   "cell_type": "code",
   "execution_count": 57,
   "id": "f66f5545",
   "metadata": {},
   "outputs": [],
   "source": [
    "model = Word2Vec(tokenized, vector_size=100, window=5, min_count=3, sg=0) # cbow"
   ]
  },
  {
   "cell_type": "code",
   "execution_count": 58,
   "id": "8d8d8dfb",
   "metadata": {},
   "outputs": [
    {
     "data": {
      "text/plain": [
       "[('작품', 0.8914987444877625),\n",
       " ('드라마', 0.874073326587677),\n",
       " ('옴니버스', 0.862675130367279),\n",
       " ('다큐멘터리', 0.8611130118370056),\n",
       " ('형식', 0.8484925031661987),\n",
       " ('코미디', 0.8425607681274414),\n",
       " ('인터뷰', 0.8412851691246033),\n",
       " ('주제', 0.8408105373382568),\n",
       " ('소재', 0.8401062488555908),\n",
       " ('인칭', 0.8366959691047668)]"
      ]
     },
     "execution_count": 58,
     "metadata": {},
     "output_type": "execute_result"
    }
   ],
   "source": [
    "model.wv.most_similar(positive=['영화'])"
   ]
  },
  {
   "cell_type": "code",
   "execution_count": 59,
   "id": "2695cdc8",
   "metadata": {},
   "outputs": [
    {
     "data": {
      "text/plain": [
       "[('로케이션', 0.9238694906234741),\n",
       " ('영감', 0.9105579257011414),\n",
       " ('세트', 0.9080422520637512),\n",
       " ('비디오', 0.9068851470947266),\n",
       " ('무비', 0.8914214372634888),\n",
       " ('모션', 0.891139805316925),\n",
       " ('편집', 0.8839823007583618),\n",
       " ('숏', 0.8822652697563171),\n",
       " ('핑크', 0.8778643012046814),\n",
       " ('색감', 0.876071572303772)]"
      ]
     },
     "execution_count": 59,
     "metadata": {},
     "output_type": "execute_result"
    }
   ],
   "source": [
    "model.wv.most_similar(positive=['극장'])"
   ]
  },
  {
   "cell_type": "markdown",
   "id": "b71e8582",
   "metadata": {},
   "source": [
    "### STEP 3. target, attribute 단어 셋 만들기"
   ]
  },
  {
   "cell_type": "code",
   "execution_count": 133,
   "id": "58e2bf64",
   "metadata": {},
   "outputs": [
    {
     "name": "stdout",
     "output_type": "stream",
     "text": [
      "(2, 41082)\n"
     ]
    }
   ],
   "source": [
    "vectorizer = TfidfVectorizer()\n",
    "X = vectorizer.fit_transform([art, gen])\n",
    "\n",
    "print(X.shape)"
   ]
  },
  {
   "cell_type": "code",
   "execution_count": 134,
   "id": "d5386f46",
   "metadata": {},
   "outputs": [
    {
     "name": "stdout",
     "output_type": "stream",
     "text": [
      "23976\n",
      "영화\n"
     ]
    }
   ],
   "source": [
    "print(vectorizer.vocabulary_['영화'])\n",
    "print(vectorizer.get_feature_names()[23976])"
   ]
  },
  {
   "cell_type": "markdown",
   "id": "19b23001",
   "metadata": {},
   "source": [
    "### TF-IDF"
   ]
  },
  {
   "cell_type": "code",
   "execution_count": 135,
   "id": "2f6388a8",
   "metadata": {},
   "outputs": [
    {
     "name": "stdout",
     "output_type": "stream",
     "text": [
      "예술영화를 대표하는 단어들:\n",
      "그녀, 자신, 시작, 위해, 사랑, 사람, 영화, 친구, 남자, 가족, 이야기, 마을, 사건, 마음, 세상, 아버지, 아이, 엄마, 모든, 여자, 대한, 서로, 과연, 다시, 시간, 아들, 소녀, 아내, 다른, 사이, 영화제, 세계, 사실, 하나, 점점, 남편, 감독, 여행, 인생, 발견, 모두, 순간, 우리, 가장, 마지막, 생활, 아빠, 모습, 통해, 죽음, 기억, 비밀, 학교, 음악, 한편, 소년, 생각, 도시, 명의, 사고, 결혼, 전쟁, 때문, 위기, 이제, 최고, 이자, 과거, 일상, 경찰, 상황, 간다, 미국, 결심, 운명, 현실, 관계, 지금, 단편, 여인, 하루, 이름, 이후, 준비, 인간, 감정, 만난, 국제, 처음, 충격, 살인, 누구, 동안, 존재, 그린, 어머니, 연인, 계속, 동생, 작품, \n",
      "\n",
      "일반영화를 대표하는 단어들:\n",
      "자신, 그녀, 영화제, 위해, 사람, 시작, 국제, 영화, 친구, 사랑, 남자, 이야기, 대한, 서울, 여자, 사건, 남편, 아이, 가족, 아버지, 다른, 마을, 시간, 엄마, 아들, 모든, 단편, 마음, 사실, 다시, 세계, 모습, 작품, 통해, 생각, 서로, 세상, 발견, 감독, 아내, 관계, 소녀, 사이, 하나, 우리, 애니메이션, 때문, 여성, 죽음, 과연, 점점, 인간, 생활, 한편, 결혼, 상황, 모두, 기억, 명의, 소년, 여행, 가장, 간다, 순간, 이제, 도시, 비밀, 학교, 과거, 가지, 이자, 경찰, 마지막, 미국, 동안, 전쟁, 주인공, 대해, 존재, 현실, 연출, 사고, 살인, 일상, 어머니, 계속, 사회, 인생, 다큐멘터리, 부문, 섹스, 최고, 바로, 동생, 의도, 하루, 위기, 계획, 정체, 한국, "
     ]
    }
   ],
   "source": [
    "m1 = X[0].tocoo()   # art를 TF-IDF로 표현한 sparse matrix를 가져옵니다. \n",
    "m2 = X[1].tocoo()   # gen을 TF-IDF로 표현한 sparse matrix를 가져옵니다. \n",
    "\n",
    "w1 = [[i, j] for i, j in zip(m1.col, m1.data)]\n",
    "w2 = [[i, j] for i, j in zip(m2.col, m2.data)]\n",
    "\n",
    "w1.sort(key=lambda x: x[1], reverse=True)   #art를 구성하는 단어들을 TF-IDF가 높은 순으로 정렬합니다. \n",
    "w2.sort(key=lambda x: x[1], reverse=True)   #gen을 구성하는 단어들을 TF-IDF가 높은 순으로 정렬합니다. \n",
    "\n",
    "print('예술영화를 대표하는 단어들:')\n",
    "for i in range(100):\n",
    "    print(vectorizer.get_feature_names()[w1[i][0]], end=', ')\n",
    "\n",
    "print('\\n')\n",
    "    \n",
    "print('일반영화를 대표하는 단어들:')\n",
    "for i in range(100):\n",
    "    print(vectorizer.get_feature_names()[w2[i][0]], end=', ')"
   ]
  },
  {
   "cell_type": "code",
   "execution_count": 137,
   "id": "e760affa",
   "metadata": {},
   "outputs": [],
   "source": [
    "n = 15\n",
    "w1_, w2_ = [], []\n",
    "for i in range(100):\n",
    "    w1_.append(vectorizer.get_feature_names()[w1[i][0]])\n",
    "    w2_.append(vectorizer.get_feature_names()[w2[i][0]])\n",
    "\n",
    "# w1에만 있고 w2에는 없는, 예술영화를 잘 대표하는 단어를 15개 추출한다.\n",
    "target_art, target_gen = [], []\n",
    "for i in range(100):\n",
    "    if (w1_[i] not in w2_) and (w1_[i] in model.wv): target_art.append(w1_[i])\n",
    "    if len(target_art) == n: break \n",
    "\n",
    "# w2에만 있고 w1에는 없는, 일반영화를 잘 대표하는 단어를 15개 추출한다.\n",
    "for i in range(100):\n",
    "    if (w2_[i] not in w1_) and (w2_[i] in model.wv): target_gen.append(w2_[i])\n",
    "    if len(target_gen) == n: break"
   ]
  },
  {
   "cell_type": "markdown",
   "id": "9afa3575",
   "metadata": {},
   "source": [
    "### TF-IDF에서 okt를 쓰면\n",
    "* ['아빠', '음악', '결심', '운명', '지금', '여인', '이름', '이후', '준비', '감정', '만난', '처음', '충격', '누구', '그린']\n",
    "* ['서울', '애니메이션', '여성', '가지', '주인공', '대해', '연출', '사회', '다큐멘터리', '부문', '섹스', '바로', '의도', '계획', '정체']"
   ]
  },
  {
   "cell_type": "code",
   "execution_count": 138,
   "id": "d53d92a3",
   "metadata": {},
   "outputs": [
    {
     "name": "stdout",
     "output_type": "stream",
     "text": [
      "['아빠', '음악', '결심', '운명', '지금', '여인', '이름', '이후', '준비', '감정', '처음', '충격', '그린', '연인']\n",
      "['서울', '애니메이션', '여성', '가지', '주인공', '연출', '사회', '다큐멘터리', '부문', '섹스', '의도', '계획', '정체', '한국']\n"
     ]
    }
   ],
   "source": [
    "print(target_art)\n",
    "print(target_gen)"
   ]
  },
  {
   "cell_type": "markdown",
   "id": "2961452b",
   "metadata": {},
   "source": [
    "### LDA에서 mecab을 쓰면"
   ]
  },
  {
   "cell_type": "code",
   "execution_count": 36,
   "id": "4c36babc",
   "metadata": {},
   "outputs": [],
   "source": [
    "n = 15\n",
    "w1_, w2_ = [], []\n",
    "for i in range(100):\n",
    "    w1_.append(vectorizer.get_feature_names()[w1[i][0]])\n",
    "    w2_.append(vectorizer.get_feature_names()[w2[i][0]])\n",
    "\n",
    "# w1에만 있고 w2에는 없는, 예술영화를 잘 대표하는 단어를 15개 추출한다.\n",
    "target_art, target_gen = [], []\n",
    "for i in range(100):\n",
    "    if (w1_[i] not in w2_) and (w1_[i] in model.wv): target_art.append(w1_[i])\n",
    "    if len(target_art) == n: break \n",
    "\n",
    "# w2에만 있고 w1에는 없는, 일반영화를 잘 대표하는 단어를 15개 추출한다.\n",
    "for i in range(100):\n",
    "    if (w2_[i] not in w1_) and (w2_[i] in model.wv): target_gen.append(w2_[i])\n",
    "    if len(target_gen) == n: break"
   ]
  },
  {
   "cell_type": "code",
   "execution_count": 84,
   "id": "12449e90",
   "metadata": {},
   "outputs": [
    {
     "name": "stdout",
     "output_type": "stream",
     "text": [
      "예술 영화의 대표 단어:\n",
      "\n",
      "토픽 1:\n",
      "그녀, 자신, 시작, 위해, 사랑, 사람, 영화, 친구, 남자, 가족, 이야기, 마을, 사건, 마음, 세상, 아버지, 아이, 엄마, 모든, 여자, 대한, 서로, 과연, 시간, 다시, 아들, 소녀, 아내, 다른, 사이, 영화제, 세계, 사실, 하나, 점점, 남편, 감독, 여행, 인생, 발견, 모두, 순간, 우리, 가장, 마지막, 생활, 아빠, 모습, 통해, 기억, 죽음, 비밀, 학교, 음악, 한편, 소년, 생각, 도시, 명의, 사고, 결혼, 전쟁, 때문, 위기, 이제, 최고, 이자, 과거, 일상, 경찰, 간다, 상황, 미국, 결심, 운명, 현실, 관계, 지금, 단편, 여인, 하루, 이름, 이후, 준비, 인간, 만난, 감정, 국제, 처음, 살인, 충격, 누구, 동안, 존재, 그린, 어머니, 연인, 계속, 동생, 작품\n",
      "\n",
      "일반 영화의 대표 단어:\n",
      "\n",
      "토픽 1:\n",
      "자신, 그녀, 영화제, 위해, 사람, 시작, 국제, 영화, 친구, 사랑, 남자, 이야기, 대한, 서울, 여자, 사건, 남편, 아이, 가족, 아버지, 다른, 마을, 시간, 엄마, 아들, 모든, 단편, 마음, 사실, 다시, 세계, 모습, 작품, 통해, 생각, 서로, 세상, 발견, 감독, 아내, 관계, 소녀, 사이, 하나, 우리, 애니메이션, 때문, 여성, 죽음, 과연, 점점, 인간, 생활, 한편, 결혼, 상황, 모두, 기억, 명의, 소년, 여행, 가장, 간다, 순간, 이제, 도시, 비밀, 학교, 과거, 가지, 이자, 경찰, 마지막, 미국, 동안, 전쟁, 주인공, 대해, 존재, 현실, 연출, 사고, 살인, 일상, 어머니, 계속, 사회, 인생, 다큐멘터리, 부문, 섹스, 최고, 바로, 동생, 의도, 하루, 위기, 계획, 정체, 한국\n"
     ]
    }
   ],
   "source": [
    "from sklearn.decomposition import LatentDirichletAllocation\n",
    "from sklearn.feature_extraction.text import CountVectorizer\n",
    "\n",
    "# 예술 영화 데이터 따로ㅓ \n",
    "vectorizer_art = CountVectorizer()\n",
    "X_art = vectorizer_art.fit_transform([art]) \n",
    "lda_art = LatentDirichletAllocation(n_components=1, random_state=42)\n",
    "lda_art.fit(X_art)\n",
    "\n",
    "# 일반 영화 데이터 따로ㅓ \n",
    "vectorizer_gen = CountVectorizer()\n",
    "X_gen = vectorizer_gen.fit_transform([gen]) \n",
    "lda_gen = LatentDirichletAllocation(n_components=1, random_state=42)\n",
    "lda_gen.fit(X_gen)\n",
    "\n",
    "terms_art = vectorizer_art.get_feature_names_out()\n",
    "terms_gen = vectorizer_gen.get_feature_names_out()\n",
    "\n",
    "print(\"예술 영화의 대표 단어:\")\n",
    "for topic_idx, topic in enumerate(lda_art.components_):\n",
    "    print(f\"\\n토픽 {topic_idx + 1}:\")\n",
    "    top_words_art = [terms_art[i] for i in topic.argsort()[-100:][::-1]]\n",
    "    print(', '.join(top_words_art))\n",
    "\n",
    "# 일반 영화의 대표 단어 출력\n",
    "print(\"\\n일반 영화의 대표 단어:\")\n",
    "for topic_idx, topic in enumerate(lda_gen.components_):\n",
    "    print(f\"\\n토픽 {topic_idx + 1}:\")\n",
    "    top_words_gen = [terms_gen[i] for i in topic.argsort()[-100:][::-1]]\n",
    "    print(', '.join(top_words_gen))"
   ]
  },
  {
   "cell_type": "code",
   "execution_count": 85,
   "id": "00cb8106",
   "metadata": {},
   "outputs": [
    {
     "name": "stdout",
     "output_type": "stream",
     "text": [
      "예술 영화를 잘 대표하는 단어 15개:\n",
      "아빠, 음악, 결심, 운명, 지금, 여인, 이름, 이후, 준비, 만난, 감정, 처음, 충격, 누구, 그린\n",
      "\n",
      "일반 영화를 잘 대표하는 단어 15개:\n",
      "서울, 애니메이션, 여성, 가지, 주인공, 대해, 연출, 사회, 다큐멘터리, 부문, 섹스, 바로, 의도, 계획, 정체\n"
     ]
    }
   ],
   "source": [
    "# 중복 제외하고 각 데이터에만 존재하는 단어 추출\n",
    "n = 15  # 각 데이터에서 추출할 단어 수\n",
    "target_art = [word for word in top_words_art if word not in top_words_gen][:n]\n",
    "target_gen = [word for word in top_words_gen if word not in top_words_art][:n]\n",
    "\n",
    "# 결과 출력\n",
    "print(\"예술 영화를 잘 대표하는 단어 15개:\")\n",
    "print(', '.join(target_art))\n",
    "\n",
    "print(\"\\n일반 영화를 잘 대표하는 단어 15개:\")\n",
    "print(', '.join(target_gen))"
   ]
  },
  {
   "cell_type": "markdown",
   "id": "12b34d51",
   "metadata": {},
   "source": [
    "### 중복 제거하면 TF-IDF나 LDA나 거의 똑같다. "
   ]
  },
  {
   "cell_type": "code",
   "execution_count": 38,
   "id": "0377c6c1",
   "metadata": {},
   "outputs": [],
   "source": [
    "genre_txt = ['synopsis_SF.txt', 'synopsis_family.txt', 'synopsis_show.txt', 'synopsis_horror.txt', 'synopsis_etc.txt', \n",
    "             'synopsis_documentary.txt', 'synopsis_drama.txt', 'synopsis_romance.txt', 'synopsis_musical.txt', \n",
    "             'synopsis_mystery.txt', 'synopsis_crime.txt', 'synopsis_historical.txt', 'synopsis_western.txt', \n",
    "             'synopsis_adult.txt', 'synopsis_thriller.txt', 'synopsis_animation.txt', 'synopsis_action.txt', \n",
    "             'synopsis_adventure.txt', 'synopsis_war.txt', 'synopsis_comedy.txt', 'synopsis_fantasy.txt']\n",
    "genre_name = ['SF', '가족', '공연', '공포(호러)', '기타', '다큐멘터리', '드라마', '멜로로맨스', '뮤지컬', '미스터리', '범죄', '사극', '서부극(웨스턴)',\n",
    "         '성인물(에로)', '스릴러', '애니메이션', '액션', '어드벤처', '전쟁', '코미디', '판타지']"
   ]
  },
  {
   "cell_type": "code",
   "execution_count": 39,
   "id": "1c2ce6ac",
   "metadata": {},
   "outputs": [
    {
     "name": "stdout",
     "output_type": "stream",
     "text": [
      "synopsis_SF.txt 파일을 읽고 있습니다.\n",
      "synopsis_family.txt 파일을 읽고 있습니다.\n",
      "synopsis_show.txt 파일을 읽고 있습니다.\n",
      "synopsis_horror.txt 파일을 읽고 있습니다.\n",
      "synopsis_etc.txt 파일을 읽고 있습니다.\n",
      "synopsis_documentary.txt 파일을 읽고 있습니다.\n",
      "synopsis_drama.txt 파일을 읽고 있습니다.\n",
      "synopsis_romance.txt 파일을 읽고 있습니다.\n",
      "synopsis_musical.txt 파일을 읽고 있습니다.\n",
      "synopsis_mystery.txt 파일을 읽고 있습니다.\n",
      "synopsis_crime.txt 파일을 읽고 있습니다.\n",
      "synopsis_historical.txt 파일을 읽고 있습니다.\n",
      "synopsis_western.txt 파일을 읽고 있습니다.\n",
      "synopsis_adult.txt 파일을 읽고 있습니다.\n",
      "synopsis_thriller.txt 파일을 읽고 있습니다.\n",
      "synopsis_animation.txt 파일을 읽고 있습니다.\n",
      "synopsis_action.txt 파일을 읽고 있습니다.\n",
      "synopsis_adventure.txt 파일을 읽고 있습니다.\n",
      "synopsis_war.txt 파일을 읽고 있습니다.\n",
      "synopsis_comedy.txt 파일을 읽고 있습니다.\n",
      "synopsis_fantasy.txt 파일을 읽고 있습니다.\n"
     ]
    }
   ],
   "source": [
    "# 약 10분정도 걸립니다.\n",
    "genre = []\n",
    "for file_name in genre_txt:\n",
    "    genre.append(read_token(file_name))"
   ]
  },
  {
   "cell_type": "code",
   "execution_count": 139,
   "id": "1cb8a4d9",
   "metadata": {},
   "outputs": [
    {
     "name": "stdout",
     "output_type": "stream",
     "text": [
      "(21, 42191)\n"
     ]
    }
   ],
   "source": [
    "vectorizer = TfidfVectorizer()\n",
    "X = vectorizer.fit_transform(genre)\n",
    "\n",
    "print(X.shape)"
   ]
  },
  {
   "cell_type": "code",
   "execution_count": 140,
   "id": "0b73ec6e",
   "metadata": {},
   "outputs": [
    {
     "name": "stdout",
     "output_type": "stream",
     "text": [
      "SF: 자신, 지구, 시작, 사람, 인류, 인간, 미래, 우주, 로봇, 세계, 박사, 우주선, 외계, 존재, 세상, \n",
      "가족: 엄마, 아빠, 가족, 영화제, 자신, 친구, 아버지, 시작, 아들, 마을, 국제, 낙타, 할머니, 씨제이, 동구, \n",
      "공연: 오페라, 사랑, 토스카, 실황, 올레, 자신, 카바, 공연, 오텔로, 리골레토, 백작, 프레, 베르디, 비바, 왕자, \n",
      "공포(호러): 시작, 사람, 자신, 친구, 사건, 공포, 발견, 죽음, 마을, 가족, 악령, 남자, 좀비, 영화, 사실, \n",
      "기타: 영화제, 국제, 서울, 단편, 영화, 자신, 사람, 이야기, 남자, 시작, 사랑, 페스티벌, 여자, 대한, 독립, \n",
      "다큐멘터리: 영화제, 영화, 다큐, 국제, 다큐멘터리, 사람, 이야기, 대한, 자신, 감독, 서울, 시작, 세계, 여성, 가족, \n",
      "드라마: 자신, 영화제, 사람, 사랑, 영화, 시작, 국제, 남자, 친구, 이야기, 엄마, 여자, 아버지, 가족, 단편, \n",
      "멜로로맨스: 사랑, 자신, 시작, 남편, 남자, 여자, 사람, 친구, 섹스, 마음, 결혼, 서로, 아내, 관계, 부부, \n",
      "뮤지컬: 뮤지컬, 사랑, 에스메랄다, 음악, 충무로, 모차르트, 영화, 토스카, 자신, 카바, 영화제, 바흐, 프롤, 시작, 데이비, \n",
      "미스터리: 사건, 시작, 자신, 사람, 발견, 사고, 진실, 죽음, 기억, 살인, 친구, 아내, 남자, 아이, 민혁, \n",
      "범죄: 사건, 자신, 경찰, 시작, 범죄, 조직, 살인, 사람, 마약, 형사, 남자, 살해, 수사, 발견, 한길수, \n",
      "사극: 조선, 시작, 신기전, 사랑, 자신, 아가멤논, 황제, 루안, 최고, 운명, 사람, 하선, 전쟁, 윤서, 트로이, \n",
      "서부극(웨스턴): 서부, 보안관, 벌린, 카우보이, 헨리, 마을, 자신, 개릿, 아이, 시작, 무법자, 프린트, 마적, 태구, 현상금, \n",
      "성인물(에로): 남편, 마사지, 자신, 섹스, 관계, 영화, 정사, 남자, 시작, 여자, 유부녀, 마음, 사랑, 에피소드, 그린, \n",
      "스릴러: 자신, 사건, 시작, 사람, 살인, 남자, 발견, 아내, 경찰, 친구, 사실, 살해, 가족, 형사, 비밀, \n",
      "애니메이션: 애니메이션, 국제, 영화제, 친구, 자신, 시작, 사람, 페스티벌, 서울, 이야기, 아이, 마을, 소녀, 세계, 세상, \n",
      "액션: 자신, 시작, 조직, 사건, 사람, 경찰, 전쟁, 목숨, 사실, 친구, 가족, 요원, 임무, 범죄, 세계, \n",
      "어드벤처: 자신, 시작, 친구, 마을, 아버지, 영화, 아이, 사람, 여행, 세계, 앤트, 세상, 가족, 모험, 비밀, \n",
      "전쟁: 전쟁, 독일군, 전투, 작전, 시작, 부대, 윈터스, 독일, 연합군, 미군, 임무, 자신, 사람, 나치, 병사, \n",
      "코미디: 자신, 시작, 사랑, 사람, 친구, 영화, 남자, 여자, 영화제, 가족, 마을, 사건, 이야기, 인생, 아이, \n",
      "판타지: 자신, 시작, 사람, 사랑, 요괴, 영화제, 이야기, 영화, 소녀, 남자, 인간, 세상, 마을, 세계, 국제, \n"
     ]
    }
   ],
   "source": [
    "m = [X[i].tocoo() for i in range(X.shape[0])]\n",
    "\n",
    "w = [[[i, j] for i, j in zip(mm.col, mm.data)] for mm in m]\n",
    "\n",
    "for i in range(len(w)):\n",
    "    w[i].sort(key=lambda x: x[1], reverse=True)\n",
    "attributes = []\n",
    "for i in range(len(w)):\n",
    "    print(genre_name[i], end=': ')\n",
    "    attr = []\n",
    "    j = 0\n",
    "    while (len(attr) < 15):\n",
    "        if vectorizer.get_feature_names()[w[i][j][0]] in model.wv:\n",
    "            attr.append(vectorizer.get_feature_names()[w[i][j][0]])\n",
    "            print(vectorizer.get_feature_names()[w[i][j][0]], end=', ')\n",
    "        j += 1\n",
    "    attributes.append(attr)\n",
    "    print()"
   ]
  },
  {
   "cell_type": "code",
   "execution_count": 141,
   "id": "1b067ff4",
   "metadata": {},
   "outputs": [],
   "source": [
    "matrix = [[0 for _ in range(len(genre_name))] for _ in range(len(genre_name))]"
   ]
  },
  {
   "cell_type": "markdown",
   "id": "905c270a",
   "metadata": {},
   "source": [
    "### STEP 4. WEAT score 계산과 시각화"
   ]
  },
  {
   "cell_type": "code",
   "execution_count": 142,
   "id": "b39866a2",
   "metadata": {},
   "outputs": [],
   "source": [
    "def cos_sim(i, j):\n",
    "    return dot(i, j.T)/(norm(i)*norm(j))\n",
    "\n",
    "def s(w, A, B):\n",
    "    c_a = cos_sim(w, A)\n",
    "    c_b = cos_sim(w, B)\n",
    "    mean_A = np.mean(c_a, axis=-1)\n",
    "    mean_B = np.mean(c_b, axis=-1)\n",
    "    return mean_A - mean_B #, c_a, c_b\n",
    "\n",
    "def weat_score(X, Y, A, B):\n",
    "    \n",
    "    s_X = s(X, A, B)\n",
    "    s_Y = s(Y, A, B)\n",
    "\n",
    "    mean_X = np.mean(s_X)\n",
    "    mean_Y = np.mean(s_Y)\n",
    "    \n",
    "    std_dev = np.std(np.concatenate([s_X, s_Y], axis=0))\n",
    "    \n",
    "    return  (mean_X-mean_Y)/std_dev"
   ]
  },
  {
   "cell_type": "code",
   "execution_count": 143,
   "id": "273ec3ea",
   "metadata": {},
   "outputs": [],
   "source": [
    "X = np.array([model.wv[word] for word in target_art])\n",
    "Y = np.array([model.wv[word] for word in target_gen])\n",
    "\n",
    "for i in range(len(genre_name)-1):\n",
    "    for j in range(i+1, len(genre_name)):\n",
    "        A = np.array([model.wv[word] for word in attributes[i]])\n",
    "        B = np.array([model.wv[word] for word in attributes[j]])\n",
    "        matrix[i][j] = weat_score(X, Y, A, B)"
   ]
  },
  {
   "cell_type": "code",
   "execution_count": 144,
   "id": "03de9584",
   "metadata": {},
   "outputs": [
    {
     "name": "stdout",
     "output_type": "stream",
     "text": [
      "SF 가족 -0.14313897\n",
      "SF 공연 -0.5361715\n",
      "SF 공포(호러) -0.3770417\n",
      "SF 기타 0.692614\n",
      "SF 다큐멘터리 0.94409126\n",
      "SF 드라마 0.27420306\n",
      "SF 멜로로맨스 -0.602356\n",
      "SF 뮤지컬 0.34899372\n",
      "SF 미스터리 -0.5737755\n",
      "SF 범죄 0.1314607\n",
      "SF 사극 -0.8218159\n",
      "SF 서부극(웨스턴) -0.42358577\n",
      "SF 성인물(에로) -0.14078592\n",
      "SF 스릴러 -0.4168156\n",
      "SF 애니메이션 0.7627145\n",
      "SF 액션 -0.051114928\n",
      "SF 어드벤처 -0.16473842\n",
      "SF 전쟁 -0.0006770035\n",
      "SF 코미디 0.16354701\n",
      "SF 판타지 0.65076363\n",
      "가족 공연 -0.29374692\n",
      "가족 공포(호러) -0.07747172\n",
      "가족 기타 0.91538274\n",
      "가족 다큐멘터리 1.0308025\n",
      "가족 드라마 0.64158845\n",
      "가족 멜로로맨스 -0.4212883\n",
      "가족 뮤지컬 0.46270117\n",
      "가족 미스터리 -0.2757218\n",
      "가족 범죄 0.22767359\n",
      "가족 사극 -0.3318045\n",
      "가족 서부극(웨스턴) -0.21721874\n",
      "가족 성인물(에로) 0.0018425784\n",
      "가족 스릴러 -0.1899592\n",
      "가족 애니메이션 1.0324374\n",
      "가족 액션 0.1335272\n",
      "가족 어드벤처 0.09570847\n",
      "가족 전쟁 0.13443828\n",
      "가족 코미디 0.32306126\n",
      "가족 판타지 0.61526775\n",
      "공연 공포(호러) 0.27110735\n",
      "공연 기타 1.1902468\n",
      "공연 다큐멘터리 1.3153646\n",
      "공연 드라마 0.9332086\n",
      "공연 멜로로맨스 -0.21672413\n",
      "공연 뮤지컬 1.0790765\n",
      "공연 미스터리 0.04985695\n",
      "공연 범죄 0.5742675\n",
      "공연 사극 -0.078665905\n",
      "공연 서부극(웨스턴) 0.18623948\n",
      "공연 성인물(에로) 0.36101893\n",
      "공연 스릴러 0.13020681\n",
      "공연 애니메이션 1.1860352\n",
      "공연 액션 0.4913552\n",
      "공연 어드벤처 0.5155437\n",
      "공연 전쟁 0.50836784\n",
      "공연 코미디 0.8494187\n",
      "공연 판타지 1.1790633\n",
      "공포(호러) 기타 0.80968577\n",
      "공포(호러) 다큐멘터리 1.0290729\n",
      "공포(호러) 드라마 0.5657225\n",
      "공포(호러) 멜로로맨스 -0.5066127\n",
      "공포(호러) 뮤지컬 0.48318127\n",
      "공포(호러) 미스터리 -0.7418459\n",
      "공포(호러) 범죄 0.71754336\n",
      "공포(호러) 사극 -0.40130436\n",
      "공포(호러) 서부극(웨스턴) -0.17027716\n",
      "공포(호러) 성인물(에로) 0.08411701\n",
      "공포(호러) 스릴러 -0.30955026\n",
      "공포(호러) 애니메이션 0.8723148\n",
      "공포(호러) 액션 0.4433446\n",
      "공포(호러) 어드벤처 0.34329692\n",
      "공포(호러) 전쟁 0.25429216\n",
      "공포(호러) 코미디 0.69284153\n",
      "공포(호러) 판타지 0.83966005\n",
      "기타 다큐멘터리 0.47955185\n",
      "기타 드라마 -0.91311723\n",
      "기타 멜로로맨스 -0.9203962\n",
      "기타 뮤지컬 -0.7906379\n",
      "기타 미스터리 -0.8919971\n",
      "기타 범죄 -0.56995964\n",
      "기타 사극 -1.0879191\n",
      "기타 서부극(웨스턴) -0.94046926\n",
      "기타 성인물(에로) -0.6953869\n",
      "기타 스릴러 -0.790786\n",
      "기타 애니메이션 -0.069649495\n",
      "기타 액션 -0.66652405\n",
      "기타 어드벤처 -0.8057935\n",
      "기타 전쟁 -0.7612711\n",
      "기타 코미디 -0.7948652\n",
      "기타 판타지 -0.6583744\n",
      "다큐멘터리 드라마 -1.1286479\n",
      "다큐멘터리 멜로로맨스 -1.0392817\n",
      "다큐멘터리 뮤지컬 -1.1256772\n",
      "다큐멘터리 미스터리 -1.0758573\n",
      "다큐멘터리 범죄 -0.7744213\n",
      "다큐멘터리 사극 -1.2534536\n",
      "다큐멘터리 서부극(웨스턴) -1.0983409\n",
      "다큐멘터리 성인물(에로) -0.8602113\n",
      "다큐멘터리 스릴러 -0.95930314\n",
      "다큐멘터리 애니메이션 -0.49001652\n",
      "다큐멘터리 액션 -0.8781273\n",
      "다큐멘터리 어드벤처 -1.059968\n",
      "다큐멘터리 전쟁 -0.9680678\n",
      "다큐멘터리 코미디 -1.077817\n",
      "다큐멘터리 판타지 -1.0327338\n",
      "드라마 멜로로맨스 -0.80653363\n",
      "드라마 뮤지컬 0.2189557\n",
      "드라마 미스터리 -0.73722404\n",
      "드라마 범죄 -0.15887915\n",
      "드라마 사극 -0.85615695\n",
      "드라마 서부극(웨스턴) -0.7022347\n",
      "드라마 성인물(에로) -0.3700213\n",
      "드라마 스릴러 -0.599542\n",
      "드라마 애니메이션 0.9864489\n",
      "드라마 액션 -0.3062583\n",
      "드라마 어드벤처 -0.50834477\n",
      "드라마 전쟁 -0.24616931\n",
      "드라마 코미디 -0.320812\n",
      "드라마 판타지 0.4018917\n",
      "멜로로맨스 뮤지컬 0.71616566\n",
      "멜로로맨스 미스터리 0.33831072\n",
      "멜로로맨스 범죄 0.8134055\n",
      "멜로로맨스 사극 0.1572819\n",
      "멜로로맨스 서부극(웨스턴) 0.3277843\n",
      "멜로로맨스 성인물(에로) 1.1651472\n",
      "멜로로맨스 스릴러 0.44884628\n",
      "멜로로맨스 애니메이션 0.9223508\n",
      "멜로로맨스 액션 0.6683795\n",
      "멜로로맨스 어드벤처 0.6240699\n",
      "멜로로맨스 전쟁 0.48251522\n",
      "멜로로맨스 코미디 0.84048253\n",
      "멜로로맨스 판타지 0.87291193\n",
      "뮤지컬 미스터리 -0.59517884\n",
      "뮤지컬 범죄 -0.22403358\n",
      "뮤지컬 사극 -0.8071942\n",
      "뮤지컬 서부극(웨스턴) -0.5809179\n",
      "뮤지컬 성인물(에로) -0.42062938\n",
      "뮤지컬 스릴러 -0.49604967\n",
      "뮤지컬 애니메이션 0.71168214\n",
      "뮤지컬 액션 -0.32807595\n",
      "뮤지컬 어드벤처 -0.45229498\n",
      "뮤지컬 전쟁 -0.33713922\n",
      "뮤지컬 코미디 -0.32442492\n",
      "뮤지컬 판타지 0.022433849\n",
      "미스터리 범죄 1.0104797\n",
      "미스터리 사극 -0.11957894\n",
      "미스터리 서부극(웨스턴) 0.15317659\n",
      "미스터리 성인물(에로) 0.3422614\n",
      "미스터리 스릴러 0.2944743\n",
      "미스터리 애니메이션 0.9405519\n",
      "미스터리 액션 0.69488204\n",
      "미스터리 어드벤처 0.59908885\n",
      "미스터리 전쟁 0.4045868\n",
      "미스터리 코미디 0.91586435\n",
      "미스터리 판타지 0.935321\n",
      "범죄 사극 -0.7617545\n",
      "범죄 서부극(웨스턴) -0.62051505\n",
      "범죄 성인물(에로) -0.25681636\n",
      "범죄 스릴러 -1.123525\n",
      "범죄 애니메이션 0.59754777\n",
      "범죄 액션 -0.3213355\n",
      "범죄 어드벤처 -0.27339685\n",
      "범죄 전쟁 -0.1022818\n",
      "범죄 코미디 0.013310123\n",
      "범죄 판타지 0.3763123\n",
      "사극 서부극(웨스턴) 0.29486564\n",
      "사극 성인물(에로) 0.35742357\n",
      "사극 스릴러 0.20899491\n",
      "사극 애니메이션 1.1268163\n",
      "사극 액션 0.7694186\n",
      "사극 어드벤처 0.66643536\n",
      "사극 전쟁 0.7906156\n",
      "사극 코미디 0.97775316\n",
      "사극 판타지 1.2322034\n",
      "서부극(웨스턴) 성인물(에로) 0.14912173\n",
      "서부극(웨스턴) 스릴러 -0.026476968\n",
      "서부극(웨스턴) 애니메이션 1.0472008\n",
      "서부극(웨스턴) 액션 0.52793574\n",
      "서부극(웨스턴) 어드벤처 0.49548253\n",
      "서부극(웨스턴) 전쟁 0.469638\n",
      "서부극(웨스턴) 코미디 0.7115466\n",
      "서부극(웨스턴) 판타지 0.90517604\n",
      "성인물(에로) 스릴러 -0.21675836\n",
      "성인물(에로) 애니메이션 0.6810982\n",
      "성인물(에로) 액션 0.12265247\n",
      "성인물(에로) 어드벤처 0.07399983\n",
      "성인물(에로) 전쟁 0.109985135\n",
      "성인물(에로) 코미디 0.29418513\n",
      "성인물(에로) 판타지 0.5083896\n",
      "스릴러 애니메이션 0.8324422\n",
      "스릴러 액션 0.6357277\n",
      "스릴러 어드벤처 0.40554368\n",
      "스릴러 전쟁 0.3242037\n",
      "스릴러 코미디 0.6717826\n",
      "스릴러 판타지 0.7545001\n",
      "애니메이션 액션 -0.71608686\n",
      "애니메이션 어드벤처 -0.9028045\n",
      "애니메이션 전쟁 -0.8127155\n",
      "애니메이션 코미디 -0.8479591\n",
      "애니메이션 판타지 -0.7300136\n",
      "액션 어드벤처 -0.1160984\n",
      "액션 전쟁 0.03836794\n",
      "액션 코미디 0.22777161\n",
      "액션 판타지 0.5520718\n",
      "어드벤처 전쟁 0.10155643\n",
      "어드벤처 코미디 0.5053939\n",
      "어드벤처 판타지 0.824876\n",
      "전쟁 코미디 0.1203779\n",
      "전쟁 판타지 0.4963278\n",
      "코미디 판타지 0.7646549\n"
     ]
    }
   ],
   "source": [
    "for i in range(len(genre_name)-1):\n",
    "    for j in range(i+1, len(genre_name)):\n",
    "        print(genre_name[i], genre_name[j],matrix[i][j])"
   ]
  },
  {
   "cell_type": "code",
   "execution_count": 145,
   "id": "76bb2478",
   "metadata": {},
   "outputs": [
    {
     "data": {
      "image/png": "[encoded data removed]",
      "text/plain": [
       "<Figure size 864x720 with 2 Axes>"
      ]
     },
     "metadata": {},
     "output_type": "display_data"
    }
   ],
   "source": [
    "np.random.seed(0)\n",
    "plt.figure(figsize=(12, 10))\n",
    "# 한글 지원 폰트\n",
    "sns.set(font='NanumGothic')\n",
    "\n",
    "# 마이너스 부호 \n",
    "\n",
    "plt.rcParams['axes.unicode_minus'] = False\n",
    "\n",
    "ax = sns.heatmap(matrix, xticklabels=genre_name, yticklabels=genre_name, annot=True, cmap='RdYlGn_r', annot_kws={\"size\": 10,\"weight\": \"bold\"})\n",
    "ax.tick_params(axis='x', labelsize=10)  \n",
    "ax.tick_params(axis='y', labelsize=10)  \n",
    "plt.show()\n",
    "# 양수면 X축이 예술에 가깝고 Y축이 일반에 가깝다\n",
    "# 음수면 X축이 일반에 가깝고 Y축이 예술에 가깝다"
   ]
  },
  {
   "cell_type": "markdown",
   "id": "1d737d4b",
   "metadata": {},
   "source": [
    "### 일반 영화와 예술 영화 간 장르의 편향이 없어야하는데 존재하는 장르는? \n",
    "* 공연 & 뮤지컬"
   ]
  },
  {
   "cell_type": "code",
   "execution_count": 147,
   "id": "0dc217bc",
   "metadata": {},
   "outputs": [
    {
     "name": "stdout",
     "output_type": "stream",
     "text": [
      "공연 속성 단어:\n",
      "오페라, 사랑, 토스카, 실황, 올레, 자신, 카바, 공연, 오텔로, 리골레토, 백작, 프레, 베르디, 비바, 왕자\n",
      "\n",
      "뮤지컬 속성 단어:\n",
      "뮤지컬, 사랑, 에스메랄다, 음악, 충무로, 모차르트, 영화, 토스카, 자신, 카바, 영화제, 바흐, 프롤, 시작, 데이비\n"
     ]
    }
   ],
   "source": [
    "index_show = genre_name.index('공연')\n",
    "index_musical = genre_name.index('뮤지컬') \n",
    "\n",
    "attributes_show = attributes[index_show]  \n",
    "attributes_musical = attributes[index_musical]  \n",
    "\n",
    "print(\"공연 속성 단어:\")\n",
    "print(', '.join(attributes_show))\n",
    "\n",
    "print(\"\\n뮤지컬 속성 단어:\")\n",
    "print(', '.join(attributes_musical))"
   ]
  },
  {
   "cell_type": "code",
   "execution_count": 148,
   "id": "1949a44d",
   "metadata": {},
   "outputs": [
    {
     "name": "stdout",
     "output_type": "stream",
     "text": [
      "공연과 뮤지컬 간의 WEAT 점수: 1.0790765285491943\n"
     ]
    }
   ],
   "source": [
    "# 속성\n",
    "A = np.array([model.wv[word] for word in attributes_show if word in model.wv])  \n",
    "B = np.array([model.wv[word] for word in attributes_musical if word in model.wv])  \n",
    "\n",
    "# 예술 일반 타겟\n",
    "X = np.array([model.wv[word] for word in target_art if word in model.wv]) \n",
    "Y = np.array([model.wv[word] for word in target_gen if word in model.wv]) \n",
    "\n",
    "weat_value = weat_score(X, Y, A, B)\n",
    "print(f\"공연과 뮤지컬 간의 WEAT 점수: {weat_value}\")"
   ]
  },
  {
   "cell_type": "markdown",
   "id": "7e2db9e5",
   "metadata": {},
   "source": [
    "## 편향성 없애기"
   ]
  },
  {
   "cell_type": "markdown",
   "id": "7634ad76",
   "metadata": {},
   "source": [
    "### 단어투영제거 \n",
    "* 속성 A(공연)와 B(뮤지컬) 간의 중심축(공연과 뮤지컬의 속성 벡터 간 차이를 계산하여 정의된)을 설정\n",
    "* 단어벡터들이 이 중립 축에 투영된 성분을 제거하여 단어벡터가 직교하게 잠재 공간에 위치시킴"
   ]
  },
  {
   "cell_type": "code",
   "execution_count": 149,
   "id": "8d5c52a8",
   "metadata": {},
   "outputs": [],
   "source": [
    "# attribute\n",
    "A = np.array([model.wv[word] for word in attributes_show if word in model.wv]) \n",
    "B = np.array([model.wv[word] for word in attributes_musical if word in model.wv]) \n",
    "\n",
    "# 속성으로 중립 축 생성\n",
    "neutral_axis = np.mean(A, axis=0) - np.mean(B, axis=0)\n",
    "neutral_axis = neutral_axis / np.linalg.norm(neutral_axis) # 단위 벡터화 "
   ]
  },
  {
   "cell_type": "code",
   "execution_count": 150,
   "id": "c25a2e9b",
   "metadata": {},
   "outputs": [],
   "source": [
    "# target X,Y의 투영 성분 제거(직교) 함수\n",
    "def neutralize(word_vector, neutral_axis):\n",
    "    projection = np.dot(word_vector, neutral_axis) * neutral_axis  # 중립 축에 대한 투영 성분\n",
    "    return word_vector - projection  # 투영 성분 제거\n",
    "\n",
    "X_neutralized = np.array([neutralize(model.wv[word], neutral_axis) for word in target_art if word in model.wv])\n",
    "Y_neutralized = np.array([neutralize(model.wv[word], neutral_axis) for word in target_gen if word in model.wv])"
   ]
  },
  {
   "cell_type": "code",
   "execution_count": 152,
   "id": "92e872d9",
   "metadata": {},
   "outputs": [
    {
     "name": "stdout",
     "output_type": "stream",
     "text": [
      "단어 투영이 제거된 WEAT 점수: 0.5029819011688232\n"
     ]
    }
   ],
   "source": [
    "# WEAT score\n",
    "weat_value_neutralized = weat_score(X_neutralized, Y_neutralized, A, B)\n",
    "print(f\"단어 투영이 제거된 WEAT 점수: {weat_value_neutralized}\")"
   ]
  },
  {
   "cell_type": "markdown",
   "id": "81e20b51",
   "metadata": {},
   "source": [
    "## hard_debias\n",
    "* 중립화가 진행되면, 속성 간 상대적 위치가 불분명\n",
    "* 투영제거에 속성강화를 더해서 단어 벡터가 비교적 명확한 위치를 보도록"
   ]
  },
  {
   "cell_type": "code",
   "execution_count": 154,
   "id": "d5dcf953",
   "metadata": {},
   "outputs": [
    {
     "name": "stdout",
     "output_type": "stream",
     "text": [
      "Hard Debiasing WEAT 점수: 0.09625443816184998\n"
     ]
    }
   ],
   "source": [
    "# 중립축 \n",
    "neutral_axis = np.mean(A, axis=0) - np.mean(B, axis=0)\n",
    "neutral_axis = neutral_axis / np.linalg.norm(neutral_axis)\n",
    "\n",
    "# 중립화\n",
    "def hard_debias(word_vector, neutral_axis):\n",
    "    projection = np.dot(word_vector, neutral_axis) * neutral_axis\n",
    "    return word_vector - projection\n",
    "\n",
    "X_debiased = np.array([hard_debias(vec, neutral_axis) for vec in X])\n",
    "Y_debiased = np.array([hard_debias(vec, neutral_axis) for vec in Y])\n",
    "\n",
    "# 속성 축 강화\n",
    "A_mean = np.mean(A, axis=0)\n",
    "B_mean = np.mean(B, axis=0)\n",
    "\n",
    "def strengthen_attributes(word_vector, A_mean, B_mean):\n",
    "    proj_A = np.dot(word_vector, A_mean) * A_mean\n",
    "    proj_B = np.dot(word_vector, B_mean) * B_mean\n",
    "    return proj_A - proj_B\n",
    "\n",
    "X_strengthened = np.array([strengthen_attributes(vec, A_mean, B_mean) for vec in X_debiased])\n",
    "Y_strengthened = np.array([strengthen_attributes(vec, A_mean, B_mean) for vec in Y_debiased])\n",
    "\n",
    "# 4. WEAT 점수 계산\n",
    "weat_value_debiased = weat_score(X_strengthened, Y_strengthened, A, B)\n",
    "print(f\"Hard Debiasing WEAT 점수: {weat_value_debiased}\")"
   ]
  },
  {
   "cell_type": "markdown",
   "id": "063e3262",
   "metadata": {},
   "source": [
    "* 전체 임베딩 공간 상에서 target이나 attribute 이외의 단어벡터들에 편향 제거가 미치는 영향은? \n",
    "* 삭제한 속성 축에 어느정도 연관된 단어벡터들이 존재한다면? "
   ]
  }
 ],
 "metadata": {
  "kernelspec": {
   "display_name": "Python 3 (ipykernel)",
   "language": "python",
   "name": "python3"
  },
  "language_info": {
   "codemirror_mode": {
    "name": "ipython",
    "version": 3
   },
   "file_extension": ".py",
   "mimetype": "text/x-python",
   "name": "python",
   "nbconvert_exporter": "python",
   "pygments_lexer": "ipython3",
   "version": "3.9.7"
  }
 },
 "nbformat": 4,
 "nbformat_minor": 5
}
