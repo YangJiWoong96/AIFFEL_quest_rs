{
 "cells": [
  {
   "cell_type": "code",
   "execution_count": 59,
   "id": "ed79113d",
   "metadata": {},
   "outputs": [],
   "source": [
    "import tensorflow as tf\n",
    "import numpy as np\n",
    "import matplotlib as plt\n",
    "import konlpy\n",
    "import os\n",
    "from konlpy.tag import Mecab\n",
    "import matplotlib.pyplot as plt\n",
    "import tensorflow as tf\n",
    "import numpy as np\n",
    "import pandas as pd\n",
    "import sentencepiece as spm"
   ]
  },
  {
   "cell_type": "markdown",
   "id": "3f21f0b9",
   "metadata": {},
   "source": [
    "* 네이버 영화리뷰 감정 분석 코퍼스에 SentencePiece를 적용시킨 모델 학습하기\n",
    "* 학습된 모델로 sp_tokenize() 메소드 구현하기\n",
    "* 구현된 토크나이저를 적용하여 네이버 영화리뷰 감정 분석 모델을 재학습하기\n",
    "* KoNLPy 형태소 분석기를 사용한 모델과 성능 비교하기\n",
    "* SentencePiece 모델의 model_type, vocab_size 등을 변경해 가면서 성능 개선 여부 확인하기"
   ]
  },
  {
   "cell_type": "code",
   "execution_count": 102,
   "id": "6f755e16",
   "metadata": {},
   "outputs": [
    {
     "name": "stderr",
     "output_type": "stream",
     "text": [
      "/opt/conda/lib/python3.9/site-packages/pandas/util/_decorators.py:311: ParserWarning: Falling back to the 'python' engine because the 'c' engine does not support regex separators (separators > 1 char and different from '\\s+' are interpreted as regex); you can avoid this warning by specifying engine='python'.\n",
      "  return func(*args, **kwargs)\n"
     ]
    }
   ],
   "source": [
    "train = pd.read_table('~/aiffel/sp_tokenizer/data/ratings.txt',sep='\\t+')"
   ]
  },
  {
   "cell_type": "code",
   "execution_count": 103,
   "id": "8cd7d270",
   "metadata": {},
   "outputs": [
    {
     "data": {
      "text/plain": [
       "0                                       어릴때보고 지금다시봐도 재밌어요ㅋㅋ\n",
       "1         디자인을 배우는 학생으로, 외국디자이너와 그들이 일군 전통을 통해 발전해가는 문화산...\n",
       "2                      폴리스스토리 시리즈는 1부터 뉴까지 버릴께 하나도 없음.. 최고.\n",
       "3         와.. 연기가 진짜 개쩔구나.. 지루할거라고 생각했는데 몰입해서 봤다.. 그래 이런...\n",
       "4                               안개 자욱한 밤하늘에 떠 있는 초승달 같은 영화.\n",
       "                                ...                        \n",
       "199995                                       포켓 몬스터 짜가 ㅡㅡ;;\n",
       "199996                                                쓰.레.기\n",
       "199997                    완전 사이코영화. 마지막은 더욱더 이 영화의질을 떨어트린다.\n",
       "199998                  왜난 재미없었지 ㅠㅠ 라따뚜이 보고나서 스머프 봐서 그런가 ㅋㅋ\n",
       "199999                                      포풍저그가나가신다영차영차영차\n",
       "Name: document, Length: 200000, dtype: object"
      ]
     },
     "execution_count": 103,
     "metadata": {},
     "output_type": "execute_result"
    }
   ],
   "source": [
    "train['document']"
   ]
  },
  {
   "cell_type": "code",
   "execution_count": 104,
   "id": "946967a9",
   "metadata": {},
   "outputs": [
    {
     "name": "stdout",
     "output_type": "stream",
     "text": [
      "200000 0\n"
     ]
    }
   ],
   "source": [
    "print(len(train['document']), train['document'].isnull().sum())"
   ]
  },
  {
   "cell_type": "code",
   "execution_count": 106,
   "id": "aab4f1e9",
   "metadata": {},
   "outputs": [
    {
     "data": {
      "text/plain": [
       "(0, 0)"
      ]
     },
     "execution_count": 106,
     "metadata": {},
     "output_type": "execute_result"
    }
   ],
   "source": [
    "train.duplicated().sum()"
   ]
  },
  {
   "cell_type": "markdown",
   "id": "b3c1b45e",
   "metadata": {},
   "source": [
    "### sentencepiece 학습 전에 전처리"
   ]
  },
  {
   "cell_type": "code",
   "execution_count": 107,
   "id": "9b9439e4",
   "metadata": {},
   "outputs": [],
   "source": [
    "import re\n",
    "\n",
    "def preprocess_text(text):\n",
    "    # 불용어\n",
    "    text = re.sub(r'[^가-힣a-zA-Z0-9\\s.?!]', '', text)\n",
    "    \n",
    "    # 영어가 있다면 소문자로 통일 \n",
    "    text = text.lower()\n",
    "\n",
    "    # 자음만 , 모음만 나오는 것들 삭제 (ㅋㅋ, ㅎㅎ, ㅠㅠ 등)\n",
    "    text = re.sub(r'\\b[ㄱ-ㅎㅏ-ㅣ]+\\b', '', text)\n",
    "\n",
    "    # 온점, 느낌표, 물음표가 여러 개 이어진 경우 1개로 통일 후 뒤에 공백 추가\n",
    "    text = re.sub(r'[.]+', '. ', text)\n",
    "    text = re.sub(r'[!]+', '! ', text)\n",
    "    text = re.sub(r'[?]+', '? ', text)\n",
    "\n",
    "    # 단어 길이가 15개 이상인 단어 삭제 (띄어쓰기 안 한) \n",
    "    text = ' '.join([word for word in text.split() if len(word) < 10])\n",
    "\n",
    "    # 같은 단어가 3번 이상 반복되는 경우 삭제\n",
    "    text = re.sub(r'(\\b\\w+)\\1{2,}', '', text)\n",
    "\n",
    "    # 중복 공백 하나로 통일 \n",
    "    text = re.sub(r'\\s+', ' ', text).strip()\n",
    "    \n",
    "    return text\n",
    "\n",
    "# 데이터프레임에 적용\n",
    "train['document'] = train['document'].apply(preprocess_text)"
   ]
  },
  {
   "cell_type": "code",
   "execution_count": 108,
   "id": "60ba3e87",
   "metadata": {},
   "outputs": [],
   "source": [
    "train['text_length'] = train['document'].str.len()"
   ]
  },
  {
   "cell_type": "code",
   "execution_count": 109,
   "id": "19d46dee",
   "metadata": {},
   "outputs": [
    {
     "data": {
      "image/png": "[encoded data removed]",
      "text/plain": [
       "<Figure size 720x432 with 1 Axes>"
      ]
     },
     "metadata": {
      "needs_background": "light"
     },
     "output_type": "display_data"
    }
   ],
   "source": [
    "plt.figure(figsize=(10, 6))\n",
    "plt.hist(train['text_length'], bins=20, color='skyblue', edgecolor='black')\n",
    "plt.title('Distribution of Document Lengths')\n",
    "plt.xlabel('Length of Documents')\n",
    "plt.ylabel('Frequency')\n",
    "plt.grid(axis='y', alpha=0.75)\n",
    "plt.show()"
   ]
  },
  {
   "cell_type": "markdown",
   "id": "5cfeffa5",
   "metadata": {},
   "source": [
    "### 공백 기준 토큰화"
   ]
  },
  {
   "cell_type": "code",
   "execution_count": 110,
   "id": "b0cb8184",
   "metadata": {},
   "outputs": [
    {
     "data": {
      "text/html": [
       "<div>\n",
       "<style scoped>\n",
       "    .dataframe tbody tr th:only-of-type {\n",
       "        vertical-align: middle;\n",
       "    }\n",
       "\n",
       "    .dataframe tbody tr th {\n",
       "        vertical-align: top;\n",
       "    }\n",
       "\n",
       "    .dataframe thead th {\n",
       "        text-align: right;\n",
       "    }\n",
       "</style>\n",
       "<table border=\"1\" class=\"dataframe\">\n",
       "  <thead>\n",
       "    <tr style=\"text-align: right;\">\n",
       "      <th></th>\n",
       "      <th>id</th>\n",
       "      <th>document</th>\n",
       "      <th>label</th>\n",
       "      <th>text_length</th>\n",
       "    </tr>\n",
       "  </thead>\n",
       "  <tbody>\n",
       "    <tr>\n",
       "      <th>8</th>\n",
       "      <td>7477618</td>\n",
       "      <td>굿</td>\n",
       "      <td>1.0</td>\n",
       "      <td>1</td>\n",
       "    </tr>\n",
       "    <tr>\n",
       "      <th>11</th>\n",
       "      <td>640794</td>\n",
       "      <td>재밌다</td>\n",
       "      <td>1.0</td>\n",
       "      <td>3</td>\n",
       "    </tr>\n",
       "    <tr>\n",
       "      <th>32</th>\n",
       "      <td>7295706</td>\n",
       "      <td>이범수연기쩜</td>\n",
       "      <td>1.0</td>\n",
       "      <td>6</td>\n",
       "    </tr>\n",
       "    <tr>\n",
       "      <th>49</th>\n",
       "      <td>10272889</td>\n",
       "      <td>내용이너무좋아요.</td>\n",
       "      <td>1.0</td>\n",
       "      <td>9</td>\n",
       "    </tr>\n",
       "    <tr>\n",
       "      <th>69</th>\n",
       "      <td>5784847</td>\n",
       "      <td>재미있어요</td>\n",
       "      <td>1.0</td>\n",
       "      <td>5</td>\n",
       "    </tr>\n",
       "    <tr>\n",
       "      <th>...</th>\n",
       "      <td>...</td>\n",
       "      <td>...</td>\n",
       "      <td>...</td>\n",
       "      <td>...</td>\n",
       "    </tr>\n",
       "    <tr>\n",
       "      <th>199946</th>\n",
       "      <td>735755</td>\n",
       "      <td>에혀</td>\n",
       "      <td>0.0</td>\n",
       "      <td>2</td>\n",
       "    </tr>\n",
       "    <tr>\n",
       "      <th>199969</th>\n",
       "      <td>6947256</td>\n",
       "      <td>착하다.</td>\n",
       "      <td>0.0</td>\n",
       "      <td>4</td>\n",
       "    </tr>\n",
       "    <tr>\n",
       "      <th>199975</th>\n",
       "      <td>307000</td>\n",
       "      <td>삐질삐질</td>\n",
       "      <td>0.0</td>\n",
       "      <td>4</td>\n",
       "    </tr>\n",
       "    <tr>\n",
       "      <th>199992</th>\n",
       "      <td>2228930</td>\n",
       "      <td>태권도?</td>\n",
       "      <td>0.0</td>\n",
       "      <td>4</td>\n",
       "    </tr>\n",
       "    <tr>\n",
       "      <th>199999</th>\n",
       "      <td>8548411</td>\n",
       "      <td></td>\n",
       "      <td>0.0</td>\n",
       "      <td>0</td>\n",
       "    </tr>\n",
       "  </tbody>\n",
       "</table>\n",
       "<p>17224 rows × 4 columns</p>\n",
       "</div>"
      ],
      "text/plain": [
       "              id   document  label  text_length\n",
       "8        7477618          굿    1.0            1\n",
       "11        640794        재밌다    1.0            3\n",
       "32       7295706     이범수연기쩜    1.0            6\n",
       "49      10272889  내용이너무좋아요.    1.0            9\n",
       "69       5784847      재미있어요    1.0            5\n",
       "...          ...        ...    ...          ...\n",
       "199946    735755         에혀    0.0            2\n",
       "199969   6947256       착하다.    0.0            4\n",
       "199975    307000       삐질삐질    0.0            4\n",
       "199992   2228930       태권도?    0.0            4\n",
       "199999   8548411               0.0            0\n",
       "\n",
       "[17224 rows x 4 columns]"
      ]
     },
     "execution_count": 110,
     "metadata": {},
     "output_type": "execute_result"
    }
   ],
   "source": [
    "train[train['document'].str.split().apply(len) <= 1]"
   ]
  },
  {
   "cell_type": "code",
   "execution_count": 111,
   "id": "8b913e94",
   "metadata": {},
   "outputs": [
    {
     "name": "stdout",
     "output_type": "stream",
     "text": [
      "vocab size : 377254\n"
     ]
    },
    {
     "data": {
      "text/plain": [
       "[('영화', 15797),\n",
       " ('너무', 11402),\n",
       " ('정말', 10993),\n",
       " ('진짜', 8596),\n",
       " ('영화.', 8089),\n",
       " ('이', 7145),\n",
       " ('.', 6667),\n",
       " ('그냥', 4650),\n",
       " ('이런', 4532),\n",
       " ('왜', 4519)]"
      ]
     },
     "execution_count": 111,
     "metadata": {},
     "output_type": "execute_result"
    }
   ],
   "source": [
    "from collections import Counter\n",
    "\n",
    "all_text = \" \".join(train['document'])\n",
    "\n",
    "word_counts = Counter(all_text.split())\n",
    "\n",
    "unique_word_count = len(word_counts)\n",
    "print(f\"vocab size : {unique_word_count}\")\n",
    "\n",
    "# 빈도 기반 상위 10개\n",
    "word_counts.most_common(10)"
   ]
  },
  {
   "cell_type": "code",
   "execution_count": 112,
   "id": "abdb11bd",
   "metadata": {},
   "outputs": [
    {
     "name": "stdout",
     "output_type": "stream",
     "text": [
      "Name: sentencepiece\n",
      "Version: 0.1.96\n",
      "Summary: SentencePiece python wrapper\n",
      "Home-page: https://github.com/google/sentencepiece\n",
      "Author: Taku Kudo\n",
      "Author-email: taku@google.com\n",
      "License: Apache\n",
      "Location: /opt/conda/lib/python3.9/site-packages\n",
      "Requires: \n",
      "Required-by: \n",
      "Note: you may need to restart the kernel to use updated packages.\n"
     ]
    }
   ],
   "source": [
    "pip show sentencepiece"
   ]
  },
  {
   "cell_type": "markdown",
   "id": "7f57ee9f",
   "metadata": {},
   "source": [
    "### LMS 환경 상에서 보캡 만들기가 에러나서 코랩에서 돌린뒤, 학습된 모델이랑 보캡 파일만 불러왔습니다.\n",
    "* 왔다갔다가 힘들어서 사정 상 모델 타입은 전부 bpe"
   ]
  },
  {
   "cell_type": "code",
   "execution_count": 113,
   "id": "1417bb88",
   "metadata": {},
   "outputs": [
    {
     "name": "stdout",
     "output_type": "stream",
     "text": [
      "spm_model_16000.model  spm_model_16000.vocab\r\n"
     ]
    }
   ],
   "source": [
    "ls ~/aiffel/sp_tokenizer/model/"
   ]
  },
  {
   "cell_type": "code",
   "execution_count": 114,
   "id": "8511eb65",
   "metadata": {},
   "outputs": [
    {
     "data": {
      "text/plain": [
       "'/aiffel'"
      ]
     },
     "execution_count": 114,
     "metadata": {},
     "output_type": "execute_result"
    }
   ],
   "source": [
    "home_dir = os.path.expanduser(\"~\")\n",
    "home_dir"
   ]
  },
  {
   "cell_type": "code",
   "execution_count": 115,
   "id": "2246dd58",
   "metadata": {},
   "outputs": [],
   "source": [
    "import tensorflow as tf\n",
    "from sentencepiece import SentencePieceProcessor\n",
    "\n",
    "# SentencePiece 모델 로드\n",
    "spm_model_path = \"/aiffel/aiffel/sp_tokenizer/model/spm_model_16000.model\"\n",
    "vocab_file_path = \"/aiffel/aiffel/sp_tokenizer/model/spm_model_16000.vocab\"\n",
    "\n",
    "# SentencePieceProcessor 객체 생성\n",
    "s = SentencePieceProcessor(model_file=spm_model_path)\n",
    "\n",
    "# sp_tokenize 함수 정의\n",
    "def sp_tokenize(s, corpus):\n",
    "    tensor = []\n",
    "\n",
    "    # 텍스트 데이터를 SentencePiece로 토크나이즈\n",
    "    for sen in corpus:\n",
    "        tensor.append(s.encode(sen, out_type=int))  # EncodeAsIds 방식으로 토크나이즈\n",
    "\n",
    "    # 단어 사전 로드\n",
    "    with open(vocab_file_path, 'r', encoding='utf-8') as f:\n",
    "        vocab = f.readlines()\n",
    "\n",
    "    word_index = {}\n",
    "    index_word = {}\n",
    "\n",
    "    # 단어 사전을 인덱싱\n",
    "    for idx, line in enumerate(vocab):\n",
    "        word = line.split(\"\\t\")[0]\n",
    "        word_index.update({word: idx})\n",
    "        index_word.update({idx: word})\n",
    "\n",
    "    # 패딩 \n",
    "    tensor = tf.keras.preprocessing.sequence.pad_sequences(tensor, padding='post')\n",
    "\n",
    "    return tensor, word_index, index_word"
   ]
  },
  {
   "cell_type": "markdown",
   "id": "a6723357",
   "metadata": {},
   "source": [
    "#### 출력은?"
   ]
  },
  {
   "cell_type": "code",
   "execution_count": 116,
   "id": "f715ea60",
   "metadata": {},
   "outputs": [
    {
     "name": "stdout",
     "output_type": "stream",
     "text": [
      "Tensor Shape: (200000, 82)\n",
      "Word Index Sample: [('<unk>', 0), ('<s>', 1), ('</s>', 2), ('..', 3), ('영화', 4), ('▁영화', 5), ('▁이', 6), ('▁아', 7), ('...', 8), ('▁그', 9)]\n",
      "Index Word Sample: [(0, '<unk>'), (1, '<s>'), (2, '</s>'), (3, '..'), (4, '영화'), (5, '▁영화'), (6, '▁이'), (7, '▁아'), (8, '...'), (9, '▁그')]\n",
      "Processed Tensor (First 5 Rows):\n",
      "      0      1     2      3      4     5      6      7      8      9   ...  \\\n",
      "0   1728    160   225   8841    802     0      0      0      0      0  ...   \n",
      "1    722  15109  2121   4941   3488    33   2315  15204  11182  15122  ...   \n",
      "2  14716    641  4452     41    252  2958     91   9577  15500   1075  ...   \n",
      "3    317  15055   637     53  14446   395  15055   3140   9432   4352  ...   \n",
      "4     40  15146    84  15611  15070  2389   6722  15067    682    206  ...   \n",
      "\n",
      "   72  73  74  75  76  77  78  79  80  81  \n",
      "0   0   0   0   0   0   0   0   0   0   0  \n",
      "1   0   0   0   0   0   0   0   0   0   0  \n",
      "2   0   0   0   0   0   0   0   0   0   0  \n",
      "3   0   0   0   0   0   0   0   0   0   0  \n",
      "4   0   0   0   0   0   0   0   0   0   0  \n",
      "\n",
      "[5 rows x 82 columns]\n"
     ]
    }
   ],
   "source": [
    "tensor, word_index, index_word = sp_tokenize(s, train['document'])\n",
    "\n",
    "print(\"Tensor Shape:\", tensor.shape)\n",
    "print(\"Word Index Sample:\", list(word_index.items())[:10])\n",
    "print(\"Index Word Sample:\", list(index_word.items())[:10])\n",
    "\n",
    "tensor_df = pd.DataFrame(tensor)\n",
    "print(\"Processed Tensor (First 5 Rows):\")\n",
    "print(tensor_df.head())"
   ]
  },
  {
   "cell_type": "markdown",
   "id": "8623930c",
   "metadata": {},
   "source": [
    "### 82 확인이 필요하다"
   ]
  },
  {
   "cell_type": "code",
   "execution_count": 117,
   "id": "a329ad0e",
   "metadata": {},
   "outputs": [
    {
     "data": {
      "text/plain": [
       "1    99996\n",
       "0    99996\n",
       "Name: label, dtype: int64"
      ]
     },
     "execution_count": 117,
     "metadata": {},
     "output_type": "execute_result"
    }
   ],
   "source": [
    "train = train.dropna(subset=['label']).reset_index(drop=True)\n",
    "train['label'] = train['label'].astype(int)\n",
    "train['label'].value_counts()"
   ]
  },
  {
   "cell_type": "code",
   "execution_count": 25,
   "id": "69303b1d",
   "metadata": {},
   "outputs": [],
   "source": [
    "from sklearn.model_selection import train_test_split\n",
    "from tensorflow.keras.models import Sequential\n",
    "from tensorflow.keras.layers import Embedding, LSTM, Dense, Bidirectional"
   ]
  },
  {
   "cell_type": "code",
   "execution_count": 118,
   "id": "1e76d18e",
   "metadata": {},
   "outputs": [],
   "source": [
    "# 1. train을 train, test 0.75,025 15만개,5만개로 \n",
    "train_0, test_0 = train_test_split(train[train['label'] == 0], test_size=0.25, random_state=42)\n",
    "train_1, test_1 = train_test_split(train[train['label'] == 1], test_size=0.25, random_state=42)\n",
    "\n",
    "train = pd.concat([train_0, train_1]).reset_index(drop=True)\n",
    "test = pd.concat([test_0, test_1]).reset_index(drop=True)\n",
    "\n",
    "# train을 다시 train,val로 \n",
    "train_0, val_0 = train_test_split(train[train['label'] == 0], test_size=0.2, random_state=42)\n",
    "train_1, val_1 = train_test_split(train[train['label'] == 1], test_size=0.2, random_state=42)\n",
    "\n",
    "train_data = pd.concat([train_0, train_1]).reset_index(drop=True)\n",
    "val_data = pd.concat([val_0, val_1]).reset_index(drop=True)"
   ]
  },
  {
   "cell_type": "markdown",
   "id": "6d016118",
   "metadata": {},
   "source": [
    "* 임베딩"
   ]
  },
  {
   "cell_type": "code",
   "execution_count": 142,
   "id": "74a6fcf5",
   "metadata": {},
   "outputs": [],
   "source": [
    "# 경로 재확인 & 재설정\n",
    "spm_model_path = \"/aiffel/aiffel/sp_tokenizer/model/spm_model_16000.model\"\n",
    "s = SentencePieceProcessor(model_file=spm_model_path)\n",
    "\n",
    "def sp_tokenize(s, corpus):\n",
    "    tensor = []\n",
    "    for sen in corpus:\n",
    "        tensor.append(s.encode(sen, out_type=int))  # Encode as IDs\n",
    "    tensor = tf.keras.preprocessing.sequence.pad_sequences(tensor, padding='post', maxlen=150) # 분포상 그냥 150개로 퉁침\n",
    "    return tensor\n",
    "\n",
    "# 임베딩 \n",
    "X_train = sp_tokenize(s, train_data['document'])\n",
    "X_val = sp_tokenize(s, val_data['document'])\n",
    "y_train = train_data['label'].values\n",
    "y_val = val_data['label'].values\n",
    "X_test = sp_tokenize(s, test['document'])[0]  # tensor만 가져오기\n",
    "y_test = test['label'].values"
   ]
  },
  {
   "cell_type": "code",
   "execution_count": 143,
   "id": "5e24cc68",
   "metadata": {},
   "outputs": [],
   "source": [
    "def sp_tokenize(s, corpus, maxlen=150):  # maxlen 150 똑같이\n",
    "    tensor = []\n",
    "\n",
    "    for sen in corpus:\n",
    "        tensor.append(s.encode(sen, out_type=int)) \n",
    "\n",
    "    with open(vocab_file_path, 'r', encoding='utf-8') as f:\n",
    "        vocab = f.readlines()\n",
    "\n",
    "    word_index = {}\n",
    "    index_word = {}\n",
    "\n",
    "    for idx, line in enumerate(vocab):\n",
    "        word = line.split(\"\\t\")[0]\n",
    "        word_index.update({word: idx})\n",
    "        index_word.update({idx: word})\n",
    "\n",
    "    tensor = tf.keras.preprocessing.sequence.pad_sequences(tensor, padding='post', maxlen=maxlen)\n",
    "\n",
    "    return tensor, word_index, index_word"
   ]
  },
  {
   "cell_type": "code",
   "execution_count": 144,
   "id": "36e97cf8",
   "metadata": {},
   "outputs": [
    {
     "name": "stdout",
     "output_type": "stream",
     "text": [
      "X_test shape: (49998, 150)\n",
      "y_test shape: (49998,)\n"
     ]
    }
   ],
   "source": [
    "X_test, _, _ = sp_tokenize(s, test['document'])\n",
    "y_test = test['label'].values\n",
    "\n",
    "\n",
    "print(f\"X_test shape: {X_test.shape}\")\n",
    "print(f\"y_test shape: {y_test.shape}\") "
   ]
  },
  {
   "cell_type": "markdown",
   "id": "a6e3cec6",
   "metadata": {},
   "source": [
    "### 에러에 대해 디버깅하기보단 걍 test에 맞춰서 함수 다시 짰다. \n",
    "* test셋에는 패딩 관련해서 데이터가 굉장히 듬성듬성하다. 당연히 데이터가 1/4 토막 났으니까. "
   ]
  },
  {
   "cell_type": "code",
   "execution_count": 145,
   "id": "313faa82",
   "metadata": {},
   "outputs": [
    {
     "data": {
      "text/plain": [
       "((119994, 150), (119994,))"
      ]
     },
     "execution_count": 145,
     "metadata": {},
     "output_type": "execute_result"
    }
   ],
   "source": [
    "X_train.shape,y_train.shape"
   ]
  },
  {
   "cell_type": "markdown",
   "id": "06f38268",
   "metadata": {},
   "source": [
    "### 모델이 무거울 필요는 없을듯\n",
    "* 층 하나만 쌓고 진행"
   ]
  },
  {
   "cell_type": "code",
   "execution_count": 146,
   "id": "fbda7a53",
   "metadata": {},
   "outputs": [
    {
     "name": "stdout",
     "output_type": "stream",
     "text": [
      "Model: \"sequential_14\"\n",
      "_________________________________________________________________\n",
      "Layer (type)                 Output Shape              Param #   \n",
      "=================================================================\n",
      "embedding_14 (Embedding)     (None, 150, 128)          2048000   \n",
      "_________________________________________________________________\n",
      "bidirectional_15 (Bidirectio (None, 150, 256)          263168    \n",
      "_________________________________________________________________\n",
      "dense_14 (Dense)             (None, 150, 1)            257       \n",
      "=================================================================\n",
      "Total params: 2,311,425\n",
      "Trainable params: 2,311,425\n",
      "Non-trainable params: 0\n",
      "_________________________________________________________________\n"
     ]
    }
   ],
   "source": [
    "from tensorflow.keras.callbacks import ModelCheckpoint\n",
    "from tensorflow.keras.models import load_model\n",
    "\n",
    "# 최적 모델 콜백 \n",
    "checkpoint = ModelCheckpoint(\n",
    "    'best_model_sentence.h5',  \n",
    "    monitor='val_accuracy',  # Val acc\n",
    "    save_best_only=True,\n",
    "    mode='max', \n",
    "    verbose=1 \n",
    ")\n",
    "\n",
    "model = Sequential([\n",
    "    Embedding(input_dim=16000, output_dim=128, input_length=150),  # 임베딩 레이어\n",
    "    Bidirectional(LSTM(128, return_sequences=True, activation='tanh', dropout=0.2)), # 한 층 후 \n",
    "    Dense(1, activation='sigmoid')  # 바로 이진 분류 출력\n",
    "])\n",
    "\n",
    "model.summary()"
   ]
  },
  {
   "cell_type": "code",
   "execution_count": 147,
   "id": "4514fdca",
   "metadata": {},
   "outputs": [
    {
     "name": "stdout",
     "output_type": "stream",
     "text": [
      "Epoch 1/8\n",
      "938/938 [==============================] - 32s 28ms/step - loss: 0.5474 - accuracy: 0.7424 - val_loss: 0.4816 - val_accuracy: 0.8055\n",
      "\n",
      "Epoch 00001: val_accuracy improved from -inf to 0.80552, saving model to best_model_sentence.h5\n",
      "Epoch 2/8\n",
      "938/938 [==============================] - 25s 27ms/step - loss: 0.4670 - accuracy: 0.8073 - val_loss: 0.4774 - val_accuracy: 0.8121\n",
      "\n",
      "Epoch 00002: val_accuracy improved from 0.80552 to 0.81210, saving model to best_model_sentence.h5\n",
      "Epoch 3/8\n",
      "938/938 [==============================] - 25s 26ms/step - loss: 0.4544 - accuracy: 0.8192 - val_loss: 0.4866 - val_accuracy: 0.7929\n",
      "\n",
      "Epoch 00003: val_accuracy did not improve from 0.81210\n",
      "Epoch 4/8\n",
      "938/938 [==============================] - 25s 26ms/step - loss: 0.3926 - accuracy: 0.8434 - val_loss: 0.3796 - val_accuracy: 0.8318\n",
      "\n",
      "Epoch 00004: val_accuracy improved from 0.81210 to 0.83177, saving model to best_model_sentence.h5\n",
      "Epoch 5/8\n",
      "938/938 [==============================] - 25s 26ms/step - loss: 0.2861 - accuracy: 0.8806 - val_loss: 0.3481 - val_accuracy: 0.8454\n",
      "\n",
      "Epoch 00005: val_accuracy improved from 0.83177 to 0.84542, saving model to best_model_sentence.h5\n",
      "Epoch 6/8\n",
      "938/938 [==============================] - 25s 26ms/step - loss: 0.2339 - accuracy: 0.9026 - val_loss: 0.3737 - val_accuracy: 0.8427\n",
      "\n",
      "Epoch 00006: val_accuracy did not improve from 0.84542\n",
      "Epoch 7/8\n",
      "938/938 [==============================] - 25s 26ms/step - loss: 0.1970 - accuracy: 0.9181 - val_loss: 0.4100 - val_accuracy: 0.8430\n",
      "\n",
      "Epoch 00007: val_accuracy did not improve from 0.84542\n",
      "Epoch 8/8\n",
      "938/938 [==============================] - 25s 26ms/step - loss: 0.1633 - accuracy: 0.9324 - val_loss: 0.4781 - val_accuracy: 0.8373\n",
      "\n",
      "Epoch 00008: val_accuracy did not improve from 0.84542\n",
      "938/938 [==============================] - 6s 7ms/step - loss: 0.4781 - accuracy: 0.8373\n",
      "Validation Loss: 0.4781, Validation Accuracy: 0.8373\n"
     ]
    }
   ],
   "source": [
    "# 모델 컴파일\n",
    "model.compile(optimizer='adam', loss='binary_crossentropy', metrics=['accuracy'])\n",
    "\n",
    "# 학습\n",
    "history = model.fit(\n",
    "    X_train, \n",
    "    y_train, \n",
    "    epochs=8,  # 학습 반복 횟수\n",
    "    batch_size=128,  # 배치 크기\n",
    "    validation_data=(X_val, y_val), \n",
    "    callbacks=[checkpoint],  # 콜백 추가\n",
    "    verbose=1  \n",
    ")\n",
    "\n",
    "loss, accuracy = model.evaluate(X_val, y_val, verbose=1)\n",
    "print(f\"Validation Loss: {loss:.4f}, Validation Accuracy: {accuracy:.4f}\")"
   ]
  },
  {
   "cell_type": "code",
   "execution_count": 149,
   "id": "73cc0cef",
   "metadata": {},
   "outputs": [
    {
     "data": {
      "image/png": "[encoded data removed]",
      "text/plain": [
       "<Figure size 432x288 with 1 Axes>"
      ]
     },
     "metadata": {
      "needs_background": "light"
     },
     "output_type": "display_data"
    },
    {
     "data": {
      "image/png": "[encoded data removed]",
      "text/plain": [
       "<Figure size 432x288 with 1 Axes>"
      ]
     },
     "metadata": {
      "needs_background": "light"
     },
     "output_type": "display_data"
    }
   ],
   "source": [
    "# Acc\n",
    "plt.plot(history.history['accuracy'], label='Training Accuracy')\n",
    "plt.plot(history.history['val_accuracy'], label='Validation Accuracy')\n",
    "plt.title('Sentencepiece Model Accuracy')\n",
    "plt.xlabel('Epochs')\n",
    "plt.ylabel('Accuracy')\n",
    "plt.legend()\n",
    "plt.show()\n",
    "\n",
    "# Loss \n",
    "plt.plot(history.history['loss'], label='Training Loss')\n",
    "plt.plot(history.history['val_loss'], label='Validation Loss')\n",
    "plt.title('Sentencepiece Model Loss')\n",
    "plt.xlabel('Epochs')\n",
    "plt.ylabel('Loss')\n",
    "plt.legend()\n",
    "plt.show()"
   ]
  },
  {
   "cell_type": "code",
   "execution_count": 132,
   "id": "22ec40d3",
   "metadata": {},
   "outputs": [
    {
     "name": "stdout",
     "output_type": "stream",
     "text": [
      "1563/1563 [==============================] - 10s 6ms/step - loss: 0.6380 - accuracy: 0.8297\n",
      "Test Loss: 0.6380, Test Accuracy: 0.8297\n"
     ]
    }
   ],
   "source": [
    "best_model = load_model('best_model.h5')\n",
    "\n",
    "# Test 데이터로 최적 모델 평가\n",
    "test_loss, test_accuracy = best_model.evaluate(X_test, y_test, verbose=1)\n",
    "print(f\"Test Loss: {test_loss:.4f}, Test Accuracy: {test_accuracy:.4f}\")"
   ]
  },
  {
   "cell_type": "markdown",
   "id": "6d060854",
   "metadata": {},
   "source": [
    "* 6 epoch 부터 과적합이 일어나는 것을 확인할 수 있다. 층을 한 개만 더 늘리면 85퍼까지는 갈 것으로 추측한다"
   ]
  },
  {
   "cell_type": "markdown",
   "id": "b1f0dde1",
   "metadata": {},
   "source": [
    "### 동일한 모델에 이번엔 konlpy 토크나이저를 활용해서 비교분석해보자"
   ]
  },
  {
   "cell_type": "markdown",
   "id": "e3b591f7",
   "metadata": {},
   "source": [
    "### Mecab"
   ]
  },
  {
   "cell_type": "code",
   "execution_count": 41,
   "id": "493851e5",
   "metadata": {},
   "outputs": [
    {
     "name": "stdout",
     "output_type": "stream",
     "text": [
      "Requirement already satisfied: konlpy in /opt/conda/lib/python3.9/site-packages (0.5.2)\n",
      "Requirement already satisfied: beautifulsoup4==4.6.0 in /opt/conda/lib/python3.9/site-packages (from konlpy) (4.6.0)\n",
      "Requirement already satisfied: lxml>=4.1.0 in /opt/conda/lib/python3.9/site-packages (from konlpy) (4.6.3)\n",
      "Requirement already satisfied: tweepy>=3.7.0 in /opt/conda/lib/python3.9/site-packages (from konlpy) (3.10.0)\n",
      "Requirement already satisfied: numpy>=1.6 in /opt/conda/lib/python3.9/site-packages (from konlpy) (1.21.4)\n",
      "Requirement already satisfied: colorama in /opt/conda/lib/python3.9/site-packages (from konlpy) (0.4.4)\n",
      "Requirement already satisfied: JPype1>=0.7.0 in /opt/conda/lib/python3.9/site-packages (from konlpy) (1.3.0)\n",
      "Requirement already satisfied: requests[socks]>=2.11.1 in /opt/conda/lib/python3.9/site-packages (from tweepy>=3.7.0->konlpy) (2.26.0)\n",
      "Requirement already satisfied: six>=1.10.0 in /opt/conda/lib/python3.9/site-packages (from tweepy>=3.7.0->konlpy) (1.16.0)\n",
      "Requirement already satisfied: requests-oauthlib>=0.7.0 in /opt/conda/lib/python3.9/site-packages (from tweepy>=3.7.0->konlpy) (1.3.0)\n",
      "Requirement already satisfied: oauthlib>=3.0.0 in /opt/conda/lib/python3.9/site-packages (from requests-oauthlib>=0.7.0->tweepy>=3.7.0->konlpy) (3.1.1)\n",
      "Requirement already satisfied: certifi>=2017.4.17 in /opt/conda/lib/python3.9/site-packages (from requests[socks]>=2.11.1->tweepy>=3.7.0->konlpy) (2021.10.8)\n",
      "Requirement already satisfied: idna<4,>=2.5 in /opt/conda/lib/python3.9/site-packages (from requests[socks]>=2.11.1->tweepy>=3.7.0->konlpy) (2.10)\n",
      "Requirement already satisfied: charset-normalizer~=2.0.0 in /opt/conda/lib/python3.9/site-packages (from requests[socks]>=2.11.1->tweepy>=3.7.0->konlpy) (2.0.8)\n",
      "Requirement already satisfied: urllib3<1.27,>=1.21.1 in /opt/conda/lib/python3.9/site-packages (from requests[socks]>=2.11.1->tweepy>=3.7.0->konlpy) (1.26.7)\n",
      "Requirement already satisfied: PySocks!=1.5.7,>=1.5.6 in /opt/conda/lib/python3.9/site-packages (from requests[socks]>=2.11.1->tweepy>=3.7.0->konlpy) (1.7.1)\n",
      "\u001b[33mWARNING: Running pip as the 'root' user can result in broken permissions and conflicting behaviour with the system package manager. It is recommended to use a virtual environment instead: https://pip.pypa.io/warnings/venv\u001b[0m\n",
      "Note: you may need to restart the kernel to use updated packages.\n"
     ]
    }
   ],
   "source": [
    "pip install konlpy"
   ]
  },
  {
   "cell_type": "code",
   "execution_count": 151,
   "id": "d69c81b4",
   "metadata": {},
   "outputs": [],
   "source": [
    "# 매캡\n",
    "from konlpy.tag import Mecab\n",
    "from tensorflow.keras.preprocessing.text import Tokenizer\n",
    "from tensorflow.keras.preprocessing.sequence import pad_sequences\n",
    "\n",
    "mecab = Mecab() \n",
    "\n",
    "def tokenize_with_konlpy(sentence):\n",
    "    return mecab.morphs(sentence)\n",
    "\n",
    "X_train_tokens = train_data['document'].apply(lambda x: tokenize_with_konlpy(x))\n",
    "X_val_tokens = val_data['document'].apply(lambda x: tokenize_with_konlpy(x))\n",
    "\n",
    "tokenizer = Tokenizer(num_words=16000, oov_token=\"<OOV>\")  # 단어 수 & OOV 처리\n",
    "# 적용\n",
    "tokenizer.fit_on_texts(X_train_tokens)\n",
    "\n",
    "X_train_sequences = tokenizer.texts_to_sequences(X_train_tokens)\n",
    "X_val_sequences = tokenizer.texts_to_sequences(X_val_tokens)\n",
    "\n",
    "# 패딩\n",
    "X_train_Mecab = pad_sequences(X_train_sequences, maxlen=150, padding='post')\n",
    "X_val_Mecab = pad_sequences(X_val_sequences, maxlen=150, padding='post')\n",
    "\n",
    "y_train_Mecab = train_data['label'].values\n",
    "y_val_Mecab = val_data['label'].values"
   ]
  },
  {
   "cell_type": "code",
   "execution_count": 152,
   "id": "0063bd1d",
   "metadata": {},
   "outputs": [
    {
     "name": "stdout",
     "output_type": "stream",
     "text": [
      "Model: \"sequential_15\"\n",
      "_________________________________________________________________\n",
      "Layer (type)                 Output Shape              Param #   \n",
      "=================================================================\n",
      "embedding_15 (Embedding)     (None, 150, 128)          2048000   \n",
      "_________________________________________________________________\n",
      "bidirectional_16 (Bidirectio (None, 150, 256)          263168    \n",
      "_________________________________________________________________\n",
      "dense_15 (Dense)             (None, 150, 1)            257       \n",
      "=================================================================\n",
      "Total params: 2,311,425\n",
      "Trainable params: 2,311,425\n",
      "Non-trainable params: 0\n",
      "_________________________________________________________________\n"
     ]
    }
   ],
   "source": [
    "# 최적 모델 콜백 \n",
    "checkpoint = ModelCheckpoint(\n",
    "    'best_model_sentence.h5',  \n",
    "    monitor='val_accuracy',  # Val acc\n",
    "    save_best_only=True,\n",
    "    mode='max', \n",
    "    verbose=1 \n",
    ")\n",
    "\n",
    "model = Sequential([\n",
    "    Embedding(input_dim=16000, output_dim=128, input_length=150),  # 임베딩 레이어\n",
    "    Bidirectional(LSTM(128, return_sequences=True, activation='tanh', dropout=0.2)), # 한 층 후 \n",
    "    Dense(1, activation='sigmoid')  # 바로 이진 분류 출력\n",
    "])\n",
    "\n",
    "model.summary()"
   ]
  },
  {
   "cell_type": "code",
   "execution_count": 154,
   "id": "069c907c",
   "metadata": {},
   "outputs": [
    {
     "name": "stdout",
     "output_type": "stream",
     "text": [
      "Epoch 1/8\n",
      "938/938 [==============================] - 30s 28ms/step - loss: 0.4519 - accuracy: 0.7877 - val_loss: 0.8927 - val_accuracy: 0.5435\n",
      "\n",
      "Epoch 00001: val_accuracy did not improve from 0.80783\n",
      "Epoch 2/8\n",
      "938/938 [==============================] - 25s 27ms/step - loss: 0.3256 - accuracy: 0.8590 - val_loss: 1.0859 - val_accuracy: 0.5249\n",
      "\n",
      "Epoch 00002: val_accuracy did not improve from 0.80783\n",
      "Epoch 3/8\n",
      "938/938 [==============================] - 25s 26ms/step - loss: 0.2824 - accuracy: 0.8794 - val_loss: 1.2682 - val_accuracy: 0.5289\n",
      "\n",
      "Epoch 00003: val_accuracy did not improve from 0.80783\n",
      "Epoch 4/8\n",
      "938/938 [==============================] - 25s 26ms/step - loss: 0.2565 - accuracy: 0.8942 - val_loss: 1.4504 - val_accuracy: 0.5345\n",
      "\n",
      "Epoch 00004: val_accuracy did not improve from 0.80783\n",
      "Epoch 5/8\n",
      "938/938 [==============================] - 25s 26ms/step - loss: 0.2285 - accuracy: 0.9062 - val_loss: 1.6173 - val_accuracy: 0.5264\n",
      "\n",
      "Epoch 00005: val_accuracy did not improve from 0.80783\n",
      "Epoch 6/8\n",
      "938/938 [==============================] - 25s 26ms/step - loss: 0.1990 - accuracy: 0.9193 - val_loss: 1.7847 - val_accuracy: 0.5150\n",
      "\n",
      "Epoch 00006: val_accuracy did not improve from 0.80783\n",
      "Epoch 7/8\n",
      "938/938 [==============================] - 25s 26ms/step - loss: 0.1781 - accuracy: 0.9284 - val_loss: 1.8313 - val_accuracy: 0.5306\n",
      "\n",
      "Epoch 00007: val_accuracy did not improve from 0.80783\n",
      "Epoch 8/8\n",
      "938/938 [==============================] - 25s 26ms/step - loss: 0.1597 - accuracy: 0.9362 - val_loss: 2.0256 - val_accuracy: 0.5242\n",
      "\n",
      "Epoch 00008: val_accuracy did not improve from 0.80783\n",
      "938/938 [==============================] - 6s 6ms/step - loss: 0.4404 - accuracy: 0.8460\n",
      "Validation Loss: 0.4404, Validation Accuracy: 0.8460\n"
     ]
    }
   ],
   "source": [
    "# 모델 컴파일\n",
    "model.compile(optimizer='adam', loss='binary_crossentropy', metrics=['accuracy'])\n",
    "\n",
    "# 학습\n",
    "history = model.fit(\n",
    "    X_train_Mecab, \n",
    "    y_train_Mecab, \n",
    "    epochs=8,  # 학습 반복 횟수\n",
    "    batch_size=128,  # 배치 크기\n",
    "    validation_data=(X_val, y_val), \n",
    "    callbacks=[checkpoint],  # 콜백 추가\n",
    "    verbose=1  \n",
    ")\n",
    "\n",
    "loss, accuracy = model.evaluate(X_val_Mecab, y_val_Mecab, verbose=1)\n",
    "print(f\"Validation Loss: {loss:.4f}, Validation Accuracy: {accuracy:.4f}\")"
   ]
  },
  {
   "cell_type": "code",
   "execution_count": 155,
   "id": "267883e7",
   "metadata": {},
   "outputs": [
    {
     "data": {
      "image/png": "[encoded data removed]",
      "text/plain": [
       "<Figure size 432x288 with 1 Axes>"
      ]
     },
     "metadata": {
      "needs_background": "light"
     },
     "output_type": "display_data"
    },
    {
     "data": {
      "image/png": "[encoded data removed]",
      "text/plain": [
       "<Figure size 432x288 with 1 Axes>"
      ]
     },
     "metadata": {
      "needs_background": "light"
     },
     "output_type": "display_data"
    }
   ],
   "source": [
    "# Acc\n",
    "plt.plot(history.history['accuracy'], label='Training Accuracy')\n",
    "plt.plot(history.history['val_accuracy'], label='Validation Accuracy')\n",
    "plt.title('Mecab Model Accuracy')\n",
    "plt.xlabel('Epochs')\n",
    "plt.ylabel('Accuracy')\n",
    "plt.legend()\n",
    "plt.show()\n",
    "\n",
    "# Loss \n",
    "plt.plot(history.history['loss'], label='Training Loss')\n",
    "plt.plot(history.history['val_loss'], label='Validation Loss')\n",
    "plt.title('Mecab Model Loss')\n",
    "plt.xlabel('Epochs')\n",
    "plt.ylabel('Loss')\n",
    "plt.legend()\n",
    "plt.show()"
   ]
  },
  {
   "cell_type": "markdown",
   "id": "9d2d6dc0",
   "metadata": {},
   "source": [
    "####  그렇다. 이상하다 했다. 기계는 거짓말을 하지 않는다고. 분명 서브워드 방식이 더 좋아야했는데 결과가 비슷해서 당황했다. \n",
    "* 형태소 분석 쪽이 확실하게 학습이 저조한 모습이다. 정확도 0.5도 못 간다"
   ]
  },
  {
   "cell_type": "code",
   "execution_count": 156,
   "id": "548426fa",
   "metadata": {},
   "outputs": [
    {
     "name": "stdout",
     "output_type": "stream",
     "text": [
      "1563/1563 [==============================] - 10s 6ms/step - loss: 2.0361 - accuracy: 0.5208\n",
      "Test Loss: 2.0361, Test Accuracy: 0.5208\n"
     ]
    }
   ],
   "source": [
    "loss, accuracy = model.evaluate(X_test, y_test, verbose=1)\n",
    "print(f\"Test Loss: {loss:.4f}, Test Accuracy: {accuracy:.4f}\")"
   ]
  },
  {
   "cell_type": "code",
   "execution_count": null,
   "id": "50f5c2a3",
   "metadata": {},
   "outputs": [],
   "source": [
    "from konlpy.tag import Okt\n",
    "\n",
    "okt = Okt()\n",
    "\n",
    "def tokenize_with_konlpy(sentence):\n",
    "    return okt.morphs(sentence)  # 형태소 추출\n",
    "\n",
    "# Train/Validation 데이터 토큰화\n",
    "X_train_tokens = train_data['document'].apply(lambda x: tokenize_with_konlpy(x))\n",
    "X_val_tokens = val_data['document'].apply(lambda x: tokenize_with_konlpy(x))\n",
    "\n",
    "# Tokenizer 생성 및 학습\n",
    "tokenizer = Tokenizer(num_words=16000, oov_token=\"<OOV>\")\n",
    "tokenizer.fit_on_texts(X_train_tokens)\n",
    "\n",
    "# 정수 시퀀스 변환\n",
    "X_train_sequences = tokenizer.texts_to_sequences(X_train_tokens)\n",
    "X_val_sequences = tokenizer.texts_to_sequences(X_val_tokens)\n",
    "\n",
    "# 패딩\n",
    "X_train_Okt = pad_sequences(X_train_sequences, maxlen=150, padding='post')\n",
    "X_val_Okt = pad_sequences(X_val_sequences, maxlen=150, padding='post')\n",
    "\n",
    "# 레이블\n",
    "y_train_Okt = train_data['label'].values\n",
    "y_val_Okt = val_data['label'].values"
   ]
  },
  {
   "cell_type": "code",
   "execution_count": null,
   "id": "1c86d6e3",
   "metadata": {},
   "outputs": [],
   "source": [
    "# 초기화를 위해 다시 선언 \n",
    "model = Sequential([\n",
    "    Embedding(input_dim=16000, output_dim=128, input_length=150),  # 임베딩 레이어\n",
    "    Bidirectional(LSTM(128, return_sequences=True, activation='tanh', dropout=0.2)), # 한 층 후 \n",
    "    Dense(1, activation='sigmoid')  # 바로 이진 분류 출력\n",
    "])\n",
    "\n",
    "model.summary()"
   ]
  },
  {
   "cell_type": "code",
   "execution_count": null,
   "id": "dd36b20e",
   "metadata": {},
   "outputs": [],
   "source": [
    "# 모델 컴파일\n",
    "model.compile(optimizer='adam', loss='binary_crossentropy', metrics=['accuracy'])\n",
    "\n",
    "# 학습\n",
    "history = model.fit(\n",
    "    X_train_Okt, \n",
    "    y_train_Okt, \n",
    "    epochs=8,  # 학습 반복 횟수\n",
    "    batch_size=128,  # 배치 크기\n",
    "    validation_data=(X_val, y_val), \n",
    "    callbacks=[checkpoint],  # 콜백 추가\n",
    "    verbose=1  \n",
    ")\n",
    "\n",
    "loss, accuracy = model.evaluate(X_val_Okt, y_val_Okt, verbose=1)\n",
    "print(f\"Validation Loss: {loss:.4f}, Validation Accuracy: {accuracy:.4f}\")"
   ]
  },
  {
   "cell_type": "code",
   "execution_count": null,
   "id": "675e36e8",
   "metadata": {},
   "outputs": [],
   "source": [
    "# Acc\n",
    "plt.plot(history.history['accuracy'], label='Training Accuracy')\n",
    "plt.plot(history.history['val_accuracy'], label='Validation Accuracy')\n",
    "plt.title('Okt Model Accuracy')\n",
    "plt.xlabel('Epochs')\n",
    "plt.ylabel('Accuracy')\n",
    "plt.legend()\n",
    "plt.show()\n",
    "\n",
    "# Loss \n",
    "plt.plot(history.history['loss'], label='Training Loss')\n",
    "plt.plot(history.history['val_loss'], label='Validation Loss')\n",
    "plt.title('Okt Model Loss')\n",
    "plt.xlabel('Epochs')\n",
    "plt.ylabel('Loss')\n",
    "plt.legend()\n",
    "plt.show()"
   ]
  },
  {
   "cell_type": "code",
   "execution_count": null,
   "id": "0766456a",
   "metadata": {},
   "outputs": [],
   "source": [
    "loss, accuracy = model.evaluate(X_test, y_test, verbose=1)\n",
    "print(f\"Test Loss: {loss:.4f}, Test Accuracy: {accuracy:.4f}\")"
   ]
  },
  {
   "cell_type": "markdown",
   "id": "d3582931",
   "metadata": {},
   "source": [
    "### Okt랑 SentencePiece 보캡 사이즈 32000 정도만 더 시도해보고\n",
    "### 모델 층 더 쌓아서 뭐가 더 최적화가 잘되는지도 시도해보고\n",
    "### 전처리 방식을 바꿔서 어떻게 변하는지도 시도해보고"
   ]
  }
 ],
 "metadata": {
  "kernelspec": {
   "display_name": "Python 3 (ipykernel)",
   "language": "python",
   "name": "python3"
  },
  "language_info": {
   "codemirror_mode": {
    "name": "ipython",
    "version": 3
   },
   "file_extension": ".py",
   "mimetype": "text/x-python",
   "name": "python",
   "nbconvert_exporter": "python",
   "pygments_lexer": "ipython3",
   "version": "3.9.7"
  }
 },
 "nbformat": 4,
 "nbformat_minor": 5
}
