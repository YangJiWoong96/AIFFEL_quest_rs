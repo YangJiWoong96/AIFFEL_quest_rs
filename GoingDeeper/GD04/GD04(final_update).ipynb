{
 "cells": [
  {
   "cell_type": "code",
   "execution_count": 1,
   "id": "2e0d1996",
   "metadata": {},
   "outputs": [
    {
     "name": "stdout",
     "output_type": "stream",
     "text": [
      "2.6.0\n"
     ]
    },
    {
     "data": {
      "text/plain": [
       "'/usr/share/fonts/truetype/nanum/NanumBarunGothic.ttf'"
      ]
     },
     "execution_count": 1,
     "metadata": {},
     "output_type": "execute_result"
    }
   ],
   "source": [
    "import os\n",
    "import tarfile\n",
    "import matplotlib as mpl\n",
    "import matplotlib.pyplot as plt\n",
    "import tensorflow as tf\n",
    "import numpy as np\n",
    "from sklearn.model_selection import train_test_split\n",
    "import matplotlib.ticker as ticker\n",
    "import time\n",
    "import re\n",
    "import io\n",
    "from tqdm import tqdm    # tqdm\n",
    "import random\n",
    "\n",
    "\n",
    "\n",
    "\n",
    "print(tf.__version__)\n",
    "\n",
    "%config InlineBackend.figure_format = 'retina'\n",
    "\n",
    "import matplotlib.font_manager as fm\n",
    "fontpath = '/usr/share/fonts/truetype/nanum/NanumBarunGothic.ttf'\n",
    "font = fm.FontProperties(fname=fontpath, size=9)\n",
    "plt.rc('font', family='NanumBarunGothic')\n",
    "mpl.font_manager.findfont(font)\n",
    "# '/usr/share/fonts/truetype/nanum/NanumBarunGothic.ttf'"
   ]
  },
  {
   "cell_type": "code",
   "execution_count": 2,
   "id": "a624db8f",
   "metadata": {},
   "outputs": [
    {
     "data": {
      "text/plain": [
       "'/aiffel/aiffel/s2s_translation'"
      ]
     },
     "execution_count": 2,
     "metadata": {},
     "output_type": "execute_result"
    }
   ],
   "source": [
    "os.getcwd()"
   ]
  },
  {
   "cell_type": "code",
   "execution_count": 3,
   "id": "cc5b6501",
   "metadata": {},
   "outputs": [
    {
     "name": "stdout",
     "output_type": "stream",
     "text": [
      "압축 해제 : korean-english-park.train.tar.gz\n"
     ]
    }
   ],
   "source": [
    "# train\n",
    "data_path = \"/aiffel/aiffel/s2s_translation/data\"\n",
    "file_name = \"korean-english-park.train.tar.gz\"\n",
    "file_path = os.path.join(data_path, file_name)\n",
    "\n",
    "if tarfile.is_tarfile(file_path):\n",
    "    with tarfile.open(file_path, \"r:gz\") as tar:\n",
    "        tar.extractall(path=data_path)\n",
    "        print(f\"압축 해제 : {file_name}\")\n",
    "else:\n",
    "    print(f\"'{file_name}'압축 해제 실패\")"
   ]
  },
  {
   "cell_type": "code",
   "execution_count": 4,
   "id": "d04b2d0d",
   "metadata": {},
   "outputs": [
    {
     "name": "stdout",
     "output_type": "stream",
     "text": [
      "압축 해제 : korean-english-park.test.tar.gz\n"
     ]
    }
   ],
   "source": [
    "# test\n",
    "data_path = \"/aiffel/aiffel/s2s_translation/data\"\n",
    "file_name = \"korean-english-park.test.tar.gz\"\n",
    "file_path = os.path.join(data_path, file_name)\n",
    "\n",
    "if tarfile.is_tarfile(file_path):\n",
    "    with tarfile.open(file_path, \"r:gz\") as tar:\n",
    "        tar.extractall(path=data_path)\n",
    "        print(f\"압축 해제 : {file_name}\")\n",
    "else:\n",
    "    print(f\"'{file_name}'압축 해제 실패\")"
   ]
  },
  {
   "cell_type": "code",
   "execution_count": 5,
   "id": "0881be3b",
   "metadata": {},
   "outputs": [],
   "source": [
    "# korean-english-park.test.en\n",
    "# korean-english-park.test.ko\n",
    "# korean-english-park.train.en\n",
    "# korean-english-park.train.ko\n",
    "train_ko_path = os.path.join(data_path, \"korean-english-park.train.ko\")\n",
    "train_en_path = os.path.join(data_path, \"korean-english-park.train.en\")\n",
    "test_ko_path = os.path.join(data_path, \"korean-english-park.test.ko\")\n",
    "test_en_path = os.path.join(data_path, \"korean-english-park.test.en\")\n",
    "\n",
    "def load_file(file_path):\n",
    "    with open(file_path, 'r', encoding='utf-8') as f:\n",
    "        data = f.readlines()\n",
    "    return data\n",
    "\n",
    "train_ko = load_file(train_ko_path)\n",
    "train_en = load_file(train_en_path)\n",
    "test_ko = load_file(test_ko_path)\n",
    "test_en = load_file(test_en_path)"
   ]
  },
  {
   "cell_type": "code",
   "execution_count": 6,
   "id": "b7193e60",
   "metadata": {},
   "outputs": [
    {
     "name": "stdout",
     "output_type": "stream",
     "text": [
      "train_ko length : 94123\n",
      "train_en length: 94123\n",
      "test_ko length: 2000\n",
      "test_en length: 2000\n"
     ]
    }
   ],
   "source": [
    "print(\"train_ko length :\", len(train_ko))\n",
    "print(\"train_en length:\", len(train_en))\n",
    "print(\"test_ko length:\", len(test_ko))\n",
    "print(\"test_en length:\", len(test_en))"
   ]
  },
  {
   "cell_type": "code",
   "execution_count": 7,
   "id": "e37c13c4",
   "metadata": {},
   "outputs": [
    {
     "data": {
      "text/plain": [
       "0.02080667478126983"
      ]
     },
     "execution_count": 7,
     "metadata": {},
     "output_type": "execute_result"
    }
   ],
   "source": [
    "2000/(94123+2000)"
   ]
  },
  {
   "cell_type": "code",
   "execution_count": 8,
   "id": "9a9bbc0c",
   "metadata": {},
   "outputs": [
    {
     "name": "stdout",
     "output_type": "stream",
     "text": [
      "train_ko length: 78968\n",
      "train_en length: 78968\n"
     ]
    }
   ],
   "source": [
    "# 병렬쌍이 흐트러지지 않게 묶어버리기 \n",
    "train_pairs = list(zip(train_ko, train_en))\n",
    "\n",
    "# 병렬쌍 (한영 전부 같은 것들) 중복 제거\n",
    "train_pairs = list(set(train_pairs))\n",
    "\n",
    "# 다시 분리\n",
    "train_ko, train_en = zip(*train_pairs)\n",
    "\n",
    "# 리스트화 \n",
    "train_ko = list(train_ko)\n",
    "train_en = list(train_en)\n",
    "\n",
    "print(f\"train_ko length: {len(train_ko)}\")\n",
    "print(f\"train_en length: {len(train_en)}\")"
   ]
  },
  {
   "cell_type": "code",
   "execution_count": 9,
   "id": "a97c3ea5",
   "metadata": {},
   "outputs": [
    {
     "name": "stdout",
     "output_type": "stream",
     "text": [
      "train_ko length: 1996\n",
      "train_en length: 1996\n"
     ]
    }
   ],
   "source": [
    "test_pairs = list(zip(test_ko, test_en))\n",
    "\n",
    "test_pairs = list(set(test_pairs))\n",
    "\n",
    "test_ko, test_en = zip(*test_pairs)\n",
    "\n",
    "test_ko = list(test_ko)\n",
    "test_en = list(test_en)\n",
    "\n",
    "print(f\"train_ko length: {len(test_ko)}\")\n",
    "print(f\"train_en length: {len(test_en)}\")"
   ]
  },
  {
   "cell_type": "markdown",
   "id": "a3136151",
   "metadata": {},
   "source": [
    "### 전처리"
   ]
  },
  {
   "cell_type": "code",
   "execution_count": 10,
   "id": "83d688e4",
   "metadata": {},
   "outputs": [
    {
     "name": "stdout",
     "output_type": "stream",
     "text": [
      "Requirement already satisfied: langdetect in /opt/conda/lib/python3.9/site-packages (1.0.9)\n",
      "Requirement already satisfied: six in /opt/conda/lib/python3.9/site-packages (from langdetect) (1.16.0)\n",
      "\u001b[33mWARNING: Running pip as the 'root' user can result in broken permissions and conflicting behaviour with the system package manager. It is recommended to use a virtual environment instead: https://pip.pypa.io/warnings/venv\u001b[0m\n",
      "Note: you may need to restart the kernel to use updated packages.\n"
     ]
    }
   ],
   "source": [
    "pip install langdetect"
   ]
  },
  {
   "cell_type": "markdown",
   "id": "34af8a80",
   "metadata": {},
   "source": [
    "* 한->영 번역기를 만들어야하는데 한국어 데이터셋에 \n",
    "* 'Possibility of summit talks to consider 남북한 정상회담 시기 적절치 않아\\xa0 \\xa0 \\xa02007.05\\n'와 같은 영어문장이 있으면??\n",
    "### 언어 필터링 라이브러리 사용"
   ]
  },
  {
   "cell_type": "code",
   "execution_count": 11,
   "id": "80e9e50c",
   "metadata": {},
   "outputs": [
    {
     "name": "stdout",
     "output_type": "stream",
     "text": [
      "한국어가 아닌 문장 수: 3449\n"
     ]
    }
   ],
   "source": [
    "from langdetect import detect\n",
    "\n",
    "# 언어 구별 함수 \n",
    "def is_not_korean(text):\n",
    "    try:\n",
    "        return detect(text) != 'ko'\n",
    "    except:\n",
    "        # 언어 감지 실패 시 not kor로 \n",
    "        return True\n",
    "\n",
    "# 한국어가 아닌 문장만 \n",
    "non_korean_sentences = [sentence for sentence in train_ko if is_not_korean(sentence)]\n",
    "\n",
    "# 개수\n",
    "print(f\"한국어가 아닌 문장 수: {len(non_korean_sentences)}\")"
   ]
  },
  {
   "cell_type": "code",
   "execution_count": 12,
   "id": "0e8c64ed",
   "metadata": {},
   "outputs": [
    {
     "data": {
      "text/plain": [
       "['1998년 그는 다우존스 뉴스와이어(Dow Jones Newswires)사장으로 지명됐다.\\n',\n",
       " 'curtail a speech,, one’s holiday (연설, 휴가를 줄이다)\\n',\n",
       " '##http://article.joins.com/article/cnn_e/article.asp?cat_code=22&Total_ID=3108483 1.\\n',\n",
       " 'White House website changed as Obama becomes new president 오바마가 새 대통령이 됨에따라 백악관 홈페이지 개편\\xa0 \\xa0 \\xa02009.01\\n',\n",
       " 'Israeli to widen ground offensive이스라엘, 지상군 공격 확대키로2006.09\\n',\n",
       " 'resign 사퇴하다\\n',\n",
       " 'domestic 가정의, 기정적인, 국내의, 하인\\n',\n",
       " 'toxic 유독성, 중독성\\n',\n",
       " 'save의 주체는 a Japanese business이고,\\xa0목적어 it는 Locky Company를 받는다.\\n',\n",
       " 'Capitol Hill 미 국회의사당\\n',\n",
       " 'Australia wants Iraq troops home by mid 2008 호주, 이라크 파병 호주군 2008년까지 철군 희망\\xa0 \\xa0 \\xa0200806.11\\n',\n",
       " '온라인 최종 교섭에서 거짓을 찾아내기 (Being Honest Online:\\n',\n",
       " 'Korean scientists conducted secret nuclear fuel experiments.한국 과학자들, 비밀리에 핵 연료 실험2005.08\\n',\n",
       " 'Maginot Line 마지노선, 저지선\\n',\n",
       " 'President Roh slams Japan for its ‘pre-emptive strikes’ remark노대통령, 일본의 ‘대북선제공격론’ 비난2006.09\\n',\n",
       " 'Park Geun-hye quits party leadership post박근혜 한나라당 대표직 물러나2006.06\\n',\n",
       " 'it는 the national ban on the sale of collision damage\\xa0insurance를 받는다. are not 다음에는 for it이 생략되었다.\\n',\n",
       " 'Korea’s Growth at Bottom in Asia 한국의 성장세, 아시아 최저\\xa0 \\xa0 \\xa02007.08\\n',\n",
       " 'wave off 날려 버리다\\n',\n",
       " 'British report of the North Korean blastings of hydro-power stations 북한 수력 발전소 폭발에 대한 영국 보고서\\xa0 \\xa0 \\xa02005.08\\n',\n",
       " '* 디포베이(Depoe Bay), 오리건주\\n',\n",
       " 'Korean-Amereican held for ‘spying’ 한국계 미국인 ‘간첩’혐의로 징역\\xa0 \\xa0 \\xa02007.06\\n',\n",
       " '아이파이 4기가 기념 버전 SD카드(Eye-Fi 4GB Anniversary Edition SD Card)\\n',\n",
       " 'BANGKOK, Thailand (CNN) / 이수지 (JOINS)\\n',\n",
       " 'MADRID, Spain (CNN) ##http://article.joins.com/article/cnn_e/article.asp?cat_code=22&Total_ID=2811918\\n',\n",
       " 'Kia Motors Corp., will build the 1st U.S. automobile manufacturing plant현대기아 자동차, 미국에 최초의 자동차 생산 공장 설립키로 해2006.05\\n',\n",
       " 'North Korea has test-fires missiles북한, 미사일 시험 발사2006.08\\n',\n",
       " 'legitimate 합법적인, 적법의\\n',\n",
       " 'BEIJING, China (CNN) / 이수지(JOINS) 원문기사 원문기사보기\\n',\n",
       " '(CNN)/ (JOINS) ##http://article.joins.com/article/cnn_e/article.asp?cat_code=22&Total_ID=2994068\\n',\n",
       " 'House Speaker 하윈의장\\n',\n",
       " 'Iran (CNN) / 박주영 (JOINS)\\n',\n",
       " 'People Name Newborns after Obama and His Daughters 아기 이름으로 오바마와 그의 딸들 이름 붙이기 열풍\\xa0 \\xa0 \\xa02008.11\\n',\n",
       " 'State of the Union address 연두교서\\n',\n",
       " 'Man Coughs Up Nail After MRI MRI 찍은 후 못을 뱉은 남자\\xa0 \\xa0 \\xa02009.05\\n',\n",
       " 'Encouraging sign for labor market recovery노동시장 회복에 대한 고무적인 조짐2009.06\\n',\n",
       " 'ATLANTA, Georgia (CNN) / 이수지(JOINS)\\n',\n",
       " 'correspondent (신문 방송등의)특파원,통신기자\\n',\n",
       " 'wide-ranging news conference 대규모 기자 회견\\n',\n",
       " 'BELFAST, Northern Ireland (CNN) / 이수지 (JOINS)\\n',\n",
       " 'S. Korea’s decision could change depending on talks 6자 회담이 대북 한국 정부 태도 바꿀 수도 있어\\xa0 \\xa0 \\xa02007.01\\n',\n",
       " '현재 미 연방운송보안청(Transportation Security Administration, TSA)이 이 사건을 조사 중이다.\\n',\n",
       " 'SEATTLE (CNN) ##http://article.joins.com/article/cnn_e/article.asp?cat_code=22&Total_ID=2785972\\n',\n",
       " \"A day for 'Calling in gay' 동성애자 없는 날\\xa0 \\xa0 \\xa02008.12\\n\",\n",
       " '서던에어리어 인터에이전시 매니지먼트 블루팀(Southern Area InterAgency Management Blue Team)은 16일부터 시작된 이번 산불이 멸종위기 동물을 위협하고 있으며 재산피해의 우려가 있다고 밝혔다.\\n',\n",
       " 'employment 일자리, 고용\\n',\n",
       " 'precondition 전제조건\\n',\n",
       " 'Newsweek 한글판\\n',\n",
       " 'Beijing pressed the World Bank to remove pollution research ˝중국, 공해 관련 보고서 삭제하도록 세계 은행에 압력˝\\xa0 \\xa0 \\xa02007.09\\n',\n",
       " '저는 AP 라디오 뉴스의 다이앤 케플리였습니다. take the stand 증언하다(syn.\\n',\n",
       " 'Ex-Boeing engineer charged with the leak of secret defense information to China 전 보잉 직원, 중국에 비밀 정보 유출한 혐의로 체포\\xa0 \\xa0 \\xa0200806.09\\n',\n",
       " 'Korean Government protested strongly about Japan’s claims to the Dokdo islets.우리 정부, 일본의 독도 영유권 발언에 강력히 항의\\n',\n",
       " 'U.S. ambassador joins Korean diplomats’ band주한 미대사, 외교부 밴드에 영입2006.07\\n',\n",
       " 'Lee Urges N. Korea to Change for Dialogue 이명박, 북한에 대화를 위한 변화 촉구\\xa0 \\xa0 \\xa0200809.13\\n',\n",
       " 'double in size 크기가 두 배가 되다\\n',\n",
       " 'Arabian Peninsula 아라비아 반도\\n',\n",
       " 'BAGHDAD, Iraq (CNN) ##http://article.joins.com/article/cnn_e/article.asp?cat_code=22&Total_ID=2812508\\n',\n",
       " 'abusive 무분별한, 남용\\n',\n",
       " 'USFKs Troop Transfer to Iraq주한 미군 이라크로 배치2005.08\\n',\n",
       " 'Rude rockers get suspended sentences for raunchy stunt.성기노출 인디밴드, 집행유예 석방\\n',\n",
       " 'A new doctrine for defining relations with Japan is about to be issued by Korean government.정부, 신 대일 독트린 발표 예정\\n',\n",
       " 'Grand National Party opposites Roh’s nominations한나라당, 노 대통령 장관 지명자에 강하게 반대2007.01 원문 & 독해설명 인쇄\\n',\n",
       " 'John McCain becomes a baby after the Election 대선 이후 아기처럼 지내는 존 매케인\\xa0 \\xa0 \\xa02008.11\\n',\n",
       " \"The lower house of France's parliament has approved plans to extend special powers.프랑스 하원, 국가 비상사태 연장2005.12\\n\",\n",
       " 'Japan bans a North Korean ferry from entering for six months일본, 북한 선박 6개월간 입항 금지2006.08\\n',\n",
       " 'Six-party talks will resume soon.6자 회담 곧 재개2005.10\\n',\n",
       " '11일(현지시간) 미국 지구물리학 연합회(American Geophysical Union, AGU) 총회에서 이같은 데이터 조사 결과가 발표됐다.\\n',\n",
       " 'outer continental shelf 외변 대륙붕, 내대륙붕(inner shelf)에 대비되는 용어로서, 현재의 대륙붕(co\\n',\n",
       " 'ash plume 재 기둥\\n',\n",
       " \"S. Korea's ranking rises in global competitiveness.우리나라 국가 경쟁력 급상승\\n\",\n",
       " 'NEW DELHI, India (CNN) / 이수지(JOINS) 원문기사\\n',\n",
       " '캐나다 식품안전검사청(Canadian Food Inspection Agency; CFIA)은 23일(현지시간) 최근 소해면상뇌증(bovine spongiform encephalopathy BSE) 즉 광우병은 확산되는 질환이 아니라고 말했다.\\n',\n",
       " 'accountable 책임이 있는, 의무가 있는\\n',\n",
       " 'single-family building 단독주택\\n',\n",
       " 'Raising Baby Green, The Earth-Friendly Guide to Pregnancy, Childbirth, and Baby Care)’에서 부모에게 장난감에 사용되는 자재에 대해 시간을 들여 충분히 조사하라고 권했다.\\n',\n",
       " 'potential 유망한 후보자\\n',\n",
       " 'Rolling Stone Ditches Extra Large Format 전통적인 책 사이즈를 포기한 음악 잡지\\xa0 \\xa0 \\xa02008.10\\n',\n",
       " 'US dollar fell to all-time low against the euro유로 대비 달러 가치 역대 최저 수준으로 폭락2007.12\\n',\n",
       " 'Wildfire threatens homes in Santa Barbara, Southern California캘리포니아 주 산타 바바라 산불 확산2009.06 원문 & 독해설명 인쇄\\n',\n",
       " 'suppression 억압, 진압; 활동 금지\\n',\n",
       " 'militant 과격분자, 투사\\n',\n",
       " 'investigation 조서, 조사 보고, 연구 논문\\n',\n",
       " 'The US Marine Corps kill an Iraqi civilian 미 해병대, 고의로 이라크 주민 살해\\xa0 \\xa0 \\xa02006.08\\n',\n",
       " 'joins.com CNN한글뉴스\\n',\n",
       " '뉴델리 소재 인도국제경제관계연구소 (Indian Council for Research on International Economic Relations)는 “조속한 개선책이 마련되지 않을 경우 다음 10년 동안 2000억달러 이상 엄청난 손해가 예상된다”고 밝혔다.\\n',\n",
       " 'Won-dollar rate highest in 10 years 원 달러 환율 지난 10년간 최고 수준으로 마감\\xa0 \\xa0 \\xa02008.01\\n',\n",
       " 'Massachusetts 州 Boston 대학교의 연구원들은 또 다른 연구에 관해 보고했다.\\n',\n",
       " 'Former President Choi Kyu-hah dies최규하 전 대통령 서거2006.12\\n',\n",
       " 'Philippine strengthened security waiting for the verdict in the trial of former president˝필리핀 전 대통령, 부패 혐의 평결 앞두고 보안 강화˝2007.12\\n',\n",
       " 'acting 대리의, 직무 대행의\\n',\n",
       " 'The Curious Case of Benjamin Button)’을 촬영하기 1년 전 그의 아버지가 돌아가셨다.\\n',\n",
       " 'runway 활주로, 수로\\n',\n",
       " 'NK agreed to terminate the nuclear reactor within 3 weeks˝북한, 3주 내 원자로 폐쇄 합의˝2007.09\\n',\n",
       " \"get one's ducks (all) in a row 만반의 준비를 갖추다 Attorney General 법무장관\\n\",\n",
       " 'U.S. denied the Washington Post’s article about nuclear exports by N.K.미, 북 핵물질 수출 보도에 대한 워싱턴포스트지 내용 반박\\n',\n",
       " \"Taiwan's President gives up some of his powers대만 총통, 권력 이양2006.07 원문 & 독해설명 인쇄\\n\",\n",
       " 'YANGON, Myanmar (CNN) / 이수지(JOINS)\\n',\n",
       " 'confirm 확인, 확증\\n',\n",
       " 'SHANGHAI, China (CNN)/박신원(JOINS)\\n',\n",
       " 'consider 간주하다, 여기다\\n',\n",
       " 'joins.com CNN한글뉴스\\n',\n",
       " 'hit the skids 내리막이 되다, 파멸하다\\n',\n",
       " '미국 과학잡지 ‘국립과학아카데미회보(Proceedings of the National Academy of Sciences)’는 페루 티티카카 호수 근처에서 금 목걸이가 발견됐다고 발표했다.\\n',\n",
       " 'employer 고용주\\n',\n",
       " 'KATHMANDU, Nepal (CNN) / 이수지(JOINS)\\n',\n",
       " 'North Korea confirms Kim’s visit to China북한, 김정일 위원장의 중방 확인 2006.03\\n',\n",
       " 'Asiana to begin flights to Paris in March 2008 아시아나 항공, 2008년 3월부터 서울-파리 노선 운항 시작\\xa0 \\xa0 \\xa02007.04\\n',\n",
       " 'transcript 방송(대본), 사본\\n',\n",
       " 'contestant 경쟁자, 경기자\\n',\n",
       " 'Opposition parties strongly insist on the investigation in relation to government 야당들, 줄기세포 스캔들 관련해 국정조사 요구\\xa0 \\xa0 \\xa02006.02\\n',\n",
       " '이번 조사 결과는 21일(현지시간) 산부인과학회지(Journal of Obstetrics and Gynecology)에 발표됐다.\\n',\n",
       " 'WFP feeding two-million people in N. Korea suffering from flooding˝세계 식량 계획, 북한 수해 피해자 200만명에 식량 제공˝2007.11\\n',\n",
       " 'UK House of Commons suggest the quadrupled aid is needed for Burmese refugees ˝영국 하원, 버마 난민에 4배 규모의 원조금 지급해야 한다고 주장˝\\xa0 \\xa0 \\xa02007.10\\n',\n",
       " 'NEW YORK (CNN) / 이수지 (JOINS)\\n',\n",
       " 'Lee Appeals for Change for ´Great Korea´ 이 대통령 ‘위대한 한국’으로의 변화 촉구\\xa0 \\xa0 \\xa0200809.03\\n',\n",
       " 'Central bank urges reforms for smaller companies한국은행, 중소기업 혁신 촉구해2006.02\\n',\n",
       " 'Video shows missing US soldiers’ ID cards 실종 미군 신분증이 찍힌 비디오 공개\\xa0 \\xa0 \\xa02007.08\\n',\n",
       " 'joins.com CNN한글뉴스\\n',\n",
       " 'Florida governor announces run for Senate플로리다 주지사, 상원의원 출마2009.06\\n',\n",
       " 'Civilians were killed by men dressed as Iraqi police officers.이라크 경관 복장을 한 남자들에 의해 민간인 살해되다.2005.08\\n',\n",
       " 'Senate Majority Leader 상원 원내대표\\n',\n",
       " 'correspondent 특파원.\\n',\n",
       " 'Kamen의 작업은 New Hampshire 州 Manchester의 DEKA 연구 및 개발이라는 실험실에서 이루어진 것이다.\\n',\n",
       " 'joins.com CNN한글뉴스\\n',\n",
       " 'The Presidential Commission on Suspicions in the Military begins the truth 군 의문사 진상규명위원회, 사건 조사 시작해\\xa0 \\xa0 \\xa02006.05\\n',\n",
       " 'joins.com CNN한글뉴스\\n',\n",
       " 'sell the customer a collision damage insurance에서\\xa0the customer는 간접목적어, a collision damage insurance는\\xa0직접목적어이다.\\n',\n",
       " 'righteous 정의의, 공정한, 바른\\n',\n",
       " 'Gujarat riot, the tragedy of Hindus-Muslims conflict 구자라뜨 폭동, 힌두-무슬림 갈등이 비극 초래해\\xa0 \\xa0 \\xa02006.02\\n',\n",
       " 'sort out 진정하다, 이해하다 Eastern (Standard) time 동부 표준시\\n',\n",
       " 'Two Koreas agree to resume bilateral talks남북회담 재개키로2007.05 원문 & 독해설명 인쇄\\n',\n",
       " 'World Health Organization 세계보건기구(=WHO)\\n',\n",
       " \"Hugh Jackman Heartbroken over 'Wolverine' Leak and More 영화 엑스맨 유출에 상심한 휴 잭맨 외\\xa0 \\xa0 \\xa02009.05\\n\",\n",
       " 'joins.com CNN한글뉴스\\n',\n",
       " 'AP 라디오 뉴스입니다. senator 상원의원\\n',\n",
       " 'passenger 승객, 여객\\n',\n",
       " 'intelligent 이성적인, 지적인\\n',\n",
       " 'crucial 어려운, 혹독한\\n',\n",
       " 'M&As in Korea are uncertain due to political and legal issues ˝정치적, 법적 이유로 한국 내에서의 대규모 M&A는 위험하다˝\\xa0 \\xa0 \\xa02007.12\\n',\n",
       " 'USFK will elevate the legal drinking age from 20 to 21.주한미군 음주 연령 20세에서 21세로 상향 조정2005.08\\n',\n",
       " 'Talks with N.Korea are inevitable 노 대통령, 북한과의 대화 반드시 필요해\\xa0 \\xa0 \\xa02007.01\\n',\n",
       " 'Trident Hotel in Mumbai, India reopens 인도 뭄바이의 트라이던트 호텔 영업 재개\\xa0 \\xa0 \\xa02008.12\\n',\n",
       " 'Turkey’s Foreign Minister Abdullah Gul becomes the new president ˝터키 압둘라 굴 외무부 장관, 신임 대통령으로 취임˝\\xa0 \\xa0 \\xa02007.11\\n',\n",
       " 'President Roh Moo-hyun expressed concern over some Korean who is backing U.S. more than U. S. citizens.노무현 대통령, 미국인보다도 친미적인 한국인들이 걱정\\n',\n",
       " 'Malaysia police break up protest 말레이시아 경찰, 시위대 해산시켜\\xa0 \\xa0 \\xa02008.03\\n',\n",
       " 'Virginia failures ´must be fixed´ 버지니아의 실패는 반드시 고쳐져야\\xa0 \\xa0 \\xa02007.11\\n',\n",
       " 'Geithner in Financial Services Committee 금융서비스위원회에 참석한 가이트너 재무장관\\xa0 \\xa0 \\xa02009.06\\n',\n",
       " 'Prince Charles will not attend the wedding of his godson.찰스 왕세자, 대자 결혼식에 불참 예정2005.08 원문 & 독해설명 인쇄\\n',\n",
       " 'US ambassador believes Iraq’s stabilization 이라크 주재 미 대사, 치안 상황 안정 확신해\\xa0 \\xa0 \\xa02006.12\\n',\n",
       " 'Ban designated the next secretary-general of the UN반 장관, 차기 유엔 사무총장 선출2006.12\\n',\n",
       " 'Kim Young-nam, denies abduction 김영남씨, 납북 의혹 부인\\xa0 \\xa0 \\xa02006.08\\n',\n",
       " 'Three on culture minister’s hit list resign posts 문화부 장관 발언에 따른 3개 기관장 사임\\xa0 \\xa0 \\xa0200809.09\\n',\n",
       " 'Raul Castro named Cuban president라울 카스트로, 쿠바 대통령 선출2008.09\\n',\n",
       " 'Former world chess champion was taken into custody by Japanese authorities.전 세계 체스 챔피언 일본에서 구금당해2005.08\\n',\n",
       " '[[appearance]] 출현, 출두, 출연, 등장\\n',\n",
       " 'S. Korean may be able to travel to the United States without a visa 한국, 미국 비자 없이 미국 여행 가능할 지도\\xa0 \\xa0 \\xa02007.05\\n',\n",
       " \"Voting was brisk in Iraq's provincial election이라크 지방 선거에 유권자들 몰려2009.02\\n\",\n",
       " 'protester 항의자, 항변자\\n',\n",
       " 'contender 경쟁자, 경쟁 상대\\n',\n",
       " 'The bullet train, the G-7, have turned up serious flaws.고속 열차 G7, 심각한 결함2005.08\\n',\n",
       " 'We are building Iraq)’ 노래를 불렀다.\\n',\n",
       " 'TAIPEI, Taiwan (CNN) / 이수지(JOINS)\\n',\n",
       " 'Stem cell research in South Korea will go on against the declaration of UN, prohibiting human cloning.우리나라, UN의 복제 금지 선언에도 줄기 세포 연구 계속\\n',\n",
       " 'The world needs a quick and comprehensive action against terrorism.전 세계적으로 빠르고 포괄적인 대 태러 대응책 필요\\n',\n",
       " 'ditch 수로, 도랑, 궁지\\n',\n",
       " 'Newsweek 한글판\\n',\n",
       " 'From Primitive to Postcolonial in Melanesia and Anthropology)’에서 수집한 살해 사건 대부분이 마술사라는 의심을 받았다”고 말했다.\\n',\n",
       " 'Chinese army division prepares for a prolonged deployment along the Chinese-N.K. border.중국군, 중국과 북한 국경 따라 연장 배치 준비2005.08\\n',\n",
       " 'Musicians want radio stations to pay them royalties가수들, 라디오 방송국에서 로열티를 지불하는 것을 원해2009.06\\n',\n",
       " 'joins.com CNN한글뉴스\\n',\n",
       " 'LONDON, England (CNN) / 이수지(JOINS) 원문기사\\n',\n",
       " 'drug company trade group 미국의 제약업체들로 구성된 단체로 소비자의약품협회(CHPA)가 있다.\\n',\n",
       " 'China cancels Japan foreign minister’s visit.중국, 일 외상 방중 전격 취소2005.12\\n',\n",
       " 'the Commerce Department 상무부\\n',\n",
       " 'tyrannical 압제적인, 무도한\\n',\n",
       " 'ABC는 24일 ‘와이프아웃’(Wipeout), ‘일본 오락 프로그램에서 내가 생존한 방법’(\"I Survived a Japanese Game Show)를 편성해 내보냈다.\\n',\n",
       " 'cnn 한글뉴스\\n',\n",
       " 'US Denies Bush-Lee Meeting미국, 부시 대통령과 이명박 한나라당 대통령 후보간 회담설 부인2008.01\\n',\n",
       " 'SYDNEY, Australia (AP)/송완영 (JOINS)\\n',\n",
       " 'Chinese espionage comprise the single greatest risk to the US 중국 스파이 활동이 미국의 가장 큰 위협\\xa0 \\xa0 \\xa02008.03\\n',\n",
       " 'Obama names NYC health chief to head CDC뉴욕시 보건국장, CDC 소장 임명2009.06\\n',\n",
       " '국제 실종자 위원회(International Commission on Missing Persons, ICMP)의 인류학 조사팀 팀장인 캐츠마르지크는 “여기서 우리가 하는 일은 이들을 분류하는 것”이라고 밝혔다.\\n',\n",
       " 'Iraq reproaches Korea for the deal with Kurdish regional government이라크, 쿠르드 지역 개발 협정에 대해 한국 비난2008.06 원문 & 독해설명 인쇄\\n',\n",
       " '교란, 소동, 소란 [예] cause(make,\\n',\n",
       " 'North Korean patrol boats crossed the Northern Limit Line in the Yellow Sea.북방한계선을 침범한 북한 경비정2005.08\\n',\n",
       " 'Elite education for 5 percent of the total students from elementary to middle and high schools초중고교생 5%에 수월성 교육 실시2005.08\\n',\n",
       " 'Prime Minister Lee Hae-chen Launched his harshest tirade against the Chosun Ilbo and Dong-a Ilbo.이해찬 국무총리, 조선일보와 동아일보 신랄하게 비판2005.08\\n',\n",
       " 'Online shopping malls are not supposed to take advantages of customers’ ignorance of consumer protection law.온라인 쇼핑몰, 소비자보호법 잘 모르는 소비자들로부터 이익 얻으려는 행위는 부당\\n',\n",
       " \"runner-up 2위 경기자 I'm A Celebrity, Get Me Out of Here '난 연예인이야, 나가게 해줘!'\\n\",\n",
       " 'Loud laments were heard after the Constitution Court’s ruling became known.헌법재판소 판결 알려지자 한탄 일어2005.08\\n',\n",
       " 'Kathleen Stephens is the next U.S. ambassador to South Korea 차기 한국주재 미국 대사로 캐슬린 스티븐스 임명\\xa0 \\xa0 \\xa0200806.03\\n',\n",
       " '10% drop in 2008 traffic death2008년 교통사고 사망률 10% 감소2009.02\\n',\n",
       " 'Born on the Fourth of July)’에 출연해 영화계에서 신임을 얻고 있다. (CNN) / 이수지(JOINS)\\n',\n",
       " 'disarmament 무장 해제, 군비 축소, 군축\\n',\n",
       " 'Report on the two Koreas’ relation in 20052005년 남북한 관계 총결산2006.02 원문 & 독해설명 인쇄\\n',\n",
       " 'joins.com CNN한글뉴스\\n',\n",
       " 'GM will downsize to stay in business 기업의 존속을 위해 규모를 축소시키는 GM\\xa0 \\xa0 \\xa02008.12\\n',\n",
       " 'beluga whale 흰돌고래\\n',\n",
       " '(CNN)/ (JOINS) ##http://article.joins.com/article/cnn_e/article.asp?cat_code=22&Total_ID=3128454\\n',\n",
       " 'The UN and African Union condemned the Sudan’s government.UN과 아프리카연합, 수단 정부 강력히 비난\\n',\n",
       " 'A quick reaction on NK’s missiles firing 각국, 북한 미사일 시험 발사에 발빠른 대응 보여\\xa0 \\xa0 \\xa02006.08\\n',\n",
       " 'Attempts to get N.K.back to the six-party talks 북한을 6자회담에 복귀시키려는 노력\\xa0 \\xa0 \\xa0\\n',\n",
       " 'arson 방화\\n',\n",
       " 'meltdown 붕괴, 대폭락\\n',\n",
       " 'Government’s efforts to improve working conditions for temporary work force 임시직 고용자의 근로 환경 개선을 위한 정부의 노력\\xa0 \\xa0 \\xa02005.08\\n',\n",
       " '미국 라스베이거스에 위치한 몬테칼로 리조트 앤드 카지노(Monte Carlo Resort and Casino)에서 25일(현지시간) 화재가 발생했다.\\n',\n",
       " 'The two Koreas make substantial progress in 20052005년 한 해 남북관계 상당한 진전 보여\\xa0 \\xa0 \\xa02006.02\\n',\n",
       " 'U.S. celebrates as President Obama vows new era오바마 취임, 美역사의 새 장을 열다2009.01\\n',\n",
       " 'Afghans protested the release of Korean hostages ˝아프간인들, 한국인 인질 석방 촉구 시위˝\\xa0 \\xa0 \\xa02007.11\\n',\n",
       " '*프랑스 니스의 ‘더 윈저(The Windsor)’\\n',\n",
       " 'prostitution 매춘\\n',\n",
       " 'action suspected 원화 하락세에서 벗어나, 정부 개입 의심돼\\xa0 \\xa0 \\xa0200809.09\\n',\n",
       " 'Seoul, announcement of the sale of public housing 서울시, 새로운 주택 분양 대책을 발표\\xa0 \\xa0 \\xa02006.11\\n',\n",
       " 'FTA, helps Korea’s economy said Vershbow 버쉬바우 미대사, FTA 체결되면 한국 경제 도움될 것\\xa0 \\xa0 \\xa02006.04\\n',\n",
       " 'Uri Party have backed a proposal that revives the plan to move the national government out of Seoul.열린 우리당, 행정수도 건설 차기 계획안 준비2005.08 원문 & 독해설명 인쇄\\n',\n",
       " 'to survive to such 의 to survive와 to survive so\\xa0well의 to survive는 둘 다 this ability를 수식하는\\xa0형용사적 용법의 부정사이다.\\n',\n",
       " 'Suu Kyi ready to talk to generals 수지 여사, 군사 정권과의 회담 준비 완료\\xa0 \\xa0 \\xa02008.03\\n',\n",
       " 'conglomerate 재벌그룹\\n',\n",
       " 'Kim’s travel to China rises again 김정일 북한 국방위원장, 방중설\\xa0 \\xa0 \\xa02006.11\\n',\n",
       " '32GB, 34GB, 128GB SSD(solid-state flash drive)가 장착된 맥북의 가격은 약 1600달러(약 150만원)다.\\n',\n",
       " 'The Italian Foreign Ministry said it was investigating a claim by an Iraqi photographer.이탈리아 외무부, 이라크 사진 작가의 주장에 대해 조사2005.08\\n',\n",
       " 'Cost of travel and study abroad swelled out.관광·유학·연수 비용 증가 추세2005.08\\n',\n",
       " 'Foreign Minister Ban Ki-moon expressed a fundamental objection to Japan’s bid.반기문 외교통상부 장관, 일본 이사국 진출에 대해 반대 입장 표명2005.08\\n',\n",
       " 'Indonesian police arrested the leader of Jemaah Islamiah 인도네시아 경찰, 제마 이슬라미야 지도자 체포\\xa0 \\xa0 \\xa02007.08\\n',\n",
       " \"Illinois Legislature to start Blagojevich's impeachment 블라고예비치 주지사의 탄핵을 준비 중인 일리노이 주의회\\xa0 \\xa0 \\xa02008.12\\n\",\n",
       " 'Angel at the Fence)’의 발간을 즉시 취소했다.\\n',\n",
       " 'U.S. still supports Asisan nations against terrorism.미국, 아시아 국가에 변함없는 대테러 지원 약속2005.08\\n',\n",
       " 'victim 희생(자); 피해자\\n',\n",
       " 'US asks S. Korea to exercise over influence N. Korea 미국, 한국 정부에 대북 강경책 요구\\xa0 \\xa0 \\xa02006.12\\n',\n",
       " 'Iraq and Syria agrees to increase security along their border.이라크와 시리아, 접경지대 통제 강화에 합의2005.08\\n',\n",
       " 'joins.com CNN한글뉴스\\n',\n",
       " 'Pilots’ union and management of Asiana resumed the negotiations.아시아나 노사 협상 재개2005.09\\n',\n",
       " 'stand up for ~을 지지하다 laid off workers 실직 노동자들\\n',\n",
       " 'NEW YORK (CNN)/권성근(JOINS)\\n',\n",
       " 'commercial 상업의, 영리 목적의\\n',\n",
       " 'crucial 중대한, 결정적인\\n',\n",
       " 'PARIS, France (CNN)/정지나 기자(JOINS)\\n',\n",
       " 'joins.com CNN한글뉴스\\n',\n",
       " '영화 ‘사관과 신사’의 테마 음악‘Up Where We Belong’이나 영화 탑건의‘Take My Breath Away’은 팝 순위에 오르지 못했다.\\n',\n",
       " 'joins.com CNN한글뉴스\\n',\n",
       " 'Foreign carmakers revs up their domestic sales networks.외제차, 국내 판매 네트워크 형성에 박차\\n',\n",
       " 'ORLANDO, Florida (CNN)/김양희(JOINS)\\n',\n",
       " 'applicant 응모자, 신청자 randomly 닥치는 대로, 임의로 S Korea declares slick ´disaster´ 한국, 재난 선포\\xa0 \\xa0 \\xa0200806.14\\n',\n",
       " 'NASA는 성명에서 IBEX(Interstellar Boundary Explorer) 우주선이 20일 오후 태평양 섬 상공으로 발사됐다고 밝혔다.\\n',\n",
       " 'joins.com CNN한글뉴스\\n',\n",
       " 'tax refund 세금환급\\n',\n",
       " 'The growth forecast for the second half is predicted low.하반기 성장 예측률 낮을 전망2005.08\\n',\n",
       " 'Number of kids with food allergies on the rise음식 알레르기 앓는 어린이 환자 증가2008.10\\n',\n",
       " 'special correspondent 특파원\\n',\n",
       " 'bureau 지국, 사무국, 편집국\\n',\n",
       " '[[showcase]] 전시, 진열, 소개\\n',\n",
       " 'accusation 비난, 규탄\\n',\n",
       " 'Seoul rebuffs any attempmts by Japan to claim the Tokto.청와대, 일본의 독도 영유권 주장 용납 안 하기로\\n',\n",
       " 'Korea launches the 1th dual purpose satellite한국, 최초의 민군용 위성 발사2006.10\\n',\n",
       " '(CNN) / (JOINS) ##http://article.joins.com/article/cnn_e/article.asp?cat_code=22&Total_ID=3039184\\n',\n",
       " 'Lord of the Rings)’ 3부작의 간달프\\n',\n",
       " '(CNN)/ (JOINS) ##http://article.joins.com/article/cnn_e/article.asp?cat_code=22&Total_ID=3119271\\n',\n",
       " '[[American Revolution]] 미국 독립 전쟁\\n',\n",
       " 'SYDNEY, Australia (AP)/김양희(JOINS)\\n',\n",
       " '18 month military service planned군 복무기간 18개월로 단축 검토2007.03 원문 & 독해설명 인쇄\\n',\n",
       " 'IAEA monitors plan to visit Pyongyang next weekIAEA 사찰단, 다음 주 북한 방문 예정2007.09\\n',\n",
       " 'U.S. analyst argues South Korea´s election gives U.S. chance to rein in North Korea미 전문가, “북한의 고삐를 쥘 기회가 왔다”2008.06 원문 & 독해설명 인쇄\\n',\n",
       " 'Police targets Chung’s campaign, regarding the investigation into the identity thefts서울지방경찰, 신분 도용 혐의로 정동영 후보 선거운동본부 수사2008.01\\n',\n",
       " 'Korea acknowledged the production of antipersonnel mines 한국 정부, 대인 지뢰의 생산을 처음으로 인정\\xa0 \\xa0 \\xa02008.03\\n',\n",
       " '그의 최근 창작물인 ‘리사이틀 파빌리온(Recital Pavilion)’이 올해 로테르담에서 열린 국제서사시 축제(Poetry International Festival)에 전시됐다.\\n',\n",
       " 'Pope Benedict will make a pilgrimage to the Holy Land in May베네딕토 교황, 5월에 성지순례에 나설 예정2009.06\\n',\n",
       " 'Australia’s PM condemned his own party for condemning the opposition호주 수상, 야당 비난한 유인물 배포한 자유당원 비난2008.03\\n',\n",
       " 'WASHINGTON (CNN) ##http://article.joins.com/article/cnn_e/article.asp?cat_code=22&Total_ID=2801639\\n',\n",
       " 'Seoul’s transportation system is to be changed drastically starting 1 of June.서울시 교통 체계 7월 1일자로 대폭 개편2005.08\\n',\n",
       " 'Thousands flee Lebanon violence수 천명 난민들 레바논 폭력사태로 피난2007.08\\n',\n",
       " 'US embassy in Belgrade attacked 베오그라드의 미 대사관 공격 당해\\xa0 \\xa0 \\xa0200809.02\\n',\n",
       " '미 보건복지부 산하 질병통제와 예방센터(US Centers for Disease Control and Prevention)는 지난 4월 중순부터 증상을 호소한 145명이 동일한 유전 요소를 가진 살모넬라 균에 감염된 사실을 밝혀냈다.\\n',\n",
       " 'Information gap in online government information온라인 정부정보에 정보격차 존재2009.06\\n',\n",
       " 'name-dropping 유명인의 이름을 들먹이기 Supreme Court 대법원\\n',\n",
       " 'GUATEMALA CITY, Guatemala (CNN)/권성근(JOINS)\\n',\n",
       " 'The U.S. is not considering bilateral contact with North Korea.미국, 북한과 양자 협상 고려 안 해\\n',\n",
       " 'US Senate approved US congressional ethics bill˝미 상원, 국회 의원 윤리 규정 강화 법안을 승인˝2007.11\\n',\n",
       " 'credit crunches 신용 경색\\n',\n",
       " 'Burma setting up constitution drafting committee미얀마 제헌 위원회 구성2008.02\\n',\n",
       " 'Spring breakers are counting pennies at Miami Beach 마이애미 해변에서 봄방학을 즐기는 학생들 지출 최대한 줄여\\xa0 \\xa0 \\xa02009.06\\n',\n",
       " 'Korea’s hero visits his mother country어머니의 나라 방문한 하인즈 워드2006.05\\n',\n",
       " '20,000 new apartment units in Pangyo new town will be released at once.판교 신도시 2만 가구 일제 분양하기로\\n',\n",
       " 'Oh my goodness 어머나, 이런\\n',\n",
       " 'counterfeit 가짜의, 모조의, 허위의\\n',\n",
       " 'The sole surviving terrorist of the Mumbai attacks asks Pakistani officials for help 뭄바이 테러의 유일한 생존 테러리스트, 파키스탄 관리에게 도움 요청\\xa0 \\xa0 \\xa02008.12\\n',\n",
       " 'Nearly 100,000 Korean students studying in US미국 내 한국인 유학생 10만 명 육박2007.07 원문 & 독해설명 인쇄\\n',\n",
       " 'South Korea is not shifting its foreign currency reserves out of the dollar.정부, 외환 보유액 다변화 정책 시행 않는다.\\n',\n",
       " 'function pop_open(url){win = window.open(url,\\'movie\\',\"scrollbars=no,width=770,height=570,left=50,top=50\");}\\n',\n",
       " 'New home sales jumped 4.7% in February2월 신규 주택 판매량 4.7% 증가2009.06\\n',\n",
       " 'Foreigners cast ballots in May election 주한 외국인, 처음으로 올 5월 지방선거 참여해\\xa0 \\xa0 \\xa02006.05\\n',\n",
       " 'back down 후퇴, 철회\\n',\n",
       " 'ownership stake 지분의 소유권\\n',\n",
       " 'PARIS, France (CNN) ##http://article.joins.com/article/cnn_e/article.asp?cat_code=22&Total_ID=2809216\\n',\n",
       " 'remittance 송금(액), 송금 수단, 송금하다, 발행하다\\n',\n",
       " 'Rallies against the impeachment of President Roh is the largest of its kind since 1987.노대통령 탄핵 반대 시위, 1987년 이래 최대 규모2005.08\\n',\n",
       " 'under way 진행중에\\n',\n",
       " 'South Korea, US to solidify ‘a common and broad approach’ to resolving NK nuclear issue 한 미 양국, 북핵 사태 해결 위한 ‘공동의 포괄적인 접근 방안’ 논의\\xa0 \\xa0 \\xa02006.11\\n',\n",
       " 'Two Koreas Freight Railway Likely남북한 철도 연결 가능성 있어2008.03\\n',\n",
       " 'French rivals clash in TV debate佛 대선후보 TV토론회 공방전2007.06\\n',\n",
       " 'Supreme Court justice 대법관, 대법원 판사 pancreatic cancer 췌장암\\n',\n",
       " 'Report on the two Koreas’ relation in 20052005년 남북한 관계 총결산\\xa0 \\xa0 \\xa02006.02\\n',\n",
       " 'There’s no proof Iran officially sanctioned 9/11.이란이 9.11 테러 공식 승인한 증거 없어2005.08\\n',\n",
       " 'Circumstantial 정황적인, 상황에 의한\\n',\n",
       " 'swindler 사기꾼, 협잡꾼 plead guilty 유죄를 인정하다\\n',\n",
       " 'The government plans to close press rooms정부, 기자실 통폐합 방침2007.08 원문 & 독해설명 인쇄\\n',\n",
       " 'Prospect of fielding a joint North and South Korean soccer team for the 2006 World Cup in Germany will be discussed.2006 독일 월드컵 남북한 동반 출전 가능성 논의 예정2005.08\\n',\n",
       " 'viable 생존 가능한\\n',\n",
       " '장난감나라에 테러 장면(원제: Scenes of Terror in Toyland)’이라는 책을 발간했다.\\n',\n",
       " 'McCain Returns to New Hampshire 뉴 햄프셔에서 역전의 발판을 노리는 매케인\\xa0 \\xa0 \\xa02008.11\\n',\n",
       " '데이비드 랭은 ‘리틀 매치 걸 패션(The Little Match Girl Passion)’으로 음악부분에서 수상했다.\\n',\n",
       " 'Russia, working on a new nuclear missile systems새로운 핵미사일을 개발중인 러시아2005.08\\n',\n",
       " 'Lawyer to Detail Financial Scam Involving Candidate Lee Myoung-bak 미국 변호사, 이명박 후보와 관련된 금융 사기 내역 공개 예정\\xa0 \\xa0 \\xa02008.03\\n',\n",
       " 'Government plans to establish a global consortium for cloning research.정부, 국제 공동연구그룹 조직 계획  원문 & 독해설명 인쇄\\n',\n",
       " 'Marines fired bombs on a mosque.미 해병, 회교 사원 포격2005.08\\n',\n",
       " 'US forces staged a river-crossing drill with troops from the South.한·미 연합 도하 훈련 실시2005.08 원문 & 독해설명 인쇄\\n',\n",
       " 'factory order 공장주문 durable goods 내구재\\n',\n",
       " 'Newsweek 한글판\\n',\n",
       " 'China will send delegations to the US after a spate of recalls˝중국, 리콜 사태에 미국에 특사 파견 예정˝2007.11\\n',\n",
       " 'North Korea defiant over ASEAN talk아세안, 북한 핵 문제 결실 못 봐2006.09\\n',\n",
       " 'Seoul intends to send a special envoy to the North before the end of the year.정부, 대북 특사 연내 추진2005.08\\n',\n",
       " 'The Presidential Commission on Suspicions in the Military begins the truth군 의문사 진상규명위원회, 사건 조사 시작해2006.05\\n',\n",
       " 'Rikers Island inmate ill with swine flu in NYC 뉴욕 라이커스 아일랜드서 플루 증세\\xa0 \\xa0 \\xa02009.06\\n',\n",
       " 'Lee Appeals for Change for ´Great Korea´ 이 대통령 ‘위대한 한국’으로의 변화 촉구\\xa0 \\xa0 \\xa0200809.03\\n',\n",
       " 'S.K. students’ problem solving skills came out top.한국 학생의 문제 해결 능력, 세계 상위2005.08\\n',\n",
       " \"make up one's mind 결정하다\\n\",\n",
       " 'Korea사전\\n',\n",
       " 'be faced by ~에 직면하다 appointee 임명된 사람\\n',\n",
       " 'Dispute over takeover of wartime control intensifies작통권 환수 논란 격화2006.10 원문 & 독해설명 인쇄\\n',\n",
       " 'Deep divisions between N. K and the US.미ㆍ북 이견 못 좁혀\\n',\n",
       " 'Bush didn’t mention Korea as a key ally.부시 대통령, 핵심 동맹국으로 한국 언급 안 해2005.08\\n',\n",
       " 'France to ban smoking in all public프랑스, 공공장소에서 흡연 금지2006.12\\n',\n",
       " 'U.S. plans to increase financial sanctions against NK미국, 대북 경제 제재 강화할지도2006.10 원문 & 독해설명 인쇄\\n',\n",
       " 'NEW YORK (CNN)/권성근(JOINS)\\n',\n",
       " '(연락처 800/367-2323 maunalani.com)\\n',\n",
       " 'Consumer prices fell 1% as gas prices hit lowest 유가의 최저수준 기록에따라 소비자물가 1% 감소\\xa0 \\xa0 \\xa02008.12\\n',\n",
       " 'House Speaker 미 하원의장\\n',\n",
       " '저서 ‘The Complete Directory to Prime Time Network and Cable Shows’의 공동 저자이자 몇 방송사에서 이사를 역임하고 있는 팀 브룩스는 어느 산업이든 마찬가지로 TV 방송도 고객들이 원하는 것에 맞추려는 시도를 해야 한다고 말했다.\\n',\n",
       " \"numb 곱은, 마비된, 무딘, 무기력한 Grand National Party's sweep of elections 한나라당 5.31 지방선거 압승\\xa0 \\xa0 \\xa02006.07\\n\",\n",
       " 'inaugural 취임의, 개회의\\n',\n",
       " 'The author of “the Rape of Nanking”,Iris Chang, commit suicide.난징의 강탈’ 작가 아이리스 창 자살2005.08\\n',\n",
       " '(CNN)/ (JOINS) ##http://article.joins.com/article/cnn_e/article.asp?cat_code=22&Total_ID=3090761\\n',\n",
       " 'cooperation 협동, 협력, 협조\\n',\n",
       " 'Philippines marines protest Gen Marinda’s removal 마린다 사령관 해임에 해병대 반발\\xa0 \\xa0 \\xa02006.04\\n',\n",
       " 'series of attacks 일련의 공격\\n',\n",
       " 'National Assembly rejects the revised bill on the national pension fund 국회, 국민연금 개정안 부결\\xa0 \\xa0 \\xa02007.07\\n',\n",
       " 'S Korean hostage pleads for help한국인 인질들 도움의 손길 요청2007.10\\n',\n",
       " 'MUMBAI, India (CNN) ##http://article.joins.com/article/cnn_e/article.asp?cat_code=22&Total_ID=2811914\\n',\n",
       " 'collusion 공모, 결탁\\n',\n",
       " 'SEOUL, South Korea (CNN)/권성근(JOINS)\\n',\n",
       " 'contaminant 오염물질, 오염균\\n',\n",
       " 'joins.com CNN한글뉴스\\n',\n",
       " 'snatch defeat from the jaws of victory 다 이긴 게임에서 패배하다, 다 된 밥에 재 뿌리다\\n',\n",
       " 'Investigation underway on abusing turkeys 칠면조 학대에 대한 수사 진행 중\\xa0 \\xa0 \\xa02008.12\\n',\n",
       " 'There will be no crisis on the peninsula on October.10월에는 한반도 위기 없을 것2005.08\\n',\n",
       " 'sprinkling 흩뿌리기, 소량, 드문드문\\n',\n",
       " 'U.S. nuclear envoy to meet senior N.K. officials during Pyongyang visit 미 북핵 대사 평양 방문 중 북한 고위 관리 만날 예정\\xa0 \\xa0 \\xa0200806.11\\n',\n",
       " \"Canada's Prime Minister, Paul Martin, is widely tipped to lose.캐나다 자유당 정부 생존위기2006.01\\n\",\n",
       " 'legitimate …을 합법으로 인정하다\\n',\n",
       " 'repeatedly 되풀이해서, 재삼 재사\\n',\n",
       " 'implication 함축, 내포, 연루, 밀접한 관계\\n',\n",
       " 'bilateral trade 상호 균형 무역, 쌍무 무역\\n',\n",
       " '유죄를 입증(선고)하다 [예] convict a person of forgery:\\n',\n",
       " 'Senate Agrees to Vote on Revised Bailout Plan Tonight 미 상원, 오늘 밤 개정된 구제금융안 처리 예정\\xa0 \\xa0 \\xa02008.10\\n',\n",
       " 'ergonomic 인체공학적인\\n',\n",
       " 'S Korea voters enticed to polls 한국의 투표율 높이기 노력\\xa0 \\xa0 \\xa0200809.14\\n',\n",
       " 'Two U.S. soldiers were killed by an explosive device in Baghdad.폭탄 테러로 바그다드서 미군 두 명 사망2005.08\\n',\n",
       " 'lose control over ~을 통제하지 못하다\\n',\n",
       " 'Baghdad’s willingness to boost diplomatic relations with the outside world.국제사회와의 관계 증진을 위해 노력하는 이라크2005.08\\n',\n",
       " '어휘 : in general 일반적으로 \\xa0\\xa0even 훨씬, 더욱 \\xa0\\xa0interesting 흥미있는 번역 :\\n',\n",
       " \"get ~ off one's books ~을 장부에서 털어내다, 청산하다, 정리하다\\n\",\n",
       " '이번 주 CNN 축구 팬존 프리 퍼 올 (Football Fanzone Free For All)에 방문을 환영한다.\\n',\n",
       " 'workout 운동, 체조\\n',\n",
       " 'The benchmark interest rate of the bank of Korea is kept frozen.한국은행 콜금리 동결\\n',\n",
       " 'Foreign ministers of Korea and Japan is going to meet at Pakistan.한일 외교 장관 파키스탄서 만날 듯\\n',\n",
       " 'The textile, steel and petrochemical industries prospects are discouraging올 하반기, 섬유, 철강과 석유 화학 업종 부진 예상2006.08\\n',\n",
       " 'standoff 대치사태, 교착상태\\n',\n",
       " 'Palestinian leader Mahmoud Abbas called for his people to persue negotiations instead of violence in the stuggle for a state.국민들에게 폭력 대신 타협을 주장한 마흐무드 압바스 팔레스타인 해방기구 의장2005.08\\n',\n",
       " 'BUENOS AIRES, Argentina (CNN) / 박주영 (JOINS)\\n',\n",
       " 'investigate 조사하다\\n',\n",
       " 'PADANG, Indonesia (CNN)/권성근(JOINS)\\n',\n",
       " 'Bush refused to talk in CIA tapes 부시 대통령, CIA 고문 테이프에 대한 판단 유보\\xa0 \\xa0 \\xa0200806.17\\n',\n",
       " 'Thousands need help after Peru earthquake페루 지진 피해로 수천명의 이재민 발생2007.11\\n',\n",
       " '단어장 Roh and Bush reaffirmed the peaceful settlement of NK’s nuclear issue.노 대통령과 부시 대통령, 북핵 문제 평화적 해결 재확인2005.08\\n',\n",
       " 'Campuses Campaign Against Binge Drinking 대학들, 과도한 음주 방지를 위해 캠페인 벌여\\xa0 \\xa0 \\xa0200806.08\\n',\n",
       " 'Markets rebound on Wall Street’s Good News월가의 호재로 시장 반등2008.09\\n',\n",
       " '[[on the scene]] 현장에\\n',\n",
       " 'FDA는 미 질병통제 및 방어센터(Centers for Disease Control and Prevention, CDC)와 공조로 식중독 감염 조사를 단계별로 실시하고 있다고 밝혔다.\\n',\n",
       " 'unemployment claim 실업수당 신청\\n',\n",
       " 'tax relief 세금 공제\\n',\n",
       " 'Pilots in the crashed fighter jet presumed to be dead추락 전투기 조종사 사망한 것으로 추정2007.10\\n',\n",
       " 'USFK chief said no preemptive strike on N.Korea주한 미군 사령관, 북 선제공격 의도 없어2007.01\\n',\n",
       " 'astronaut 우주비행사 orbit 궤도를 돌다\\n',\n",
       " 'Michelle Obama Takes to the Trail 남편의 선거전에 나선 미셀 오바마\\xa0 \\xa0 \\xa02008.10\\n',\n",
       " 'School shooter confessed to his wife he molested family members학교 총기 난사 사건 용의자, 친척 성추행 사실 고백2006.12\\n',\n",
       " 'Congress Passes the Bill but Stock Market Still Plunges Badly 구제금융안은 통과했지만 여전히 주식시장은 급락세\\xa0 \\xa0 \\xa02008.10\\n',\n",
       " 'GNP to sue former senior official of the spy agency ˝한나라당, 전 국정원 간부 고발 예정˝\\xa0 \\xa0 \\xa02007.10\\n',\n",
       " 'National Security 국가 안보\\n',\n",
       " 'ROSTOCK, Germany (CNN)/권성근(JOINS)\\n',\n",
       " 'Spector Retrial Is Underway 여배우를 살해한 음반 제작자, 재심에 나서다\\xa0 \\xa0 \\xa02008.10\\n',\n",
       " 'BEIJING, China (CNN) / 이수지(JOINS)\\n',\n",
       " 'wasteful 소모성의, 낭비의\\n',\n",
       " 'espionage 스파이 활동, 정탐\\n',\n",
       " 'Bush seeks to ease economy fears 부시 미 대통령, 경제 위기에 대한 우려 진정시키려 노력\\xa0 \\xa0 \\xa0200806.07\\n',\n",
       " '개성, 수정(안) [예] debate the merits of the amendment:\\n',\n",
       " 'Four Koreans indicted for attempting to leak WiBro technology와이브로 인터넷 기술 유출하려던 한국인 4명 기소2007.07\\n',\n",
       " 'China-Japan’s efforts to solve NK’s nuclear test 북한 핵실험에 대한 중-일의 외교적 노력\\xa0 \\xa0 \\xa02006.12\\n',\n",
       " 'President Elect Barack Obama says the economy will get worse 버락 오바마 대통령 당선인, 미국 경기 더 악화될 것\\xa0 \\xa0 \\xa02008.12\\n',\n",
       " 'Israe’s Prime Minister was taken to hospital이스라엘 총리 입원2006.02\\n',\n",
       " 'Yellow dust will strike the peninsula two or three more times황사, 두세번 더 한반도 더 덮칠 듯2006.05 원문 & 독해설명 인쇄\\n',\n",
       " 'exceptionally 예외적으로, 특별히\\n',\n",
       " 'conservative 보수적인, 보수주의의\\n',\n",
       " 'The war in Iraq, a political battle shows every sign of intensifying.이라크전에 대한 거세지는 정치적 공방2006.01\\n',\n",
       " 'Abe’s anxiety grows facing rough upper house elections˝아베 총리, 상원 의원 선거를 앞두고 힘든 상황을 맞이하다˝2007.09\\n',\n",
       " 'unveiled 공개되다, 발표되다, 밝히다\\n',\n",
       " 'BLACKSBURG, Virginia (CNN)/권성근(Joins)\\n',\n",
       " 'hypothetical 가설의, 가상의, 가정에 근거한 상황\\n',\n",
       " 'Pilots in the crashed fighter jet presumed to be dead 추락 전투기 조종사 사망한 것으로 추정\\xa0 \\xa0 \\xa02007.10\\n',\n",
       " 'Suharto to be buried in Central Java 수하르토 전 대통령, 중부 자바 지방에 매장될 예정\\xa0 \\xa0 \\xa0200806.07\\n',\n",
       " '세계포경위임과학위원회(International Whaling Commission Scientific Committee)는 대서양 중부와 남동부에 밍크고래 18만4000천마리가 있는 것으로 추산했다.\\n',\n",
       " '브라질 국립 항공 조사 연구소(National Institute for Space Research, NISR)에따르면 아마존 훼손이 지난 8월 전년 같은 달에 비해 228%까지 급상승했다.\\n',\n",
       " 'Northeast loses power in heavy ice storm 미 북동부 지역, 강한 얼음폭풍으로 전기 끊겨\\xa0 \\xa0 \\xa02008.12\\n',\n",
       " 'anonymous source 익명의 제보자(소식통)\\n',\n",
       " 'appointment 임명, 임용;\\n',\n",
       " '의회의 [예] congressional approval 국회의 승인\\n',\n",
       " '자세한 여행 정보는 whidbeycamanoislands.com 에서 검색하면 된다.\\n',\n",
       " 'New Zealand woman died because of unpaid bills 뉴질랜드 여성 체납금 때문에 사망\\xa0 \\xa0 \\xa02007.08\\n',\n",
       " \"Obama's kids will have good opportunities in White House 백악관 생활은 오바마 당선인의 딸들에게 기회가 될 듯\\xa0 \\xa0 \\xa02008.12\\n\",\n",
       " 'Visiting disputed shrine worsens the relations between Korea and Japan 야스쿠니 신사 참배, 두 국가 간 관계 악화시켜\\xa0 \\xa0 \\xa02006.10\\n',\n",
       " \"Korea's economy will be lowered in 2007 내년 한국 경제성장률 4.5%로 낮아져\\xa0 \\xa0 \\xa02006.10\\n\",\n",
       " 'Pim Verbe promotes to succeed Dick Advocaat as team coach페어백, 한국 축구국가대표팀 감독 맡아2006.08\\n',\n",
       " '거물 투자자인 John Doerr는 Kamen을 Thomas Edison과 Henry Ford의 합성 인물이라고 불렀다.\\n',\n",
       " 'North Korea kept silent on the result of presidential election 북, 대선 결과에 침묵\\xa0 \\xa0 \\xa0200806.18\\n',\n",
       " 'downplay 무시하다, 경시하다\\n',\n",
       " 'confirm 확인하다, 확증하다\\n',\n",
       " 'retailer 소매업자\\xa0 / corner store 거리의 상점\\xa0 / gas station 주유소\\xa0 / go-ahead 승인, 인가\\xa0 / U.S.\\n',\n",
       " 'NEW YORK (CNN) ##http://article.joins.com/article/cnn_e/article.asp?cat_code=22&Total_ID=2787379\\n',\n",
       " 'Concerns grow over won’s surge 원화 강세 우려 증가\\xa0 \\xa0 \\xa02007.02\\n',\n",
       " 'Seoul Prosecution holds American executive hostage 한국 검찰 당국, 미국 경영자 인질로 잡아\\xa0 \\xa0 \\xa0200806.05\\n',\n",
       " 'Stocks open higher on Christmas Eve크리스마스 이브 증시 상승세로 출발2008.12\\n',\n",
       " 'insurgent 폭도, 반정부운동가\\n',\n",
       " 'US to transfer of its wartime control미국, 전시 작전 통제권 인수2006.10 원문 & 독해설명 인쇄\\n',\n",
       " 'Korea NK’s nuclear test 한국 정부, 북한 핵실험 비난\\xa0 \\xa0 \\xa02006.12\\n',\n",
       " 'The Grammy nominations will be read tonight오늘밤 그래미상 후보 발표2008.12\\n',\n",
       " 'NASA 나사, 미국 항공우주국(=National Aeronautics and Space Administration)\\n',\n",
       " 'AIDS epidemic in India should be taken as a serious problem.인도 에이즈 확산 심각\\n',\n",
       " 'No pre-emptive strike on North Korea’s nuclear facilities.북한 핵 시설에 선제 공격 않을 것\\n',\n",
       " '제프 벤조스 아마존닷컴 설립자겸 CEO는 \"MP3 전략은 고객들이 아마존에서 구매하는 모든 음악에 DRM(Digital Rights Management:\\n',\n",
       " '(CNN)/ (JOINS) ##http://article.joins.com/article/cnn_e/article.asp?cat_code=22&Total_ID=3151948\\n',\n",
       " 'South Korea expresses resentment to Japan’s claim to Dokdo 한국 정부, 일본의 독도 소유권 주장에 강한 분노감 표명\\xa0 \\xa0 \\xa02006.05\\n',\n",
       " 'A thick cloud of smoke rises from the Iraqi desert.이라크 사막에서 피어오른 두꺼운 연기2005.08\\n',\n",
       " 'uninspected 검사를 받지 않은\\n',\n",
       " 'The Reader)’로 여우조연상 후보가 됐다.\\n',\n",
       " 'OJ Simpson, charged with an armed robberyOJ 심슨, 무장 강도 혐의로 구속2007.12 원문 & 독해설명 인쇄\\n',\n",
       " 'good wishes 축복, 행복을 비는 마음\\n',\n",
       " 'dispute 이의 제기, 분쟁\\n',\n",
       " 'Idaho sniper attack아이다호 총기난사2007.07 원문 & 독해설명 인쇄\\n',\n",
       " 'Expresses concerns about a plan to cut S. Korea’s military manpower 주한미군 사령관 군 인력 축소 우려\\xa0 \\xa0 \\xa02007.05\\n',\n",
       " 'U.S. billionaire might have sold all of his shares already 미국인 억만장자, 보유 주식 이미 매도한 듯\\xa0 \\xa0 \\xa02007.02\\n',\n",
       " 'Prosecutor’s office and police would focus on human rights.검경, 인권에 중점 두겠다.\\n',\n",
       " 'Newsweek 한글판\\n',\n",
       " 'SUSSEX, Virginia (CNN) / 이수지(JOINS)\\n',\n",
       " \"Republicans' view of the President's performance 대통령의 성과에 대한 공화당의 견해\\xa0 \\xa0 \\xa02009.06\\n\",\n",
       " 'across the board 전역에 걸쳐, 전면적으로\\n',\n",
       " 'entertainer 연예인\\n',\n",
       " 'therapist 치료 전문가, 치료학자\\n',\n",
       " 'preliminary 예비적인, 임시의, 사전 준비\\n',\n",
       " 'Concern over agflation is looming애그플레이션 공포 확산2008.09 원문 & 독해설명 인쇄\\n',\n",
       " 'Slumping US stock market may ignite a global credit crunch 미국 증시 폭락으로 세계 금융 대란 우려\\xa0 \\xa0 \\xa02007.11\\n',\n",
       " 'TOKYO, Japan (CNN)/박신원(JOINS)\\n',\n",
       " 'vigor 정력, 활력\\n',\n",
       " 'A North Korean official expressed strong discontent over the South’s attitude toward the Kaesong industrial Complex.북한, 개성 공단에 대한 우리측 태도에 강한 반감 표해2005.08\\n',\n",
       " 'Horst Koehler, a former head of the IMF was elected as the German president.호르스트 쾰러 전 IMF 총재, 독일 대통령 당선2005.08\\n',\n",
       " 'Hyundai chief to face the verdict in his embezzlement 정 회장 부정부패 혐의 재판\\xa0 \\xa0 \\xa02007.04\\n',\n",
       " '[[estimate]] 추정(치), 견적\\n',\n",
       " \"그의 출연작인 '다즐링 리미티드(The Darjeeling Limited)'의 감독 웨스 앤더슨은\\n\",\n",
       " 'Won-dollar rate highest in 10 years원 달러 환율 지난 10년간 최고 수준으로 마감2008.01 원문 & 독해설명 인쇄\\n',\n",
       " '(Clapton is Good)\\n',\n",
       " 'BRUSSELS, Belgium (AP)/김양희(JOINS)\\n',\n",
       " 'Hong Kong protests Beijing’s plan to restrict its movement toward democracy.홍콩, 민주화 요구 촛불 시위 벌여2005.08 원문 & 독해설명 인쇄\\n',\n",
       " 'Foreign studies spending shows sharp rise this year.해외유학•연수 비용, 올해 급증\\n',\n",
       " 'hostage 인질\\n',\n",
       " 'Korea nears a multicultural and a multi-ethnic society˝한국, 다문화?\\n',\n",
       " 'a spending/buying/shopping spree (소비/ 사재기/쇼핑 광란)\\n',\n",
       " 'Bonfrere quits football coach.본프레레, 결국 사퇴 2005.10\\n',\n",
       " 'Korea Exchange Bank is going to introduce deposit accounts denominated in Chinese yuan.외환은행, 중국 위안화 예금 상품 선보일 것 \\n',\n",
       " 'The Supreme Court ruled that women’s equal rights in their paternal families.대법원, 종중 내 여성 권리 동등2005.09\\n',\n",
       " 'cast a ballots 투표를 하다\\n',\n",
       " '(CNN)/ (JOINS) ##http://article.joins.com/article/cnn_e/article.asp?cat_code=22&Total_ID=3171351\\n',\n",
       " 'Coming-out in the South Korean riot police 경찰 기동대 신병, 동성애자임을 선언\\xa0 \\xa0 \\xa0200806.01\\n',\n",
       " 'The Constitutional Court started reviewing the special law on capital relocation.헌법재판소, 행정수도이전 특별법 검토 시작2005.08\\n',\n",
       " 'President Roh said North Korea detects a crisis.노무현 대통령, 북한의 위기 감지 시사2005.08\\n',\n",
       " 'Federal investigators are studying the Denver plane crash 덴버공항 항공기 사고를 조사 중인 연방 수사관들\\xa0 \\xa0 \\xa02008.12\\n',\n",
       " '영국 환경식량농촌지역부(Department for Environment, Food and Rural Affairs, DEFRA)는 노퍽과 서퍽 경계에 있는 디스 인근 구내에서 키우던 칠면조에서 AI가 발견됐다고 말했다.\\n',\n",
       " \"throwaway 사용 후 버리는\\xa0 / cell phone 이동 전화, 휴대폰\\xa0 / be set to do 할 준비가 되어있다\\xa0 / make one's debut 처음 소개되다\\xa0 / convenience store 편의점 \\xa0 / shelve 선반, (상품) 진열대\\xa0 / aisle 길다란 통로\\xa0 / down the aisle from  이 있는 통로 아랫쪽에\\xa0 / razor 면도기\\xa0 / beef jerky 말린 쇠고기\\xa0 / disposable camera 일회용 카메라\\xa0 / seek 하려고 애쓰다\\xa0 / emulate 에 지지 않으려고 애쓰다, 겨루다\\xa0 / spur-of-the-moment 충동적인\\xa0 / consumer 소비자\\xa0 / purchase 구매, 구매품 번역 :\\n\",\n",
       " 'porch 현관, 베란다\\n',\n",
       " 'normalize 정상화하다, 표준화하다\\n',\n",
       " 'The first video of American Airlines Flight 77 crasging into the Pentagon is released9.11 펜타곤 충돌 비디오 첫 공개2006.07\\n',\n",
       " 'The Defense Ministry seeks to introduce a German-style parliamentary watchdog system.독일식 국방 제도 도입 추진 중2006.01 원문 & 독해설명 인쇄\\n',\n",
       " 'Japan accusing Korea infringed technology patents 일본, 한국 기술 특허 시비\\xa0 \\xa0 \\xa02005.08\\n',\n",
       " 'LONDON, England (CNN)/권성근(JOINS)\\n',\n",
       " 'Registration for election in April is began.4월 총선 후보 등록 시작2005.08\\n',\n",
       " 'South Korean civic groups are planning to stage a protest rally in the US 한국 시민단체, 미국에서 FTA 반대 시위 예정\\xa0 \\xa0 \\xa02006.06\\n',\n",
       " 'storm 폭풍우\\n',\n",
       " 'House Financial Services Committee 하원 금융서비스 위원회\\n',\n",
       " '저주받을, (=under a curse), 몹시 싫은(=hateful), 가증스러운 (=detestable)\\n',\n",
       " 'take time out for ~을 위해 시간을 내다\\n',\n",
       " 'fathom 길, 이해, 통찰\\n',\n",
       " '하버드대 과학 유머잡지 AIR(The Annals of Improbable Research)측이 하버드대의 샌더스 시어터에서 시상식을 마련했다.\\n',\n",
       " \"한편 양곤의 주요 시장을 둘러본 엘리자베스 바이얼스 '유엔 인도주의사업조정자사무소United Nations Office for the Co-ordination of Humanitarian Affairs)'대변인은 구호물품을 판매하는 증거는 찾을 수 없었다고 밝혔다.\\n\",\n",
       " 'Skin transformed into stem cells 피부를 줄기 세포로 변화시켜\\xa0 \\xa0 \\xa02008.03\\n',\n",
       " 'adversary 적, 상대편\\n',\n",
       " 'First Train in 56 years crosses Border 56년만의 남북 철길 개통\\xa0 \\xa0 \\xa0200806.15\\n',\n",
       " '막을 내리다 (=cease to be performed)\\n',\n",
       " 'South pledge on North food aid 한국, 북한 쌀 지원할 것\\xa0 \\xa0 \\xa02007.07\\n',\n",
       " 'Korean-American Instructor Arrested on Murder Charge 한국계 미국인 강사 살해 혐의로 체포\\xa0 \\xa0 \\xa0200809.10\\n',\n",
       " 'An Exhibition of Genius) 기획전에 전시된다.\\n',\n",
       " 'Hundreds killed and injured in a series of bomb attacks in Iraq.이라크 연쇄 테러로 수백 명 사상2005.10\\n',\n",
       " \"The party's lawmakers have been proposing some huge spending increases.예산 증가 불가피2006.01\\n\",\n",
       " 'splitsville 별거, 이혼\\n',\n",
       " 'AP 라디오뉴스 존 벨몬트이었습니다. Centers for Disease Control and Prevention 질병통제예방센터\\n',\n",
       " '이번 에 공식명칭인‘수성 표면, 우주, 환경, 지질, 다양한 연구 우주선(Mercury Surface, Space, Environment, Geochemistry and Ranging craft)’ 의 약자인 메신저호가 2번째로 수성에 근접 비행했다.\\n',\n",
       " 'cnn 한글뉴스\\n',\n",
       " 'Bush Says He Is a Believer in Free Markets 부시 대통령, 자유 시장의 강한 지지자 표방\\xa0 \\xa0 \\xa02008.10\\n',\n",
       " 'breakdown 고장, 파손, 몰락, 좌절\\n',\n",
       " '주권, 통치권 [예] claim na\\n',\n",
       " '단어장 Chrysler will file for Chapter 11 bankruptcy protection크라이슬러사, 파산보호 신청 예정2009.06\\n',\n",
       " 'President Roh will not take disciplinary action in connection with the case of Kim Sun-il until the investigation is complete.노대통령, 조사가 끝날 때까지 김선일 씨 사건 관련 징계 조치 보류2005.08 원문 & 독해설명 인쇄\\n',\n",
       " 'out of control 통제할 수 없게, 어떻게 할 수 없게\\n',\n",
       " 'World Health Organization 세계보건기구(=WTO)\\n',\n",
       " 'US questions S. Korea’s N. Korea policies 미국, 한국의 대북정책에 이의 제기\\xa0 \\xa0 \\xa02006.12\\n',\n",
       " '(CNN)/ (JOINS) ##http://article.joins.com/article/cnn_e/article.asp?cat_code=22&Total_ID=3137441\\n',\n",
       " '이 밴드의 다른 히트 곡에는 ‘Bang Your Head (Metal Health)’,‘Mama Weer All Crazee Now’가 있다.\\n',\n",
       " '새우의 원가의 진실 (The Degradation of Work:\\n',\n",
       " 'Japan’s ambassador to Seoul has gone back to Tokyo.주한 일본 대사 본국으로 귀국\\n',\n",
       " 'Owner of an immigration consultancy arrested캐나다 해외이주 알선업체 대표 구속2006.05 원문 & 독해설명 인쇄\\n',\n",
       " 'representative 대표자, 대리인, 후계자\\n',\n",
       " 'Hundreds hit the beach for Memorial Day 메모리얼 연휴 바닷가로 몰린다\\xa0 \\xa0 \\xa02009.06\\n',\n",
       " 'HARARE, Zimbabwe (CNN) / 이수지(JOINS)\\n',\n",
       " \"UN's nuclear agency head visits N. Korea국제원자력기구 사무총장, 북한 방문2007.05\\n\",\n",
       " '원문기사보기 joins.com CNN한글뉴스\\n',\n",
       " 'One Day to Make it Count 미국 대통령의 선택, 이제 남은 시간은 단 하루\\xa0 \\xa0 \\xa02008.11\\n',\n",
       " 'cnn 한글뉴스\\n',\n",
       " 'bipartisanship 초당파적 (협력) 관계\\n',\n",
       " 'Sarkozy vows to punish saboteurs 사르코지 대통령, 파괴 활동자들 처벌할 것을 맹세\\xa0 \\xa0 \\xa02008.03\\n',\n",
       " 'Lady Bird Johnson flew away to the netherworld 린든 존슨 전 미대통령 미망인 서거\\xa0 \\xa0 \\xa02007.10\\n',\n",
       " 'South Carolina (CNN) ##http://article.joins.com/article/cnn_e/article.asp?cat_code=22&Total_ID=2766444\\n',\n",
       " 'Palestinian factions agree deal팔레스타인, 폭력 중단키로 합의2007.02 원문 & 독해설명 인쇄\\n',\n",
       " 'Cardinal Joseph Ratzinger is the next Pope of Roman Catholics.로마 카톨릭 후임 교황에 요셉 라칭거 추기경\\n',\n",
       " 'GNP to sue former senior official of the spy agency ˝한나라당, 전 국정원 간부 고발 예정˝\\xa0 \\xa0 \\xa02007.10\\n',\n",
       " 'Ten Burmese Activists accused of fuel price protests 10명의 미얀마 활동가, 유가 관련 시위로 기소되어\\xa0 \\xa0 \\xa0200806.08\\n',\n",
       " 'ANKARA, Turkey (CNN) ##http://article.joins.com/article/cnn_e/article.asp?cat_code=22&Total_ID=2767605\\n',\n",
       " 'A suicide car bomber killed 12 people and injured 35 people in Iraq.이라크에서 차량 자살 폭탄 테러로 12명 사망, 35명 부상\\n',\n",
       " \"Hugh Jackman Heartbroken over 'Wolverine' Leak and More영화 엑스맨 유출에 상심한 휴 잭맨 외2009.05\\n\",\n",
       " 'Eighth round of the Future of the Alliance Policy Initiative talks will be held May 6-7 in Washington.미래 한미동맹 정책 구상 8차 회의, 내달 워싱턴에서 개최2005.08\\n',\n",
       " \"Dark Knight Leads Nominees at the People's Choice Awards다크 나이트, 피플 초이스 어워드 유력 후보로 떠올라2008.11\\n\",\n",
       " 'MADRID, Spain (CNN) ##http://article.joins.com/article/cnn_e/article.asp?cat_code=22&Total_ID=2776005\\n',\n",
       " 'The Grand National Party is preparing a bill considering North Korean human rights.한나라당, 북한 인권법 제정 준비\\n',\n",
       " '45 N.K.defectors broke into the Canadian Embassy in Beijing.탈북자 45명 주중 캐나다 대사관 진입2005.08\\n',\n",
       " 'bloodshed 살해, 살육, 유혈, 출혈\\n',\n",
       " 'US offered NK incentives to remove the nuclear weapons program.미국, 핵 무기 프로그램을 제거하고자 북한에 인센티브 제공2005.08\\n',\n",
       " '(CNN) ##http://article.joins.com/article/cnn_e/article.asp?cat_code=22&Total_ID=2793901\\n',\n",
       " 'The Defense Ministry adopts a French-style military reform.국방부, 프랑스식 국방 개혁 도입\\n',\n",
       " 'A U.S. envoy’s ‘ Korea, Japan and China meeting’ 북미 6자회담 수석대표 ‘한국, 일본, 중국 회동’ 나서 \\xa0 \\xa0 \\xa02006.02\\n',\n",
       " '˝Time, to pay $106m in damages to the former Indonesian president˝˝미국 타임 지, 인도네시아 전 대통령에 1억6백만 달러 보상 판결˝2007.12\\n',\n",
       " 'S. Korea not look into move out of N. Korea business 한국 정부, 대북경협사업 중단 계획 없어\\xa0 \\xa0 \\xa02006.12\\n',\n",
       " 'resolution 결의\\n',\n",
       " 'Abe backs up his agriculture minister ˝아베 총리, 농경부 장관 두둔˝\\xa0 \\xa0 \\xa02007.09\\n',\n",
       " 'The third case of mad cow disease reported in the U.S.미국에서 세번째 광우병 감염 소 발견2006.05\\n',\n",
       " 'Parts of nation frozen due to heavy snow and bitter cold 미국 일대, 폭설과 강추위에 꽁꽁 얼어붙어\\xa0 \\xa0 \\xa02008.12\\n',\n",
       " 'Janet Napolitano says US is moving with alacrity and efficiency to deal with swine flu재닛 나폴리타노 국토안보부 장관, 돼지독감에 대응하기 위해 미국은 신속하고 효율적으로 움직이고 있다고 말해2009.06 원문 & 독해설명 인쇄\\n',\n",
       " 'U.S standard for digital televison services in Korea국내 디지털 TV 표준으로 미국식 채택2005.08\\n',\n",
       " 'jobless claim 실업수당 신청\\n',\n",
       " 'Secretary and the Chinese president had a meeting over recent issues including North Korean nuclear program.미 국무장관과 중국 주석, 회담에서 북핵 문제 등 논의\\n',\n",
       " 'Nine workers in Nigeria realeased피랍 한국인 근로자 무사히 석방2007.03\\n',\n",
       " 'SEOUL, South Korea (AP)/송완영 (JOINS)\\n',\n",
       " '단어장 Police officers deployed in the suburbs of Paris파리 경찰, 파리 외곽 배치2005.12\\n',\n",
       " 'US concludes NK has no will to negotiate and plans to slap more sanctions미국, 대북 제재 추가 움직임2006.11 원문 & 독해설명 인쇄\\n',\n",
       " 'run-off election 결선투표\\n',\n",
       " 'ADDIS ABABA, Ethiopia(CNN)/권성근(JOINS)\\n',\n",
       " \"Sarah Palin's Carpet Injures NHL Goalie 하키맘 사라 페일린의 저주로 부상당한 하키 선수\\xa0 \\xa0 \\xa02008.10\\n\",\n",
       " '미국의 변천사, 1815-1848(원제: What Hath God Wrought:\\n',\n",
       " 'Police arrested baseball players and brokers who faked tests to dodge the military duty mandatory.경찰청, 병역 비리 관련 운동 선수들과 브로커 구속2005.08\\n',\n",
       " 'N.K. demands reactor first before dismantling nuclear program.북, 경수로 먼저 제공해야 핵 포기\\n',\n",
       " 'Obama promises to generate 2.5 million jobs in two years 오바마 당선인, 2년 안에 250만개의 일자리 창출할 것\\xa0 \\xa0 \\xa02008.12\\n',\n",
       " 'discuss 토의하다, 검토하다 cooperation 협동, 협력\\n',\n",
       " 'relate to people 사람들과 관계를 잘 맺다 Joe Biden 부통령 후보의 대결, 새라 페일린 대 조 바이든\\xa0 \\xa0 \\xa02008.09\\n',\n",
       " 'Sudanese Student defends Briton jailed for insulting 수단 학생 이슬람 교 모욕 혐의의 영국 교사 변호\\xa0 \\xa0 \\xa0200806.10\\n',\n",
       " '‘동물 애호가 협회(Humane Society)’와 ‘미 동물학대 방지협회(American Society for the Prevention of Cruelty to Animals, ASPCA)에따르면 국가는 이 같은 문제를 해결하지 않고 분양되지 않은 개들은 단지 동물 보호소로 보내기만 하고 있다.\\n',\n",
       " 'colon cancer 결장암\\n',\n",
       " '행복(Happiness)은 일어나다(happen)와 우연(happenstance)이란 단어들과 연관돼있다.\\n',\n",
       " 'record-breaking 기록적인, 기록을 경신하는\\n',\n",
       " 'sectarian 분파의, 편협한\\n',\n",
       " 'the Rose Garden 로즈 가든(미 백악관의 정원)\\n',\n",
       " 'cold front 한랭 전선, 강풍\\n',\n",
       " 'Secretary General visits South Korea코피 아난 유엔 사무총장 한국 방문2006.07 원문 & 독해설명 인쇄\\n',\n",
       " 'combustible 가연성의\\xa0\\xa0 executive 경영 간부\\xa0\\xa0 motivate 동기를 부여하다\\n',\n",
       " 'Shin Ki-nam decided to step down from the top post.신기남 의장, 의장직 사퇴 결정2005.08 원문 & 독해설명 인쇄\\n',\n",
       " 'function pop_open(url){win = window.open(url,\\'movie\\',\"scrollbars=no,width=770,height=570,left=50,top=50\");}\\n',\n",
       " '시드 가니스 ‘영화 예술 과학 아카데미(Academy of Motion Picture Arts and Sciences)’ 회장은 “나쁜 소식이었던 파업은 과거의 일”이라고 말했다.\\n',\n",
       " \"South Korean military is taking counterfire mission against North Korea's long-range artillery fire.한국군, 북한의 장거리포 견제 담당 임무 수행하게 될 듯 원문 & 독해설명 인쇄\\n\",\n",
       " 'sad turn of events 슬픈 일\\n',\n",
       " 'Things You Need to Be Told)과 ‘당신이 더 들어야 할 말’(More Things You Need to Be Told) 공동 저자인 호노 어빙은 “옛날부터 불쾌한 사람들은 있었다”고 말했다.\\n',\n",
       " 'Heavy snow and high winds continue주말 내내 폭설과 강한 바람 예상2007.04 원문 & 독해설명 인쇄\\n',\n",
       " 'House to vote on economic stimulus plan 경기부양책을 놓고 하원에서 투표 예정\\xa0 \\xa0 \\xa02009.01\\n',\n",
       " 'NEW YORK (CNN) / 이수지(JONIS)\\n',\n",
       " 'Saddam confesses his guilt.후세인, 범죄 행위 시인 2005.10 원문 & 독해설명 인쇄\\n',\n",
       " 'take the offensive 공세를 취하다\\n',\n",
       " 'a growing number of illegal cremations증가하는 불법화장(火葬)2007.08 원문 & 독해설명 인쇄\\n',\n",
       " 'Bob Hope stamp to be unveiled공개되는 밥 호프의 우표2008.12\\n',\n",
       " \"Mother in“ Cyber-Bullying” Case to Be Sentenced Today 美 '악플'로 딸 친구 죽인 40대녀 유죄 평결\\xa0 \\xa0 \\xa02009.06\\n\",\n",
       " 'NK demanding SK to halt joint military drills with US북한, 한국과 미국의 합동 군사 훈련 중지 요구2005.08\\n',\n",
       " 'joins.com CNN한글뉴스\\n',\n",
       " \"'Super Squibb' wins Wing Bowl 17 제 17회 윙볼 대회 우승자는 '슈퍼 스크윕'\\xa0 \\xa0 \\xa02009.01\\n\",\n",
       " 'equity stake 주식 지분\\n',\n",
       " 'unstoppable 막을 수 없는, 방지할 수 없는\\n',\n",
       " '퇴임한 후에는 ‘링컨셔 주 케스티번의 여남작(Baroness Thatcher , of Kesteven)’의 작위를 받고 상원의원으로 활동했다.\\n',\n",
       " 'Roh proposes double-term presidency노 대통령, 대통령 연임제 개헌 제안2007.03 원문 & 독해설명 인쇄\\n',\n",
       " 'Labor Secretary 노동부 장관\\n',\n",
       " 'capitalist 자본주의\\n',\n",
       " 'commissioner 청장, 국장\\n',\n",
       " 'Scientists Claim to Create Glow-in-the-Dark Dogs 어둠 속에서 빛 내는 견공 탄생\\xa0 \\xa0 \\xa02009.05\\n',\n",
       " 'NASA’s spacecraft Dawn launched to an eight-year journey 나사의 우주 탐사선 돈 호 발사\\xa0 \\xa0 \\xa02007.12\\n',\n",
       " 'South Carolina wildfire causes more than $8 million damage사우스캐롤라이나 산불 피해규모 800만 달러를 넘어2009.06\\n',\n",
       " 'Kookmin Bank was named as the priority bidder for Korea Exchange Bank국민은행, 외환은행 우선협상대상자로 선정2006.05\\n',\n",
       " 'International sanctions drag NK into an economic slump대북 제재, 북한에 심각한 경기 침체 유발할 것2006.12\\n',\n",
       " 'joins.com CNN한글뉴스\\n',\n",
       " 'unemployment check 실업수당\\n',\n",
       " 'Introducing Dorothy Dandridge)’로는 에미상과 골든 글로브를 수상했다.\\n',\n",
       " 'LONDON, England (CNN)/박신원(JOINS)\\n',\n",
       " 'BARCELONA, Spain (CNN)/김양희(JOINS)\\n',\n",
       " 'Government scrutinizing price and illegal collusion of apartments scheduled for reconstruction.정부, 재건축 아파트 분양가 및 불법 결탁 면밀히 조사할 것\\n',\n",
       " 'parliamentary 의회의, 의회제의\\n',\n",
       " 'NK pledged to strengthen its “war deterrent” against US북한, 미국에 대항하여 “전쟁 억제책”을 강화하겠다고 발표2008.06\\n',\n",
       " 'jump start 다시 움직이게 하다, 활성화하다\\n',\n",
       " 'NEW YORK (CNN) / 이수지(JOINS)\\n',\n",
       " 'Palestinian militants killed two Israeli children through a rocket attack.팔레스타인 무장 단체 로켓 공격으로 이스라엘 어린이 두 명 사망2005.08\\n',\n",
       " 'Israeli troops removed from Gaza Strip.이스라엘 군, 가자 지구에서 철수 2005.10\\n',\n",
       " 'Asia Europe ministers urge N.K. action 아시아-유럽 외부장관, 북한 핵무기폐기 실천 촉구\\xa0 \\xa0 \\xa02007.08\\n',\n",
       " 'South Korea makes proposals for peace in the Korean Peninsula남한, 한반도 평화 구축 위한 평화체계 제안2006.02\\n',\n",
       " 'declaration 발표, 선언 abandon 단념하다, 포기하다\\n',\n",
       " 'MEXICO CITY, Mexico (CNN) / 이수지(JOINS) 원문기사\\n',\n",
       " '인도 다람살라에 있는 티베트 민주화 인권단체(Tibetan Center for Human Rights and Democracy)는 나가바 커티 수도원에서 8명이 사망했으며 그중 2명은 승려였다고 전했다.\\n',\n",
       " \"A Colored Man's Reminiscences of Life in the White House)’이란 회고록을 썼다.\\n\",\n",
       " 'Korean-American Instructor Arrested on Murder Charge한국계 미국인 강사 살해 혐의로 체포2008.09\\n',\n",
       " 'SYDNEY, Australia (CNN) / 이수지(JOINS)\\n',\n",
       " 'Bush admits to CIA secret prisons 부시 미 대통령, CIA 비밀 감옥 존재 시인\\xa0 \\xa0 \\xa02006.11\\n',\n",
       " 'The government lifts rules Koreans can purchase and retain homes overseas해외 주거용 부동산 규제 사실상 페지2006.04\\n',\n",
       " 'arrest 구인, 구류 검거, 체포 notify …을 (…\\n',\n",
       " \"More than half of Japan's citizens do not want next prime minister to visit the Yasukuni shrine 일본인 절반 이상, 야스쿠니 신사 참배 반대\\xa0 \\xa0 \\xa02006.09\\n\",\n",
       " 'The violence in Sudan’s Darfur region had worsend.수단 다르푸르 지역의 폭력사태 악화2005.08\\n',\n",
       " 'A strictly controlled military funeral for Yasser Arafat.아라파트 장례식, 군장으로 엄숙히 치뤄져2005.08\\n',\n",
       " 'Electoral College 미국 대통령 선거인단으로 538명으로 구성된다.\\n',\n",
       " 'inflation 인플레이션, 물가 폭등\\n',\n",
       " 'A probe on wrongdoings by the previous military to start 과거 군부 잘못 가린다\\xa0 \\xa0 \\xa02005.10\\n',\n",
       " 'stumble upon 우연히 만나다[발견하다]\\n',\n",
       " 'claim responsibility for the incident 그 사건의 책임이 있다고 주장하다 lurk out 잠복하다\\n',\n",
       " '다수 국가가 참가하는, 다국간의, 다각적인 [예] a multilateral agreement:\\n',\n",
       " 'U.S standard for digital televison services in Korea 국내 디지털 TV 표준으로 미국식 채택\\xa0 \\xa0 \\xa02005.08\\n',\n",
       " 'legacy 유산, 유증, 업적\\n',\n",
       " 'get a deal 매매를 하다, 거래를 하다\\n',\n",
       " 'Barack Obama continues to push for his economic recovery plan버락 오바마 당선인, 계속해서 경기부양책의 의회 승인 촉구2009.01\\n',\n",
       " 'Roh apologizes for leaving Korean soldiers in Iraq 노대통령, 이라크내 한국군 철군 못해 죄송\\xa0 \\xa0 \\xa02008.02\\n',\n",
       " 'minor 미성년자 defendant 피고인\\n',\n",
       " '군인들은 마을 서쪽 11km 지점에서 공격 당했다고 Maj Gen William Caldwell 대변인은 말했다.\\n',\n",
       " '광고방송은 Univision, BET, MSNBC 그리고 TV One에서도 방영됩니다.”\\n',\n",
       " 'Abortion is legalized in Mexico City 멕시코 시티, 낙태 합법화\\xa0 \\xa0 \\xa02007.06\\n',\n",
       " 'embezzlement 도용, 착복, 횡령\\n',\n",
       " 'N Korea floods kill more than 220 ˝북한, 홍수로 220명 이상 사망˝\\xa0 \\xa0 \\xa02007.11\\n',\n",
       " 'Third Hostage’s Life in Jeopardy 세 번째 인질의 생명이 위태롭다\\xa0 \\xa0 \\xa02007.11\\n',\n",
       " 'Delegates of the two Koreas visit남북 대표단의 방문2005.09 원문 & 독해설명 인쇄\\n',\n",
       " 'Chinese citizen beaten to death by ‘Chengguan’중국 시민, 공안에 폭행 당해 숨져2008.06\\n',\n",
       " '카는 영화 ‘미세스 엠마’(Hold the Dream), 아섬 가든(The Assam Garden) 등에 출연하는 등 1985년까지 연기 활동을 계속 했다.\\n',\n",
       " 'NTS tax audits of 6 foreign funds.국세청, 외국계 펀드 6곳 세무 조사 원문 & 독해설명 인쇄\\n',\n",
       " 'The recovery of wartime control of forces won’t affect the alliance작통권 이양, 양국 협력관계에 영향주지 않을 것2006.10\\n',\n",
       " '단어장 The Justice Ministry defer making a decision on hot issue법무부, 핵심쟁점 사항 입장 유보2007.08\\n',\n",
       " 'wreckage 난파, 난선, 파괴\\n',\n",
       " 'Six-nation talks will resume in Beijing 6자 회담, 베이징에서 재개\\xa0 \\xa0 \\xa02007.02\\n',\n",
       " 'Army failed to achieve its recruiting goal.미군, 모병 목표 달성 못 해\\n',\n",
       " 'Park Jin claimed the possibility of US’s preemptive attacks on NK.박진 의원, “미, 대북 선제공격 가능2005.08\\n',\n",
       " 'Cannibalistic Instincts)’이라는 제목의 소설 초안을 발견했다고 말했다.\\n',\n",
       " 'Beijing pressed the World Bank to remove pollution research˝중국, 공해 관련 보고서 삭제하도록 세계 은행에 압력˝2007.09\\n',\n",
       " 'Atlanta, Georgia (CNN) / 이수지(JOINS)\\n',\n",
       " 'Seoul Central District Court orders a new trial on a “Judicial murder”서울중앙지법, “사법 살인’ 재심 결정2006.02 원문 & 독해설명 인쇄\\n',\n",
       " 'Thousands stage anti-U.S military base수 천명의 시위대, 평택 미군 기지 확장이전 반대 시위2006.07\\n',\n",
       " 'hand over 넘겨 주다\\n',\n",
       " 'first thing 즉시, 무엇보다 앞서\\n',\n",
       " 'spread around the wealth 부를 분배하다\\n',\n",
       " '동물보호단체‘동물의 윤리적인 대우를 위한 모임(People for the Ethical Treatment of Animals)’소속 회원 10명은 법원 밖에서 상처 입은 개의 사진과‘투견자들을 공개하라!’\\n',\n",
       " 'Oil refineries and gas stations are enjoying increasing sales margin.정유사 및 주유소 판매 마진 크게 증가2005.08\\n',\n",
       " 'KOSPI skyrocketed by the news of Korea’s possible rating upgrade신용 등급 상향 검토 소식에 코스피 지수 폭등2007.09 원문 & 독해설명 인쇄\\n',\n",
       " 'human rights 인권\\n',\n",
       " \"East Timor's President takes control the country's national security and defense동티모르 대통령, 긴급조치 발동2006.07\\n\",\n",
       " 'Asiana to begin flights to Paris in March 2008아시아나 항공, 2008년 3월부터 서울-파리 노선 운항 시작2007.04\\n',\n",
       " 'The first United Nations climate conference has opened.첫 유엔 기후회의가 열림2006.01 원문 & 독해설명 인쇄\\n',\n",
       " 'Prosecutors raids the headquarters of KEB and the houses of its former executives검찰, 외환은행 본점과 전 경영진 자택 수사2006.08\\n',\n",
       " 'S. Korea spurns N. Korea ship search plan한국, 북한 선적 조사 계획 일축2007.01\\n',\n",
       " '에비니르는 지난해 던전/마스터링 케미스트리 솔루션(Dungeons/Mastering Chemistry Solutions)이라는 온라인 동호회를 개설했다.\\n',\n",
       " 'S. Korea, US agree to wrap up FTA talks 한미 FTA 협정 마무리 가속화하기로\\xa0 \\xa0 \\xa02007.06\\n',\n",
       " 'Prime Minister 국무총리, 수상\\n',\n",
       " 'The government would reduce the planned percentage of power generation from nuclear.원자력 발전 동력 비율 줄여나갈 계획2005.08\\n',\n",
       " 'forgery 위조 문서\\n',\n",
       " '* 모스키토 베이(Mosquito Bay), 푸에르토리코\\n',\n",
       " 'terrific movie 걸작 영화\\n',\n",
       " 'ceasefire 휴전, 정전 proposal 제의, 제안\\n',\n",
       " '˝Australia’s new citizenship test, too hard for immigrants˝ ˝호주의 새로운 시민권 시험, 이민자들에게는 너무 어려워˝\\xa0 \\xa0 \\xa02007.11\\n',\n",
       " 'calculation 계산(하기), 산출\\n',\n",
       " 'Abe sparks new debate on issue of sex slaves 아베 신조 일본 수상 발언 위안부 문제에 또 다른 논쟁 불러 일으켜\\xa0 \\xa0 \\xa02007.05\\n',\n",
       " '개입이 없다면, 그들은 이주 직업 살인마(migrant professional killers)라는 잃어버린 세대로 자랄 수 있다.\\n',\n",
       " 'Wall Street and Main Street in the Same Boat and Sinking Together 월가와 실물 경제, 침몰하는 배에 탄 공동운명체\\xa0 \\xa0 \\xa02008.10\\n',\n",
       " '절정에 이르다 (Her career culminated in her appointment as director.\\n',\n",
       " 'hostage 인질, 담보물\\n',\n",
       " 'FAA 미 연방항공국(=Federal Aviation Administration) air traffic controller 항공 관제사\\n',\n",
       " 'Lee retreats from his pledges during the campaign 이명박 대통령 당선인, 핵심 선거 공약 벌써 포기\\xa0 \\xa0 \\xa0200806.00\\n',\n",
       " 'allegedly 전해진 바에 의하면\\n',\n",
       " 'discussion 토론, 토의;\\n',\n",
       " 'KATHMANDU, Nepal (CNN) / 이수지(JOINS)\\n',\n",
       " 'Barefoot in the Park)’, ‘캣 벌루(Cat Ballou)’, ‘데이 슛 호시즈, 돈 데이(They Shoot Horses, Don t They)’ 등에 출연했다.\\n',\n",
       " 'MOSCOW, Russia (CNN) / 이정인(JOINS)\\n',\n",
       " 'general 일반적인, 전반에 걸치는 \\xa0\\xa0shortage 부족 \\xa0\\xa0skilled labor 숙련된 노동력 \\xa0\\xa0workshop 작업장, 공장 \\xa0\\xa0mine 광산, 광업소 번역 :\\n',\n",
       " '단어장 Washington appoints Christopher R. Hill as new top envoy to Seoul.서울의 새 외교관으로 크리스토퍼 힐 내정2005.08\\n',\n",
       " 'Attorney General 미 법무장관\\n',\n",
       " '이 앨범에 실린 ‘Cum on feel the noise’로 톱40에 올랐다.\\n',\n",
       " 'Foreigners cast ballots in May election주한 외국인, 처음으로 올 5월 지방선거 참여해2006.05 원문 & 독해설명 인쇄\\n',\n",
       " 'insurgent 모반한, 반란을 일으킨\\n',\n",
       " 'Second Korean hostage found dead 두 번째 한국인 인질 사체 발견\\xa0 \\xa0 \\xa02007.11\\n',\n",
       " 'protectionist 보호주의\\n',\n",
       " 'Zarqawi’s group denied sending a message to threaten attacks on Japan.자르카위 집단, 일본 공격 위협 메시지 송신 부인2005.08\\n',\n",
       " 'function pop_open(url){win = window.open(url,\\'movie\\',\"scrollbars=no,width=770,height=570,left=50,top=50\");}\\n',\n",
       " 'Nominating race began with Iowa caucuses대선 후보 지명을 위한 아이오와 주 전당 대회 개시2008.06 원문 & 독해설명 인쇄\\n',\n",
       " 'Palestinian prisoners go on hunger strike.팔레스타인 수감자 단식투쟁2005.08 원문 & 독해설명 인쇄\\n',\n",
       " 'LONDON, England(CNN) / 이수지(JOINS)\\n',\n",
       " '-North Korea nuclear standoff한국 정부, 미-북 대치 상황 타개 노력2006.12\\n',\n",
       " 'propose, put forward, reject a motion (동의안을 제안, 제출, 거부하다)\\n',\n",
       " '공을 가볍게 쳐서 구멍에 넣다 (= hit the ball with a light stroke so that it rolls across the ground into or nearer to the hole, usually on the green)\\n',\n",
       " 'contractor 계약자, 청부인, 수축하는 것\\n',\n",
       " 'Korea keeps trying to be the international financial hub ˝정부, 국제 경제의 중심지가 되기 위한 계획안 발표˝\\xa0 \\xa0 \\xa02007.10\\n',\n",
       " '단어장 The number of new enrollees to be sharply reduced.대학 입학 정원 대폭 축소할 계획2005.08\\n',\n",
       " \"hanging up one's robe 은퇴하다, 퇴임하다\\n\",\n",
       " 'WASHINGTON (CNN) ##http://article.joins.com/article/cnn_e/article.asp?cat_code=22&Total_ID=2775971\\n',\n",
       " 'Dali Lama made an honorary citizen of Paris 달라이라마, 명예 파리 시민 되다\\xa0 \\xa0 \\xa0200809.18\\n',\n",
       " '단어장 Half of the Korean minor manufacturers plans to relocate their plants abroad within 2 years.중소기업의 절반이 2년 이내 해외 이전 계획2005.08\\n',\n",
       " 'FIFA will give any penalties for N.K crowds’ uncontrolled behavior.FIFA, 북한 관중 난동에 대해 징계 있을 듯\\n',\n",
       " 'ministerial 성직자의, 정부측의, 보좌의, 수단이 되는\\n',\n",
       " 'The ruling Uri Party plans to revise the Broadcast Act.열린우리당, 방송법 개정 추진2005.09\\n',\n",
       " 'LONDON, England (CNN) / 이수지(JOINS)\\n',\n",
       " 'Washigton (AP) / 이수지 (JOINS)\\n',\n",
       " 'PARIS, France (CNN) ##http://article.joins.com/article/cnn_e/article.asp?cat_code=22&Total_ID=2786052\\n',\n",
       " 'The military trial of abusing Iraquis opens 미군, 이라크인 학대 군사재판 열려\\xa0 \\xa0 \\xa02006.07\\n',\n",
       " 'The abuse of Iraqi prisoners by U.S. soldiers threatens Bush’s rationale.미군 병사 이라크 포로 학대, 부시 대통령 정당성 위협2005.08\\n',\n",
       " 'advocate 지지자, 옹호자, 대변인\\n',\n",
       " 'defaulter 체납자, 공금 횡령자, 결석자\\n',\n",
       " 'retailer 소매상인\\n',\n",
       " 'Minister Ban said Korean troops will not be engaged in combat.반기문 외교통상부 장관, 한국군의 전투 작전 불참 의사 확실히 밝혀2005.08\\n',\n",
       " 'South Korea´s economic growth to slow to 4.6 percent next year 국제 통화 기금, 내년 한국 경제 성장률 4.6%로 둔화될 것으로 예측\\xa0 \\xa0 \\xa02008.03\\n',\n",
       " 'deficit spending 적자지출\\n',\n",
       " 'LONDON, England (CNN) / 이수지(JOINS)\\n',\n",
       " 'have a leg up on ~보다 유리하다, 출발부터 앞서다\\n',\n",
       " 'close the deal 매듭짓다, 마무리 짓다, 타결하다\\n',\n",
       " 'Iraqs prime minister insists theres no room for militants in the new Iraq.이라크 총리, 새 이라크는 무장단체 허용 안 해2005.08\\n',\n",
       " 'complaint 불만, 불평\\n',\n",
       " 'capitalize on 이용하다, 편승하다\\n',\n",
       " 'Congress 미 의회 stimulate 활기를 띠게 하다, 자극하다\\n',\n",
       " 'WASHINGTON (CNN)/권성근(JOINS)\\n',\n",
       " 'Treasury Secretary 미 재무장관\\n',\n",
       " 'appeal 호소, 애원, 간청\\n',\n",
       " 'The first Malaysian cosmonaut returns최초의 말레이시아 우주인 귀환2008.02 원문 & 독해설명 인쇄\\n',\n",
       " '단어장 s nuclear attack in 1991.주한미군, 91년에 대북 핵 공격 훈련 실시\\n',\n",
       " 'US General in Afghanistan Wants More Troops ASAP 아프가니스탄 주둔 미 사령관, 신속한 추가 파병 요청\\xa0 \\xa0 \\xa02008.09\\n',\n",
       " 'hardline 강경 노선, 강경책, 타협 않는\\n',\n",
       " 'demonstrator 시위자, 데모 참가자\\n',\n",
       " 'LONDON, England (CNN) / 이수지\\n',\n",
       " 'Sloppy engine maintenance caused fighter jet crashF-16 추락 사고 원인은 엔진정비 불량2007.05\\n',\n",
       " '초박형 맥북(MacBook)\\n',\n",
       " 'GAZA CITY (CNN) / 이수지 (JOINS)\\n',\n",
       " \"Korea's fertility rate among world is in the lowest level.한국 출산율, 세계 최저 수준 2005.10\\n\",\n",
       " 'SEOUL, South Korea (CNN) / 이수지(JOINS)\\n',\n",
       " 'nutritious 영양가 있는\\n',\n",
       " 'middle class 중산층\\n',\n",
       " 'to invest social infrastructure.국민연금공단 사회 시설에 투자 예정2005.08\\n',\n",
       " '국영방송 ‘채널 1(Channel One)’은 ‘모든 폭탄의 아버지 (dad of all bombs)’라는 별칭을 가진 이 진공폭탄이 ‘모든 폭탄의 어머니(Mother Of All Bombs, MOAB)’라는 별칭을 가진 미국의 공중폭발대형폭탄(Massive Ordnance Air Blast,MOAB)보다 4배 이상 강한 위력을 가졌다고 보도했다.\\n',\n",
       " 'LAGOS, Nigeria (CNN) ##http://article.joins.com/article/cnn_e/article.asp?cat_code=22&Total_ID=2767955\\n',\n",
       " 'legislature 주의회, 입법부\\n',\n",
       " 'Lebanon blast kills UN soldiers레바논에서의 폭발에 유엔 병사들 사망2007.09\\n',\n",
       " 'Senior N.Korean official due in Seoul for talks on summit accord정상회담 합의 논의 위해 북한 고위 관리 서울 방문 예정2008.06\\n',\n",
       " 'Foreign Minister plans to stop visiting the Yasukuni war shrine반기문 외교통상부 장관, 야스쿠니 신사 참배 중단 촉구 예정2006.09\\n',\n",
       " 'look much more like  rather than ... ... 보다는 오히려 에 훨씬 더 흡사하다\\n',\n",
       " 'aggravated 가중된, 악화된\\n',\n",
       " '미국 심장협회(American Heart Association)에 의하면 건강한 사람의 평균 심장 박동수는 60bpm에서 80bpm이라고 한다.\\n',\n",
       " 'Nine companies accused of illegal copying and using software.소프트웨어 불법 복제 및 사용 9개 기업 고발2005.08\\n',\n",
       " 'BAGHDAD, Iraq (CNN) / 박주영 (JOINS)\\n',\n",
       " 'joins.com CNN한글뉴스\\n',\n",
       " 'China’s Delayed Report of Sunken Ship Angers Koreans 중국의 한국 침몰어선 늑장신고에 격분한 한국\\xa0 \\xa0 \\xa02007.07\\n',\n",
       " 'Detroit to Choose Mayor, for a Few Months at Least 디트로이트, 잔여 임기 수행할 시장 선출\\xa0 \\xa0 \\xa02009.06\\n',\n",
       " 'Park, is suspended from his seat on the IOC 박용성 전 두산회장, IOC 위원 일시 박탈\\xa0 \\xa0 \\xa02006.05\\n',\n",
       " 'criticism 비평, 비판\\n',\n",
       " 'jolly 명랑한, 즐거운, 유쾌한 the other day 일전에, 며칠 전에\\n',\n",
       " 'Liberal groups opposes the dissolution of the Unification Ministry 진보 진영, 통일부 해산 소식에 반발\\xa0 \\xa0 \\xa0200806.05\\n',\n",
       " '(문제를) 다루다, 극복하다 (=deal with or overcome an awkward problem, a difficult piece of work, etc)\\n',\n",
       " 'New history textbook aims to balance the ideological pendulum 이데올로기 균형 잡기 위해 새 국사 교과서 편찬\\xa0 \\xa0 \\xa02007.02\\n',\n",
       " 'Death on the Nile)의 배우 피터 유스티노브, 영화‘워 러버(원제:\\n',\n",
       " 'Threat of terror attacks in Middle Eastern are growing ahead of the Islamic holy month of Ramadan.이슬람 성월 라마단 기간 중 중동 지역의 테러위협 가중돼2005.08\\n',\n",
       " 'Russia calls on Iran to stop nuclear-related movement.러시아, 이란에 핵 관련 움직임 중단 촉구 2005.09\\n',\n",
       " 'Bush Pressures Roh to Keep Troops in Iraq˝부시 대통령, 이라크 한국군 주둔 유지토록 노대통령에 압력 행사˝2007.12\\n',\n",
       " 'WASHINGTON (CNN) ##http://article.joins.com/article/cnn_e/article.asp?cat_code=22&Total_ID=2813348\\n',\n",
       " 'Air Force firing range will be shut down next year.쿠니 미군 사격장 2005년 폐쇄2005.08 원문 & 독해설명 인쇄\\n',\n",
       " 'cnn 한글뉴스\\n',\n",
       " 'Israeli Prime Minister is ready to negotiate peace with the Palestinians 올메르트 이스라엘 총리, 팔레스타인과 평화협상 의도 밝혀\\xa0 \\xa0 \\xa02006.07\\n',\n",
       " 'Treasury Secretary (미국) 재무장관\\n',\n",
       " 'tumble 폭락하다, 무너지다 credit market 신용시장\\n',\n",
       " 'Park wins the Kraft Nabisco Championship.박지은, 미 LPGA 메이저 첫 우승2005.08 원문 & 독해설명 인쇄\\n',\n",
       " '‘유엔 인권조정실(U.N. Office for the Coordination of Humanitarian Affairs)은’ “하라트, 파라, 바드기스, 구르에서 약 329명이 사망했다”고 보고했다.\\n',\n",
       " '* 애서티그 섬 국립 해안 공원(Assateague Island National Seashore), 버지니아주와 메릴랜드주\\n',\n",
       " '그러나 조건절의 If가 생략되면 Were the competition not so great와\\xa0같이 주어와 동사가 도치된다.\\n',\n",
       " 'Prosecutors investigates former Cheong Wa Dae official검찰, 전 청와대 행정관 조사 예정2006.10\\n',\n",
       " 'More than 200 slaves rescued in Henan, China 중국 허난성에서 200명 이상의 노예 구출\\xa0 \\xa0 \\xa02007.08\\n',\n",
       " 'Turkey’s Foreign Minister Abdullah Gul becomes the new president ˝터키 압둘라 굴 외무부 장관, 신임 대통령으로 취임˝\\xa0 \\xa0 \\xa02007.11\\n',\n",
       " 'Park, is suspended from his seat on the IOC박용성 전 두산회장, IOC 위원 일시 박탈2006.05 원문 & 독해설명 인쇄\\n',\n",
       " 'YMCA files a suit against KT, Hanaro for fixing prices.YMCA, KT•하나로통신 담합 손해배상 소송\\n',\n",
       " 'resumption 회수, 회복, 재개\\n',\n",
       " 'Michael Jackson’s previous allegations of child abuse can be evidences for his recent trial.마이클 잭슨의 과거 아동 성추행 진술, 재판 증거로 쓰일 수 있어 원문 & 독해설명 인쇄\\n',\n",
       " 'For “golden days”, people rush to abroad추석 환금 연휴 맞아 외국 여행 물밀 듯 예약2006.10\\n',\n",
       " 'Presidentail New Year’s speech “Let’s prepare for future with responsible attitude” 노무현 대통령의 신년 연설\\xa0 \\xa0 \\xa02006.03\\n',\n",
       " 'Saddam Hussein’s senior associates will be executed사담 후세인 측근 곧 사형될 듯2007.03\\n',\n",
       " 'willingness 기꺼이 하기 transparency 투명(성), 투명도\\n',\n",
       " 'World Bank hears Wolfowitz case세계은행, 울프위츠 스캔들 청문회2007.07 원문 & 독해설명 인쇄\\n',\n",
       " 'Gross Domestic Product 국내총생산 (=GDP)\\n',\n",
       " 'wash out 실격되다, 탈락하다\\n',\n",
       " 'Breakthrough in the transfer of frozen North Korean funds 북한 자금 동결 해제 시작\\xa0 \\xa0 \\xa02007.08\\n',\n",
       " 'Hyundai Motor’s Unionists to Stage Partial Strike현대자동차 노조 FTA반대 파업 실시 예정2007.08\\n',\n",
       " 'Attempts to get N.K.back to the six-party talks북한을 6자회담에 복귀시키려는 노력\\n',\n",
       " \"Timothy Geithner's job security takes another hit 티모시 가이트너 장관, 고용 보장에 다시한번 타격 입어\\xa0 \\xa0 \\xa02009.06\\n\",\n",
       " 'fraud 사기, 속임\\n',\n",
       " 'AP 라디오 뉴스입니다. international space station 국제우주정거장\\n',\n",
       " 'The property tax scheme threatens to aggravate and real estate market.재산세로 악화되는 부동산 시장2005.08 원문 & 독해설명 인쇄\\n',\n",
       " 'likely 할 것 같은\\xa0 / take on particular importance\\xa0특별한 중요성을 지니다\\xa0 / ready oneself for  을 준비하다\\xa0 / reshuffle 개혁\\n',\n",
       " 'McDonalds being sued over nude photos나체 사진으로 고소당한 맥도날드2008.12\\n',\n",
       " 'Candidates Unveil Economic Plans 두 대선 후보가 밝힌 경제 공약\\xa0 \\xa0 \\xa02008.10\\n',\n",
       " 'Newsweek 한글판\\n',\n",
       " 'at large 잡히지 않은, 자유로운\\n',\n",
       " 'Uri Party lawmaker Shin Ki-nam resigned as a party leader.신기남 열린 우리당 의장, 의장직 사퇴2005.08\\n',\n",
       " 'U.S. military hardware in Korea in a state of disrepair.주한미군 군사장비 고장 심각\\n',\n",
       " 'CLEARWATER, Florida (CNN) / 이수지(JOINS)\\n',\n",
       " 'The UN reporter on torture has arrived in Communist China.유엔 고문특별보고관 중국 도착2006.01 원문 & 독해설명 인쇄\\n',\n",
       " 'Lee Hit for Defaming Women ˝이명박 후보, 여성 비하 발언으로 비난 받아˝\\xa0 \\xa0 \\xa02007.12\\n',\n",
       " 'N.Korea to call Japan leaders ‘Political imbeciles’ 북한, 일본 정부는 ‘정치적 멍청이’\\xa0 \\xa0 \\xa02007.01\\n',\n",
       " 'BEIJING, China (CNN) ##http://article.joins.com/article/cnn_e/article.asp?cat_code=22&Total_ID=2809293\\n',\n",
       " 'rural 농촌, 시골\\n',\n",
       " 'Wall Street and Washington share bailout idea 월가와 미 정부 긴급 구제 금융 조치\\xa0 \\xa0 \\xa0200809.08\\n',\n",
       " 'N. Korea refugees taken back to North탈북 가족 9명 다시 북송2007.04\\n',\n",
       " 'lead author 주 작성자, 메인 작가\\n',\n",
       " 'incumbent 현직의, 재직중의\\n',\n",
       " 'pull the hand back 내민 손을 거둬들이다, 화해를 철회하다\\n',\n",
       " '전미(全美) 고속도로교통안전위원회(National Highway Traffic Safety Administration, NHTSA)가 이달 초부터 이 같은 착시현상을 이용해 보행자 사고도 줄일 수 있는지에 대한 연구에 착수했다.\\n',\n",
       " 'STUTTGART, Germany (CNN) / 이수지(JOINS)\\n',\n",
       " \"크릴렌코는 ‘히트맨’(Hitman)과 ‘사랭해, 파리’(Paris, je t'aime) 등의 영화에 출연했다.\\n\",\n",
       " 'No breakthrough in latest FTA talks 한미 두 나라, FTA 협상 견해차 여전해\\xa0 \\xa0 \\xa02007.02\\n',\n",
       " 'World Bank head Wolfowitz to quit세계은행, 울프위츠 사퇴 결정2007.07 원문 & 독해설명 인쇄\\n',\n",
       " '단어장 South and North Korea had talks for North Korea’s nuclear issues and South Korea’s economic support to North.남북한, 북핵 문제와 북한에 대한 경제 지원 문제에 대해 회담 가져\\n',\n",
       " 'South pledge on North food aid 한국, 북한 쌀 지원할 것\\xa0 \\xa0 \\xa02007.07\\n',\n",
       " 'Fire in Ohio kills a woman and four children 오하이오 화재로 여성 한 명과 어린이 네 명 사망\\xa0 \\xa0 \\xa02008.12\\n',\n",
       " 'NEW YORK (CNN) / 이수지(JOINS)\\n',\n",
       " 'Park Geun-hye elected as the Grand National Party’s new leader.박근혜 의원 한나라당 새 지도자로 선출2005.08\\n',\n",
       " 'JonBenet exposes some countries teaching flaws 외국인 강사 채용 절차에 문제 있어\\xa0 \\xa0 \\xa02006.10\\n',\n",
       " '단어장 “Fahrenheit 9/11” on screen in theatres in Korea “화씨 9/11” 국내 개봉2005.08\\n',\n",
       " 'rush down 흘러내려가다\\n',\n",
       " 'be abducted at gunpoint 총으로 위협을 받아 납치되다 federal magistrate 연방 치안 판사\\n',\n",
       " 'DJ to Receive Honorary Doctorate in JapanDJ 일본 리츠메이칸대서 명예박사2008.02\\n',\n",
       " 'function pop_open(url){win = window.open(url,\\'movie\\',\"scrollbars=no,width=770,height=570,left=50,top=50\");}\\n',\n",
       " 'Barack Obama On The Financial Crisis 경제 위기에 대한 미 대선 후보들의 해법\\xa0 \\xa0 \\xa02008.10\\n',\n",
       " 'Korea will gain access to 10 million metric tons of LNG.우리나라, 1000만톤 LNG 생산 전망2005.08\\n',\n",
       " 'oil platform 석유 생산 플랫폼\\n',\n",
       " 'Won-dollar rate highest in 10 years 원 달러 환율 지난 10년간 최고 수준으로 마감\\xa0 \\xa0 \\xa02008.01\\n',\n",
       " 'Brightened prospects for six-nation talks on ending the North Korean nuclear crisis북핵 위기를 마무리할 6자회담 전망 밝아2005.08\\n',\n",
       " 'New banknotes to debut새 지폐 선보인다2007.04\\n',\n",
       " 'in any event 좌우간, 아무튼, 여하튼\\n',\n",
       " 'logistics 세부계획\\n',\n",
       " 'trash talk 험담, 비웃는 말, 독설\\n',\n",
       " '단어장 Indonesia, steps up emergency preparations인도네시아, 비상사태 단계 올려2006.08\\n',\n",
       " 'Salvadoran 엘살바도르의\\n',\n",
       " 'US Democrats seal Senate victory미국 민주당 중간 선거 승리 재확인2007.01 원문 & 독해설명 인쇄\\n',\n",
       " 'top Diplomat 최고 외교관, 여기서는 미 국무장관직(Secretary of State)을 의미\\n',\n",
       " 'Epidemiologist 역(疫)학자, 전염병학자\\n',\n",
       " 'South Korea will send $1 million worth of supplies to NK.정부, 100만 달러 상당의 구호품 북에 지원 예정2005.08 원문 & 독해설명 인쇄\\n',\n",
       " 'Saddam Hussein, returns to the hands of his countrymen 이라크 국민 품으로 돌아온 사담 후세인\\xa0 \\xa0 \\xa02005.08\\n',\n",
       " '얼굴을 맞대고 (=close to and looking at somebody)\\n',\n",
       " 'tough sledding 곤란한 일, 불리한 상황\\n',\n",
       " 'Foreign Minister Ban Ki-Moon blamed Japanese counterpart Nobutaka Machimura for his inappropriate comment.반기문 외교부장관, 마치무라 일 외상의 부적절한 발언 비난\\n',\n",
       " 'IT, South Korea ranks the 3rd IT 부문, 한국 2년째 3위 고수\\xa0 \\xa0 \\xa02006.09\\n',\n",
       " 'FTA positively affects S. Korea credit fundamentals 한미 FTA 체결, 한국 국가 신용등급에 긍정적 요인\\xa0 \\xa0 \\xa02007.07\\n',\n",
       " 'Japan extends North Korea sanctions일, 대북제재 연장2008.01 원문 & 독해설명 인쇄\\n',\n",
       " 'Seoul downplays US rhetoric on NK Nukes.한국, 북핵 문제에 대한 미국의 발언에 큰 동요 없어2005.08\\n',\n",
       " 'LONDON, England (CNN) / 이수지(JOINS)\\n',\n",
       " 'Commerce Department reports the economy shrank at an annual rate of 3.8%상무부, 경제가 연간기준으로 3.8% 감소했다고 발표2009.01\\n',\n",
       " 'N.K. leader’s third wife buried in secret.김정일 세 번째 부인, 사망 후 비밀리에 장례 치뤄져2005.08\\n',\n",
       " 'Australia supports fund to remove Mugabe 호주, 무가베 정권 퇴출 위한 자금 지원\\xa0 \\xa0 \\xa02007.07\\n',\n",
       " \"Grand National Party's sweep of elections한나라당 5.31 지방선거 압승2006.07 원문 & 독해설명 인쇄\\n\",\n",
       " 'Secretary of State from North Korea.미 국무장관, 북한의 초청 받은 적 없다.\\n',\n",
       " 'OPEC 석유수출국기구(=Organization of Petroleum Exporting Countries)\\n',\n",
       " 'North suspends today’s N-S meeting 북한, 오늘 남북 회담 중지시켜\\xa0 \\xa0 \\xa0200806.06\\n',\n",
       " 'massacre 대학살, 대량 살륙\\n',\n",
       " 'stay healthy 건강을 유지하다\\n',\n",
       " 'Louis city alderman wants people to arm themselves 시민들의 총기소지를 희망하는 세인트루이스의 시의회 의원\\xa0 \\xa0 \\xa02008.12\\n',\n",
       " '미 연방 주류ㆍ담배 및 화기폭발물관리국(Federal Bureau of Alcohol, Tobacco, Firearms and Explosives, ATF) 대변인은 “일부 요원들이 이번 사건 현장 수습을 지원하고 있다”고 밝혔다.\\n',\n",
       " 'Lady Bird Johnson flew away to the netherworld린든 존슨 전 미대통령 미망인 서거2007.10\\n',\n",
       " 'come up with a consensus 합의를 이루다\\n',\n",
       " 'Korea’s Growth at Bottom in Asia 한국의 성장세, 아시아 최저\\xa0 \\xa0 \\xa02007.08\\n',\n",
       " 'Pets.com, Living.com, Furniture.com과 같은 이름의 큰 회사들과 많은 다른 회사들이 그냥 사업을 그만두었다.\\n',\n",
       " 'Korean regulations on foreign firms are not conform Korean vision to be a financial hub of Northeast Asia.외국계 기업에 대한 우리 나라의 규제, 동북아 금융 허브 달성에 방해돼\\n',\n",
       " 'TOKYO, Japan (CNN) ##http://article.joins.com/article/cnn_e/article.asp?cat_code=22&Total_ID=2767533\\n',\n",
       " 'Springsteen, Joel Team up for Obama 오바마 지원을 위해 의기투합한 브루스 스프링스틴과 빌리 조엘\\xa0 \\xa0 \\xa02008.10\\n',\n",
       " \"Australia's foreign minister tells an inquiry about bribes to Saddam Hussein호주 외무장관, 사담 후세인 뇌물 관련 청문회에서 진술2006.05\\n\",\n",
       " 'Treasury Secretary 재무장관\\n',\n",
       " 'in honor of ~에 경의를 표하여, ~을 축하하여\\n',\n",
       " 'National Assembly and nine other government institutes have been attacked by hackers.국회 및 9개 정부 부처 해커 공격 받아2005.08\\n',\n",
       " '수륙 군사 작전 (= operations involving both sea and land forces)\\n',\n",
       " 'G20 finance ministers meeting opens this weekend in EnglandG20 재무장관 회의, 이번 주말 영국에서 개최2009.06\\n',\n",
       " 'The father of Australian Crocodile Hunter wanted ordinary funeral 스티브 어윈의 아버지는 아들의 장례식을 조촐하게 치루길 원해\\xa0 \\xa0 \\xa02006.11\\n',\n",
       " 'poll rallies 선거 유세 candidate 후보자\\n',\n",
       " 'A rare tornado hit a town in southern China.중국 남부 마을 덮친 거대 토네이도2005.08\\n',\n",
       " 'Philippine and Muslim rebels to make peace talks in Malaysia.필리핀 정부와 이슬람 반군 세력, 말레이시아에서 평화 협상 할 것\\n',\n",
       " 'drug smuggling 마약밀수\\n',\n",
       " 'Postal Evidence of the Holocaust and the Devastation of Europe)이란 제목의 전시회가 될 것이다.\\n',\n",
       " 'President Roh said the legacy of Japan’s colonial rule of Korea must be eliminated.노 대통령, 일제 강점기 잔재 청산 지시\\n',\n",
       " \"America's new objectives for the Afghanistan war to be announced next week아프가니스탄 전쟁에 대한 미국의 새로운 목표 내주에 발표 예정2009.06\\n\",\n",
       " 'confirmation 입증, 확인, 확정, 확립, 증거\\n',\n",
       " \"Japan's derailed commuter train accident has killed at least 69 people.일본, 통근 열차 탈선 사고로 최소 69명 사망\\n\",\n",
       " \"Texas peanut plant runs for years without license땅콩버터'社, 텍사스 공장도 무허가 운영2009.02\\n\",\n",
       " 'North Korean refugees arrived in the US북한 난민, 미국 망명2006.06 원문 & 독해설명 인쇄\\n',\n",
       " 'inadvisable 권할 수 없는;\\n',\n",
       " 'A new turn for the disputes between Spain and Venezuela 스페인-베네주엘라 지도자간 분쟁, 새 국면에 접어들어\\xa0 \\xa0 \\xa02008.03\\n',\n",
       " 'Government overseas remittance restriction movement may backfire in foreign exchange transaction liberalization.정부의 해외 송금 제한 계획으로 외환 거래 자유화 발목\\n',\n",
       " 'Survivors of Java earthquake fece a terrible 4th night인도네시아 지진 피해자들, 길거리에서 4번 째 밤 지새2006.07\\n',\n",
       " \"'Encouraging signs,' CDC says 신종 플루 '낙관론' 고개\\xa0 \\xa0 \\xa02009.06\\n\",\n",
       " 'highs and the lows 고저, 기복\\n',\n",
       " 'pessimistic 비관적인\\n',\n",
       " 'HONIARA, Solomon Islands (CNN) / 박주영 (JOINS)\\n',\n",
       " 'Rod Blagojevich 로드 블라고예비치, 일리노이주 주지사\\n',\n",
       " 'inauguration 취임식, 준공식\\n',\n",
       " 'President Roh slams Japan for its ‘pre-emptive strikes’ remark 노대통령, 일본의 ‘대북선제공격론’ 비난\\xa0 \\xa0 \\xa02006.09\\n',\n",
       " 'A government-funded North Korea research institute voiced human rights in the North.북한 인권 문제에 대한 한국 정부 비판2006.01\\n',\n",
       " 'Treasury Secretary 미국 재무장관\\n',\n",
       " 'National Day of Prayer 전국 기도의 날\\n',\n",
       " 'Serious food shortage in North Korea due to recent heavy floods> 북한 홍수 피해로 식량난 심각\\xa0 \\xa0 \\xa02007.11\\n',\n",
       " 'Taliban to discuss ransom demands˝탈레반, 몸값 요구 논의 예정˝2007.11\\n',\n",
       " '##http://article.joins.com/article/cnn_e/article.asp?cat_code=22&Total_ID=3012803\\n',\n",
       " 'Consumer Confidence Soared in April美 4월 소비심리 대폭 개선2009.06\\n',\n",
       " 'Fun With Dick and Jane)’, ‘바바렐라(Barbarella)’, ‘맨발공원(원제:\\n',\n",
       " \"트란 안 홍 감독은 1993년 영화 ‘그린 파파야 향기(Mui Du Du Xanh: L'Odeur De La Papaye Verte)로 세계에 이름을 알렸다.\\n\",\n",
       " '*싱가포르의 ‘더 뉴 마제스틱(The New Majestic)’\\n',\n",
       " 'push ~ to the ground 바닥으로 내동댕이치다, 몰아내다\\n',\n",
       " 'BAGHDAD, Iraq (CNN) / 이수지 (JOINS)\\n',\n",
       " 'Exports are expected to reach $245 billion this year올해 수출 2450억 달러 전망2005.08\\n',\n",
       " 'get a call 전화를 받다\\n',\n",
       " 'Korean Newborn babies increased for the first time in six years 한국 출생률 6년 만에 증가\\xa0 \\xa0 \\xa02007.07\\n',\n",
       " 'inseparable 분리할 수 없는, 나눌 수 없는\\n',\n",
       " 'stood out of the crowd 군중들 사이 에서 돋보이다, 눈에 띄다\\n',\n",
       " 'heads-up 알림, 주의, 경고\\n',\n",
       " 'death toll 사망자 수\\n',\n",
       " '그의 작품은 ‘폴락의 불(fire of Pollock)’과 ‘레스닉의 고정된 시선(fixed gaze of Resnick)’으로 설명했다.\\n',\n",
       " 'goalposts 골포스트, 골대\\n',\n",
       " 'Curfew started for the US troops in Okinawa오키나와 주둔 미군, 야간 통행 금지 조치 실시2008.09\\n',\n",
       " \"The Curious Case of Benjamin Button)' 3편이 유력한 수상작품으로 5개 부문 후보에 올랐지만 각 영화마다 최소한 1부문에 오르지 못했다.\\n\",\n",
       " 'Lee favored to win GNP nomination 이명박 전 서울시장 한나라당 대선 후보 지명 가능성 가장 커\\xa0 \\xa0 \\xa02007.05\\n',\n",
       " 'LONDON, England (CNN) / 이수지(JOINS)\\n',\n",
       " 'U.S. becomes an obstacle in the relationship between two Koreas.미국, 남북 관계에 걸림돌\\n',\n",
       " 'celebratory mood for Jeon’s win 전도연 수상에 전국은 축제 분위기\\xa0 \\xa0 \\xa02007.08\\n',\n",
       " 'France to ban smoking in all public 프랑스, 공공장소에서 흡연 금지\\xa0 \\xa0 \\xa02006.12\\n',\n",
       " 'Representatives of leading foreign business organizations urged to eradicate corruption.기업환경 개선 촉구2006.01\\n',\n",
       " 'President Roh calls on a “cooperative self-defense” system.노무현 대통령, “협력적 자주국방” 체계 적극 주문2005.08\\n',\n",
       " 'ABU DHABI, United Arab Emirates (CNN)/ 이정인(JOINS)\\n',\n",
       " 'assertion 단언, 주장\\n',\n",
       " 'Commerce Department 미 상무부 contract 줄어들다, 수축하다\\n',\n",
       " 'Five Korean workers are kidnapped in Nigeria나이지리아에서 한국인 근로자 5명 납치2006.07 원문 & 독해설명 인쇄\\n',\n",
       " 'South Korean troops arrived safely in the Kurdish.한국군, 쿠르드에 무사히 안착2005.08\\n',\n",
       " 'The U.S. troops in Korea will cut the number by one-third.주한 미군, 3분의 1로 감축 예정2005.08\\n',\n",
       " 'President-elect Barack Obama says national security is his top priority 버락 오바마 당선인, 국가안보가 최우선 과제라고 말해\\xa0 \\xa0 \\xa02009.01\\n',\n",
       " \"타임즈 관련기사 부제는 '백악관, 발표 내용보다 더 많이 개입(White house Role Was Wider Than It Said)' 이었다.\\n\",\n",
       " 'electoral commission 선거위원회\\n',\n",
       " 'Man held over wife’s 1981 murder 1981년 아내 살해 혐의로 체포된 남자\\xa0 \\xa0 \\xa0200809.03\\n',\n",
       " 'cash in on 돈을 벌다, 돈을 걸다, 편승하다\\n',\n",
       " 'function pop_open(url){win = window.open(url,\\'movie\\',\"scrollbars=no,width=770,height=570,left=50,top=50\");}\\n',\n",
       " 'Memorial ceremonies marking the one year anniversary of Tsunami쓰나미 1주년2006.02\\n',\n",
       " 'culminate 최고점에 달하다, 전성기에 있다\\n',\n",
       " 'Roh asks for support to host the Winter Olympics in Korea 노 대통령 동계 올림픽 개최 위해 기업 지원 당부\\xa0 \\xa0 \\xa02007.03\\n',\n",
       " 'S. Korea wants next president who revives economy 한국은 경제 성장 철학 가진 새 대통령 원해\\xa0 \\xa0 \\xa02007.02\\n',\n",
       " 'Angry villagers over China’s Child fine 중국의 자녀 부과금에 격노한 시민들\\xa0 \\xa0 \\xa02007.07\\n',\n",
       " 'Prime Minister Goh expressed his resignation.고건 총리 사의 표명2005.08\\n',\n",
       " \"중복의 (=having an area or range in common with) ''우리의 최우선 정책 목표는 효율적으로 작동되는 공정한 경쟁 시장 체제를 만드는 것이다…\\n\",\n",
       " 'regular grade 보통(일반) 등급\\n',\n",
       " 'resumption (중단 후의)재개\\n',\n",
       " 'U.S. troop redeployment effects Tongduchon residents.미군 기지 이전으로 타격 받는 동두천 거주민2005.08\\n',\n",
       " 'The first female chief makes Church history미국 성공회 첫 여성 수장 선출2006.08\\n',\n",
       " 'Spector Retrial Is Underway 여배우를 살해한 음반 제작자, 재심에 나서다\\xa0 \\xa0 \\xa02008.10\\n',\n",
       " 'It commemorates the journalists who is sacrificed 희생된 기자들을 추모하며\\xa0 \\xa0 \\xa02007.06\\n',\n",
       " '솔직한, 숨김없는 (=frank in speech, often to the point of rudeness;\\n',\n",
       " 'sexual intercourse 성관계\\n',\n",
       " '이에앞서 미국 인권을 위한 세계기구(World Organization for Human Rights USA)는 미국 지역법원에 쉬의 사건과 관련, 소송을 제기했다.\\n',\n",
       " 'work force 노동 인원\\n',\n",
       " 'Exiled Korean singer expresses his homesickness with a new album유승준 씨, 새 앨범 출시하며 배신했던 모국으로의 귀환을 희망2007.12 원문 & 독해설명 인쇄\\n',\n",
       " 'Millions of Chinese-made toys banned and recalled마약 성분 포함된 중국 산 장난감, 호주와 미국에서 리콜 조치2008.03\\n',\n",
       " ...]"
      ]
     },
     "execution_count": 12,
     "metadata": {},
     "output_type": "execute_result"
    }
   ],
   "source": [
    "# 확실히 번역기에 들어가봐야 모델 성능만 떨어뜨릴 문장들이다.\n",
    "non_korean_sentences"
   ]
  },
  {
   "cell_type": "code",
   "execution_count": 13,
   "id": "cb4cccb1",
   "metadata": {},
   "outputs": [
    {
     "name": "stdout",
     "output_type": "stream",
     "text": [
      "필터링 전 kor 문장 수: 78968\n",
      "필터링 전 eng 문장 수: 78968\n",
      "---------------------\n",
      "필터링 후 kor 문장 수: 75508\n",
      "필터링 후 eng 문장 수: 75508\n"
     ]
    }
   ],
   "source": [
    "# 제거\n",
    "print(f\"필터링 전 kor 문장 수: {len(train_ko)}\")\n",
    "print(f\"필터링 전 eng 문장 수: {len(train_en)}\")\n",
    "print(\"---------------------\")\n",
    "# 한-영 쌍으로 탈락시켜야 하기에 한국어가 아닌 문장을 찾는 인덱스가 필요함\n",
    "non_korean_indices = [i for i, sentence in enumerate(train_ko) if sentence in non_korean_sentences]\n",
    "\n",
    "# non_korean_indices 기준으로 train_ko와 train_en 전부 전처리 \n",
    "train_ko = [sentence for i, sentence in enumerate(train_ko) if i not in non_korean_indices]\n",
    "train_en = [sentence for i, sentence in enumerate(train_en) if i not in non_korean_indices]\n",
    "\n",
    "# 결과 출력\n",
    "print(f\"필터링 후 kor 문장 수: {len(train_ko)}\")\n",
    "print(f\"필터링 후 eng 문장 수: {len(train_en)}\")"
   ]
  },
  {
   "cell_type": "code",
   "execution_count": 16,
   "id": "e541687f",
   "metadata": {},
   "outputs": [
    {
     "name": "stdout",
     "output_type": "stream",
     "text": [
      "영어 문장 수: 260\n"
     ]
    }
   ],
   "source": [
    "# 혹시 영문도?? \n",
    "def is_not_english(text):\n",
    "    try:\n",
    "        return detect(text) != 'en'  # 영어 여부 확인\n",
    "    except:\n",
    "        # 언어 감지 실패 시 False 반환\n",
    "        return False\n",
    "\n",
    "# 영어 문장만 추출\n",
    "not_english_sentences = [sentence for sentence in train_en if is_not_english(sentence)]\n",
    "\n",
    "# 개수 출력\n",
    "print(f\"영어 문장 수: {len(not_english_sentences)}\")"
   ]
  },
  {
   "cell_type": "code",
   "execution_count": 17,
   "id": "0e5f9218",
   "metadata": {},
   "outputs": [
    {
     "data": {
      "text/plain": [
       "['a national average $2.42 a gallon.\\n',\n",
       " 'Germany, Austria, Switzerland and Liechtenstein.\\n',\n",
       " \"``We need a leader like him now,'' Vekshina said.\\n\",\n",
       " 'His parents were rendered speechless.\\n',\n",
       " '18. Forgetting common etiquette\\n',\n",
       " '“Long live Palestine!\\n',\n",
       " 'Individual donors can contribute $2,300 to individual candidates.\\n',\n",
       " '\"I understand 100 percent,\" said Simpson, dressed in a navy blue jail jumpsuit.\\n',\n",
       " 'Eritrea, Burundi, Comoros, Tajikistan, Sierra Leone, Liberia, Zimbabwe, Ethiopia, Haiti, Zambia, Central African Republic, Mozambique, Tanzania, Guinea-Bissau, Madagascar, Malawi, Cambodia, North Korea, Rwanda, Botswana, Niger, Kenya.\\n',\n",
       " 'Latest from markets.\\n',\n",
       " '* Maui, Hawaii\\n',\n",
       " 'º» ±â»ç´Â ¿ø¹®À» µû\\n',\n",
       " '(Nader registers 6 percent, and Barr gets 3 percent.)\\n',\n",
       " 'Al-Zaidi was dragged away.\\n',\n",
       " \"AT&T says it's cutting 12,000.\\n\",\n",
       " 'Next summer, drive.\\n',\n",
       " 'Liechtenstein is made up of 11 villages.\\n',\n",
       " 'Capricious, mercurial or just unlucky?\\n',\n",
       " 'Source 3: Supplements\\n',\n",
       " '\"Strong bones,\" Bouloux quips to his numb patient.\\n',\n",
       " 'Welcome to Pompeii.\\n',\n",
       " 'DAY TWO\\n',\n",
       " '\"By reflex, I used a jiu-jitsu technique.\\n',\n",
       " 'JOHANSSON:\\n',\n",
       " 'The government unveiled rescue measures for credit delinquents.\\n',\n",
       " 'Start small;\\n',\n",
       " '\"Rafa was not Rafa,\" Youzhny said.\\n',\n",
       " 'Flying penguins are unusual.\\n',\n",
       " 'Obama denied being insensitive.\\n',\n",
       " 'Kojong had dozens of grandchildren.\\n',\n",
       " \"3. Women don't recognize gender bias\\n\",\n",
       " '\"Indiana Jones.\\n',\n",
       " 'and Inez, Kentucky.\\n',\n",
       " \"So let's refine the question:\\n\",\n",
       " \"let's cut taxes on capital gains;\\n\",\n",
       " 'Sit at a cafe on Il Campo.\\n',\n",
       " 'Liga after a 1-1 draw on Wednesday night.\\n',\n",
       " 'Mizuho Financial Group fell 2.4 percent to 648,000 yen (US$5,687; euro4,114).\\n',\n",
       " 'Male brain - female brain\\n',\n",
       " 'Deutsche Bank has also denied any wrongdoing.\\n',\n",
       " 'Barcelona vice-president Ferran Soriano told radio Marca:\\n',\n",
       " 'Free WiFi?\\n',\n",
       " '\"Darth Vader!\\n',\n",
       " \"Believe me I've been there.\\n\",\n",
       " 'GM sold 208,243 Sierras in 2007.\\n',\n",
       " \"You can't outrun him.”\\n\",\n",
       " 'latte made with skim milk\\n',\n",
       " 'All fruit provides abundant good nutrients (vitamin C and potassium, in particular).\\n',\n",
       " 'How do I keep costs down?\\n',\n",
       " '“We are just trying to ask just one question:\\n',\n",
       " 'º» ±â»ç´Â µû\\n',\n",
       " 'Eva Maudlin denied it.\\n',\n",
       " '2. Eggs\\n',\n",
       " 'Why did you lie to me\\n',\n",
       " \"It's not a big party,'' Oertwig said.\\n\",\n",
       " 'Cobb:\\n',\n",
       " 'dainty almond butter, goat cheese, and apple tramezzini.\\n',\n",
       " \"'Chemical' Ali case coming to close\\n\",\n",
       " 'SCARLETT JOHANSSON:\\n',\n",
       " 'Hundreds of people have been detained.\\n',\n",
       " 'Movie rentals.\\n',\n",
       " '* THE BEEHIVE\\n',\n",
       " 'Enya celebrates `Winter`\\n',\n",
       " 'Lindsay Lohan is making plans for life after rehab.\\n',\n",
       " \"Don't lie:\\n\",\n",
       " 'Seven civilian Defense Department employees also have been killed.\\n',\n",
       " 'Two dozen scholars and leaders will be meeting November 4-6.\\n',\n",
       " 'Despite contentious trade issues, Abou said EU-Chinese relations are positive.\\n',\n",
       " 'Men\\n',\n",
       " 'ÏÀ» Á¦°øÇÏÁö ¾Ê½À´Ï´Ù.\\n',\n",
       " 'Saddam Hussein told “Do not blame no-one else.”\\n',\n",
       " 'Freedom!\\n',\n",
       " 'Changing times\\n',\n",
       " 'Moscow has been sweltering this week in temperatures above 30 degrees Celsius (86 Fahrenheit).\\n',\n",
       " 'Pfann said.\\n',\n",
       " 'Good-boss target setting:\\n',\n",
       " '3. Not networking\\n',\n",
       " 'Hussein was hanged in 2006.\\n',\n",
       " 'javascript:\\n',\n",
       " '\"The Venezuelan is not going to stop drinking or smoking,\" said one person.\\n',\n",
       " 'Temperatures fell about 20 degrees.\\n',\n",
       " 'U.S., N.K. have regular contact.\\n',\n",
       " 'Pelosi has not endorsed a presidential candidate;\\n',\n",
       " '\"I\\'m innocent.\\n',\n",
       " 'Shopping\\n',\n",
       " ', Kuwait, Qatar, Bahrain and Oman.\\n',\n",
       " 'The skin makes vitamin D from ultraviolet light.\\n',\n",
       " 'DAY ONE\\n',\n",
       " 'Bermuda\\n',\n",
       " 'Yet deep differences remained over a U.S. missile defense plan for Europe.\\n',\n",
       " \"* Travelers' diseases vaccine:\\n\",\n",
       " 'Guillaume \"Moche Pitt\" de Tonquedec, of France, and Austria\\'s Max \"Herr Jaquelin\" Heller.\\n',\n",
       " \"Susan Boyle's debut CD sets Ama...\\n\",\n",
       " 'Barksdale uses the same technique.\\n',\n",
       " 'We were lucky.\\n',\n",
       " '6. Event planner\\n',\n",
       " 'The average keen American jogger runs 20 miles (32km) a week.\\n',\n",
       " '\" No passengers were onboard.\\n',\n",
       " 'Suddenly, it dawned on him.\\n',\n",
       " 'NIS investigating illegal eavesdroppin.\\n',\n",
       " 'I get to meet interesting people.\\n',\n",
       " 'Suicide blast\\n',\n",
       " \"1. Women don't question doctors\\n\",\n",
       " '\"Transformers:\\n',\n",
       " '20. Bringing up salary too soon\\n',\n",
       " \"And it's not just men.\\n\",\n",
       " 'Franklin Graham was stumped.\\n',\n",
       " 'Johnson was murdered last week.\\n',\n",
       " '\"Everything is in order,\" Volkov said.\\n',\n",
       " '3. Sales associates\\n',\n",
       " 'Movie-based video games are a lot like movie sequels:\\n',\n",
       " '\"Transformers:\\n',\n",
       " 'No violent incidents were reported.\\n',\n",
       " 'Î Á¦°øÇÏÁö ¾Ê½À´Ï´Ù\\n',\n",
       " '\"Sir, do you have some bread?\"\\n',\n",
       " 'Albert Einstein was more than an Einstein.\\n',\n",
       " 'KATHMANDU, Nepal (CNN) &#8212;\\n',\n",
       " 'electrical signals, for instance, or glucose levels.\\n',\n",
       " '7. Amusement park attendants\\n',\n",
       " '7. Typos\\n',\n",
       " 'Enya celebrates `Winter`\\n',\n",
       " '4. Avocado\\n',\n",
       " 'He said presidential debates have become \"almost unendurable.\\n',\n",
       " 'But Delbeke was skeptical.\\n',\n",
       " \"He's a medical miracle.\\n\",\n",
       " '“9,500 blankets and uh, over 2,000 tents.\\n',\n",
       " \"I'm going to Afghanistan.\\n\",\n",
       " 'Pipeline fires are common in Nigeria.\\n',\n",
       " 'Eighteen eggs cost $5.35.\\n',\n",
       " 'Tehran has denied interfering in Iraq.\\n',\n",
       " 'Gaza operation may `continue for some time`\\n',\n",
       " '500 tons of diesel oil;\\n',\n",
       " 'ÇÑ±Û´º½ºÀÇ ¿ø¹ ®Àºµû\\n',\n",
       " 'tests determined Kennedy had not suffered a stroke.\\n',\n",
       " 'Some shelters even have a name for it: \"Big black dog syndrome.\\n',\n",
       " 'Beach hotel:\\n',\n",
       " 'Sunlight\\n',\n",
       " 'German Chancellor Angela Merkel:\\n',\n",
       " 'Correspondents say diplomats privately admit.\\n',\n",
       " 'Onions\\n',\n",
       " 'SAWAYA:\\n',\n",
       " 'Former Soviet President Mikhail Gorbachev:\\n',\n",
       " 'Kenya orphanage takes in elepha...\\n',\n",
       " 'Seoul puts off tax cut despite oil price surge.\\n',\n",
       " 'Ferrer beat compatriot Juan-Carlos Ferrero 7-5 3-6 6-4 6-1.\\n',\n",
       " 'Free Tibet.\\n',\n",
       " 'Despite its name, Oktoberfest begins in late September.\\n',\n",
       " '7. Get hands-on help\\n',\n",
       " \"But Pipi doesn't bark.\\n\",\n",
       " 'We like to work together.\\n',\n",
       " 'body was Dadullah.\\n',\n",
       " 'Free Wi-Fi?\\n',\n",
       " 'Saddam Hussein told “Do not blame no-one else.”\\n',\n",
       " \"And it's not just cell phones.\\n\",\n",
       " \"(Montenegro's culinary mainstays are pizza, pasta, risotto and grilled fish.)\\n\",\n",
       " '\"When do we want it?\"\\n',\n",
       " 'Rats are excellent swimmers.\\n',\n",
       " 'cod liver oil, salmon, mackerel and tuna.\\n',\n",
       " 'Fit or fat soldiers?\\n',\n",
       " 'Michael Weinfeld has more:\\n',\n",
       " 'His big sister talked to WSBN-TV:\\n',\n",
       " 'People are giddy.\\n',\n",
       " \"El Sol de Mexico's Mario Vazquez Rana recently sat down with Castro in Havana.\\n\",\n",
       " '\"He\\'s a fantastic talent.\"\\n',\n",
       " 'Casual style\\n',\n",
       " '* Smaller, better, cheaper\\n',\n",
       " 'WHO defines normal BMI as 18.5 to 24.9.\\n',\n",
       " 'Tsuyoshi will even keep her name.\\n',\n",
       " \"“We're partners, like Tom and Jerry.”\\n\",\n",
       " 'At stake are 24 delegates.\\n',\n",
       " '\"We put a real premium on schedule.\\n',\n",
       " 'Later in the day, Ahmadinejad met Iraqi Prime Minister Nuri al-Maliki.\\n',\n",
       " 'cigarettes are 20 percent pricier.\\n',\n",
       " '\"We didn\\'t want to hide.\\n',\n",
       " '\"Even as I said it, I realized I had misspoken,\" Obama said.\\n',\n",
       " '\"Heroes\" is a key word here;\\n',\n",
       " 'NATO made several video excerpts available to CNN.\\n',\n",
       " 'An odor eliminator has no odor.\\n',\n",
       " '5. Bag a new brew\\n',\n",
       " '\"More tourism, more deterioration.\\n',\n",
       " 'Bus ride:\\n',\n",
       " 'Am I in heaven?\\n',\n",
       " '\"\"Robert Mugabe is Zimbabwean,\"\" said Boniface Chidyausiku.\\n',\n",
       " '“I missed Thanksgiving.\\n',\n",
       " 'Î ¿ø¹®À» Á¦°øÇÏÁö ¾Ê½À´Ï´Ù.\\n',\n",
       " 'Prostitution is legal in Brazil.\\n',\n",
       " 'Celebrity Endorsement.\\n',\n",
       " '* Bad-boss problem solving:\\n',\n",
       " 'iPhone updates.\\n',\n",
       " 'Corbett National Park is no Serengeti or Kruger.\\n',\n",
       " 'Fruits\\n',\n",
       " 'big jets, executive jets and private planes.\\n',\n",
       " 'Buddhist temples serve mild kimchi.\\n',\n",
       " '3. Doll fashion designer\\n',\n",
       " '\"Sir, do you have some bread?\"\\n',\n",
       " 'People take pills.\\n',\n",
       " \"All your debaucheries weren't enough.\\n\",\n",
       " 'RIO DE JANEIRO, Brazil (CNN) Not even Santa is safe in Rio de Janeiro.\\n',\n",
       " \"Don't go into a store demanding to negotiate.\\n\",\n",
       " 'Steven Monjaraz (iTunes User):\\n',\n",
       " 'How did you like working in your hometown?\\n',\n",
       " 'Big Island, Hawaii\\n',\n",
       " 'Here, beer is the default drink.\\n',\n",
       " 'with 715,700 in Hong Kong and 373,100 in Singapore.\\n',\n",
       " '2. Restaurant servers\\n',\n",
       " 'Bus tours\\n',\n",
       " 'Angola and Nigeria are also signing up.\\n',\n",
       " 'Jamie Pittman and\\n',\n",
       " '\"I was saying to Paula, \\'What does he mean, he sang nasally on purpose?\\n',\n",
       " \"Let's go!\\n\",\n",
       " '\"He makes lots of mistakes,\" Lucas said.\\n',\n",
       " '\"I am special, I am special.\\n',\n",
       " 'Free Wi-Fi?\\n',\n",
       " 'Fabio Quagliarella and Antonio Di Natale scored the goals.\\n',\n",
       " 'I feel like we\\'ve stumbled into an episode of \"Nova.\\n',\n",
       " 'A passionate interlude?\\n',\n",
       " 'Serial killer Ted Bundy, for example, said he felt no guilt after killing 28 people.\\n',\n",
       " 'Restaurants\\n',\n",
       " 'Slumping sales, surging yen hits Toyota\\n',\n",
       " 'But the key question remains:\\n',\n",
       " 'Sun exposure.\\n',\n",
       " '9. Meditate for a minute\\n',\n",
       " '4. Sommelier\\n',\n",
       " \"But you'll certainly improve your technique\\n\",\n",
       " '\"And if we save one person, we\\'ve done our job.\\n',\n",
       " 'Even so, Lago said, fans are disappointed.\\n',\n",
       " '4. Lifeguards\\n',\n",
       " \"- I've seen some weird stuff.\\n\",\n",
       " '\"All we had were dried noodles.\\n',\n",
       " 'Later!\\n',\n",
       " 'The unemployment rate could reach double digits,\" he said.\\n',\n",
       " '\"I feel so good,\" said Yosef, 16.\\n',\n",
       " '-Get enough sleep\\n',\n",
       " 'Yoga hotel:\\n',\n",
       " 'said Commerzbank strategist Ralf Groenemeyer in Frankfurt.\\n',\n",
       " 'in Gaza,\" Israeli government spokesman Mark Regev said.\\n',\n",
       " 'The band broke up in 1980 when drummer John Bonham died after a drinking binge.\\n',\n",
       " 'Believe me, he did not care.\\n',\n",
       " '* Bad-boss target setting:\\n',\n",
       " 'The 12 OPEC members are Algeria, Angola, Indonesia, Iran, Iraq, Kuwait, Libya, Nigeria, Qatar, Saudi Arabia, United Arab Emirates and Venezuela.\\n',\n",
       " 'I\\'m quite disappointed,\" Hun Sen said.\\n',\n",
       " 'Look at me.\\n',\n",
       " 'Zapeta admits he never paid taxes.\\n',\n",
       " 'Ankara is about halfway between Diyarbakir and Istanbul.\\n',\n",
       " 'Eighteen people were rescued.\\n',\n",
       " 'even a babbling brook.\\n',\n",
       " 'Taxi fare:\\n',\n",
       " 'Gayoom was unhurt, Shareef said.\\n',\n",
       " 'And we are doing very well.\\n',\n",
       " 'The Nevado del Huila volcano erupted at 11:08 p.m. Monday (12:\\n',\n",
       " 'Michael Weinfeld, Washington.”\\n',\n",
       " 'Details:\\n',\n",
       " '- now we can spy back.\\n',\n",
       " 'Fruit drink:\\n',\n",
       " 'ÇÑ±Û´º½ºÀÇ ¿ø¹ ®Àºµû\\n',\n",
       " 'Lyndon Johnson died in 1973.\\n',\n",
       " 'Singapore, Thailand, Malaysia and Indonesia\\n',\n",
       " 'George E. Pataki in 2001.\\n',\n",
       " 'One Dream.\\n',\n",
       " 'Berlin Zoo denied any link.\\n']"
      ]
     },
     "execution_count": 17,
     "metadata": {},
     "output_type": "execute_result"
    }
   ],
   "source": [
    "# 조금 애매하나 한-영 짝을 생각했을 때, 삭제가 맞다고 판단\n",
    "not_english_sentences"
   ]
  },
  {
   "cell_type": "code",
   "execution_count": 18,
   "id": "5245d1c1",
   "metadata": {},
   "outputs": [
    {
     "name": "stdout",
     "output_type": "stream",
     "text": [
      "필터링 전 kor 문장 수: 75508\n",
      "필터링 전 eng 문장 수: 75508\n",
      "---------------------\n",
      "필터링 후 kor 문장 수: 75249\n",
      "필터링 후 eng 문장 수: 75249\n"
     ]
    }
   ],
   "source": [
    "print(f\"필터링 전 kor 문장 수: {len(train_ko)}\")\n",
    "print(f\"필터링 전 eng 문장 수: {len(train_en)}\")\n",
    "print(\"---------------------\")\n",
    "# 영어가 아닌 문장의 인덱스 \n",
    "not_english_indices = [i for i, sentence in enumerate(train_en) if is_not_english(sentence)]\n",
    "\n",
    "# not_english_indices 기준으로 train_ko와 train_en 전부 전처리\n",
    "train_ko = [sentence for i, sentence in enumerate(train_ko) if i not in not_english_indices]\n",
    "train_en = [sentence for i, sentence in enumerate(train_en) if i not in not_english_indices]\n",
    "\n",
    "# 결과 비교 \n",
    "print(f\"필터링 후 kor 문장 수: {len(train_ko)}\")\n",
    "print(f\"필터링 후 eng 문장 수: {len(train_en)}\")"
   ]
  },
  {
   "cell_type": "markdown",
   "id": "4bb21d67",
   "metadata": {},
   "source": [
    "#### () 괄호 안에 들어있는 단어는 괄호와 함께 삭제 (이나 )같은 한개씩 떨어진 괄호는 괄호만 삭제\n",
    "#### 줄바꿈 \\n 삭제\n",
    "#### 한&#8226; 과 같은 HTML 엔티티 삭제 \n",
    "#### 문장 중 \"\" 이것같은 대화체가 존재하면 한-영 번역기 만들때 삭제해야할까? X\n",
    "#### .,!?\"는 존재하게 단, 2개 이상이 이어져서 반복되면 1개로 통일"
   ]
  },
  {
   "cell_type": "code",
   "execution_count": 20,
   "id": "cc15816b",
   "metadata": {},
   "outputs": [],
   "source": [
    "import html\n",
    "def preprocess_sentence(sentence, s_token=False, e_token=False):\n",
    "    # 소문자로 변환 후 앞뒤 공백 제거\n",
    "    sentence = sentence.lower().strip()\n",
    "\n",
    "    # () 괄호 안의 내용을 괄호와 함께 삭제 EX)  어제(25일 경)과 같은 보조 맥락은 전부 삭제\n",
    "    sentence = re.sub(r'\\([^)]*\\)', '', sentence)\n",
    "\n",
    "    # HTML 엔티티 제거\n",
    "    sentence = html.unescape(sentence)\n",
    "\n",
    "    # 한글과 영어 외 문자 제거 (특수기호는 유지)\n",
    "    sentence = re.sub(r\"[^ㄱ-ㅎㅏ-ㅣ가-힣a-zA-Z?.!,]+\", \" \", sentence)\n",
    "\n",
    "    # 필요한 특수기호 앞뒤에 공백 추가\n",
    "    sentence = re.sub(r\"([?.!,])\", r\" \\1 \", sentence)\n",
    "\n",
    "    # 연속된 공백을 하나의 공백으로 통일\n",
    "    sentence = re.sub(r'[\" \"]+', \" \", sentence)\n",
    "\n",
    "    # 줄바꿈(\\n) 제거\n",
    "    sentence = sentence.replace('\\n', '')\n",
    "\n",
    "    # 특수기호가 2개 이상 반복될 경우 하나로 통일\n",
    "    sentence = re.sub(r'([?.!,])\\1+', r'\\1', sentence)\n",
    "\n",
    "    # 문장 앞뒤 공백 제거\n",
    "    sentence = sentence.strip()\n",
    "\n",
    "    # 시작 토큰과 종료 토큰 추가 (옵션)\n",
    "    if s_token:\n",
    "        sentence = '<start> ' + sentence\n",
    "    if e_token:\n",
    "        sentence += ' <end>'\n",
    "\n",
    "    return sentence"
   ]
  },
  {
   "cell_type": "code",
   "execution_count": 21,
   "id": "93bb15ac",
   "metadata": {},
   "outputs": [
    {
     "name": "stdout",
     "output_type": "stream",
     "text": [
      "train_ko : ['치와와 애완견인 피피의 눈은 주인이 일하고 있는 비좁은 옷 가게에서 낯선 사람들이 접근하면 사납게 튀어나온다 .', '매도프가 뉴욕에서 억달러 폰지 사기 혐의로 체포된 지 일 뒤인 지난해 월 일 조각상을 도난 당했다 .', '국방부 부장관으로서 년 월부터 지난 월까지 곤돌리자 라이스 장관을 보좌했다 .']\n",
      "train_en : ['<start> taipei pipi s eyes bulge fiercely when strangers approach the chihuahua dog in the clothing store where her owner works . <end>', '<start> the statue was stolen december , eight days after madoff was arrested in new york on suspicion of operating a billion ponzi scheme . <end>', '<start> as deputy secretary of state , zoellick was chief aide to condoleezza rice between february and june last year . <end>']\n",
      "test_ko : ['이는 북한이 오랫동안 은폐해 온 핵 프로그램의 상징물을 파괴한 것이나 다름 없다 .', '낸시 펠로시 미 하원의장은 일 조지 w 부시 미 대통령은 총체적 실패자 라며 대통령에 대해 가장 신랄한 비판을 했다 .', '오늘은 월가의 가장 힘든 날 중 하나였는데 , 개장 시간 동안 저점에서는 포인트나 지수가 떨어졌다 .']\n",
      "test_en : ['<start> the destruction of the highly visible symbol of north korea s long secret nuclear program came just a day after the country released details of its program . <end>', '<start> house speaker nancy pelosi called president bush a total failure on thursday , among the california democrat s harshest assessments to date of the president . <end>', '<start> the market plunged at the opening bell , falling points at the lowest ebb of the season . <end>']\n"
     ]
    }
   ],
   "source": [
    "train_ko = [preprocess_sentence(sent) for sent in train_ko]\n",
    "train_en = [preprocess_sentence(sent, s_token=True, e_token=True) for sent in train_en]\n",
    "test_ko = [preprocess_sentence(sent) for sent in test_ko]\n",
    "test_en = [preprocess_sentence(sent, s_token=True, e_token=True) for sent in test_en]\n",
    "\n",
    "print(\"train_ko :\", train_ko[:3])\n",
    "print(\"train_en :\", train_en[:3])\n",
    "print(\"test_ko :\", test_ko[:3])\n",
    "print(\"test_en :\", test_en[:3])"
   ]
  },
  {
   "cell_type": "markdown",
   "id": "c4a43cfc",
   "metadata": {},
   "source": [
    "### 길이 cutting 문제"
   ]
  },
  {
   "cell_type": "code",
   "execution_count": 22,
   "id": "69c58908",
   "metadata": {},
   "outputs": [
    {
     "data": {
      "image/png": "[encoded data removed]",
      "text/plain": [
       "<Figure size 432x288 with 1 Axes>"
      ]
     },
     "metadata": {
      "image/png": {
       "height": 280,
       "width": 394
      },
      "needs_background": "light"
     },
     "output_type": "display_data"
    },
    {
     "data": {
      "image/png": "[encoded data removed]",
      "text/plain": [
       "<Figure size 432x288 with 1 Axes>"
      ]
     },
     "metadata": {
      "image/png": {
       "height": 280,
       "width": 388
      },
      "needs_background": "light"
     },
     "output_type": "display_data"
    }
   ],
   "source": [
    "# 한국어 데이터 공백 제외한 글자 길이 분포\n",
    "char_lengths_ko = [len(sentence.replace(\" \", \"\")) for sentence in train_ko]\n",
    "\n",
    "# 영어 데이터 공백 제외한 글자 길이 분포\n",
    "char_lengths_en = [len(sentence.replace(\" \", \"\")) for sentence in train_en]\n",
    "\n",
    "plt.hist(char_lengths_ko, bins=range(1, max(char_lengths_ko) + 1), edgecolor='black')\n",
    "plt.title(\"Korean Character Length Distribution (No Spaces)\")\n",
    "plt.xlabel(\"Character Length\")\n",
    "plt.ylabel(\"Frequency\")\n",
    "plt.show()\n",
    "\n",
    "plt.hist(char_lengths_en, bins=range(1, max(char_lengths_en) + 1), edgecolor='black')\n",
    "plt.title(\"English Character Length Distribution (No Spaces)\")\n",
    "plt.xlabel(\"Character Length\")\n",
    "plt.ylabel(\"Frequency\")\n",
    "plt.show()"
   ]
  },
  {
   "cell_type": "markdown",
   "id": "2a5cea48",
   "metadata": {},
   "source": [
    "### 생각해보면 한글이랑 영어를 같은 기준에 두고 글자 단위로 셀 순 없다. \n",
    "* 단어 기준으로 한글은 5글자를 넘어가는게 별로 없으나 영어는 무수히 많으니까"
   ]
  },
  {
   "cell_type": "code",
   "execution_count": 23,
   "id": "dcf867fa",
   "metadata": {},
   "outputs": [
    {
     "name": "stdout",
     "output_type": "stream",
     "text": [
      "Filtered Korean Sentences: 66703\n",
      "Filtered English Sentences: 66703\n"
     ]
    }
   ],
   "source": [
    "# 한국어(train_ko)와 영어(train_en) 데이터 필터링\n",
    "# 공백 제외 단어 글자 길이 기준 \n",
    "filtered_train_ko = []\n",
    "filtered_train_en = []\n",
    "\n",
    "for ko_sent, en_sent in zip(train_ko, train_en):\n",
    "    if len(ko_sent.replace(\" \", \"\")) <= 75 and len(en_sent.replace(\" \", \"\")) <= 200:  # 공백 제외 글자 길이 기준\n",
    "        filtered_train_ko.append(ko_sent)\n",
    "        filtered_train_en.append(en_sent)\n",
    "\n",
    "train_ko = filtered_train_ko\n",
    "train_en = filtered_train_en\n",
    "\n",
    "print(f\"Filtered Korean Sentences: {len(train_ko)}\")\n",
    "print(f\"Filtered English Sentences: {len(train_en)}\")"
   ]
  },
  {
   "cell_type": "code",
   "execution_count": 24,
   "id": "a86fdf00",
   "metadata": {},
   "outputs": [
    {
     "data": {
      "image/png": "[encoded data removed]",
      "text/plain": [
       "<Figure size 432x288 with 1 Axes>"
      ]
     },
     "metadata": {
      "image/png": {
       "height": 280,
       "width": 394
      },
      "needs_background": "light"
     },
     "output_type": "display_data"
    },
    {
     "data": {
      "image/png": "[encoded data removed]",
      "text/plain": [
       "<Figure size 432x288 with 1 Axes>"
      ]
     },
     "metadata": {
      "image/png": {
       "height": 280,
       "width": 394
      },
      "needs_background": "light"
     },
     "output_type": "display_data"
    }
   ],
   "source": [
    "# 한국어 데이터 토큰 당 길이 분포\n",
    "token_lengths_ko = [len(sentence.split()) for sentence in train_ko]\n",
    "\n",
    "# 영어 데이터 토큰 당 길이 분포\n",
    "token_lengths_en = [len(sentence.split()) for sentence in train_en]\n",
    "\n",
    "# 한국어 데이터 토큰 길이 분포 히스토그램\n",
    "plt.hist(token_lengths_ko, bins=range(1, max(token_lengths_ko) + 1), edgecolor='black')\n",
    "plt.title(\"Korean Token Length Distribution\")\n",
    "plt.xlabel(\"Token Length\")\n",
    "plt.ylabel(\"Frequency\")\n",
    "plt.show()\n",
    "\n",
    "# 영어 데이터 토큰 길이 분포 히스토그램\n",
    "plt.hist(token_lengths_en, bins=range(1, max(token_lengths_en) + 1), edgecolor='black')\n",
    "plt.title(\"English Token Length Distribution\")\n",
    "plt.xlabel(\"Token Length\")\n",
    "plt.ylabel(\"Frequency\")\n",
    "plt.show()"
   ]
  },
  {
   "cell_type": "markdown",
   "id": "f3dc8b06",
   "metadata": {},
   "source": [
    "### 토큰화"
   ]
  },
  {
   "cell_type": "code",
   "execution_count": 25,
   "id": "306ac52a",
   "metadata": {},
   "outputs": [
    {
     "data": {
      "text/plain": [
       "164495"
      ]
     },
     "execution_count": 25,
     "metadata": {},
     "output_type": "execute_result"
    }
   ],
   "source": [
    "# 공백으로 나눈 한국어\n",
    "train_ko_words = \" \".join(train_ko).split()\n",
    "\n",
    "# 고유 단어 집합 생성\n",
    "train_ko_unique_count = set(train_ko_words)\n",
    "\n",
    "# 고유 단어 개수 출력\n",
    "len(train_ko_unique_count)"
   ]
  },
  {
   "cell_type": "code",
   "execution_count": 26,
   "id": "863720e7",
   "metadata": {},
   "outputs": [
    {
     "data": {
      "text/plain": [
       "40539"
      ]
     },
     "execution_count": 26,
     "metadata": {},
     "output_type": "execute_result"
    }
   ],
   "source": [
    "# 공백으로 나눈 영어\n",
    "train_en_words = \" \".join(train_en).split()\n",
    "\n",
    "# 고유 단어 집합 생성\n",
    "train_en_unique_count = set(train_en_words)\n",
    "\n",
    "# 고유 단어 개수 출력\n",
    "len(train_en_unique_count)"
   ]
  },
  {
   "cell_type": "code",
   "execution_count": 27,
   "id": "fe7745ca",
   "metadata": {},
   "outputs": [
    {
     "name": "stderr",
     "output_type": "stream",
     "text": [
      "Tokenizing train_ko: 100%|██████████| 66703/66703 [00:12<00:00, 5277.46it/s]"
     ]
    },
    {
     "name": "stdout",
     "output_type": "stream",
     "text": [
      "Train KO Tokenized Example: ['치와 와 애완견 인 피피 의 눈 은 주인 이 일 하 고 있 는 비좁 은 옷 가게 에서 낯선 사람 들 이 접근 하 면 사납 게 튀어나온다 .', '매도프 가 뉴욕 에서 억 달러 폰지 사기 혐의 로 체포 된 지 일 뒤 인 지난해 월 일 조각상 을 도난 당했 다 .', '국방부 부 장관 으로서 년 월 부터 지난 월 까지 곤 돌리 자 라이스 장관 을 보좌 했 다 .']\n"
     ]
    },
    {
     "name": "stderr",
     "output_type": "stream",
     "text": [
      "\n"
     ]
    }
   ],
   "source": [
    "from konlpy.tag import Mecab\n",
    "from tqdm import tqdm\n",
    "\n",
    "mecab = Mecab()\n",
    "\n",
    "# 토큰화\n",
    "kor_corpus = [\" \".join(mecab.morphs(sentence)) for sentence in tqdm(train_ko, desc=\"Tokenizing train_ko\")]\n",
    "\n",
    "# 결과 확인 (예시로 처음 몇 개 출력)\n",
    "print(\"Train KO Tokenized Example:\", kor_corpus[:3])"
   ]
  },
  {
   "cell_type": "code",
   "execution_count": 28,
   "id": "e3cbe532",
   "metadata": {},
   "outputs": [
    {
     "name": "stderr",
     "output_type": "stream",
     "text": [
      "Tokenizing train_en: 100%|██████████| 66703/66703 [00:00<00:00, 483480.33it/s]"
     ]
    },
    {
     "name": "stdout",
     "output_type": "stream",
     "text": [
      "Train EN Tokenized Example: ['<start> taipei pipi s eyes bulge fiercely when strangers approach the chihuahua dog in the clothing store where her owner works . <end>', '<start> the statue was stolen december , eight days after madoff was arrested in new york on suspicion of operating a billion ponzi scheme . <end>', '<start> as deputy secretary of state , zoellick was chief aide to condoleezza rice between february and june last year . <end>']\n"
     ]
    },
    {
     "name": "stderr",
     "output_type": "stream",
     "text": [
      "\n"
     ]
    }
   ],
   "source": [
    "# 영어 데이터 공백 기준 토큰화\n",
    "eng_corpus = [\" \".join(sentence.split()) for sentence in tqdm(train_en, desc=\"Tokenizing train_en\")]\n",
    "\n",
    "# 결과 확인 (예시로 처음 몇 개 출력)\n",
    "print(\"Train EN Tokenized Example:\", eng_corpus[:3])"
   ]
  },
  {
   "cell_type": "code",
   "execution_count": 29,
   "id": "fd02773a",
   "metadata": {},
   "outputs": [
    {
     "data": {
      "image/png": "[encoded data removed]",
      "text/plain": [
       "<Figure size 432x288 with 1 Axes>"
      ]
     },
     "metadata": {
      "image/png": {
       "height": 280,
       "width": 394
      },
      "needs_background": "light"
     },
     "output_type": "display_data"
    },
    {
     "data": {
      "image/png": "[encoded data removed]",
      "text/plain": [
       "<Figure size 432x288 with 1 Axes>"
      ]
     },
     "metadata": {
      "image/png": {
       "height": 280,
       "width": 394
      },
      "needs_background": "light"
     },
     "output_type": "display_data"
    }
   ],
   "source": [
    "# 한국어 데이터 토큰 길이 분포\n",
    "token_lengths_kor = [len(sentence.split()) for sentence in kor_corpus]\n",
    "\n",
    "# 영어 데이터 토큰 길이 분포\n",
    "token_lengths_eng = [len(sentence.split()) for sentence in eng_corpus]\n",
    "\n",
    "# 한국어 데이터 토큰 길이 분포 히스토그램\n",
    "plt.hist(token_lengths_kor, bins=range(1, max(token_lengths_kor) + 1), edgecolor='black')\n",
    "plt.title(\"Korean Token Length Distribution\")\n",
    "plt.xlabel(\"Token Length\")\n",
    "plt.ylabel(\"Frequency\")\n",
    "plt.show()\n",
    "\n",
    "# 영어 데이터 토큰 길이 분포 히스토그램\n",
    "plt.hist(token_lengths_eng, bins=range(1, max(token_lengths_eng) + 1), edgecolor='black')\n",
    "plt.title(\"English Token Length Distribution\")\n",
    "plt.xlabel(\"Token Length\")\n",
    "plt.ylabel(\"Frequency\")\n",
    "plt.show()"
   ]
  },
  {
   "cell_type": "code",
   "execution_count": 30,
   "id": "4e7d4008",
   "metadata": {},
   "outputs": [
    {
     "name": "stdout",
     "output_type": "stream",
     "text": [
      "Filtered Korean Corpus: 66517 sentences\n",
      "Filtered English Corpus: 66517 sentences\n"
     ]
    }
   ],
   "source": [
    "# 한국어(kor_corpus)와 영어(train_en) 데이터 필터링\n",
    "\n",
    "filtered_kor_corpus = []\n",
    "filtered_eng_corpus = []\n",
    "\n",
    "for kor_sent, eng_sent in zip(kor_corpus, eng_corpus):\n",
    "    if len(kor_sent.split()) <= 50 and len(eng_sent.split()) <= 50: # 결국 2차적인 절단을 하지 않으면 메모리 부족이 일어나기에 어쩔 수 없다. \n",
    "        filtered_kor_corpus.append(kor_sent)\n",
    "        filtered_eng_corpus.append(eng_sent)\n",
    "\n",
    "# 코퍼스 \n",
    "kor_corpus = filtered_kor_corpus\n",
    "eng_corpus = filtered_eng_corpus\n",
    "\n",
    "print(f\"Filtered Korean Corpus: {len(kor_corpus)} sentences\")\n",
    "print(f\"Filtered English Corpus: {len(eng_corpus)} sentences\")"
   ]
  },
  {
   "cell_type": "code",
   "execution_count": 31,
   "id": "1e395dc8",
   "metadata": {},
   "outputs": [
    {
     "name": "stdout",
     "output_type": "stream",
     "text": [
      "Encoder Tensor : [[13137    29  3504    24 14696     6   782     7  1417     3    26    11\n",
      "     12    13     4 14697     7  1717  3553    16 13138    72    15     3\n",
      "   1181    11    76 20251    44 26102     1     0     0     0     0     0\n",
      "      0     0     0     0     0     0     0     0     0     0     0     0\n",
      "      0     0]\n",
      " [ 6409    14   251    16   188    88 26103  1874   160    21   266    43\n",
      "     27    26   223    24   242    58    26  5248     5  3835   756     2\n",
      "      1     0     0     0     0     0     0     0     0     0     0     0\n",
      "      0     0     0     0     0     0     0     0     0     0     0     0\n",
      "      0     0]\n",
      " [  831   468   126  1249    36    58   170    63    58    67  3340  4972\n",
      "     79   789   126     5 11869    10     2     1     0     0     0     0\n",
      "      0     0     0     0     0     0     0     0     0     0     0     0\n",
      "      0     0     0     0     0     0     0     0     0     0     0     0\n",
      "      0     0]]\n",
      "Decoder Tensor : [[    4  6260 20006    11  2223 20007  8218    68 10658  2093     1  9229\n",
      "   1754     9     1  3601  1326   122    51  1499  1478     2     5     0\n",
      "      0     0     0     0     0     0     0     0     0     0     0     0\n",
      "      0     0     0     0     0     0     0     0     0     0     0     0\n",
      "      0     0]\n",
      " [    4     1  4842    17  3402   558     3   398   156    37  5142    17\n",
      "    363     9    52   215    14  3000     7  1464     8   237 16604  3874\n",
      "      2     5     0     0     0     0     0     0     0     0     0     0\n",
      "      0     0     0     0     0     0     0     0     0     0     0     0\n",
      "      0     0]\n",
      " [    4    22   995   304     7    93     3  6009    17   270  2499     6\n",
      "   1770   625   146   661    10   487    65    43     2     5     0     0\n",
      "      0     0     0     0     0     0     0     0     0     0     0     0\n",
      "      0     0     0     0     0     0     0     0     0     0     0     0\n",
      "      0     0]]\n",
      "Tokenizer Word Index Kor: [('.', 1), ('다', 2), ('이', 3), ('는', 4), ('을', 5), ('의', 6), ('은', 7), ('에', 8), ('를', 9), ('했', 10)]\n",
      "Tokenizer Word Index Eng: [('the', 1), ('.', 2), (',', 3), ('<start>', 4), ('<end>', 5), ('to', 6), ('of', 7), ('a', 8), ('in', 9), ('and', 10)]\n"
     ]
    }
   ],
   "source": [
    "# tokenize 함수 정의\n",
    "def tokenize(corpus, num_words=None):\n",
    "    tokenizer = tf.keras.preprocessing.text.Tokenizer(num_words=num_words, filters='')\n",
    "    tokenizer.fit_on_texts(corpus)\n",
    "\n",
    "    tensor = tokenizer.texts_to_sequences(corpus)\n",
    "    tensor = tf.keras.preprocessing.sequence.pad_sequences(tensor, padding='post')\n",
    "\n",
    "    return tensor, tokenizer\n",
    "\n",
    "# kor_corpus를 tensor와 tokenizer로 변환\n",
    "enc_tensor, enc_tokenizer = tokenize(kor_corpus)  # 인코더\n",
    "dec_tensor, dec_tokenizer = tokenize(eng_corpus)  # 디코더\n",
    "\n",
    "print(\"Encoder Tensor :\", enc_tensor[:3])\n",
    "print(\"Decoder Tensor :\", dec_tensor[:3])\n",
    "print(\"Tokenizer Word Index Kor:\", list(enc_tokenizer.word_index.items())[:10])  \n",
    "print(\"Tokenizer Word Index Eng:\", list(dec_tokenizer.word_index.items())[:10]) "
   ]
  },
  {
   "cell_type": "code",
   "execution_count": 32,
   "id": "5cf41e63",
   "metadata": {},
   "outputs": [
    {
     "name": "stdout",
     "output_type": "stream",
     "text": [
      "Enc Train : (66517, 50)\n",
      "Dec Train : (66517, 50)\n"
     ]
    }
   ],
   "source": [
    "# validation X\n",
    "enc_train = enc_tensor\n",
    "dec_train = dec_tensor\n",
    "\n",
    "print(\"Enc Train :\", enc_train.shape)\n",
    "print(\"Dec Train :\", dec_train.shape)"
   ]
  },
  {
   "cell_type": "code",
   "execution_count": 34,
   "id": "70bf96ea",
   "metadata": {},
   "outputs": [],
   "source": [
    "from tensorflow.keras.layers import Embedding, GRU, Dense, Dropout\n",
    "from tensorflow.keras.losses import SparseCategoricalCrossentropy"
   ]
  },
  {
   "cell_type": "code",
   "execution_count": 35,
   "id": "51ef52be",
   "metadata": {},
   "outputs": [],
   "source": [
    "# Bahdanau Attention Class\n",
    "class BahdanauAttention(tf.keras.layers.Layer):\n",
    "    def __init__(self, units):\n",
    "        super(BahdanauAttention, self).__init__()\n",
    "        self.W1 = Dense(units)\n",
    "        self.W2 = Dense(units)\n",
    "        self.V = Dense(1)\n",
    "\n",
    "    def call(self, query, values):\n",
    "        query_with_time_axis = tf.expand_dims(query, 1)\n",
    "        score = self.V(tf.nn.tanh(self.W1(query_with_time_axis) + self.W2(values)))\n",
    "        attention_weights = tf.nn.softmax(score, axis=1)\n",
    "        context_vector = attention_weights * values\n",
    "        context_vector = tf.reduce_sum(context_vector, axis=1)\n",
    "        return context_vector, attention_weights"
   ]
  },
  {
   "cell_type": "code",
   "execution_count": 36,
   "id": "bc4939d9",
   "metadata": {},
   "outputs": [],
   "source": [
    "# Encoder Class\n",
    "class Encoder(tf.keras.Model):\n",
    "    def __init__(self, vocab_size, embedding_dim, enc_units):\n",
    "        super(Encoder, self).__init__()\n",
    "        self.embedding = Embedding(vocab_size, embedding_dim)\n",
    "        self.dropout = Dropout(0.2)\n",
    "        self.gru = GRU(\n",
    "            enc_units, return_sequences=True, return_state=True, recurrent_initializer='glorot_uniform'\n",
    "        )\n",
    "\n",
    "    def call(self, x):\n",
    "        x = self.embedding(x)\n",
    "        x = self.dropout(x)\n",
    "        output, state = self.gru(x)\n",
    "        return output, state"
   ]
  },
  {
   "cell_type": "code",
   "execution_count": 37,
   "id": "e4401c1a",
   "metadata": {},
   "outputs": [],
   "source": [
    "# Decoder Class\n",
    "class Decoder(tf.keras.Model):\n",
    "    def __init__(self, vocab_size, embedding_dim, dec_units):\n",
    "        super(Decoder, self).__init__()\n",
    "        self.embedding = Embedding(vocab_size, embedding_dim)\n",
    "        self.dropout = Dropout(0.2)\n",
    "        self.gru = GRU(\n",
    "            dec_units, return_sequences=True, return_state=True, recurrent_initializer='glorot_uniform'\n",
    "        )\n",
    "        self.fc = Dense(vocab_size)\n",
    "        self.attention = BahdanauAttention(dec_units)\n",
    "\n",
    "    def call(self, x, hidden, enc_out):\n",
    "        x = self.embedding(x)\n",
    "        x = self.dropout(x)\n",
    "        context_vector, attn_weights = self.attention(hidden, enc_out)\n",
    "        context_vector = tf.expand_dims(context_vector, 1)\n",
    "        x = tf.concat([context_vector, x], axis=-1)\n",
    "        output, state = self.gru(x)\n",
    "        output = tf.reshape(output, (-1, output.shape[2]))\n",
    "        x = self.fc(output)\n",
    "        return x, state, attn_weights"
   ]
  },
  {
   "cell_type": "code",
   "execution_count": 38,
   "id": "9696d230",
   "metadata": {},
   "outputs": [],
   "source": [
    "# Teacher Forcing 비율\n",
    "teacher_forcing_ratio = 0.8\n",
    "\n",
    "# Loss Function\n",
    "loss_object = SparseCategoricalCrossentropy(from_logits=True, reduction='none')\n",
    "def loss_function(real, pred):\n",
    "    mask = tf.math.logical_not(tf.math.equal(real, 0))\n",
    "    loss = loss_object(real, pred)\n",
    "    mask = tf.cast(mask, dtype=loss.dtype)\n",
    "    loss *= mask\n",
    "    return tf.reduce_mean(loss)"
   ]
  },
  {
   "cell_type": "code",
   "execution_count": 39,
   "id": "e23b3990",
   "metadata": {},
   "outputs": [],
   "source": [
    "# 학습 단계 - Teacher Forcing\n",
    "@tf.function\n",
    "def train_step(src, tgt, encoder, decoder, optimizer, dec_tok):\n",
    "    bsz = src.shape[0]\n",
    "    loss = 0\n",
    "\n",
    "    with tf.GradientTape() as tape:\n",
    "        enc_out, enc_hidden = encoder(src)\n",
    "        dec_hidden = enc_hidden\n",
    "        dec_input = tf.expand_dims([dec_tok.word_index['<start>']] * bsz, 1)\n",
    "\n",
    "        for t in range(1, tgt.shape[1]):\n",
    "            predictions, dec_hidden, _ = decoder(dec_input, dec_hidden, enc_out)\n",
    "            loss += loss_function(tgt[:, t], predictions)\n",
    "\n",
    "            # Teacher Forcing 비율에 따라 디코더 입력 결정\n",
    "            if np.random.rand() < teacher_forcing_ratio:\n",
    "                dec_input = tf.expand_dims(tgt[:, t], 1)  # 실제 단어 \n",
    "            else:\n",
    "                predicted_id = tf.argmax(predictions, axis=1)  # 예측 단어 \n",
    "                dec_input = tf.expand_dims(predicted_id, 1)\n",
    "\n",
    "    batch_loss = loss / int(tgt.shape[1])\n",
    "    variables = encoder.trainable_variables + decoder.trainable_variables\n",
    "    gradients = tape.gradient(loss, variables)\n",
    "    optimizer.apply_gradients(zip(gradients, variables))\n",
    "    return batch_loss"
   ]
  },
  {
   "cell_type": "code",
   "execution_count": 40,
   "id": "bb855e4f",
   "metadata": {},
   "outputs": [],
   "source": [
    "# Length Normalization & Top-k Sampling\n",
    "def top_k_sampling(predictions, k=5):\n",
    "    top_k_values, top_k_indices = tf.nn.top_k(predictions, k=k)\n",
    "    top_k_probs = tf.nn.softmax(top_k_values).numpy()\n",
    "    sampled_index = np.random.choice(top_k_indices.numpy(), p=top_k_probs)\n",
    "    return sampled_index\n",
    "\n",
    "def evaluate(sentence, encoder, decoder, enc_tok, dec_tok):\n",
    "    inputs = enc_tok.texts_to_sequences([sentence.split()])\n",
    "    inputs = tf.keras.preprocessing.sequence.pad_sequences(inputs, maxlen=enc_tensor.shape[-1], padding='post')\n",
    "    enc_out, enc_hidden = encoder(inputs)\n",
    "    dec_hidden = enc_hidden\n",
    "    dec_input = tf.expand_dims([dec_tok.word_index['<start>']], 0)\n",
    "\n",
    "    result = ''\n",
    "    length_penalty = 0.6  # Length Normalization 하이퍼파라미터\n",
    "\n",
    "    for t in range(dec_tensor.shape[1]):\n",
    "        predictions, dec_hidden, attention_weights = decoder(dec_input, dec_hidden, enc_out)\n",
    "        predictions = predictions / ((5 + t + 1) ** length_penalty)  # Length Normalization 적용\n",
    "        predicted_id = top_k_sampling(predictions[0], k=5)  # Top-k Sampling 적용\n",
    "        result += dec_tok.index_word[predicted_id] + ' '\n",
    "\n",
    "        if dec_tok.index_word[predicted_id] == '<end>':\n",
    "            break\n",
    "        dec_input = tf.expand_dims([predicted_id], 0)\n",
    "\n",
    "    return result.strip()"
   ]
  },
  {
   "cell_type": "code",
   "execution_count": 42,
   "id": "756db7b0",
   "metadata": {},
   "outputs": [],
   "source": [
    "# 학습 및 평가 루프\n",
    "EPOCHS = 5\n",
    "BATCH_SIZE = 64\n",
    "\n",
    "# 데이터 준비\n",
    "train_dataset = tf.data.Dataset.from_tensor_slices((enc_tensor, dec_tensor))\n",
    "train_dataset = train_dataset.shuffle(buffer_size=len(enc_tensor)).batch(BATCH_SIZE, drop_remainder=True)\n",
    "\n",
    "SRC_VOCAB_SIZE = len(enc_tokenizer.index_word) + 1\n",
    "TGT_VOCAB_SIZE = len(dec_tokenizer.index_word) + 1\n",
    "embedding_dim = 512\n",
    "units = 1024\n",
    "\n",
    "encoder = Encoder(SRC_VOCAB_SIZE, embedding_dim, units)\n",
    "decoder = Decoder(TGT_VOCAB_SIZE, embedding_dim, units)\n",
    "optimizer = tf.keras.optimizers.Adam(learning_rate=0.001)"
   ]
  },
  {
   "cell_type": "code",
   "execution_count": 45,
   "id": "953e3221",
   "metadata": {},
   "outputs": [],
   "source": [
    "# 번역 함수\n",
    "def translate(sentence, encoder, decoder, enc_tok, dec_tok):\n",
    "    result = evaluate(sentence, encoder, decoder, enc_tok, dec_tok)\n",
    "    print(f'Input: {sentence}')\n",
    "    print(f'Predicted translation: {result}')"
   ]
  },
  {
   "cell_type": "code",
   "execution_count": 222,
   "id": "3ad51564",
   "metadata": {},
   "outputs": [],
   "source": [
    "# 어텐션 시각화 함수\n",
    "def plot_attention(input_sentence, translated_sentence, attention_weights, enc_tok, dec_tok):\n",
    "    input_tokens = enc_tok.texts_to_tokens([input_sentence])[0]  # 입력 토큰\n",
    "    translated_tokens = dec_tok.texts_to_tokens([translated_sentence])[0]  # 번역 토큰\n",
    "\n",
    "    # 어텐션 가중치 배열로 변호나 \n",
    "    attention_array = np.array(attention_weights)\n",
    "\n",
    "    fig, ax = plt.subplots()\n",
    "    cax = ax.matshow(attention_array, cmap='viridis')\n",
    "\n",
    "    ax.set_xticks(range(len(input_tokens)))\n",
    "    ax.set_yticks(range(len(translated_tokens)))\n",
    "    ax.set_xticklabels(input_tokens, rotation=90)\n",
    "    ax.set_yticklabels(translated_tokens)\n",
    "\n",
    "    plt.colorbar(cax)\n",
    "    plt.show()"
   ]
  },
  {
   "cell_type": "code",
   "execution_count": 44,
   "id": "94ed410a",
   "metadata": {},
   "outputs": [
    {
     "name": "stderr",
     "output_type": "stream",
     "text": [
      "Epoch 1/5: 100%|██████████| 1039/1039 [14:02<00:00,  1.23batch/s, Batch Loss=2.74]\n"
     ]
    },
    {
     "name": "stdout",
     "output_type": "stream",
     "text": [
      "Epoch 1/5, Loss: 3.0212, Time: 842.76 seconds\n"
     ]
    },
    {
     "name": "stderr",
     "output_type": "stream",
     "text": [
      "Epoch 2/5: 100%|██████████| 1039/1039 [14:15<00:00,  1.21batch/s, Batch Loss=2.39]\n"
     ]
    },
    {
     "name": "stdout",
     "output_type": "stream",
     "text": [
      "Epoch 2/5, Loss: 2.6183, Time: 855.63 seconds\n"
     ]
    },
    {
     "name": "stderr",
     "output_type": "stream",
     "text": [
      "Epoch 3/5: 100%|██████████| 1039/1039 [14:16<00:00,  1.21batch/s, Batch Loss=2.3] \n"
     ]
    },
    {
     "name": "stdout",
     "output_type": "stream",
     "text": [
      "Epoch 3/5, Loss: 2.3469, Time: 856.60 seconds\n"
     ]
    },
    {
     "name": "stderr",
     "output_type": "stream",
     "text": [
      "Epoch 4/5: 100%|██████████| 1039/1039 [14:16<00:00,  1.21batch/s, Batch Loss=2.18]\n"
     ]
    },
    {
     "name": "stdout",
     "output_type": "stream",
     "text": [
      "Epoch 4/5, Loss: 2.1204, Time: 856.11 seconds\n"
     ]
    },
    {
     "name": "stderr",
     "output_type": "stream",
     "text": [
      "Epoch 5/5: 100%|██████████| 1039/1039 [14:15<00:00,  1.21batch/s, Batch Loss=1.9] "
     ]
    },
    {
     "name": "stdout",
     "output_type": "stream",
     "text": [
      "Epoch 5/5, Loss: 1.9046, Time: 855.41 seconds\n"
     ]
    },
    {
     "name": "stderr",
     "output_type": "stream",
     "text": [
      "\n"
     ]
    }
   ],
   "source": [
    "# 학습 진행\n",
    "for epoch in range(EPOCHS):\n",
    "    start_time = time.time()  # 시작 시간 기록\n",
    "    total_loss = 0\n",
    "\n",
    "    # tqdm\n",
    "    with tqdm(train_dataset, desc=f\"Epoch {epoch + 1}/{EPOCHS}\", unit=\"batch\") as pbar:\n",
    "        for (batch, (src, tgt)) in enumerate(pbar):\n",
    "            batch_loss = train_step(src, tgt, encoder, decoder, optimizer, dec_tokenizer)\n",
    "            total_loss += batch_loss\n",
    "\n",
    "            # tqdm 업데이트 - 현재 배치의 손실 \n",
    "            pbar.set_postfix({\"Batch Loss\": batch_loss.numpy()})\n",
    "\n",
    "    avg_loss = total_loss / (batch + 1)\n",
    "    end_time = time.time()  # 종료 시간 기록\n",
    "\n",
    "    elapsed_time = end_time - start_time  # 소요 시간 계산\n",
    "    print(f\"Epoch {epoch + 1}/{EPOCHS}, Loss: {avg_loss.numpy():.4f}, Time: {elapsed_time:.2f} seconds\")"
   ]
  },
  {
   "cell_type": "code",
   "execution_count": 47,
   "id": "3bf66dcd",
   "metadata": {},
   "outputs": [
    {
     "name": "stdout",
     "output_type": "stream",
     "text": [
      "Input: 오바마는 미국의 대통령입니다.\n",
      "Predicted translation: i think it is going . <end>\n",
      "Input: 시민들은 도시 속에 산다.\n",
      "Predicted translation: and cities <end>\n",
      "Input: 커피는 필요 없다.\n",
      "Predicted translation: you know you don t know if we can t change need to make it is to the . , <end>\n",
      "Input: 일곱 명의 사망자가 발생했다.\n",
      "Predicted translation: they were one person . points to . points and . <end>\n"
     ]
    }
   ],
   "source": [
    "translate(\"오바마는 미국의 대통령입니다.\", encoder, decoder, enc_tokenizer, dec_tokenizer)\n",
    "translate(\"시민들은 도시 속에 산다.\", encoder, decoder, enc_tokenizer, dec_tokenizer)\n",
    "translate(\"커피는 필요 없다.\", encoder, decoder, enc_tokenizer, dec_tokenizer)\n",
    "translate(\"일곱 명의 사망자가 발생했다.\", encoder, decoder, enc_tokenizer, dec_tokenizer)"
   ]
  },
  {
   "cell_type": "code",
   "execution_count": 48,
   "id": "9fadc94c",
   "metadata": {},
   "outputs": [
    {
     "name": "stderr",
     "output_type": "stream",
     "text": [
      "Epoch 6/10: 100%|██████████| 1039/1039 [14:07<00:00,  1.23batch/s, Batch Loss=1.73]\n"
     ]
    },
    {
     "name": "stdout",
     "output_type": "stream",
     "text": [
      "Epoch 6/10, Loss: 1.6972, Time: 847.90 seconds\n"
     ]
    },
    {
     "name": "stderr",
     "output_type": "stream",
     "text": [
      "Epoch 7/10: 100%|██████████| 1039/1039 [14:13<00:00,  1.22batch/s, Batch Loss=1.71]\n"
     ]
    },
    {
     "name": "stdout",
     "output_type": "stream",
     "text": [
      "Epoch 7/10, Loss: 1.5053, Time: 853.89 seconds\n"
     ]
    },
    {
     "name": "stderr",
     "output_type": "stream",
     "text": [
      "Epoch 8/10: 100%|██████████| 1039/1039 [14:13<00:00,  1.22batch/s, Batch Loss=1.47]\n"
     ]
    },
    {
     "name": "stdout",
     "output_type": "stream",
     "text": [
      "Epoch 8/10, Loss: 1.3312, Time: 853.99 seconds\n"
     ]
    },
    {
     "name": "stderr",
     "output_type": "stream",
     "text": [
      "Epoch 9/10: 100%|██████████| 1039/1039 [14:12<00:00,  1.22batch/s, Batch Loss=1.27]\n"
     ]
    },
    {
     "name": "stdout",
     "output_type": "stream",
     "text": [
      "Epoch 9/10, Loss: 1.1761, Time: 852.89 seconds\n"
     ]
    },
    {
     "name": "stderr",
     "output_type": "stream",
     "text": [
      "Epoch 10/10: 100%|██████████| 1039/1039 [14:12<00:00,  1.22batch/s, Batch Loss=0.922]"
     ]
    },
    {
     "name": "stdout",
     "output_type": "stream",
     "text": [
      "Epoch 10/10, Loss: 1.0379, Time: 852.49 seconds\n"
     ]
    },
    {
     "name": "stderr",
     "output_type": "stream",
     "text": [
      "\n"
     ]
    }
   ],
   "source": [
    "# 6번부터 10번까지 추가 학습\n",
    "for epoch in range(5, 10):  # Epoch 6~10\n",
    "    start_time = time.time()  \n",
    "    total_loss = 0\n",
    "\n",
    "    with tqdm(train_dataset, desc=f\"Epoch {epoch + 1}/10\", unit=\"batch\") as pbar:\n",
    "        for (batch, (src, tgt)) in enumerate(pbar):\n",
    "            batch_loss = train_step(src, tgt, encoder, decoder, optimizer, dec_tokenizer)\n",
    "            total_loss += batch_loss\n",
    "\n",
    "            pbar.set_postfix({\"Batch Loss\": batch_loss.numpy()})\n",
    "\n",
    "    avg_loss = total_loss / (batch + 1)\n",
    "    end_time = time.time() \n",
    "\n",
    "    elapsed_time = end_time - start_time  \n",
    "    print(f\"Epoch {epoch + 1}/10, Loss: {avg_loss.numpy():.4f}, Time: {elapsed_time:.2f} seconds\")"
   ]
  },
  {
   "cell_type": "code",
   "execution_count": 221,
   "id": "77cc60b5",
   "metadata": {},
   "outputs": [
    {
     "name": "stdout",
     "output_type": "stream",
     "text": [
      "Input: 오바마는 미국의 대통령입니다.\n",
      "Predicted translation: two hamburgers to be properly , the <end>\n",
      "Input: 시민들은 도시 속에 산다.\n",
      "Predicted translation: city <end>\n",
      "Input: 커피는 필요 없다.\n",
      "Predicted translation: better rights for this material to a . plan . need . survey <end>\n",
      "Input: 일곱 명의 사망자가 발생했다.\n",
      "Predicted translation: seven people <end>\n"
     ]
    }
   ],
   "source": [
    "translate(\"오바마는 미국의 대통령입니다.\", encoder, decoder, enc_tokenizer, dec_tokenizer)\n",
    "translate(\"시민들은 도시 속에 산다.\", encoder, decoder, enc_tokenizer, dec_tokenizer)\n",
    "translate(\"커피는 필요 없다.\", encoder, decoder, enc_tokenizer, dec_tokenizer)\n",
    "translate(\"일곱 명의 사망자가 발생했다.\", encoder, decoder, enc_tokenizer, dec_tokenizer)"
   ]
  },
  {
   "cell_type": "markdown",
   "id": "a0668f88",
   "metadata": {},
   "source": [
    "### 성능이 좋지 못하다"
   ]
  },
  {
   "cell_type": "markdown",
   "id": "3e8bef67",
   "metadata": {},
   "source": [
    "#### 문장이 어느 정도 길다면, 엄청 짧을 때보단 조금 괜찮은 것 같기도한데 사실 번역이라는 관점에선 더 안좋을 뿐이다. 단순하게 단어가 많아져서 비슷한 단어가 눈에 띄기에 그렇게 보이는 것 뿐.\n",
    "\n",
    "* 아래 예시는 깃허브 test_ko 에서 가져온 것\n",
    "\n",
    "#### train input, onput 길이를 적절하게 선별하고 적절한 기법들을 활용했기에 비슷한 길이로라도 나오는 것이지 이전 실험처럼 아예 번역 자체가 안되거나 반복만 주구장창 나오는 일이 빈번하다.\n",
    "#### GRU의 장기 기억 문제가 맥락 자체를 가져가지 못하기에 번역으로는 볼 수 없겠다."
   ]
  },
  {
   "cell_type": "code",
   "execution_count": 192,
   "id": "4fb095e6",
   "metadata": {},
   "outputs": [
    {
     "name": "stdout",
     "output_type": "stream",
     "text": [
      "Input: 이는 북한이 오랫동안 은폐해 온 핵 프로그램의 상징물을 파괴한 것이나 다름 없다 .\n",
      "Predicted translation: we have no nuclear bombs have been going or if not been going on the nuclear device , . hello ? . be the position to this . our position , <end>\n"
     ]
    }
   ],
   "source": [
    "translate(\"이는 북한이 오랫동안 은폐해 온 핵 프로그램의 상징물을 파괴한 것이나 다름 없다 .\", encoder, decoder, enc_tokenizer, dec_tokenizer)"
   ]
  },
  {
   "cell_type": "code",
   "execution_count": 198,
   "id": "88c4b43e",
   "metadata": {},
   "outputs": [
    {
     "name": "stdout",
     "output_type": "stream",
     "text": [
      "Input: 오늘은 월가의 가장 힘든 날 중 하나였는데 , 개장 시간 동안 저점에서는 포인트나 지수가 떨어졌다 .\n",
      "Predicted translation: among our most wanted me in this night in that followed most of all time within two days . the night <end>\n"
     ]
    }
   ],
   "source": [
    "translate(\"오늘은 월가의 가장 힘든 날 중 하나였는데 , 개장 시간 동안 저점에서는 포인트나 지수가 떨어졌다 .\", encoder, decoder, enc_tokenizer, dec_tokenizer)"
   ]
  },
  {
   "cell_type": "code",
   "execution_count": 214,
   "id": "f32ba4c7",
   "metadata": {},
   "outputs": [
    {
     "name": "stdout",
     "output_type": "stream",
     "text": [
      "Input: 로버트 무가베 대통령과 그의 측근 명에 대한 미국 주도의 유엔 안보리 제재 결의안이 공개됐다 .\n",
      "Predicted translation: president robert gates will introduce his security council for president . <end>\n"
     ]
    }
   ],
   "source": [
    "translate(\"로버트 무가베 대통령과 그의 측근 명에 대한 미국 주도의 유엔 안보리 제재 결의안이 공개됐다 .\", encoder, decoder, enc_tokenizer, dec_tokenizer)"
   ]
  },
  {
   "cell_type": "code",
   "execution_count": 220,
   "id": "e13fc196",
   "metadata": {},
   "outputs": [
    {
     "name": "stdout",
     "output_type": "stream",
     "text": [
      "Input: 중국 정부가 최근 칭다오에 있는 베이징 올림픽 요트 경기장에 확산됐던 녹조를 완전히 제거했다고 관계자가 일 밝혔다 .\n",
      "Predicted translation: beijing s main railway company in the country is getting a big storm . china s olympic olympic games . it s the beijing on wednesday for chinese , . it s the games , with china . it will likely in this place in the summer . . in\n"
     ]
    }
   ],
   "source": [
    "translate(\"중국 정부가 최근 칭다오에 있는 베이징 올림픽 요트 경기장에 확산됐던 녹조를 완전히 제거했다고 관계자가 일 밝혔다 .\", encoder, decoder, enc_tokenizer, dec_tokenizer)"
   ]
  },
  {
   "cell_type": "code",
   "execution_count": 225,
   "id": "462321e4",
   "metadata": {},
   "outputs": [
    {
     "name": "stdout",
     "output_type": "stream",
     "text": [
      "Input: 며칠간의 공백기 끝에 , 탈레반 무장 단체와 한국 정부 관계자는 남은 명의 한국인 인질들의 운명에 대한 논의를 재개하기로 했다 . 인질들은 전쟁으로 황폐화된 아프가니스탄에서 억류된 상태로 주째를 맞고 있다 . 증시의 일 연속 상승세는 포커의 포카드만큼이나 드문 일은 아니지만 , 증권거래원들은 오늘도 다우지수가 상승하면서 개장한 증시 때문에 흥분해 있습니다 .\n",
      "Predicted translation: a third group drop its highest ever again , the lowest levels on the korean statistical office in a quarter gain on top korean troops are south japan . the korea herald , seoul s main attacks and its main stock market that is pulling south koreans who had the\n"
     ]
    }
   ],
   "source": [
    "translate(\"며칠간의 공백기 끝에 , 탈레반 무장 단체와 한국 정부 관계자는 남은 명의 한국인 인질들의 운명에 대한 논의를 재개하기로 했다 . 인질들은 전쟁으로 황폐화된 아프가니스탄에서 억류된 상태로 주째를 맞고 있다 . 증시의 일 연속 상승세는 포커의 포카드만큼이나 드문 일은 아니지만 , 증권거래원들은 오늘도 다우지수가 상승하면서 개장한 증시 때문에 흥분해 있습니다 .\", encoder, decoder, enc_tokenizer, dec_tokenizer)"
   ]
  },
  {
   "cell_type": "markdown",
   "id": "3d6615ce",
   "metadata": {},
   "source": [
    "#### 좀 더 돌려서 Loss가 더 떨어질때까지 진행하면, 조금쯤은 성능이 좋아지겠으나 GRU를 활용한 번역 한계가 너무 뚜렷하게 보이기에 큰 의미는 없을 것이다"
   ]
  }
 ],
 "metadata": {
  "kernelspec": {
   "display_name": "Python 3 (ipykernel)",
   "language": "python",
   "name": "python3"
  },
  "language_info": {
   "codemirror_mode": {
    "name": "ipython",
    "version": 3
   },
   "file_extension": ".py",
   "mimetype": "text/x-python",
   "name": "python",
   "nbconvert_exporter": "python",
   "pygments_lexer": "ipython3",
   "version": "3.9.7"
  }
 },
 "nbformat": 4,
 "nbformat_minor": 5
}
