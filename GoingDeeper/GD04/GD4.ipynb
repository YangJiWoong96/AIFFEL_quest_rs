{
 "cells": [
  {
   "cell_type": "code",
   "execution_count": 1,
   "id": "e7caa473",
   "metadata": {},
   "outputs": [
    {
     "name": "stdout",
     "output_type": "stream",
     "text": [
      "2.6.0\n"
     ]
    },
    {
     "data": {
      "text/plain": [
       "'/usr/share/fonts/truetype/nanum/NanumBarunGothic.ttf'"
      ]
     },
     "execution_count": 1,
     "metadata": {},
     "output_type": "execute_result"
    }
   ],
   "source": [
    "import os\n",
    "import tarfile\n",
    "import matplotlib as mpl\n",
    "import matplotlib.pyplot as plt\n",
    "import tensorflow as tf\n",
    "import numpy as np\n",
    "from sklearn.model_selection import train_test_split\n",
    "import matplotlib.ticker as ticker\n",
    "import time\n",
    "import re\n",
    "import io\n",
    "from tqdm import tqdm    # tqdm\n",
    "import random\n",
    "\n",
    "print(tf.__version__)\n",
    "\n",
    "%config InlineBackend.figure_format = 'retina'\n",
    "\n",
    "import matplotlib.font_manager as fm\n",
    "fontpath = '/usr/share/fonts/truetype/nanum/NanumBarunGothic.ttf'\n",
    "font = fm.FontProperties(fname=fontpath, size=9)\n",
    "plt.rc('font', family='NanumBarunGothic')\n",
    "mpl.font_manager.findfont(font)\n",
    "# '/usr/share/fonts/truetype/nanum/NanumBarunGothic.ttf'"
   ]
  },
  {
   "cell_type": "code",
   "execution_count": 2,
   "id": "8461234b",
   "metadata": {},
   "outputs": [
    {
     "data": {
      "text/plain": [
       "'/aiffel/aiffel/s2s_translation'"
      ]
     },
     "execution_count": 2,
     "metadata": {},
     "output_type": "execute_result"
    }
   ],
   "source": [
    "os.getcwd()"
   ]
  },
  {
   "cell_type": "code",
   "execution_count": 3,
   "id": "0e6d450c",
   "metadata": {},
   "outputs": [
    {
     "name": "stdout",
     "output_type": "stream",
     "text": [
      "압축 해제 : korean-english-park.train.tar.gz\n"
     ]
    }
   ],
   "source": [
    "# train\n",
    "data_path = \"/aiffel/aiffel/s2s_translation/data\"\n",
    "file_name = \"korean-english-park.train.tar.gz\"\n",
    "file_path = os.path.join(data_path, file_name)\n",
    "\n",
    "if tarfile.is_tarfile(file_path):\n",
    "    with tarfile.open(file_path, \"r:gz\") as tar:\n",
    "        tar.extractall(path=data_path)\n",
    "        print(f\"압축 해제 : {file_name}\")\n",
    "else:\n",
    "    print(f\"'{file_name}'압축 해제 실패\")"
   ]
  },
  {
   "cell_type": "code",
   "execution_count": 4,
   "id": "ec02fa45",
   "metadata": {},
   "outputs": [
    {
     "name": "stdout",
     "output_type": "stream",
     "text": [
      "압축 해제 : korean-english-park.test.tar.gz\n"
     ]
    }
   ],
   "source": [
    "# test\n",
    "data_path = \"/aiffel/aiffel/s2s_translation/data\"\n",
    "file_name = \"korean-english-park.test.tar.gz\"\n",
    "file_path = os.path.join(data_path, file_name)\n",
    "\n",
    "if tarfile.is_tarfile(file_path):\n",
    "    with tarfile.open(file_path, \"r:gz\") as tar:\n",
    "        tar.extractall(path=data_path)\n",
    "        print(f\"압축 해제 : {file_name}\")\n",
    "else:\n",
    "    print(f\"'{file_name}'압축 해제 실패\")"
   ]
  },
  {
   "cell_type": "code",
   "execution_count": 5,
   "id": "daaf67cc",
   "metadata": {},
   "outputs": [],
   "source": [
    "# korean-english-park.test.en\n",
    "# korean-english-park.test.ko\n",
    "# korean-english-park.train.en\n",
    "# korean-english-park.train.ko\n",
    "train_ko_path = os.path.join(data_path, \"korean-english-park.train.ko\")\n",
    "train_en_path = os.path.join(data_path, \"korean-english-park.train.en\")\n",
    "test_ko_path = os.path.join(data_path, \"korean-english-park.test.ko\")\n",
    "test_en_path = os.path.join(data_path, \"korean-english-park.test.en\")\n",
    "\n",
    "def load_file(file_path):\n",
    "    with open(file_path, 'r', encoding='utf-8') as f:\n",
    "        data = f.readlines()\n",
    "    return data\n",
    "\n",
    "train_ko = load_file(train_ko_path)\n",
    "train_en = load_file(train_en_path)\n",
    "test_ko = load_file(test_ko_path)\n",
    "test_en = load_file(test_en_path)"
   ]
  },
  {
   "cell_type": "code",
   "execution_count": 6,
   "id": "72dc0202",
   "metadata": {},
   "outputs": [
    {
     "name": "stdout",
     "output_type": "stream",
     "text": [
      "train_ko length : 94123\n",
      "train_en length: 94123\n",
      "test_ko length: 2000\n",
      "test_en length: 2000\n"
     ]
    }
   ],
   "source": [
    "print(\"train_ko length :\", len(train_ko))\n",
    "print(\"train_en length:\", len(train_en))\n",
    "print(\"test_ko length:\", len(test_ko))\n",
    "print(\"test_en length:\", len(test_en))"
   ]
  },
  {
   "cell_type": "code",
   "execution_count": 7,
   "id": "c31b093b",
   "metadata": {},
   "outputs": [
    {
     "data": {
      "text/plain": [
       "0.02080667478126983"
      ]
     },
     "execution_count": 7,
     "metadata": {},
     "output_type": "execute_result"
    }
   ],
   "source": [
    "2000/(94123+2000)"
   ]
  },
  {
   "cell_type": "code",
   "execution_count": 12,
   "id": "36977e72",
   "metadata": {},
   "outputs": [
    {
     "name": "stdout",
     "output_type": "stream",
     "text": [
      "train_ko length: 78968\n",
      "train_en length: 78968\n"
     ]
    }
   ],
   "source": [
    "# 병렬쌍이 흐트러지지 않게 묶어버리기 \n",
    "train_pairs = list(zip(train_ko, train_en))\n",
    "\n",
    "# 병렬쌍 (한영 전부 같은 것들) 중복 제거\n",
    "train_pairs = list(set(train_pairs))\n",
    "\n",
    "# 다시 분리\n",
    "train_ko, train_en = zip(*train_pairs)\n",
    "\n",
    "# 리스트화 \n",
    "train_ko = list(train_ko)\n",
    "train_en = list(train_en)\n",
    "\n",
    "print(f\"train_ko length: {len(train_ko)}\")\n",
    "print(f\"train_en length: {len(train_en)}\")"
   ]
  },
  {
   "cell_type": "code",
   "execution_count": 13,
   "id": "364d437e",
   "metadata": {},
   "outputs": [
    {
     "name": "stdout",
     "output_type": "stream",
     "text": [
      "train_ko length: 1996\n",
      "train_en length: 1996\n"
     ]
    }
   ],
   "source": [
    "test_pairs = list(zip(test_ko, test_en))\n",
    "\n",
    "test_pairs = list(set(test_pairs))\n",
    "\n",
    "test_ko, test_en = zip(*test_pairs)\n",
    "\n",
    "test_ko = list(test_ko)\n",
    "test_en = list(test_en)\n",
    "\n",
    "print(f\"train_ko length: {len(test_ko)}\")\n",
    "print(f\"train_en length: {len(test_en)}\")"
   ]
  },
  {
   "cell_type": "markdown",
   "id": "df21d7ad",
   "metadata": {},
   "source": [
    "### 전처리"
   ]
  },
  {
   "cell_type": "code",
   "execution_count": 16,
   "id": "fa5491c8",
   "metadata": {},
   "outputs": [],
   "source": [
    "def preprocess_sentence(sentence, s_token=False, e_token=False):\n",
    "    sentence = sentence.lower().strip()\n",
    "\n",
    "    sentence = re.sub(r\"([?.!,])\", r\" \\1 \", sentence)\n",
    "    sentence = re.sub(r'[\" \"]+', \" \", sentence)\n",
    "    sentence = re.sub(r\"[^ㄱ-ㅎㅏ-ㅣ가-힣a-zA-Z?.!,]+\", \" \", sentence)  # 한글과 영어 외 제거\n",
    "\n",
    "    sentence = sentence.strip()\n",
    "\n",
    "    if s_token:\n",
    "        sentence = '<start> ' + sentence\n",
    "\n",
    "    if e_token:\n",
    "        sentence += ' <end>'\n",
    "\n",
    "    return sentence"
   ]
  },
  {
   "cell_type": "code",
   "execution_count": 17,
   "id": "cc199eeb",
   "metadata": {},
   "outputs": [
    {
     "name": "stdout",
     "output_type": "stream",
     "text": [
      "train_ko : ['영국 대표팀은 오는 월 일 에스토니아와 유로 예선전을 치르며 대표팀 일부 선수들은 베컴의 복귀를 희망하고 있는 것으로 알려졌다 .', 'resumption 회수 , 회복 , 재개', '대부분의 한국인은 지난 년만에 생활 수준이 최저 수준으로 하락했으며 현재의 경제 상황은 년부터 년까지의 외환 위기 이후 년만에 최악인 것으로 여기고 있다고 한국은행이 보고했다 .']\n",
      "train_en : ['<start> england have a vital euro qualifier in estonia on june and several players have openly called for beckham s return in a bid to revive their dismal campaign . <end>', '<start> security council adopted a resolution , condemning pyongyang s missile launches . <end>', '<start> additionally , many of them regard the current economic conditions as the worst in six years since the financial crisis , the bank of korea bok reported wednesday . <end>']\n",
      "test_ko : ['이번 공연은 미국 최초의 북한 방문 공연으로써 , 양국간의 긴장된 관계의 돌파구로 간주되고 있다 .', 'pope benedict will make a pilgrimage to the holy land in may 베네딕토 교황 , 월에 성지순례에 나설 예정 .', '로블스는 루 시앙 는 쉽지 않은 상대가 될 것 이라며 그는 좋은 사람이고 중국인들도 그를 사랑한다 고 덧붙였다 .']\n",
      "test_en : ['<start> this is the first us cultural visit to north korea , and it is being seen as a breakthrough in the countries tense relationship . <end>', '<start> two of the soldiers were killed in the attack . <end>', '<start> the people love him in china and he s a good person . <end>']\n"
     ]
    }
   ],
   "source": [
    "train_ko = [preprocess_sentence(sent) for sent in train_ko]\n",
    "train_en = [preprocess_sentence(sent, s_token=True, e_token=True) for sent in train_en]\n",
    "test_ko = [preprocess_sentence(sent) for sent in test_ko]\n",
    "test_en = [preprocess_sentence(sent, s_token=True, e_token=True) for sent in test_en]\n",
    "\n",
    "print(\"train_ko :\", train_ko[:3])\n",
    "print(\"train_en :\", train_en[:3])\n",
    "print(\"test_ko :\", test_ko[:3])\n",
    "print(\"test_en :\", test_en[:3])"
   ]
  },
  {
   "cell_type": "markdown",
   "id": "ebb79d67",
   "metadata": {},
   "source": [
    "### 길이 cutting 문제"
   ]
  },
  {
   "cell_type": "code",
   "execution_count": 18,
   "id": "93c1757f",
   "metadata": {},
   "outputs": [
    {
     "data": {
      "image/png": "[encoded data removed]",
      "text/plain": [
       "<Figure size 432x288 with 1 Axes>"
      ]
     },
     "metadata": {
      "image/png": {
       "height": 280,
       "width": 394
      },
      "needs_background": "light"
     },
     "output_type": "display_data"
    },
    {
     "data": {
      "image/png": "[encoded data removed]",
      "text/plain": [
       "<Figure size 432x288 with 1 Axes>"
      ]
     },
     "metadata": {
      "image/png": {
       "height": 280,
       "width": 388
      },
      "needs_background": "light"
     },
     "output_type": "display_data"
    }
   ],
   "source": [
    "# 한국어 데이터 공백 제외한 글자 길이 분포\n",
    "char_lengths_ko = [len(sentence.replace(\" \", \"\")) for sentence in train_ko]\n",
    "\n",
    "# 영어 데이터 공백 제외한 글자 길이 분포\n",
    "char_lengths_en = [len(sentence.replace(\" \", \"\")) for sentence in train_en]\n",
    "\n",
    "plt.hist(char_lengths_ko, bins=range(1, max(char_lengths_ko) + 1), edgecolor='black')\n",
    "plt.title(\"Korean Character Length Distribution (No Spaces)\")\n",
    "plt.xlabel(\"Character Length\")\n",
    "plt.ylabel(\"Frequency\")\n",
    "plt.show()\n",
    "\n",
    "plt.hist(char_lengths_en, bins=range(1, max(char_lengths_en) + 1), edgecolor='black')\n",
    "plt.title(\"English Character Length Distribution (No Spaces)\")\n",
    "plt.xlabel(\"Character Length\")\n",
    "plt.ylabel(\"Frequency\")\n",
    "plt.show()"
   ]
  },
  {
   "cell_type": "markdown",
   "id": "7dd5cf54",
   "metadata": {},
   "source": [
    "### 생각해보면 한글이랑 영어를 같은 기준에 두고 글자 단위로 셀 순 없다. \n",
    "* 단어 기준으로 한글은 5글자를 넘어가는게 별로 없으나 영어는 무수히 많으니까"
   ]
  },
  {
   "cell_type": "code",
   "execution_count": 19,
   "id": "4e5c0fce",
   "metadata": {},
   "outputs": [
    {
     "name": "stdout",
     "output_type": "stream",
     "text": [
      "Filtered Korean Sentences: 68795\n",
      "Filtered English Sentences: 68795\n"
     ]
    }
   ],
   "source": [
    "# 한국어(train_ko)와 영어(train_en) 데이터 필터링\n",
    "# 공백 제외 단어 글자 길이 기준 \n",
    "filtered_train_ko = []\n",
    "filtered_train_en = []\n",
    "\n",
    "for ko_sent, en_sent in zip(train_ko, train_en):\n",
    "    if len(ko_sent.replace(\" \", \"\")) <= 80 and len(en_sent.replace(\" \", \"\")) <= 190:  # 공백 제외 글자 길이 기준\n",
    "        filtered_train_ko.append(ko_sent)\n",
    "        filtered_train_en.append(en_sent)\n",
    "\n",
    "train_ko = filtered_train_ko\n",
    "train_en = filtered_train_en\n",
    "\n",
    "print(f\"Filtered Korean Sentences: {len(train_ko)}\")\n",
    "print(f\"Filtered English Sentences: {len(train_en)}\")"
   ]
  },
  {
   "cell_type": "code",
   "execution_count": 57,
   "id": "3358308f",
   "metadata": {},
   "outputs": [
    {
     "data": {
      "image/png": "[encoded data removed]",
      "text/plain": [
       "<Figure size 432x288 with 1 Axes>"
      ]
     },
     "metadata": {
      "image/png": {
       "height": 280,
       "width": 394
      },
      "needs_background": "light"
     },
     "output_type": "display_data"
    },
    {
     "data": {
      "image/png": "[encoded data removed]",
      "text/plain": [
       "<Figure size 432x288 with 1 Axes>"
      ]
     },
     "metadata": {
      "image/png": {
       "height": 280,
       "width": 394
      },
      "needs_background": "light"
     },
     "output_type": "display_data"
    }
   ],
   "source": [
    "# # 한국어 데이터 토큰 당 길이 분포\n",
    "# token_lengths_ko = [len(sentence.split()) for sentence in train_ko]\n",
    "\n",
    "# # 영어 데이터 토큰 당 길이 분포\n",
    "# token_lengths_en = [len(sentence.split()) for sentence in train_en]\n",
    "\n",
    "# # 한국어 데이터 토큰 길이 분포 히스토그램\n",
    "# plt.hist(token_lengths_ko, bins=range(1, max(token_lengths_ko) + 1), edgecolor='black')\n",
    "# plt.title(\"Korean Token Length Distribution\")\n",
    "# plt.xlabel(\"Token Length\")\n",
    "# plt.ylabel(\"Frequency\")\n",
    "# plt.show()\n",
    "\n",
    "# # 영어 데이터 토큰 길이 분포 히스토그램\n",
    "# plt.hist(token_lengths_en, bins=range(1, max(token_lengths_en) + 1), edgecolor='black')\n",
    "# plt.title(\"English Token Length Distribution\")\n",
    "# plt.xlabel(\"Token Length\")\n",
    "# plt.ylabel(\"Frequency\")\n",
    "# plt.show()"
   ]
  },
  {
   "cell_type": "code",
   "execution_count": 59,
   "id": "7c9fc63c",
   "metadata": {},
   "outputs": [
    {
     "name": "stdout",
     "output_type": "stream",
     "text": [
      "Filtered Korean Sentences: 78698\n"
     ]
    }
   ],
   "source": [
    "# # train_ko 공백 기준 토큰 길이 필터링\n",
    "# filtered_train_ko = []\n",
    "\n",
    "# for ko_sent in train_ko:\n",
    "#     if len(ko_sent.split()) <= 40:\n",
    "#         filtered_train_ko.append(ko_sent)\n",
    "\n",
    "# train_ko = filtered_train_ko\n",
    "\n",
    "# print(f\"Filtered Korean Sentences: {len(train_ko)}\")"
   ]
  },
  {
   "cell_type": "markdown",
   "id": "e7a665dd",
   "metadata": {},
   "source": [
    "### 토큰화"
   ]
  },
  {
   "cell_type": "code",
   "execution_count": 18,
   "id": "3dad381c",
   "metadata": {},
   "outputs": [
    {
     "data": {
      "text/plain": [
       "196049"
      ]
     },
     "execution_count": 18,
     "metadata": {},
     "output_type": "execute_result"
    }
   ],
   "source": [
    "# 공백으로 나눈 한국어\n",
    "train_ko_words = \" \".join(train_ko).split()\n",
    "\n",
    "# 고유 단어 집합 생성\n",
    "train_ko_unique_count = set(train_ko_words)\n",
    "\n",
    "# 고유 단어 개수 출력\n",
    "len(train_ko_unique_count)"
   ]
  },
  {
   "cell_type": "code",
   "execution_count": 19,
   "id": "f4d2c51d",
   "metadata": {},
   "outputs": [
    {
     "data": {
      "text/plain": [
       "44565"
      ]
     },
     "execution_count": 19,
     "metadata": {},
     "output_type": "execute_result"
    }
   ],
   "source": [
    "# 공백으로 나눈 영어\n",
    "train_en_words = \" \".join(train_en).split()\n",
    "\n",
    "# 고유 단어 집합 생성\n",
    "train_en_unique_count = set(train_en_words)\n",
    "\n",
    "# 고유 단어 개수 출력\n",
    "len(train_en_unique_count)"
   ]
  },
  {
   "cell_type": "code",
   "execution_count": 20,
   "id": "28559fe6",
   "metadata": {},
   "outputs": [
    {
     "name": "stderr",
     "output_type": "stream",
     "text": [
      "Tokenizing train_ko: 100%|██████████| 68795/68795 [00:09<00:00, 7320.86it/s]"
     ]
    },
    {
     "name": "stdout",
     "output_type": "stream",
     "text": [
      "Train KO Tokenized Example: ['영국 대표 팀 은 오 는 월 일 에스 토니아 와 유로 예선전 을 치르 며 대표 팀 일부 선수 들 은 베컴 의 복귀 를 희망 하 고 있 는 것 으로 알려졌 다 .', 'resumption 회수 , 회복 , 재개', '대부분 의 한국인 은 지난 년 만 에 생활 수준 이 최저 수준 으로 하락 했으며 현재 의 경제 상황 은 년 부터 년 까지 의 외환 위기 이후 년 만 에 최악 인 것 으로 여기 고 있 다고 한국은행 이 보 고 했 다 .']\n"
     ]
    },
    {
     "name": "stderr",
     "output_type": "stream",
     "text": [
      "\n"
     ]
    }
   ],
   "source": [
    "from konlpy.tag import Mecab\n",
    "from tqdm import tqdm\n",
    "\n",
    "mecab = Mecab()\n",
    "\n",
    "# 토큰화\n",
    "kor_corpus = [\" \".join(mecab.morphs(sentence)) for sentence in tqdm(train_ko, desc=\"Tokenizing train_ko\")]\n",
    "\n",
    "# 결과 확인 (예시로 처음 몇 개 출력)\n",
    "print(\"Train KO Tokenized Example:\", kor_corpus[:3])"
   ]
  },
  {
   "cell_type": "code",
   "execution_count": 21,
   "id": "45440560",
   "metadata": {},
   "outputs": [
    {
     "name": "stderr",
     "output_type": "stream",
     "text": [
      "Tokenizing train_en: 100%|██████████| 68795/68795 [00:00<00:00, 475537.54it/s]"
     ]
    },
    {
     "name": "stdout",
     "output_type": "stream",
     "text": [
      "Train EN Tokenized Example: ['<start> england have a vital euro qualifier in estonia on june and several players have openly called for beckham s return in a bid to revive their dismal campaign . <end>', '<start> security council adopted a resolution , condemning pyongyang s missile launches . <end>', '<start> additionally , many of them regard the current economic conditions as the worst in six years since the financial crisis , the bank of korea bok reported wednesday . <end>']\n"
     ]
    },
    {
     "name": "stderr",
     "output_type": "stream",
     "text": [
      "\n"
     ]
    }
   ],
   "source": [
    "# 영어 데이터 공백 기준 토큰화\n",
    "eng_corpus = [\" \".join(sentence.split()) for sentence in tqdm(train_en, desc=\"Tokenizing train_en\")]\n",
    "\n",
    "# 결과 확인 (예시로 처음 몇 개 출력)\n",
    "print(\"Train EN Tokenized Example:\", eng_corpus[:3])"
   ]
  },
  {
   "cell_type": "code",
   "execution_count": 22,
   "id": "4e2a40d5",
   "metadata": {},
   "outputs": [
    {
     "name": "stderr",
     "output_type": "stream",
     "text": [
      "Calculating Korean Token Length: 100%|██████████| 68795/68795 [00:00<00:00, 592087.12it/s]\n",
      "Calculating English Token Length: 100%|██████████| 68795/68795 [00:00<00:00, 632814.91it/s]\n"
     ]
    },
    {
     "data": {
      "image/png": "[encoded data removed]",
      "text/plain": [
       "<Figure size 432x288 with 1 Axes>"
      ]
     },
     "metadata": {
      "image/png": {
       "height": 280,
       "width": 394
      },
      "needs_background": "light"
     },
     "output_type": "display_data"
    },
    {
     "data": {
      "image/png": "[encoded data removed]",
      "text/plain": [
       "<Figure size 432x288 with 1 Axes>"
      ]
     },
     "metadata": {
      "image/png": {
       "height": 280,
       "width": 394
      },
      "needs_background": "light"
     },
     "output_type": "display_data"
    }
   ],
   "source": [
    "# 한국어 데이터 토큰 길이 분포\n",
    "token_lengths_kor = [len(sentence.split()) for sentence in tqdm(kor_corpus, desc=\"Calculating Korean Token Length\")]\n",
    "\n",
    "# 영어 데이터 토큰 길이 분포\n",
    "token_lengths_eng = [len(sentence.split()) for sentence in tqdm(eng_corpus, desc=\"Calculating English Token Length\")]\n",
    "\n",
    "# 한국어 데이터 토큰 길이 분포 히스토그램\n",
    "plt.hist(token_lengths_kor, bins=range(1, max(token_lengths_kor) + 1), edgecolor='black')\n",
    "plt.title(\"Korean Token Length Distribution\")\n",
    "plt.xlabel(\"Token Length\")\n",
    "plt.ylabel(\"Frequency\")\n",
    "plt.show()\n",
    "\n",
    "# 영어 데이터 토큰 길이 분포 히스토그램\n",
    "plt.hist(token_lengths_eng, bins=range(1, max(token_lengths_eng) + 1), edgecolor='black')\n",
    "plt.title(\"English Token Length Distribution\")\n",
    "plt.xlabel(\"Token Length\")\n",
    "plt.ylabel(\"Frequency\")\n",
    "plt.show()"
   ]
  },
  {
   "cell_type": "code",
   "execution_count": 61,
   "id": "8f9ac0d0",
   "metadata": {},
   "outputs": [
    {
     "data": {
      "image/png": "[encoded data removed]",
      "text/plain": [
       "<Figure size 432x288 with 1 Axes>"
      ]
     },
     "metadata": {
      "image/png": {
       "height": 280,
       "width": 394
      },
      "needs_background": "light"
     },
     "output_type": "display_data"
    }
   ],
   "source": [
    "# token_lengths_ko = [len(sentence.split()) for sentence in kor_corpus]\n",
    "\n",
    "# # 히스토그램 \n",
    "# plt.hist(token_lengths_ko, bins=range(1, max(token_lengths_ko) + 1), edgecolor='black')\n",
    "# plt.title(\"Kor Token Length Distribution\")\n",
    "# plt.xlabel(\"Kor Token Length\")\n",
    "# plt.ylabel(\"Frequency\")\n",
    "# plt.show()"
   ]
  },
  {
   "cell_type": "code",
   "execution_count": 62,
   "id": "7d56c0cb",
   "metadata": {},
   "outputs": [
    {
     "data": {
      "image/png": "[encoded data removed]",
      "text/plain": [
       "<Figure size 432x288 with 1 Axes>"
      ]
     },
     "metadata": {
      "image/png": {
       "height": 280,
       "width": 394
      },
      "needs_background": "light"
     },
     "output_type": "display_data"
    }
   ],
   "source": [
    "# token_lengths_en = [len(sentence.split()) for sentence in train_en]\n",
    "\n",
    "# #히스토그램\n",
    "# plt.hist(token_lengths_en, bins=range(1, max(token_lengths_en) + 1), edgecolor='black')\n",
    "# plt.title(\"Eng Token Length Distribution\")\n",
    "# plt.xlabel(\"Eng Token Length\")\n",
    "# plt.ylabel(\"Frequency\")\n",
    "# plt.show()"
   ]
  },
  {
   "cell_type": "code",
   "execution_count": 23,
   "id": "db291710",
   "metadata": {},
   "outputs": [
    {
     "name": "stdout",
     "output_type": "stream",
     "text": [
      "Filtered Korean Corpus: 66477 sentences\n",
      "Filtered English Corpus: 66477 sentences\n"
     ]
    }
   ],
   "source": [
    "# 한국어(kor_corpus)와 영어(train_en) 데이터 필터링\n",
    "filtered_kor_corpus = []\n",
    "filtered_eng_corpus = []\n",
    "# \n",
    "for kor_sent, eng_sent in zip(kor_corpus, eng_corpus):\n",
    "    if len(kor_sent.split()) <= 45 and len(eng_sent.split()) <= 45: # 결국 절단을 하지 않으면 메모리 부족이 일어난다. \n",
    "        filtered_kor_corpus.append(kor_sent)\n",
    "        filtered_eng_corpus.append(eng_sent)\n",
    "# 코퍼스 \n",
    "kor_corpus = filtered_kor_corpus\n",
    "eng_corpus = filtered_eng_corpus\n",
    "\n",
    "print(f\"Filtered Korean Corpus: {len(kor_corpus)} sentences\")\n",
    "print(f\"Filtered English Corpus: {len(eng_corpus)} sentences\")"
   ]
  },
  {
   "cell_type": "code",
   "execution_count": 24,
   "id": "df0cd371",
   "metadata": {},
   "outputs": [
    {
     "name": "stdout",
     "output_type": "stream",
     "text": [
      "Encoder Tensor : [[  101   276   225     7   215     4    59    26  5858 17391    30  1068\n",
      "   4735     5  2202    42   276   225   172   328    15     7  1431     6\n",
      "   1288     9  1019    11    12    14     4    19    20   584     2     1\n",
      "      0     0     0     0     0     0     0     0     0]\n",
      " [21113  3077    17   893    17   830     0     0     0     0     0     0\n",
      "      0     0     0     0     0     0     0     0     0     0     0     0\n",
      "      0     0     0     0     0     0     0     0     0     0     0     0\n",
      "      0     0     0     0     0     0     0     0     0]\n",
      " [   23     4   259   100  1128   706  3182  7211 12002    17  4603    13\n",
      "   1200    46    28    53  1128     5   243    11    32    63   151    46\n",
      "     86   116   151   170     6  2134     5  2749    34    97     3    35\n",
      "     39     2     1     0     0     0     0     0     0]]\n",
      "Decoder Tensor : [[   3  524   26    8 3699 1719 6937    9 5666   13  493   10  218 1203\n",
      "    26 4016  149   14 1795   11  379    9    8 1034    6 3854   46 8035\n",
      "   311    2    4    0    0    0    0    0    0    0    0    0    0    0\n",
      "     0    0    0]\n",
      " [   3  146  577 2774    8  995    5 6114  554   11 1010 7249    2    4\n",
      "     0    0    0    0    0    0    0    0    0    0    0    0    0    0\n",
      "     0    0    0    0    0    0    0    0    0    0    0    0    0    0\n",
      "     0    0    0]\n",
      " [   3   21   12    1   49    2  392    2   84  413  337  340    6 1496\n",
      "   106  740   43    6  259 3568  106   41    9  256    2    4    0    0\n",
      "     0    0    0    0    0    0    0    0    0    0    0    0    0    0\n",
      "     0    0    0]]\n",
      "Tokenizer Word Index Kor: [('.', 1), ('다', 2), ('이', 3), ('는', 4), ('을', 5), ('의', 6), ('은', 7), ('에', 8), ('를', 9), ('했', 10)]\n",
      "Tokenizer Word Index Eng: [('the', 1), ('.', 2), ('<start>', 3), ('<end>', 4), (',', 5), ('to', 6), ('of', 7), ('a', 8), ('in', 9), ('and', 10)]\n"
     ]
    }
   ],
   "source": [
    "# tokenize 함수 정의\n",
    "def tokenize(corpus, num_words=None):\n",
    "    tokenizer = tf.keras.preprocessing.text.Tokenizer(num_words=num_words, filters='')\n",
    "    tokenizer.fit_on_texts(corpus)\n",
    "\n",
    "    tensor = tokenizer.texts_to_sequences(corpus)\n",
    "    tensor = tf.keras.preprocessing.sequence.pad_sequences(tensor, padding='post')\n",
    "\n",
    "    return tensor, tokenizer\n",
    "\n",
    "# kor_corpus를 tensor와 tokenizer로 변환\n",
    "enc_tensor, enc_tokenizer = tokenize(kor_corpus)  # 인코더\n",
    "dec_tensor, dec_tokenizer = tokenize(eng_corpus)  # 디코더\n",
    "\n",
    "print(\"Encoder Tensor :\", enc_tensor[:3])\n",
    "print(\"Decoder Tensor :\", dec_tensor[:3])\n",
    "print(\"Tokenizer Word Index Kor:\", list(enc_tokenizer.word_index.items())[:10])  \n",
    "print(\"Tokenizer Word Index Eng:\", list(dec_tokenizer.word_index.items())[:10]) "
   ]
  },
  {
   "cell_type": "code",
   "execution_count": 25,
   "id": "7d077d03",
   "metadata": {},
   "outputs": [
    {
     "name": "stdout",
     "output_type": "stream",
     "text": [
      "Enc Train : (66477, 45)\n",
      "Dec Train : (66477, 45)\n"
     ]
    }
   ],
   "source": [
    "# validation X\n",
    "enc_train = enc_tensor\n",
    "dec_train = dec_tensor\n",
    "\n",
    "print(\"Enc Train :\", enc_train.shape)\n",
    "print(\"Dec Train :\", dec_train.shape)"
   ]
  },
  {
   "cell_type": "markdown",
   "id": "bcba520c",
   "metadata": {},
   "source": [
    "### val set 삭제 + 단어 글자 단위로 cutting 후 토큰화 "
   ]
  },
  {
   "cell_type": "code",
   "execution_count": 31,
   "id": "7ebeeaa4",
   "metadata": {},
   "outputs": [],
   "source": [
    "# Bahdanau Attention Class 추가\n",
    "class BahdanauAttention(tf.keras.layers.Layer):\n",
    "    def __init__(self, units):\n",
    "        super(BahdanauAttention, self).__init__()\n",
    "        self.W1 = tf.keras.layers.Dense(units)\n",
    "        self.W2 = tf.keras.layers.Dense(units)\n",
    "        self.V = tf.keras.layers.Dense(1)\n",
    "\n",
    "    def call(self, query, values):\n",
    "        query_with_time_axis = tf.expand_dims(query, 1)\n",
    "        score = self.V(tf.nn.tanh(self.W1(query_with_time_axis) + self.W2(values)))\n",
    "        attention_weights = tf.nn.softmax(score, axis=1)\n",
    "        context_vector = attention_weights * values\n",
    "        context_vector = tf.reduce_sum(context_vector, axis=1)\n",
    "        return context_vector, attention_weights"
   ]
  },
  {
   "cell_type": "code",
   "execution_count": 32,
   "id": "9adb50e7",
   "metadata": {},
   "outputs": [],
   "source": [
    "# Encoder Class\n",
    "class Encoder(tf.keras.Model):\n",
    "    def __init__(self, vocab_size, embedding_dim, enc_units):\n",
    "        super(Encoder, self).__init__()\n",
    "        self.enc_units = enc_units\n",
    "        self.embedding = tf.keras.layers.Embedding(vocab_size, embedding_dim)\n",
    "        self.dropout = tf.keras.layers.Dropout(0.2)\n",
    "        self.gru = tf.keras.layers.GRU(\n",
    "            enc_units,\n",
    "            return_sequences=True,\n",
    "            return_state=True,\n",
    "            recurrent_initializer=\"glorot_uniform\",\n",
    "        )\n",
    "\n",
    "    def call(self, x):\n",
    "        x = self.embedding(x)\n",
    "        x = self.dropout(x)\n",
    "        output, state = self.gru(x)\n",
    "        return output, state"
   ]
  },
  {
   "cell_type": "code",
   "execution_count": 33,
   "id": "67ef509d",
   "metadata": {},
   "outputs": [],
   "source": [
    "# Decoder Class\n",
    "class Decoder(tf.keras.Model):\n",
    "    def __init__(self, vocab_size, embedding_dim, dec_units):\n",
    "        super(Decoder, self).__init__()\n",
    "        self.dec_units = dec_units\n",
    "        self.embedding = tf.keras.layers.Embedding(vocab_size, embedding_dim)\n",
    "        self.dropout = tf.keras.layers.Dropout(0.2)\n",
    "        self.gru = tf.keras.layers.GRU(\n",
    "            dec_units,\n",
    "            return_sequences=True,\n",
    "            return_state=True,\n",
    "            recurrent_initializer=\"glorot_uniform\",\n",
    "        )\n",
    "        self.fc = tf.keras.layers.Dense(vocab_size)\n",
    "        self.attention = BahdanauAttention(dec_units)\n",
    "\n",
    "    def call(self, x, h_dec, enc_out):\n",
    "        x = self.embedding(x)\n",
    "        x = self.dropout(x)\n",
    "        context_vec, attn_weights = self.attention(h_dec, enc_out)\n",
    "        context_vec = tf.expand_dims(context_vec, 1)\n",
    "        x = tf.concat([context_vec, x], axis=-1)\n",
    "        output, state = self.gru(x)\n",
    "        output = tf.reshape(output, (-1, output.shape[2]))\n",
    "        x = self.fc(output)\n",
    "        return x, state, attn_weights"
   ]
  },
  {
   "cell_type": "code",
   "execution_count": 34,
   "id": "71ff6a3b",
   "metadata": {},
   "outputs": [],
   "source": [
    "# 인코더 & 디코더 \n",
    "SRC_VOCAB_SIZE = len(enc_tokenizer.index_word) + 1\n",
    "TGT_VOCAB_SIZE = len(dec_tokenizer.index_word) + 1\n",
    "embedding_dim = 512\n",
    "units = 1024\n",
    "\n",
    "encoder = Encoder(SRC_VOCAB_SIZE, embedding_dim, units)\n",
    "decoder = Decoder(TGT_VOCAB_SIZE, embedding_dim, units)"
   ]
  },
  {
   "cell_type": "code",
   "execution_count": 35,
   "id": "ce2e0577",
   "metadata": {},
   "outputs": [],
   "source": [
    "# 6. 손실 함수와 옵티마이저 정의\n",
    "loss_object = tf.keras.losses.SparseCategoricalCrossentropy(from_logits=True, reduction='none')\n",
    "def loss_function(real, pred):\n",
    "    mask = tf.math.logical_not(tf.math.equal(real, 0))\n",
    "    loss = loss_object(real, pred)\n",
    "    mask = tf.cast(mask, dtype=loss.dtype)\n",
    "    loss *= mask\n",
    "    return tf.reduce_mean(loss)\n",
    "\n",
    "optimizer = tf.keras.optimizers.Adam(learning_rate=0.001)"
   ]
  },
  {
   "cell_type": "code",
   "execution_count": 36,
   "id": "c3ca71c8",
   "metadata": {},
   "outputs": [],
   "source": [
    "@tf.function\n",
    "def train_step(src, tgt, encoder, decoder, optimizer, dec_tok):\n",
    "    bsz = src.shape[0]\n",
    "    loss = 0\n",
    "\n",
    "    with tf.GradientTape() as tape:\n",
    "        enc_out, enc_hidden = encoder(src)\n",
    "        dec_hidden = enc_hidden\n",
    "        dec_input = tf.expand_dims([dec_tok.word_index['<start>']] * bsz, 1)\n",
    "\n",
    "        for t in range(1, tgt.shape[1]):\n",
    "            predictions, dec_hidden, _ = decoder(dec_input, dec_hidden, enc_out)\n",
    "            loss += loss_function(tgt[:, t], predictions)\n",
    "            dec_input = tf.expand_dims(tgt[:, t], 1)\n",
    "\n",
    "    batch_loss = loss / int(tgt.shape[1])\n",
    "    variables = encoder.trainable_variables + decoder.trainable_variables\n",
    "    gradients = tape.gradient(loss, variables)\n",
    "    optimizer.apply_gradients(zip(gradients, variables))\n",
    "    return batch_loss"
   ]
  },
  {
   "cell_type": "code",
   "execution_count": 37,
   "id": "3565ad62",
   "metadata": {},
   "outputs": [
    {
     "name": "stderr",
     "output_type": "stream",
     "text": [
      "Epoch 1: 100%|██████████| 1038/1038 [13:21<00:00,  1.30it/s]\n"
     ]
    },
    {
     "name": "stdout",
     "output_type": "stream",
     "text": [
      "Epoch 1, Loss: 3.1344\n"
     ]
    },
    {
     "name": "stderr",
     "output_type": "stream",
     "text": [
      "Epoch 2: 100%|██████████| 1038/1038 [12:41<00:00,  1.36it/s]\n"
     ]
    },
    {
     "name": "stdout",
     "output_type": "stream",
     "text": [
      "Epoch 2, Loss: 2.7205\n"
     ]
    },
    {
     "name": "stderr",
     "output_type": "stream",
     "text": [
      "Epoch 3: 100%|██████████| 1038/1038 [12:44<00:00,  1.36it/s]"
     ]
    },
    {
     "name": "stdout",
     "output_type": "stream",
     "text": [
      "Epoch 3, Loss: 2.5448\n"
     ]
    },
    {
     "name": "stderr",
     "output_type": "stream",
     "text": [
      "\n"
     ]
    }
   ],
   "source": [
    "EPOCHS = 3\n",
    "BATCH_SIZE = 64\n",
    "\n",
    "def create_batches(enc_tensor, dec_tensor, batch_size):\n",
    "    dataset = tf.data.Dataset.from_tensor_slices((enc_tensor, dec_tensor))\n",
    "    dataset = dataset.shuffle(buffer_size=len(enc_tensor)).batch(batch_size, drop_remainder=True)\n",
    "    return dataset\n",
    "\n",
    "train_dataset = create_batches(enc_tensor, dec_tensor, BATCH_SIZE)\n",
    "\n",
    "for epoch in range(EPOCHS):\n",
    "    total_loss = 0\n",
    "    step = 0\n",
    "\n",
    "    for (batch, (src, tgt)) in enumerate(tqdm(train_dataset, desc=f\"Epoch {epoch + 1}\")):\n",
    "        batch_loss = train_step(src, tgt, encoder, decoder, optimizer, dec_tokenizer)\n",
    "        total_loss += batch_loss\n",
    "        step += 1\n",
    "\n",
    "    avg_loss = total_loss / step\n",
    "    print(f\"Epoch {epoch + 1}, Loss: {avg_loss.numpy():.4f}\")"
   ]
  },
  {
   "cell_type": "code",
   "execution_count": 38,
   "id": "f03a4997",
   "metadata": {},
   "outputs": [],
   "source": [
    "# 평가 \n",
    "def evaluate(sentence, encoder, decoder):\n",
    "    sentence = preprocess_sentence(sentence)\n",
    "    inputs = enc_tokenizer.texts_to_sequences([sentence.split()])\n",
    "    inputs = tf.keras.preprocessing.sequence.pad_sequences(inputs, maxlen=enc_tensor.shape[-1], padding='post')\n",
    "    enc_out, enc_hidden = encoder(inputs)\n",
    "    dec_hidden = enc_hidden\n",
    "    dec_input = tf.expand_dims([dec_tokenizer.word_index['<start>']], 0)\n",
    "\n",
    "    result = ''\n",
    "    attention_matrix = []\n",
    "\n",
    "    for t in range(dec_tensor.shape[1]):\n",
    "        predictions, dec_hidden, attention_weights = decoder(dec_input, dec_hidden, enc_out)\n",
    "        attention_matrix.append(attention_weights.numpy())\n",
    "        predicted_id = tf.argmax(predictions[0]).numpy()\n",
    "        result += dec_tokenizer.index_word[predicted_id] + ' '\n",
    "        if dec_tokenizer.index_word[predicted_id] == '<end>':\n",
    "            break\n",
    "        dec_input = tf.expand_dims([predicted_id], 0)\n",
    "\n",
    "    attention_matrix = np.squeeze(attention_matrix, axis=1)\n",
    "    return result, sentence, attention_matrix\n",
    "\n",
    "def plot_attention(attention, sentence, predicted_sentence):\n",
    "    fig, ax = plt.subplots(figsize=(10, 10))\n",
    "    ax.matshow(attention, cmap='viridis')\n",
    "    fontdict = {'fontsize': 14}\n",
    "    ax.set_xticklabels([''] + sentence, fontdict=fontdict, rotation=90)\n",
    "    ax.set_yticklabels([''] + predicted_sentence, fontdict=fontdict)\n",
    "    ax.xaxis.set_major_locator(ticker.MultipleLocator(1))\n",
    "    ax.yaxis.set_major_locator(ticker.MultipleLocator(1))\n",
    "    plt.show()\n",
    "\n",
    "# 번역 확인\n",
    "def translate(sentence, encoder, decoder):\n",
    "    result, sentence, attention = evaluate(sentence, encoder, decoder)\n",
    "    print('Input: %s' % (sentence))\n",
    "    print('Predicted translation: {}'.format(result))\n",
    "    attention = attention[:len(result.split()), :len(sentence.split())]\n",
    "    plot_attention(attention, sentence.split(), result.split(' '))"
   ]
  },
  {
   "cell_type": "code",
   "execution_count": 39,
   "id": "9d7b150d",
   "metadata": {},
   "outputs": [
    {
     "name": "stdout",
     "output_type": "stream",
     "text": [
      "Input: 오바마는 미국의 대통령입니다 .\n",
      "Predicted translation: the year . <end> \n"
     ]
    },
    {
     "name": "stderr",
     "output_type": "stream",
     "text": [
      "/tmp/ipykernel_455/2838390276.py:29: UserWarning: FixedFormatter should only be used together with FixedLocator\n",
      "  ax.set_xticklabels([''] + sentence, fontdict=fontdict, rotation=90)\n",
      "/tmp/ipykernel_455/2838390276.py:30: UserWarning: FixedFormatter should only be used together with FixedLocator\n",
      "  ax.set_yticklabels([''] + predicted_sentence, fontdict=fontdict)\n"
     ]
    },
    {
     "data": {
      "image/png": "[encoded data removed]",
      "text/plain": [
       "<Figure size 720x720 with 1 Axes>"
      ]
     },
     "metadata": {
      "image/png": {
       "height": 643,
       "width": 601
      },
      "needs_background": "light"
     },
     "output_type": "display_data"
    },
    {
     "name": "stdout",
     "output_type": "stream",
     "text": [
      "Input: 시민들은 도시 속에 산다 .\n",
      "Predicted translation: the new york mercantile exchange . <end> \n"
     ]
    },
    {
     "data": {
      "image/png": "[encoded data removed]",
      "text/plain": [
       "<Figure size 720x720 with 1 Axes>"
      ]
     },
     "metadata": {
      "image/png": {
       "height": 618,
       "width": 476
      },
      "needs_background": "light"
     },
     "output_type": "display_data"
    },
    {
     "name": "stdout",
     "output_type": "stream",
     "text": [
      "Input: 커피는 필요 없다 .\n",
      "Predicted translation: the u . s . <end> \n"
     ]
    },
    {
     "data": {
      "image/png": "[encoded data removed]",
      "text/plain": [
       "<Figure size 720x720 with 1 Axes>"
      ]
     },
     "metadata": {
      "image/png": {
       "height": 606,
       "width": 420
      },
      "needs_background": "light"
     },
     "output_type": "display_data"
    },
    {
     "name": "stdout",
     "output_type": "stream",
     "text": [
      "Input: 일곱 명의 사망자가 발생했다 .\n",
      "Predicted translation: the year old , the year old , the year old , the year old , the year old , the year old , the year old , the year old , the year old , the year old , the year old , the \n"
     ]
    },
    {
     "data": {
      "image/png": "[encoded data removed]",
      "text/plain": [
       "<Figure size 720x720 with 1 Axes>"
      ]
     },
     "metadata": {
      "image/png": {
       "height": 618,
       "width": 111
      },
      "needs_background": "light"
     },
     "output_type": "display_data"
    }
   ],
   "source": [
    "# 오바마는 대통령이다.\n",
    "# 시민들은 도시 속에 산다.\n",
    "# 커피는 필요 없다.\n",
    "# 일곱 명의 사망자가 발생했다.\n",
    "\n",
    "translate(\"오바마는 미국의 대통령입니다.\", encoder, decoder)\n",
    "translate(\"시민들은 도시 속에 산다.\", encoder, decoder)\n",
    "translate(\"커피는 필요 없다.\", encoder, decoder)\n",
    "translate(\"일곱 명의 사망자가 발생했다.\", encoder, decoder)"
   ]
  },
  {
   "cell_type": "markdown",
   "id": "ef013590",
   "metadata": {},
   "source": [
    "### epoch을 늘려서 다시 관찰해봐야할 것 같다."
   ]
  },
  {
   "cell_type": "markdown",
   "id": "c5a6cd3e",
   "metadata": {},
   "source": [
    "### val set 이용 + Dropout 적용"
   ]
  },
  {
   "cell_type": "code",
   "execution_count": 25,
   "id": "38db71ad",
   "metadata": {},
   "outputs": [
    {
     "name": "stdout",
     "output_type": "stream",
     "text": [
      "Enc Train : (56505, 45)\n",
      "Enc Test  : (9972, 45)\n",
      "Dec Train : (56505, 45)\n",
      "Dec Test  : (9972, 45)\n"
     ]
    }
   ],
   "source": [
    "# enc_train, enc_test, dec_train, dec_test = train_test_split(\n",
    "#     enc_tensor, dec_tensor, test_size=0.15, random_state=42\n",
    "# )\n",
    "\n",
    "# print(\"Enc Train :\", enc_train.shape)\n",
    "# print(\"Enc Test  :\", enc_test.shape)\n",
    "# print(\"Dec Train :\", dec_train.shape)\n",
    "# print(\"Dec Test  :\", dec_test.shape)"
   ]
  },
  {
   "cell_type": "code",
   "execution_count": 26,
   "id": "0c1be39e",
   "metadata": {},
   "outputs": [],
   "source": [
    "class BahdanauAttention(tf.keras.layers.Layer):\n",
    "    def __init__(self, units):\n",
    "        super(BahdanauAttention, self).__init__()\n",
    "        self.w_dec = tf.keras.layers.Dense(units)         # 디코더 출력에 적용되는 가중치 행렬\n",
    "        self.w_enc = tf.keras.layers.Dense(units)         # 인코더 출력에 적용된는 가중치 행렬\n",
    "        self.w_com = tf.keras.layers.Dense(1)             # scala score로 출력하는 행렬\n",
    "\n",
    "    def call(self, h_enc, h_dec):\n",
    "        # h_enc shape: [batch x length x units]\n",
    "        # h_dec shape: [batch x units]\n",
    "\n",
    "        h_enc = self.w_enc(h_enc)                         # 인코더 단어 벡터 차원 변경\n",
    "        h_dec = tf.expand_dims(h_dec, 1)                  # [batch, unit] - > [batch, 1, unit]\n",
    "        h_dec = self.w_dec(h_dec)                         # 디코더 역시 벡터 차원 변경\n",
    "\n",
    "        score = self.w_com(tf.nn.tanh(h_dec + h_enc))     # 하이퍼볼릭탄젠트 활성화 함수를 활용한 스코어 디코더 상태와 인코더\n",
    "\n",
    "        attn = tf.nn.softmax(score, axis=1)               # 확률로\n",
    "\n",
    "        # context vector 가중합 계산\n",
    "        context_vec = attn * h_enc                        # [batch, length, units]\n",
    "        context_vec = tf.reduce_sum(context_vec, axis=1)  # [batch, units]\n",
    "\n",
    "        return context_vec, attn"
   ]
  },
  {
   "cell_type": "code",
   "execution_count": 27,
   "id": "11cae806",
   "metadata": {},
   "outputs": [],
   "source": [
    "# 인코더 클래스\n",
    "class Encoder(tf.keras.Model):\n",
    "    def __init__(self, vocab_size, embedding_dim, enc_units):\n",
    "        super(Encoder, self).__init__()\n",
    "        self.enc_units = enc_units\n",
    "        self.embedding = tf.keras.layers.Embedding(vocab_size, embedding_dim)\n",
    "        self.dropout = tf.keras.layers.Dropout(0.2)  # 드롭아웃 추가\n",
    "        self.gru = tf.keras.layers.GRU(\n",
    "            enc_units,\n",
    "            return_sequences=True,\n",
    "            return_state=True,\n",
    "            recurrent_initializer=\"glorot_uniform\",\n",
    "        )\n",
    "\n",
    "    def call(self, x):\n",
    "        x = self.embedding(x)  # [batch, length, embedding_dim]\n",
    "        x = self.dropout(x)    # 드롭아웃 적용\n",
    "        output, state = self.gru(x)  # output: [batch, length, enc_units], state: [batch, enc_units]\n",
    "        return output"
   ]
  },
  {
   "cell_type": "code",
   "execution_count": 28,
   "id": "fa7e10d9",
   "metadata": {},
   "outputs": [],
   "source": [
    "# 디코더 클래스\n",
    "class Decoder(tf.keras.Model):\n",
    "    def __init__(self, vocab_size, embedding_dim, dec_units):\n",
    "        super(Decoder, self).__init__()\n",
    "        self.dec_units = dec_units\n",
    "        self.embedding = tf.keras.layers.Embedding(vocab_size, embedding_dim)\n",
    "        self.dropout = tf.keras.layers.Dropout(0.2)  # 드롭아웃 추가\n",
    "        self.gru = tf.keras.layers.GRU(\n",
    "            dec_units,\n",
    "            return_sequences=True,\n",
    "            return_state=True,\n",
    "            recurrent_initializer=\"glorot_uniform\",\n",
    "        )\n",
    "        self.fc = tf.keras.layers.Dense(vocab_size)  # 최종 출력층\n",
    "        self.attention = BahdanauAttention(dec_units)\n",
    "\n",
    "    def call(self, x, h_dec, enc_out):\n",
    "        x = self.embedding(x)  # [batch, 1, embedding_dim]\n",
    "        x = self.dropout(x)    # 드롭아웃 적용\n",
    "\n",
    "        # Attention 적용\n",
    "        context_vec, attn_weights = self.attention(enc_out, h_dec)  # context_vec: [batch, units]\n",
    "        context_vec = tf.expand_dims(context_vec, 1)  # [batch, 1, units]\n",
    "\n",
    "        # Context Vector와 현재 Embedding 결합\n",
    "        x = tf.concat([context_vec, x], axis=-1)  # [batch, 1, embedding_dim + units]\n",
    "\n",
    "        # GRU를 통해 디코더 상태 업데이트\n",
    "        output, state = self.gru(x)  # output: [batch, 1, units], state: [batch, units]\n",
    "        output = tf.reshape(output, (-1, output.shape[2]))  # [batch, units]\n",
    "\n",
    "        # 최종 출력층 적용\n",
    "        x = self.fc(output)  # [batch, vocab_size]\n",
    "        return x, state, attn_weights"
   ]
  },
  {
   "cell_type": "code",
   "execution_count": 29,
   "id": "1a287d61",
   "metadata": {},
   "outputs": [
    {
     "name": "stdout",
     "output_type": "stream",
     "text": [
      "Encoder Output: (64, 45, 1024)\n",
      "Decoder Output: (64, 39722)\n",
      "Decoder Hidden State: (64, 1024)\n",
      "Attention: (64, 45, 1)\n"
     ]
    }
   ],
   "source": [
    "# 코드를 실행하세요.\n",
    "\n",
    "BATCH_SIZE = 64\n",
    "SRC_VOCAB_SIZE = len(enc_tokenizer.index_word) + 1\n",
    "TGT_VOCAB_SIZE = len(dec_tokenizer.index_word) + 1\n",
    "\n",
    "units = 1024\n",
    "embedding_dim = 512\n",
    "\n",
    "encoder = Encoder(SRC_VOCAB_SIZE, embedding_dim, units)\n",
    "decoder = Decoder(TGT_VOCAB_SIZE, embedding_dim, units)\n",
    "\n",
    "# sample input\n",
    "sequence_len = 45\n",
    "\n",
    "sample_enc = tf.random.uniform((BATCH_SIZE, sequence_len))\n",
    "sample_output = encoder(sample_enc)\n",
    "\n",
    "print ('Encoder Output:', sample_output.shape)\n",
    "\n",
    "sample_state = tf.random.uniform((BATCH_SIZE, units))\n",
    "\n",
    "sample_logits, h_dec, attn = decoder(tf.random.uniform((BATCH_SIZE, 1)),\n",
    "                                     sample_state, sample_output)\n",
    "\n",
    "print ('Decoder Output:', sample_logits.shape)\n",
    "print ('Decoder Hidden State:', h_dec.shape)\n",
    "print ('Attention:', attn.shape)"
   ]
  },
  {
   "cell_type": "code",
   "execution_count": 30,
   "id": "7ce794ff",
   "metadata": {},
   "outputs": [],
   "source": [
    "optimizer = tf.keras.optimizers.Adam()\n",
    "optimizer = tf.keras.optimizers.Adam(learning_rate=0.001)\n",
    "loss_object = tf.keras.losses.SparseCategoricalCrossentropy(\n",
    "    from_logits=True, reduction='none')\n",
    "\n",
    "def loss_function(real, pred):\n",
    "    mask = tf.math.logical_not(tf.math.equal(real, 0))\n",
    "    loss = loss_object(real, pred)\n",
    "\n",
    "    mask = tf.cast(mask, dtype=loss.dtype)\n",
    "    loss *= mask\n",
    "\n",
    "    return tf.reduce_mean(loss)"
   ]
  },
  {
   "cell_type": "code",
   "execution_count": 31,
   "id": "7fb5c20a",
   "metadata": {},
   "outputs": [],
   "source": [
    "@tf.function\n",
    "def train_step(src, tgt, encoder, decoder, optimizer, dec_tok):\n",
    "    bsz = src.shape[0]\n",
    "    loss = 0\n",
    "\n",
    "    with tf.GradientTape() as tape:\n",
    "        enc_out = encoder(src)\n",
    "        h_dec = enc_out[:, -1]\n",
    "\n",
    "        dec_src = tf.expand_dims([dec_tok.word_index['<start>']] * bsz, 1)\n",
    "\n",
    "        for t in range(1, tgt.shape[1]):\n",
    "            pred, h_dec, _ = decoder(dec_src, h_dec, enc_out)\n",
    "\n",
    "            loss += loss_function(tgt[:, t], pred)\n",
    "            dec_src = tf.expand_dims(tgt[:, t], 1)\n",
    "\n",
    "    batch_loss = (loss / int(tgt.shape[1]))\n",
    "\n",
    "    variables = encoder.trainable_variables + decoder.trainable_variables\n",
    "    gradients = tape.gradient(loss, variables)\n",
    "    optimizer.apply_gradients(zip(gradients, variables))\n",
    "\n",
    "    return batch_loss"
   ]
  },
  {
   "cell_type": "code",
   "execution_count": 32,
   "id": "b94b281d",
   "metadata": {},
   "outputs": [],
   "source": [
    "@tf.function\n",
    "def eval_step(src, tgt, encoder, decoder, dec_tok):\n",
    "    bsz = src.shape[0]  # 배치 크기\n",
    "    loss = 0  # 평가 손실 초기화\n",
    "\n",
    "    # 인코더 출력 계산\n",
    "    enc_out = encoder(src)\n",
    "    h_dec = enc_out[:, -1]  # 인코더 마지막 Hidden State 사용\n",
    "\n",
    "    # 디코더의 초기 입력: <start> 토큰\n",
    "    dec_src = tf.expand_dims([dec_tok.word_index['<start>']] * bsz, 1)\n",
    "\n",
    "    predictions = []\n",
    "    for t in range(1, tgt.shape[1]):\n",
    "        # 디코더 예측\n",
    "        pred, h_dec, _ = decoder(dec_src, h_dec, enc_out)\n",
    "\n",
    "        # 손실 계산\n",
    "        loss += loss_function(tgt[:, t], pred)\n",
    "\n",
    "        # 가장 높은 확률의 단어 선택 (Greedy Decoding)\n",
    "        dec_src = tf.expand_dims(tf.argmax(pred, axis=-1, output_type=tf.int32), 1)\n",
    "        predictions.append(dec_src)\n",
    "\n",
    "    # 배치 손실 계산\n",
    "    batch_loss = (loss / int(tgt.shape[1]))\n",
    "\n",
    "    # 예측 결과를 하나의 텐서로 결합\n",
    "    predictions = tf.concat(predictions, axis=1)\n",
    "    return batch_loss, predictions"
   ]
  },
  {
   "cell_type": "code",
   "execution_count": 33,
   "id": "47f53466",
   "metadata": {},
   "outputs": [
    {
     "name": "stderr",
     "output_type": "stream",
     "text": [
      "Epoch  1: 100%|██████████| 883/883 [11:50<00:00,  1.24it/s, Loss 3.7846]  \n"
     ]
    },
    {
     "name": "stdout",
     "output_type": "stream",
     "text": [
      "Epoch 1 Evaluation Loss: 3.838129997253418\n"
     ]
    },
    {
     "name": "stderr",
     "output_type": "stream",
     "text": [
      "Epoch  2: 100%|██████████| 883/883 [10:33<00:00,  1.39it/s, Loss 3.7674]\n"
     ]
    },
    {
     "name": "stdout",
     "output_type": "stream",
     "text": [
      "Epoch 2 Evaluation Loss: 3.8408002853393555\n"
     ]
    },
    {
     "name": "stderr",
     "output_type": "stream",
     "text": [
      "Epoch  3: 100%|██████████| 883/883 [10:33<00:00,  1.39it/s, Loss 3.7750]\n"
     ]
    },
    {
     "name": "stdout",
     "output_type": "stream",
     "text": [
      "Epoch 3 Evaluation Loss: 3.8371055126190186\n"
     ]
    }
   ],
   "source": [
    "from tqdm import tqdm    # tqdm\n",
    "import random\n",
    "\n",
    "EPOCHS = 3\n",
    "\n",
    "for epoch in range(EPOCHS):\n",
    "    total_loss = 0\n",
    "\n",
    "    idx_list = list(range(0, enc_train.shape[0], BATCH_SIZE))\n",
    "    random.shuffle(idx_list)\n",
    "    t = tqdm(idx_list)    # tqdm\n",
    "\n",
    "    for (batch, idx) in enumerate(t):\n",
    "        # Train Step\n",
    "        batch_loss = train_step(\n",
    "            enc_train[idx:idx + BATCH_SIZE],\n",
    "            dec_train[idx:idx + BATCH_SIZE],\n",
    "            encoder,\n",
    "            decoder,\n",
    "            optimizer,\n",
    "            dec_tokenizer,\n",
    "        )\n",
    "\n",
    "        total_loss += batch_loss\n",
    "\n",
    "        t.set_description_str('Epoch %2d' % (epoch + 1))    # tqdm\n",
    "        t.set_postfix_str('Loss %.4f' % (total_loss.numpy() / (batch + 1)))    # tqdm\n",
    "\n",
    "    # Evaluation after each epoch\n",
    "    eval_loss, predictions = eval_step(\n",
    "        enc_test[:BATCH_SIZE],\n",
    "        dec_test[:BATCH_SIZE],\n",
    "        encoder,\n",
    "        decoder,\n",
    "        dec_tokenizer,\n",
    "    )\n",
    "\n",
    "    print(f\"Epoch {epoch + 1} Evaluation Loss: {eval_loss.numpy()}\")"
   ]
  },
  {
   "cell_type": "code",
   "execution_count": 34,
   "id": "40032cd7",
   "metadata": {},
   "outputs": [
    {
     "name": "stdout",
     "output_type": "stream",
     "text": [
      "Input: 오바마는 미국의 대통령입니다 .\n",
      "Predicted translation: . . . . . . . . . . . . . . . . . . . . . . . . . . . . . . . . . . . . . . . . . . . . . \n"
     ]
    },
    {
     "name": "stderr",
     "output_type": "stream",
     "text": [
      "/tmp/ipykernel_407/2329402442.py:45: UserWarning: FixedFormatter should only be used together with FixedLocator\n",
      "  ax.set_xticklabels([''] + sentence, fontdict=fontdict, rotation=90)\n",
      "/tmp/ipykernel_407/2329402442.py:46: UserWarning: FixedFormatter should only be used together with FixedLocator\n",
      "  ax.set_yticklabels([''] + predicted_sentence, fontdict=fontdict)\n"
     ]
    },
    {
     "data": {
      "image/png": "[encoded data removed]",
      "text/plain": [
       "<Figure size 720x720 with 1 Axes>"
      ]
     },
     "metadata": {
      "image/png": {
       "height": 643,
       "width": 75
      },
      "needs_background": "light"
     },
     "output_type": "display_data"
    }
   ],
   "source": [
    "def evaluate(sentence, encoder, decoder):\n",
    "    attention = np.zeros((dec_train.shape[-1], enc_train.shape[-1]))\n",
    "    \n",
    "    sentence = preprocess_sentence(sentence)\n",
    "    inputs = enc_tokenizer.texts_to_sequences([sentence.split()])\n",
    "    inputs = tf.keras.preprocessing.sequence.pad_sequences(inputs,\n",
    "                                                           maxlen=enc_train.shape[-1],\n",
    "                                                           padding='post')\n",
    "\n",
    "    result = ''\n",
    "\n",
    "    enc_out = encoder(inputs)\n",
    "\n",
    "    dec_hidden = enc_out[:, -1]\n",
    "    dec_input = tf.expand_dims([dec_tokenizer.word_index['<start>']], 0)\n",
    "\n",
    "    for t in range(dec_train.shape[-1]):\n",
    "        predictions, dec_hidden, attention_weights = decoder(dec_input,\n",
    "                                                             dec_hidden,\n",
    "                                                             enc_out)\n",
    "\n",
    "        attention_weights = tf.reshape(attention_weights, (-1, ))\n",
    "        attention[t] = attention_weights.numpy()\n",
    "\n",
    "        predicted_id = \\\n",
    "        tf.argmax(tf.math.softmax(predictions, axis=-1)[0]).numpy()\n",
    "\n",
    "        result += dec_tokenizer.index_word[predicted_id] + ' '\n",
    "\n",
    "        if dec_tokenizer.index_word[predicted_id] == '<end>':\n",
    "            return result, sentence, attention\n",
    "\n",
    "        dec_input = tf.expand_dims([predicted_id], 0)\n",
    "\n",
    "    return result, sentence, attention\n",
    "\n",
    "\n",
    "def plot_attention(attention, sentence, predicted_sentence):\n",
    "    fig = plt.figure(figsize=(10,10))\n",
    "    ax = fig.add_subplot(1, 1, 1)\n",
    "    ax.matshow(attention, cmap='viridis')\n",
    "\n",
    "    fontdict = {'fontsize': 14}\n",
    "\n",
    "    ax.set_xticklabels([''] + sentence, fontdict=fontdict, rotation=90)\n",
    "    ax.set_yticklabels([''] + predicted_sentence, fontdict=fontdict)\n",
    "\n",
    "    ax.xaxis.set_major_locator(ticker.MultipleLocator(1))\n",
    "    ax.yaxis.set_major_locator(ticker.MultipleLocator(1))\n",
    "\n",
    "    plt.show()\n",
    "\n",
    "\n",
    "def translate(sentence, encoder, decoder):\n",
    "    result, sentence, attention = evaluate(sentence, encoder, decoder)\n",
    "\n",
    "    print('Input: %s' % (sentence))\n",
    "    print('Predicted translation: {}'.format(result))\n",
    "    \n",
    "    attention = attention[:len(result.split()), :len(sentence.split())]\n",
    "    plot_attention(attention, sentence.split(), result.split(' '))\n",
    "\n",
    "\n",
    "translate(\"오바마는 미국의 대통령입니다.\", encoder, decoder)"
   ]
  },
  {
   "cell_type": "markdown",
   "id": "30ee016b",
   "metadata": {},
   "source": [
    "### 빈도에 따른 중복 문제 or 특수토큰 작동 문제 "
   ]
  },
  {
   "cell_type": "markdown",
   "id": "91143fb2",
   "metadata": {},
   "source": [
    "### dropout 없을때"
   ]
  },
  {
   "cell_type": "code",
   "execution_count": 24,
   "id": "ad211be1",
   "metadata": {},
   "outputs": [],
   "source": [
    "class BahdanauAttention(tf.keras.layers.Layer):\n",
    "    def __init__(self, units):\n",
    "        super(BahdanauAttention, self).__init__()\n",
    "        self.w_dec = tf.keras.layers.Dense(units)         # 디코더 출력에 적용되는 가중치 행렬\n",
    "        self.w_enc = tf.keras.layers.Dense(units)         # 인코더 출력에 적용된는 가중치 행렬\n",
    "        self.w_com = tf.keras.layers.Dense(1)             # scala score로 출력하는 행렬\n",
    "\n",
    "    def call(self, h_enc, h_dec):\n",
    "        # h_enc shape: [batch x length x units]\n",
    "        # h_dec shape: [batch x units]\n",
    "\n",
    "        h_enc = self.w_enc(h_enc)                         # 인코더 단어 벡터 차원 변경\n",
    "        h_dec = tf.expand_dims(h_dec, 1)                  # [batch, unit] - > [batch, 1, unit]\n",
    "        h_dec = self.w_dec(h_dec)                         # 디코더 역시 벡터 차원 변경\n",
    "\n",
    "        score = self.w_com(tf.nn.tanh(h_dec + h_enc))     # 하이퍼볼릭탄젠트 활성화 함수를 활용한 스코어 디코더 상태와 인코더\n",
    "\n",
    "        attn = tf.nn.softmax(score, axis=1)               # 확률로\n",
    "\n",
    "        # context vector 가중합 계산\n",
    "        context_vec = attn * h_enc                        # [batch, length, units]\n",
    "        context_vec = tf.reduce_sum(context_vec, axis=1)  # [batch, units]\n",
    "\n",
    "        return context_vec, attn"
   ]
  },
  {
   "cell_type": "code",
   "execution_count": 25,
   "id": "6edba59c",
   "metadata": {},
   "outputs": [],
   "source": [
    "# 인코더 클래스\n",
    "class Encoder(tf.keras.Model):\n",
    "    def __init__(self, vocab_size, embedding_dim, enc_units):\n",
    "        super(Encoder, self).__init__()\n",
    "        self.enc_units = enc_units\n",
    "        self.embedding = tf.keras.layers.Embedding(vocab_size, embedding_dim)\n",
    "        self.gru = tf.keras.layers.GRU(\n",
    "            enc_units,\n",
    "            return_sequences=True,\n",
    "            return_state=True,\n",
    "            recurrent_initializer=\"glorot_uniform\",\n",
    "        )\n",
    "\n",
    "    def call(self, x):\n",
    "        x = self.embedding(x)  # [batch, length, embedding_dim]\n",
    "        output, state = self.gru(x)  # output: [batch, length, enc_units], state: [batch, enc_units]\n",
    "        return output"
   ]
  },
  {
   "cell_type": "code",
   "execution_count": 26,
   "id": "f69ce11b",
   "metadata": {},
   "outputs": [],
   "source": [
    "# 디코더 클래스\n",
    "class Decoder(tf.keras.Model):\n",
    "    def __init__(self, vocab_size, embedding_dim, dec_units):\n",
    "        super(Decoder, self).__init__()\n",
    "        self.dec_units = dec_units\n",
    "        self.embedding = tf.keras.layers.Embedding(vocab_size, embedding_dim)\n",
    "        self.gru = tf.keras.layers.GRU(\n",
    "            dec_units,\n",
    "            return_sequences=True,\n",
    "            return_state=True,\n",
    "            recurrent_initializer=\"glorot_uniform\",\n",
    "        )\n",
    "        self.fc = tf.keras.layers.Dense(vocab_size)  # 최종 출력층\n",
    "        self.attention = BahdanauAttention(dec_units)\n",
    "\n",
    "    def call(self, x, h_dec, enc_out):\n",
    "        x = self.embedding(x)  # [batch, 1, embedding_dim]\n",
    "\n",
    "        # Attention 적용\n",
    "        context_vec, attn_weights = self.attention(enc_out, h_dec)  # context_vec: [batch, units]\n",
    "        context_vec = tf.expand_dims(context_vec, 1)  # [batch, 1, units]\n",
    "\n",
    "        # Context Vector와 현재 Embedding 결합\n",
    "        x = tf.concat([context_vec, x], axis=-1)  # [batch, 1, embedding_dim + units]\n",
    "\n",
    "        # GRU를 통해 디코더 상태 업데이트\n",
    "        output, state = self.gru(x)  # output: [batch, 1, units], state: [batch, units]\n",
    "        output = tf.reshape(output, (-1, output.shape[2]))  # [batch, units]\n",
    "\n",
    "        # 최종 출력층 적용\n",
    "        x = self.fc(output)  # [batch, vocab_size]\n",
    "        return x, state, attn_weights"
   ]
  },
  {
   "cell_type": "code",
   "execution_count": 27,
   "id": "ac2f10e6",
   "metadata": {},
   "outputs": [
    {
     "name": "stdout",
     "output_type": "stream",
     "text": [
      "Encoder Output: (64, 30, 1024)\n",
      "Decoder Output: (64, 38371)\n",
      "Decoder Hidden State: (64, 1024)\n",
      "Attention: (64, 30, 1)\n"
     ]
    }
   ],
   "source": [
    "# 코드를 실행하세요.\n",
    "\n",
    "BATCH_SIZE = 64\n",
    "SRC_VOCAB_SIZE = len(enc_tokenizer.index_word) + 1\n",
    "TGT_VOCAB_SIZE = len(dec_tokenizer.index_word) + 1\n",
    "\n",
    "units = 1024\n",
    "embedding_dim = 512\n",
    "\n",
    "encoder = Encoder(SRC_VOCAB_SIZE, embedding_dim, units)\n",
    "decoder = Decoder(TGT_VOCAB_SIZE, embedding_dim, units)\n",
    "\n",
    "# sample input\n",
    "sequence_len = 30\n",
    "\n",
    "sample_enc = tf.random.uniform((BATCH_SIZE, sequence_len))\n",
    "sample_output = encoder(sample_enc)\n",
    "\n",
    "print ('Encoder Output:', sample_output.shape)\n",
    "\n",
    "sample_state = tf.random.uniform((BATCH_SIZE, units))\n",
    "\n",
    "sample_logits, h_dec, attn = decoder(tf.random.uniform((BATCH_SIZE, 1)),\n",
    "                                     sample_state, sample_output)\n",
    "\n",
    "print ('Decoder Output:', sample_logits.shape)\n",
    "print ('Decoder Hidden State:', h_dec.shape)\n",
    "print ('Attention:', attn.shape)"
   ]
  },
  {
   "cell_type": "code",
   "execution_count": 28,
   "id": "3a2f1ce7",
   "metadata": {},
   "outputs": [],
   "source": [
    "optimizer = tf.keras.optimizers.Adam()\n",
    "loss_object = tf.keras.losses.SparseCategoricalCrossentropy(\n",
    "    from_logits=True, reduction='none')\n",
    "\n",
    "def loss_function(real, pred):\n",
    "    mask = tf.math.logical_not(tf.math.equal(real, 0))\n",
    "    loss = loss_object(real, pred)\n",
    "\n",
    "    mask = tf.cast(mask, dtype=loss.dtype)\n",
    "    loss *= mask\n",
    "\n",
    "    return tf.reduce_mean(loss)"
   ]
  },
  {
   "cell_type": "code",
   "execution_count": 29,
   "id": "a5ae9ee0",
   "metadata": {},
   "outputs": [],
   "source": [
    "@tf.function\n",
    "def train_step(src, tgt, encoder, decoder, optimizer, dec_tok):\n",
    "    bsz = src.shape[0]\n",
    "    loss = 0\n",
    "\n",
    "    with tf.GradientTape() as tape:\n",
    "        enc_out = encoder(src)\n",
    "        h_dec = enc_out[:, -1]\n",
    "\n",
    "        dec_src = tf.expand_dims([dec_tok.word_index['<start>']] * bsz, 1)\n",
    "\n",
    "        for t in range(1, tgt.shape[1]):\n",
    "            pred, h_dec, _ = decoder(dec_src, h_dec, enc_out)\n",
    "\n",
    "            loss += loss_function(tgt[:, t], pred)\n",
    "            dec_src = tf.expand_dims(tgt[:, t], 1)\n",
    "\n",
    "    batch_loss = (loss / int(tgt.shape[1]))\n",
    "\n",
    "    variables = encoder.trainable_variables + decoder.trainable_variables\n",
    "    gradients = tape.gradient(loss, variables)\n",
    "    optimizer.apply_gradients(zip(gradients, variables))\n",
    "\n",
    "    return batch_loss"
   ]
  },
  {
   "cell_type": "code",
   "execution_count": 30,
   "id": "98f92585",
   "metadata": {},
   "outputs": [],
   "source": [
    "@tf.function\n",
    "def eval_step(src, tgt, encoder, decoder, dec_tok):\n",
    "    bsz = src.shape[0]  # 배치 크기\n",
    "    loss = 0  # 평가 손실 초기화\n",
    "\n",
    "    # 인코더 출력 계산\n",
    "    enc_out = encoder(src)\n",
    "    h_dec = enc_out[:, -1]  # 인코더 마지막 Hidden State 사용\n",
    "\n",
    "    # 디코더의 초기 입력: <start> 토큰\n",
    "    dec_src = tf.expand_dims([dec_tok.word_index['<start>']] * bsz, 1)\n",
    "\n",
    "    predictions = []\n",
    "    for t in range(1, tgt.shape[1]):\n",
    "        # 디코더 예측\n",
    "        pred, h_dec, _ = decoder(dec_src, h_dec, enc_out)\n",
    "\n",
    "        # 손실 계산\n",
    "        loss += loss_function(tgt[:, t], pred)\n",
    "\n",
    "        # 가장 높은 확률의 단어 선택 (Greedy Decoding)\n",
    "        dec_src = tf.expand_dims(tf.argmax(pred, axis=-1, output_type=tf.int32), 1)\n",
    "        predictions.append(dec_src)\n",
    "\n",
    "    # 배치 손실 계산\n",
    "    batch_loss = (loss / int(tgt.shape[1]))\n",
    "\n",
    "    # 예측 결과를 하나의 텐서로 결합\n",
    "    predictions = tf.concat(predictions, axis=1)\n",
    "    return batch_loss, predictions"
   ]
  },
  {
   "cell_type": "markdown",
   "id": "e38a606e",
   "metadata": {},
   "source": [
    "### dropout 추가 안 했을 때 "
   ]
  },
  {
   "cell_type": "code",
   "execution_count": 31,
   "id": "679660c6",
   "metadata": {
    "scrolled": true
   },
   "outputs": [
    {
     "name": "stderr",
     "output_type": "stream",
     "text": [
      "Epoch  1: 100%|██████████| 785/785 [09:03<00:00,  1.44it/s, Loss 4.0611]\n"
     ]
    },
    {
     "name": "stdout",
     "output_type": "stream",
     "text": [
      "Epoch 1 Evaluation Loss: 4.711524963378906\n"
     ]
    },
    {
     "name": "stderr",
     "output_type": "stream",
     "text": [
      "Epoch  2: 100%|██████████| 785/785 [08:19<00:00,  1.57it/s, Loss 3.2297]\n"
     ]
    },
    {
     "name": "stdout",
     "output_type": "stream",
     "text": [
      "Epoch 2 Evaluation Loss: 5.322824478149414\n"
     ]
    },
    {
     "name": "stderr",
     "output_type": "stream",
     "text": [
      "Epoch  3: 100%|██████████| 785/785 [08:19<00:00,  1.57it/s, Loss 2.8820]\n"
     ]
    },
    {
     "name": "stdout",
     "output_type": "stream",
     "text": [
      "Epoch 3 Evaluation Loss: 5.185506343841553\n"
     ]
    },
    {
     "name": "stderr",
     "output_type": "stream",
     "text": [
      "Epoch  4: 100%|██████████| 785/785 [08:20<00:00,  1.57it/s, Loss 2.5926]\n"
     ]
    },
    {
     "name": "stdout",
     "output_type": "stream",
     "text": [
      "Epoch 4 Evaluation Loss: 5.271111488342285\n"
     ]
    },
    {
     "name": "stderr",
     "output_type": "stream",
     "text": [
      "Epoch  5: 100%|██████████| 785/785 [08:21<00:00,  1.57it/s, Loss 2.3416]\n"
     ]
    },
    {
     "name": "stdout",
     "output_type": "stream",
     "text": [
      "Epoch 5 Evaluation Loss: 5.308541774749756\n"
     ]
    },
    {
     "name": "stderr",
     "output_type": "stream",
     "text": [
      "Epoch  6: 100%|██████████| 785/785 [08:21<00:00,  1.57it/s, Loss 2.1102]\n"
     ]
    },
    {
     "name": "stdout",
     "output_type": "stream",
     "text": [
      "Epoch 6 Evaluation Loss: 5.441524028778076\n"
     ]
    },
    {
     "name": "stderr",
     "output_type": "stream",
     "text": [
      "Epoch  7: 100%|██████████| 785/785 [08:21<00:00,  1.56it/s, Loss 1.8924]\n"
     ]
    },
    {
     "name": "stdout",
     "output_type": "stream",
     "text": [
      "Epoch 7 Evaluation Loss: 5.480435848236084\n"
     ]
    },
    {
     "name": "stderr",
     "output_type": "stream",
     "text": [
      "Epoch  8: 100%|██████████| 785/785 [08:21<00:00,  1.57it/s, Loss 1.6909]\n"
     ]
    },
    {
     "name": "stdout",
     "output_type": "stream",
     "text": [
      "Epoch 8 Evaluation Loss: 5.658038139343262\n"
     ]
    },
    {
     "name": "stderr",
     "output_type": "stream",
     "text": [
      "Epoch  9: 100%|██████████| 785/785 [08:21<00:00,  1.56it/s, Loss 1.5125]\n"
     ]
    },
    {
     "name": "stdout",
     "output_type": "stream",
     "text": [
      "Epoch 9 Evaluation Loss: 5.848934650421143\n"
     ]
    },
    {
     "name": "stderr",
     "output_type": "stream",
     "text": [
      "Epoch 10: 100%|██████████| 785/785 [08:21<00:00,  1.57it/s, Loss 1.3517]\n"
     ]
    },
    {
     "name": "stdout",
     "output_type": "stream",
     "text": [
      "Epoch 10 Evaluation Loss: 5.836268901824951\n"
     ]
    }
   ],
   "source": [
    "from tqdm import tqdm    # tqdm\n",
    "import random\n",
    "\n",
    "EPOCHS = 10\n",
    "\n",
    "for epoch in range(EPOCHS):\n",
    "    total_loss = 0\n",
    "\n",
    "    idx_list = list(range(0, enc_train.shape[0], BATCH_SIZE))\n",
    "    random.shuffle(idx_list)\n",
    "    t = tqdm(idx_list)    # tqdm\n",
    "\n",
    "    for (batch, idx) in enumerate(t):\n",
    "        # Train Step\n",
    "        batch_loss = train_step(\n",
    "            enc_train[idx:idx + BATCH_SIZE],\n",
    "            dec_train[idx:idx + BATCH_SIZE],\n",
    "            encoder,\n",
    "            decoder,\n",
    "            optimizer,\n",
    "            dec_tokenizer,\n",
    "        )\n",
    "\n",
    "        total_loss += batch_loss\n",
    "\n",
    "        t.set_description_str('Epoch %2d' % (epoch + 1))    # tqdm\n",
    "        t.set_postfix_str('Loss %.4f' % (total_loss.numpy() / (batch + 1)))    # tqdm\n",
    "\n",
    "    # Evaluation after each epoch\n",
    "    eval_loss, predictions = eval_step(\n",
    "        enc_test[:BATCH_SIZE],\n",
    "        dec_test[:BATCH_SIZE],\n",
    "        encoder,\n",
    "        decoder,\n",
    "        dec_tokenizer,\n",
    "    )\n",
    "\n",
    "    print(f\"Epoch {epoch + 1} Evaluation Loss: {eval_loss.numpy()}\")"
   ]
  },
  {
   "cell_type": "markdown",
   "id": "b39ac652",
   "metadata": {},
   "source": [
    "### val Loss가 안 떨어진다. 규제 문제가 아니라 아예 평가함수 or 다른 문제일수도"
   ]
  },
  {
   "cell_type": "code",
   "execution_count": 35,
   "id": "9b9d21dc",
   "metadata": {},
   "outputs": [
    {
     "name": "stdout",
     "output_type": "stream",
     "text": [
      "Input: 오토 이사는 이번 소송에 대해 특별한 언급을 하지는 않았지만 버지니아 복권협회의 결백을 주장하며 자신들의 입장을 적극 변호했다\n",
      "Predicted translation: the people of people who have endured lives in the nation s capital <end> \n"
     ]
    },
    {
     "name": "stderr",
     "output_type": "stream",
     "text": [
      "/tmp/ipykernel_142/3948916940.py:45: UserWarning: FixedFormatter should only be used together with FixedLocator\n",
      "  ax.set_xticklabels([''] + sentence, fontdict=fontdict, rotation=90)\n",
      "/tmp/ipykernel_142/3948916940.py:46: UserWarning: FixedFormatter should only be used together with FixedLocator\n",
      "  ax.set_yticklabels([''] + predicted_sentence, fontdict=fontdict)\n"
     ]
    },
    {
     "data": {
      "image/png": "[encoded data removed]",
      "text/plain": [
       "<Figure size 720x720 with 1 Axes>"
      ]
     },
     "metadata": {
      "image/png": {
       "height": 546,
       "width": 633
      },
      "needs_background": "light"
     },
     "output_type": "display_data"
    }
   ],
   "source": [
    "def evaluate(sentence, encoder, decoder):\n",
    "    attention = np.zeros((dec_train.shape[-1], enc_train.shape[-1]))\n",
    "    \n",
    "    sentence = preprocess_sentence(sentence)\n",
    "    inputs = enc_tokenizer.texts_to_sequences([sentence.split()])\n",
    "    inputs = tf.keras.preprocessing.sequence.pad_sequences(inputs,\n",
    "                                                           maxlen=enc_train.shape[-1],\n",
    "                                                           padding='post')\n",
    "\n",
    "    result = ''\n",
    "\n",
    "    enc_out = encoder(inputs)\n",
    "\n",
    "    dec_hidden = enc_out[:, -1]\n",
    "    dec_input = tf.expand_dims([dec_tokenizer.word_index['<start>']], 0)\n",
    "\n",
    "    for t in range(dec_train.shape[-1]):\n",
    "        predictions, dec_hidden, attention_weights = decoder(dec_input,\n",
    "                                                             dec_hidden,\n",
    "                                                             enc_out)\n",
    "\n",
    "        attention_weights = tf.reshape(attention_weights, (-1, ))\n",
    "        attention[t] = attention_weights.numpy()\n",
    "\n",
    "        predicted_id = \\\n",
    "        tf.argmax(tf.math.softmax(predictions, axis=-1)[0]).numpy()\n",
    "\n",
    "        result += dec_tokenizer.index_word[predicted_id] + ' '\n",
    "\n",
    "        if dec_tokenizer.index_word[predicted_id] == '<end>':\n",
    "            return result, sentence, attention\n",
    "\n",
    "        dec_input = tf.expand_dims([predicted_id], 0)\n",
    "\n",
    "    return result, sentence, attention\n",
    "\n",
    "\n",
    "def plot_attention(attention, sentence, predicted_sentence):\n",
    "    fig = plt.figure(figsize=(10,10))\n",
    "    ax = fig.add_subplot(1, 1, 1)\n",
    "    ax.matshow(attention, cmap='viridis')\n",
    "\n",
    "    fontdict = {'fontsize': 14}\n",
    "\n",
    "    ax.set_xticklabels([''] + sentence, fontdict=fontdict, rotation=90)\n",
    "    ax.set_yticklabels([''] + predicted_sentence, fontdict=fontdict)\n",
    "\n",
    "    ax.xaxis.set_major_locator(ticker.MultipleLocator(1))\n",
    "    ax.yaxis.set_major_locator(ticker.MultipleLocator(1))\n",
    "\n",
    "    plt.show()\n",
    "\n",
    "\n",
    "def translate(sentence, encoder, decoder):\n",
    "    result, sentence, attention = evaluate(sentence, encoder, decoder)\n",
    "\n",
    "    print('Input: %s' % (sentence))\n",
    "    print('Predicted translation: {}'.format(result))\n",
    "    \n",
    "    attention = attention[:len(result.split()), :len(sentence.split())]\n",
    "    plot_attention(attention, sentence.split(), result.split(' '))\n",
    "\n",
    "# test_ko\n",
    "translate(\"오토 이사는 이번 소송에 대해 특별한 언급을 하지는 않았지만 버지니아 복권협회의 결백을 주장하며 자신들의 입장을 적극 변호했다\", encoder, decoder)"
   ]
  },
  {
   "cell_type": "markdown",
   "id": "246d479f",
   "metadata": {},
   "source": [
    "### 문장이 너무 길어서 못 잡아내는듯 싶다"
   ]
  },
  {
   "cell_type": "markdown",
   "id": "9747fb09",
   "metadata": {},
   "source": [
    "### 전체적으로 Validation Loss를 설정했을 때, 떨어지지 않는 문제가 발생한다. \n",
    "### 이에 다음과 같은 여러 규제 기법을 추가하면, train,val Loss는 효율적으로 떨어지나 자원 효율이 굉장히 낮아진다.\n",
    "### 또 결과적으로 빈도에 따른 중복 토큰 문제가 심해진다"
   ]
  },
  {
   "cell_type": "code",
   "execution_count": null,
   "id": "26df2b89",
   "metadata": {},
   "outputs": [],
   "source": [
    "class Encoder(tf.keras.Model):\n",
    "    def __init__(self, vocab_size, embedding_dim, enc_units):\n",
    "        super(Encoder, self).__init__()\n",
    "        self.enc_units = enc_units\n",
    "        self.embedding = tf.keras.layers.Embedding(vocab_size, embedding_dim)\n",
    "        self.dropout = tf.keras.layers.Dropout(0.2)  # Dropout \n",
    "        self.norm = tf.keras.layers.LayerNormalization()\n",
    "        self.gru = tf.keras.layers.GRU(\n",
    "            enc_units,\n",
    "            return_sequences=True,\n",
    "            return_state=True,\n",
    "            recurrent_initializer=\"glorot_uniform\",\n",
    "            dropout=0.2,  # Dropout \n",
    "        )\n",
    "\n",
    "    def call(self, x):\n",
    "        x = self.embedding(x)\n",
    "        x = self.dropout(x)\n",
    "        x = self.norm(x)\n",
    "        output, state = self.gru(x)\n",
    "        return output\n",
    "\n",
    "\n",
    "# Decoder 수정\n",
    "class Decoder(tf.keras.Model):\n",
    "    def __init__(self, vocab_size, embedding_dim, dec_units):\n",
    "        super(Decoder, self).__init__()\n",
    "        self.dec_units = dec_units\n",
    "        self.embedding = tf.keras.layers.Embedding(vocab_size, embedding_dim)\n",
    "        self.dropout = tf.keras.layers.Dropout(0.2)  # Dropout \n",
    "        self.norm = tf.keras.layers.LayerNormalization()\n",
    "        self.gru = tf.keras.layers.GRU(\n",
    "            dec_units,\n",
    "            return_sequences=True,\n",
    "            return_state=True,\n",
    "            recurrent_initializer=\"glorot_uniform\",\n",
    "            dropout=0.2,  # Dropout \n",
    "        )\n",
    "        self.fc = tf.keras.layers.Dense(vocab_size)\n",
    "        self.attention = BahdanauAttention(dec_units)\n",
    "\n",
    "    def call(self, x, h_dec, enc_out):\n",
    "        x = self.embedding(x)\n",
    "        x = self.dropout(x)\n",
    "        x = self.norm(x)\n",
    "\n",
    "        context_vec, attn_weights = self.attention(enc_out, h_dec)\n",
    "        context_vec = tf.expand_dims(context_vec, 1)\n",
    "        x = tf.concat([context_vec, x], axis=-1)\n",
    "\n",
    "        output, state = self.gru(x)\n",
    "        output = tf.reshape(output, (-1, output.shape[2]))\n",
    "        x = self.fc(output)\n",
    "        return x, state, attn_weights\n",
    "\n",
    "\n",
    "# 코드를 실행하세요.\n",
    "\n",
    "BATCH_SIZE = 64\n",
    "SRC_VOCAB_SIZE = len(enc_tokenizer.index_word) + 1\n",
    "TGT_VOCAB_SIZE = len(dec_tokenizer.index_word) + 1\n",
    "\n",
    "units = 1024\n",
    "embedding_dim = 512\n",
    "\n",
    "encoder = Encoder(SRC_VOCAB_SIZE, embedding_dim, units)\n",
    "decoder = Decoder(TGT_VOCAB_SIZE, embedding_dim, units)\n",
    "\n",
    "# sample input\n",
    "sequence_len = 50\n",
    "\n",
    "sample_enc = tf.random.uniform((BATCH_SIZE, sequence_len))\n",
    "sample_output = encoder(sample_enc)\n",
    "\n",
    "print ('Encoder Output:', sample_output.shape)\n",
    "\n",
    "sample_state = tf.random.uniform((BATCH_SIZE, units))\n",
    "\n",
    "sample_logits, h_dec, attn = decoder(tf.random.uniform((BATCH_SIZE, 1)),\n",
    "                                     sample_state, sample_output)\n",
    "\n",
    "print ('Decoder Output:', sample_logits.shape)\n",
    "print ('Decoder Hidden State:', h_dec.shape)\n",
    "print ('Attention:', attn.shape)\n",
    "\n",
    "\n",
    "# 학습률 조정\n",
    "lr_schedule = tf.keras.optimizers.schedules.ExponentialDecay(\n",
    "    initial_learning_rate=0.002,  # 초기 학습률 증가\n",
    "    decay_steps=5000, # if batch size = 785*? 5epoch당\n",
    "    decay_rate=0.98  # 완만한 감소\n",
    ")\n",
    "optimizer = tf.keras.optimizers.Adam(learning_rate=lr_schedule)\n",
    "\n",
    "loss_object = tf.keras.losses.SparseCategoricalCrossentropy(\n",
    "    from_logits=True, reduction='none')\n",
    "\n",
    "def loss_function(real, pred):\n",
    "    mask = tf.math.logical_not(tf.math.equal(real, 0))\n",
    "    loss = loss_object(real, pred)\n",
    "\n",
    "    mask = tf.cast(mask, dtype=loss.dtype)\n",
    "    loss *= mask\n",
    "\n",
    "    return tf.reduce_mean(loss)\n",
    "\n",
    "\n",
    "# Scheduled Sampling을 train_step에 추가\n",
    "@tf.function\n",
    "def train_step(src, tgt, encoder, decoder, optimizer, dec_tok, teacher_force_ratio=0.7):  # 초기 의존도 증가\n",
    "    bsz = src.shape[0]\n",
    "    loss = 0\n",
    "\n",
    "    with tf.GradientTape() as tape:\n",
    "        enc_out = encoder(src)\n",
    "        h_dec = enc_out[:, -1]\n",
    "        dec_src = tf.expand_dims([dec_tok.word_index['<start>']] * bsz, 1)\n",
    "\n",
    "        for t in range(1, tgt.shape[1]):\n",
    "            pred, h_dec, _ = decoder(dec_src, h_dec, enc_out)\n",
    "            loss += loss_function(tgt[:, t], pred)\n",
    "\n",
    "            if tf.random.uniform([]) < teacher_force_ratio:\n",
    "                dec_src = tf.expand_dims(tgt[:, t], 1)\n",
    "            else:\n",
    "                dec_src = tf.expand_dims(tf.argmax(pred, axis=-1, output_type=tf.int32), 1)\n",
    "\n",
    "    batch_loss = loss / int(tgt.shape[1])\n",
    "    variables = encoder.trainable_variables + decoder.trainable_variables\n",
    "    gradients = tape.gradient(loss, variables)\n",
    "    optimizer.apply_gradients(zip(gradients, variables))\n",
    "    return batch_loss\n",
    "\n",
    "\n",
    "\n",
    "@tf.function\n",
    "def eval_step(src, tgt, encoder, decoder, dec_tok):\n",
    "    bsz = src.shape[0]  # 배치 크기\n",
    "    loss = 0  # 평가 손실 초기화\n",
    "\n",
    "    # 인코더 출력 계산\n",
    "    enc_out = encoder(src)\n",
    "    h_dec = enc_out[:, -1]  # 인코더 마지막 Hidden State 사용\n",
    "\n",
    "    # 디코더의 초기 입력: <start> 토큰\n",
    "    dec_src = tf.expand_dims([dec_tok.word_index['<start>']] * bsz, 1)\n",
    "\n",
    "    predictions = []\n",
    "    for t in range(1, tgt.shape[1]):\n",
    "        # 디코더 예측\n",
    "        pred, h_dec, _ = decoder(dec_src, h_dec, enc_out)\n",
    "\n",
    "        # 손실 계산\n",
    "        loss += loss_function(tgt[:, t], pred)\n",
    "\n",
    "        # 가장 높은 확률의 단어 선택 (Greedy Decoding)\n",
    "        dec_src = tf.expand_dims(tf.argmax(pred, axis=-1, output_type=tf.int32), 1)\n",
    "        predictions.append(dec_src)\n",
    "\n",
    "    # 배치 손실 계산\n",
    "    batch_loss = (loss / int(tgt.shape[1]))\n",
    "\n",
    "    # 예측 결과를 하나의 텐서로 결합\n",
    "    predictions = tf.concat(predictions, axis=1)\n",
    "    return batch_loss, predictions\n",
    "\n",
    "\n",
    "# 최적화\n",
    "EPOCHS = 10\n",
    "best_val_loss = np.inf\n",
    "best_weights = None\n",
    "\n",
    "for epoch in range(EPOCHS):\n",
    "    total_loss = 0\n",
    "    idx_list = list(range(0, enc_train.shape[0], BATCH_SIZE))\n",
    "    random.shuffle(idx_list)\n",
    "    t = tqdm(idx_list)\n",
    "\n",
    "    for (batch, idx) in enumerate(t):\n",
    "        batch_loss = train_step(\n",
    "            enc_train[idx:idx + BATCH_SIZE],\n",
    "            dec_train[idx:idx + BATCH_SIZE],\n",
    "            encoder,\n",
    "            decoder,\n",
    "            optimizer,\n",
    "            dec_tokenizer,\n",
    "        )\n",
    "\n",
    "        total_loss += batch_loss\n",
    "        t.set_description_str(f'Epoch {epoch + 1}')\n",
    "        t.set_postfix_str(f'Loss {total_loss.numpy() / (batch + 1):.4f}')\n",
    "\n",
    "    eval_loss, predictions = eval_step(\n",
    "        enc_test[:BATCH_SIZE],\n",
    "        dec_test[:BATCH_SIZE],\n",
    "        encoder,\n",
    "        decoder,\n",
    "        dec_tokenizer,\n",
    "    )\n",
    "\n",
    "    print(f\"Epoch {epoch + 1} Evaluation Loss: {eval_loss.numpy()}\")\n",
    "\n",
    "    if eval_loss.numpy() < best_val_loss:\n",
    "        best_val_loss = eval_loss.numpy()\n",
    "        best_weights = {\n",
    "            \"encoder\": encoder.get_weights(),\n",
    "            \"decoder\": decoder.get_weights(),\n",
    "        }\n",
    "        print(f\"Best Validation Loss Improved to {best_val_loss:.4f}, Saving Weights\")\n",
    "\n",
    "encoder.set_weights(best_weights[\"encoder\"])\n",
    "decoder.set_weights(best_weights[\"decoder\"])\n",
    "print(\"Loaded Best Weights Based on Validation Loss\")"
   ]
  }
 ],
 "metadata": {
  "kernelspec": {
   "display_name": "Python 3 (ipykernel)",
   "language": "python",
   "name": "python3"
  },
  "language_info": {
   "codemirror_mode": {
    "name": "ipython",
    "version": 3
   },
   "file_extension": ".py",
   "mimetype": "text/x-python",
   "name": "python",
   "nbconvert_exporter": "python",
   "pygments_lexer": "ipython3",
   "version": "3.9.7"
  }
 },
 "nbformat": 4,
 "nbformat_minor": 5
}
