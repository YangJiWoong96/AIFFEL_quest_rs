{
 "cells": [
  {
   "cell_type": "code",
   "execution_count": 1,
   "id": "ac30e91a",
   "metadata": {},
   "outputs": [
    {
     "name": "stderr",
     "output_type": "stream",
     "text": [
      "[nltk_data] Downloading package stopwords to /aiffel/nltk_data...\n",
      "[nltk_data]   Unzipping corpora/stopwords.zip.\n"
     ]
    },
    {
     "name": "stdout",
     "output_type": "stream",
     "text": [
      "3.6.5\n",
      "2.6.0\n",
      "1.3.3\n",
      "1.2.0\n"
     ]
    }
   ],
   "source": [
    "from importlib.metadata import version\n",
    "import nltk\n",
    "nltk.download('stopwords')\n",
    "import tensorflow as tf\n",
    "from nltk.corpus import stopwords\n",
    "import requests\n",
    "import os\n",
    "import re\n",
    "import tensorflow\n",
    "import summa\n",
    "from summa.summarizer import summarize\n",
    "import pandas as pd\n",
    "import numpy as np\n",
    "import matplotlib.pyplot as plt\n",
    "from tensorflow.keras.preprocessing.text import Tokenizer \n",
    "from tensorflow.keras.preprocessing.sequence import pad_sequences\n",
    "from tensorflow.keras.layers import Input, LSTM, Embedding, Dense, Concatenate, TimeDistributed, AdditiveAttention, LayerNormalization, Dropout\n",
    "from tensorflow.keras.models import Model\n",
    "from tensorflow.keras.callbacks import EarlyStopping, ModelCheckpoint\n",
    "import urllib.request\n",
    "from bs4 import BeautifulSoup \n",
    "import warnings\n",
    "warnings.filterwarnings(\"ignore\", category=UserWarning, module='bs4')\n",
    "print(nltk.__version__)\n",
    "print(tensorflow.__version__)\n",
    "print(pd.__version__)\n",
    "print(version('summa'))"
   ]
  },
  {
   "cell_type": "code",
   "execution_count": 2,
   "id": "f33f82f7",
   "metadata": {},
   "outputs": [],
   "source": [
    "urllib.request.urlretrieve(\"https://raw.githubusercontent.com/sunnysai12345/News_Summary/master/news_summary_more.csv\", filename=\"news_summary_more.csv\")\n",
    "data = pd.read_csv('news_summary_more.csv', encoding='iso-8859-1')"
   ]
  },
  {
   "cell_type": "code",
   "execution_count": 126,
   "id": "dbddf525",
   "metadata": {},
   "outputs": [
    {
     "data": {
      "text/html": [
       "<div>\n",
       "<style scoped>\n",
       "    .dataframe tbody tr th:only-of-type {\n",
       "        vertical-align: middle;\n",
       "    }\n",
       "\n",
       "    .dataframe tbody tr th {\n",
       "        vertical-align: top;\n",
       "    }\n",
       "\n",
       "    .dataframe thead th {\n",
       "        text-align: right;\n",
       "    }\n",
       "</style>\n",
       "<table border=\"1\" class=\"dataframe\">\n",
       "  <thead>\n",
       "    <tr style=\"text-align: right;\">\n",
       "      <th></th>\n",
       "      <th>headlines</th>\n",
       "      <th>text</th>\n",
       "    </tr>\n",
       "  </thead>\n",
       "  <tbody>\n",
       "    <tr>\n",
       "      <th>71547</th>\n",
       "      <td>Not even a dog knows you: Ssharad on people wh...</td>\n",
       "      <td>Actor Ssharad Malhotra, while talking about pe...</td>\n",
       "    </tr>\n",
       "    <tr>\n",
       "      <th>60337</th>\n",
       "      <td>Aussie coach Tom Moody mistaken for rating age...</td>\n",
       "      <td>Several CPM supporters began trolling and dire...</td>\n",
       "    </tr>\n",
       "    <tr>\n",
       "      <th>47504</th>\n",
       "      <td>ChaKu stabbed SA brutally: Sehwag on spinners'...</td>\n",
       "      <td>Reacting to Indian spinners Kuldeep Yadav and ...</td>\n",
       "    </tr>\n",
       "    <tr>\n",
       "      <th>76214</th>\n",
       "      <td>Chinese tourist assaulted by US border guard a...</td>\n",
       "      <td>A Chinese woman has been awarded Ã¢ÂÂ¹2.9 cro...</td>\n",
       "    </tr>\n",
       "    <tr>\n",
       "      <th>45744</th>\n",
       "      <td>Telangana students found mass copying may face...</td>\n",
       "      <td>Students found mass copying in Telangana class...</td>\n",
       "    </tr>\n",
       "    <tr>\n",
       "      <th>89207</th>\n",
       "      <td>Modi is illegal not the red beacon on my car: ...</td>\n",
       "      <td>Reiterating that he will not remove the red be...</td>\n",
       "    </tr>\n",
       "    <tr>\n",
       "      <th>71301</th>\n",
       "      <td>Player falls off chair while swatting a fly at...</td>\n",
       "      <td>USA's Sloane Stephens fell off a chair while t...</td>\n",
       "    </tr>\n",
       "    <tr>\n",
       "      <th>69545</th>\n",
       "      <td>Ex-White House Press Secretary mocks Trump ove...</td>\n",
       "      <td>Former White House Press Secretary made a surp...</td>\n",
       "    </tr>\n",
       "    <tr>\n",
       "      <th>13694</th>\n",
       "      <td>Eng cricketers' vehicle gets stuck in mud on a...</td>\n",
       "      <td>The vehicle carrying a few England cricketers ...</td>\n",
       "    </tr>\n",
       "    <tr>\n",
       "      <th>15772</th>\n",
       "      <td>Jet Airways delays part of Aug salaries to pil...</td>\n",
       "      <td>Cash-strapped Jet Airways has told its pilots,...</td>\n",
       "    </tr>\n",
       "  </tbody>\n",
       "</table>\n",
       "</div>"
      ],
      "text/plain": [
       "                                               headlines  \\\n",
       "71547  Not even a dog knows you: Ssharad on people wh...   \n",
       "60337  Aussie coach Tom Moody mistaken for rating age...   \n",
       "47504  ChaKu stabbed SA brutally: Sehwag on spinners'...   \n",
       "76214  Chinese tourist assaulted by US border guard a...   \n",
       "45744  Telangana students found mass copying may face...   \n",
       "89207  Modi is illegal not the red beacon on my car: ...   \n",
       "71301  Player falls off chair while swatting a fly at...   \n",
       "69545  Ex-White House Press Secretary mocks Trump ove...   \n",
       "13694  Eng cricketers' vehicle gets stuck in mud on a...   \n",
       "15772  Jet Airways delays part of Aug salaries to pil...   \n",
       "\n",
       "                                                    text  \n",
       "71547  Actor Ssharad Malhotra, while talking about pe...  \n",
       "60337  Several CPM supporters began trolling and dire...  \n",
       "47504  Reacting to Indian spinners Kuldeep Yadav and ...  \n",
       "76214  A Chinese woman has been awarded Ã¢ÂÂ¹2.9 cro...  \n",
       "45744  Students found mass copying in Telangana class...  \n",
       "89207  Reiterating that he will not remove the red be...  \n",
       "71301  USA's Sloane Stephens fell off a chair while t...  \n",
       "69545  Former White House Press Secretary made a surp...  \n",
       "13694  The vehicle carrying a few England cricketers ...  \n",
       "15772  Cash-strapped Jet Airways has told its pilots,...  "
      ]
     },
     "execution_count": 126,
     "metadata": {},
     "output_type": "execute_result"
    }
   ],
   "source": [
    "data.sample(10)"
   ]
  },
  {
   "cell_type": "markdown",
   "id": "4daa3b2c",
   "metadata": {},
   "source": [
    "### 데이터 전처리하기(추상적 요약)"
   ]
  },
  {
   "cell_type": "code",
   "execution_count": 127,
   "id": "e6a24277",
   "metadata": {},
   "outputs": [
    {
     "data": {
      "text/plain": [
       "98401"
      ]
     },
     "execution_count": 127,
     "metadata": {},
     "output_type": "execute_result"
    }
   ],
   "source": [
    "len(data['text'])"
   ]
  },
  {
   "cell_type": "code",
   "execution_count": 128,
   "id": "14ef8a56",
   "metadata": {},
   "outputs": [
    {
     "name": "stdout",
     "output_type": "stream",
     "text": [
      "Text 열에서 중복을 배제한 유일한 샘플의 수 : 98360\n",
      "Summary 열에서 중복을 배제한 유일한 샘플의 수 : 98280\n"
     ]
    }
   ],
   "source": [
    "print('Text 열에서 중복을 배제한 유일한 샘플의 수 :', data['text'].nunique())\n",
    "print('Summary 열에서 중복을 배제한 유일한 샘플의 수 :', data['headlines'].nunique())"
   ]
  },
  {
   "cell_type": "code",
   "execution_count": 129,
   "id": "bac875fb",
   "metadata": {
    "scrolled": true
   },
   "outputs": [
    {
     "name": "stdout",
     "output_type": "stream",
     "text": [
      "전체 샘플수 : 98360\n"
     ]
    }
   ],
   "source": [
    "data.drop_duplicates(subset = ['text'], inplace=True)\n",
    "print('전체 샘플수 :', (len(data)))"
   ]
  },
  {
   "cell_type": "code",
   "execution_count": 130,
   "id": "0a0ded3a",
   "metadata": {},
   "outputs": [
    {
     "data": {
      "text/plain": [
       "headlines    0\n",
       "text         0\n",
       "dtype: int64"
      ]
     },
     "execution_count": 130,
     "metadata": {},
     "output_type": "execute_result"
    }
   ],
   "source": [
    "data.isnull().sum()"
   ]
  },
  {
   "cell_type": "code",
   "execution_count": 131,
   "id": "e7d9e360",
   "metadata": {},
   "outputs": [
    {
     "name": "stdout",
     "output_type": "stream",
     "text": [
      "정규화 사전의 수:  120\n"
     ]
    }
   ],
   "source": [
    "contractions = {\"ain't\": \"is not\", \"aren't\": \"are not\",\"can't\": \"cannot\", \"'cause\": \"because\", \"could've\": \"could have\", \"couldn't\": \"could not\",\n",
    "                           \"didn't\": \"did not\",  \"doesn't\": \"does not\", \"don't\": \"do not\", \"hadn't\": \"had not\", \"hasn't\": \"has not\", \"haven't\": \"have not\",\n",
    "                           \"he'd\": \"he would\",\"he'll\": \"he will\", \"he's\": \"he is\", \"how'd\": \"how did\", \"how'd'y\": \"how do you\", \"how'll\": \"how will\", \"how's\": \"how is\",\n",
    "                           \"I'd\": \"I would\", \"I'd've\": \"I would have\", \"I'll\": \"I will\", \"I'll've\": \"I will have\",\"I'm\": \"I am\", \"I've\": \"I have\", \"i'd\": \"i would\",\n",
    "                           \"i'd've\": \"i would have\", \"i'll\": \"i will\",  \"i'll've\": \"i will have\",\"i'm\": \"i am\", \"i've\": \"i have\", \"isn't\": \"is not\", \"it'd\": \"it would\",\n",
    "                           \"it'd've\": \"it would have\", \"it'll\": \"it will\", \"it'll've\": \"it will have\",\"it's\": \"it is\", \"let's\": \"let us\", \"ma'am\": \"madam\",\n",
    "                           \"mayn't\": \"may not\", \"might've\": \"might have\",\"mightn't\": \"might not\",\"mightn't've\": \"might not have\", \"must've\": \"must have\",\n",
    "                           \"mustn't\": \"must not\", \"mustn't've\": \"must not have\", \"needn't\": \"need not\", \"needn't've\": \"need not have\",\"o'clock\": \"of the clock\",\n",
    "                           \"oughtn't\": \"ought not\", \"oughtn't've\": \"ought not have\", \"shan't\": \"shall not\", \"sha'n't\": \"shall not\", \"shan't've\": \"shall not have\",\n",
    "                           \"she'd\": \"she would\", \"she'd've\": \"she would have\", \"she'll\": \"she will\", \"she'll've\": \"she will have\", \"she's\": \"she is\",\n",
    "                           \"should've\": \"should have\", \"shouldn't\": \"should not\", \"shouldn't've\": \"should not have\", \"so've\": \"so have\",\"so's\": \"so as\",\n",
    "                           \"this's\": \"this is\",\"that'd\": \"that would\", \"that'd've\": \"that would have\", \"that's\": \"that is\", \"there'd\": \"there would\",\n",
    "                           \"there'd've\": \"there would have\", \"there's\": \"there is\", \"here's\": \"here is\",\"they'd\": \"they would\", \"they'd've\": \"they would have\",\n",
    "                           \"they'll\": \"they will\", \"they'll've\": \"they will have\", \"they're\": \"they are\", \"they've\": \"they have\", \"to've\": \"to have\",\n",
    "                           \"wasn't\": \"was not\", \"we'd\": \"we would\", \"we'd've\": \"we would have\", \"we'll\": \"we will\", \"we'll've\": \"we will have\", \"we're\": \"we are\",\n",
    "                           \"we've\": \"we have\", \"weren't\": \"were not\", \"what'll\": \"what will\", \"what'll've\": \"what will have\", \"what're\": \"what are\",\n",
    "                           \"what's\": \"what is\", \"what've\": \"what have\", \"when's\": \"when is\", \"when've\": \"when have\", \"where'd\": \"where did\", \"where's\": \"where is\",\n",
    "                           \"where've\": \"where have\", \"who'll\": \"who will\", \"who'll've\": \"who will have\", \"who's\": \"who is\", \"who've\": \"who have\",\n",
    "                           \"why's\": \"why is\", \"why've\": \"why have\", \"will've\": \"will have\", \"won't\": \"will not\", \"won't've\": \"will not have\",\n",
    "                           \"would've\": \"would have\", \"wouldn't\": \"would not\", \"wouldn't've\": \"would not have\", \"y'all\": \"you all\",\n",
    "                           \"y'all'd\": \"you all would\",\"y'all'd've\": \"you all would have\",\"y'all're\": \"you all are\",\"y'all've\": \"you all have\",\n",
    "                           \"you'd\": \"you would\", \"you'd've\": \"you would have\", \"you'll\": \"you will\", \"you'll've\": \"you will have\",\n",
    "                           \"you're\": \"you are\", \"you've\": \"you have\"}\n",
    "\n",
    "print(\"정규화 사전의 수: \", len(contractions))"
   ]
  },
  {
   "cell_type": "code",
   "execution_count": 132,
   "id": "ca22bfd2",
   "metadata": {},
   "outputs": [
    {
     "name": "stdout",
     "output_type": "stream",
     "text": [
      "불용어 개수 : 179\n",
      "['i', 'me', 'my', 'myself', 'we', 'our', 'ours', 'ourselves', 'you', \"you're\", \"you've\", \"you'll\", \"you'd\", 'your', 'yours', 'yourself', 'yourselves', 'he', 'him', 'his', 'himself', 'she', \"she's\", 'her', 'hers', 'herself', 'it', \"it's\", 'its', 'itself', 'they', 'them', 'their', 'theirs', 'themselves', 'what', 'which', 'who', 'whom', 'this', 'that', \"that'll\", 'these', 'those', 'am', 'is', 'are', 'was', 'were', 'be', 'been', 'being', 'have', 'has', 'had', 'having', 'do', 'does', 'did', 'doing', 'a', 'an', 'the', 'and', 'but', 'if', 'or', 'because', 'as', 'until', 'while', 'of', 'at', 'by', 'for', 'with', 'about', 'against', 'between', 'into', 'through', 'during', 'before', 'after', 'above', 'below', 'to', 'from', 'up', 'down', 'in', 'out', 'on', 'off', 'over', 'under', 'again', 'further', 'then', 'once', 'here', 'there', 'when', 'where', 'why', 'how', 'all', 'any', 'both', 'each', 'few', 'more', 'most', 'other', 'some', 'such', 'no', 'nor', 'not', 'only', 'own', 'same', 'so', 'than', 'too', 'very', 's', 't', 'can', 'will', 'just', 'don', \"don't\", 'should', \"should've\", 'now', 'd', 'll', 'm', 'o', 're', 've', 'y', 'ain', 'aren', \"aren't\", 'couldn', \"couldn't\", 'didn', \"didn't\", 'doesn', \"doesn't\", 'hadn', \"hadn't\", 'hasn', \"hasn't\", 'haven', \"haven't\", 'isn', \"isn't\", 'ma', 'mightn', \"mightn't\", 'mustn', \"mustn't\", 'needn', \"needn't\", 'shan', \"shan't\", 'shouldn', \"shouldn't\", 'wasn', \"wasn't\", 'weren', \"weren't\", 'won', \"won't\", 'wouldn', \"wouldn't\"]\n"
     ]
    }
   ],
   "source": [
    "print('불용어 개수 :', len(stopwords.words('english') ))\n",
    "print(stopwords.words('english'))"
   ]
  },
  {
   "cell_type": "code",
   "execution_count": 133,
   "id": "044c86f7",
   "metadata": {},
   "outputs": [],
   "source": [
    "# # 데이터 전처리 함수\n",
    "# def preprocess_sentence(sentence, remove_stopwords=True):\n",
    "#     sentence = sentence.lower() # 텍스트 소문자화\n",
    "#     sentence = BeautifulSoup(sentence, \"lxml\").text # <br />, <a href = ...> 등의 html 태그 제거\n",
    "#     sentence = re.sub(r'\\([^)]*\\)', '', sentence) # 괄호로 닫힌 문자열 (...) 제거 Ex) my husband (and myself!) for => my husband for\n",
    "#     sentence = re.sub('\"','', sentence) # 쌍따옴표 \" 제거\n",
    "#     sentence = ' '.join([contractions[t] if t in contractions else t for t in sentence.split(\" \")]) # 약어 정규화\n",
    "#     sentence = re.sub(r\"'s\\b\",\"\", sentence) # 소유격 제거. Ex) roland's -> roland\n",
    "#     sentence = re.sub(\"[^a-zA-Z]\", \" \", sentence) # 영어 외 문자(숫자, 특수문자 등) 공백으로 변환\n",
    "#     sentence = re.sub('[m]{2,}', 'mm', sentence) # m이 3개 이상이면 2개로 변경. Ex) ummmmmmm yeah -> umm yeah\n",
    "    \n",
    "#     # 불용어 제거 (Text)\n",
    "#     if remove_stopwords:\n",
    "#         tokens = ' '.join(word for word in sentence.split() if not word in stopwords.words('english') if len(word) > 1)\n",
    "#     # 불용어 미제거 (Summary)\n",
    "#     else:\n",
    "#         tokens = ' '.join(word for word in sentence.split() if len(word) > 1)\n",
    "#     return tokens\n",
    "# print('=3')"
   ]
  },
  {
   "cell_type": "code",
   "execution_count": 134,
   "id": "561f3ebb",
   "metadata": {},
   "outputs": [],
   "source": [
    "def preprocess_sentence(sentence, remove_stopwords=True):\n",
    "    sentence = sentence.lower()  # 텍스트 소문자화\n",
    "    sentence = BeautifulSoup(sentence, \"lxml\").text  # HTML 문법 제거\n",
    "    sentence = re.sub(r'\\([^)]*\\)', '', sentence)  # 괄호 안에 문자열 제거\n",
    "    sentence = re.sub('\"', '', sentence)  # 쌍따옴표 제거\n",
    "    sentence = ' '.join([contractions[t] if t in contractions else t for t in sentence.split(\" \")])  # 약어 정규화\n",
    "    sentence = re.sub(r\"'s\\b\", \"\", sentence)  # 소유격 제거\n",
    "    sentence = re.sub(\"[^a-zA-Z]\", \" \", sentence)  # 영어 외 문자 제거\n",
    "    sentence = re.sub('[m]{2,}', 'mm', sentence)  # m이 3개 이상이면 2개로 변경\n",
    "    sentence = re.sub('\\s+', ' ', sentence).strip()  # 연속된 공백 제거\n",
    "    sentence = ' '.join([word for word in sentence.split() if len(word) <= 20])  # 단어 길이 제한\n",
    "    sentence = re.sub(r'\\b(\\w+)( \\1\\b)+', r'\\1', sentence)  # 중복 단어 제거\n",
    "    if remove_stopwords:\n",
    "        tokens = ' '.join(word for word in sentence.split() if not word in stopwords.words('english') if len(word) > 1)\n",
    "    else:\n",
    "        tokens = ' '.join(word for word in sentence.split() if len(word) > 1)\n",
    "    return tokens"
   ]
  },
  {
   "cell_type": "markdown",
   "id": "018f4c78",
   "metadata": {},
   "source": [
    "* EX)"
   ]
  },
  {
   "cell_type": "code",
   "execution_count": 135,
   "id": "edc8cbb3",
   "metadata": {},
   "outputs": [
    {
     "name": "stdout",
     "output_type": "stream",
     "text": [
      "text:  everything bought great infact ordered twice third ordered wasfor mother father\n",
      "summary: great way to start the day\n"
     ]
    }
   ],
   "source": [
    "temp_text = 'Everything I bought was great, infact I ordered twice and the third ordered was<br />for my mother and father.. Father. fffffffffffffffffffffffff'\n",
    "temp_summary = 'Great way to start (or finish) the day!!!'\n",
    "\n",
    "print(\"text: \", preprocess_sentence(temp_text))\n",
    "print(\"summary:\", preprocess_sentence(temp_summary, False))  "
   ]
  },
  {
   "cell_type": "code",
   "execution_count": 136,
   "id": "d96e418f",
   "metadata": {},
   "outputs": [
    {
     "name": "stdout",
     "output_type": "stream",
     "text": [
      "텍스트의 최소 길이 : 1\n",
      "텍스트의 최대 길이 : 91\n",
      "텍스트의 평균 길이 : 58.23813542090281\n",
      "제목의 최소 길이 : 1\n",
      "제목의 최대 길이 : 18\n",
      "제목의 평균 길이 : 9.553660024400163\n"
     ]
    },
    {
     "data": {
      "image/png": "[encoded data removed]",
      "text/plain": [
       "<Figure size 432x288 with 2 Axes>"
      ]
     },
     "metadata": {
      "needs_background": "light"
     },
     "output_type": "display_data"
    },
    {
     "data": {
      "image/png": "[encoded data removed]",
      "text/plain": [
       "<Figure size 432x288 with 1 Axes>"
      ]
     },
     "metadata": {
      "needs_background": "light"
     },
     "output_type": "display_data"
    },
    {
     "data": {
      "image/png": "[encoded data removed]",
      "text/plain": [
       "<Figure size 432x288 with 1 Axes>"
      ]
     },
     "metadata": {
      "needs_background": "light"
     },
     "output_type": "display_data"
    }
   ],
   "source": [
    "text_len = [len(s.split()) for s in data['text']]\n",
    "summary_len = [len(s.split()) for s in data['headlines']]\n",
    "\n",
    "print('텍스트의 최소 길이 : {}'.format(np.min(text_len)))\n",
    "print('텍스트의 최대 길이 : {}'.format(np.max(text_len)))\n",
    "print('텍스트의 평균 길이 : {}'.format(np.mean(text_len)))\n",
    "print('제목의 최소 길이 : {}'.format(np.min(summary_len)))\n",
    "print('제목의 최대 길이 : {}'.format(np.max(summary_len)))\n",
    "print('제목의 평균 길이 : {}'.format(np.mean(summary_len)))\n",
    "\n",
    "plt.subplot(1,2,1)\n",
    "plt.boxplot(text_len)\n",
    "plt.title('text')\n",
    "plt.subplot(1,2,2)\n",
    "plt.boxplot(summary_len)\n",
    "plt.title('headlines')\n",
    "plt.tight_layout()\n",
    "plt.show()\n",
    "\n",
    "plt.title('text')\n",
    "plt.hist(text_len, bins = 40)\n",
    "plt.xlabel('length of samples')\n",
    "plt.ylabel('number of samples')\n",
    "plt.show()\n",
    "\n",
    "plt.title('headlines')\n",
    "plt.hist(summary_len, bins = 40)\n",
    "plt.xlabel('length of samples')\n",
    "plt.ylabel('number of samples')\n",
    "plt.show()"
   ]
  },
  {
   "cell_type": "code",
   "execution_count": 137,
   "id": "bcd897b4",
   "metadata": {},
   "outputs": [
    {
     "name": "stdout",
     "output_type": "stream",
     "text": [
      "text 전처리 후 결과:  0    saurav kant alumnus upgrad iiit pg program mac...\n",
      "1    kunal shah credit card bill payment platform c...\n",
      "2    new zealand defeated india wickets fourth odi ...\n",
      "3    aegon life iterm insurance plan customers enjo...\n",
      "4    speaking sexual harassment allegations rajkuma...\n",
      "Name: text, dtype: object\n"
     ]
    }
   ],
   "source": [
    "# 전체 Text 데이터에 대한 전처리 : 10분 이상 시간이 걸릴 수 있습니다. \n",
    "clean_text = []\n",
    "\n",
    "# [[YOUR CODE]]\n",
    "\n",
    "clean_text = data['text'].apply(lambda x: preprocess_sentence(x) if pd.notnull(x) else \"\")\n",
    "\n",
    "\n",
    "# 전처리 후 출력\n",
    "print(\"text 전처리 후 결과: \", clean_text[:5])"
   ]
  },
  {
   "cell_type": "code",
   "execution_count": 138,
   "id": "c82dcbcd",
   "metadata": {},
   "outputs": [
    {
     "name": "stdout",
     "output_type": "stream",
     "text": [
      "headlines 전처리 후 결과:  0    upgrad learner switches to career in ml al wit...\n",
      "1    delhi techie wins free food from swiggy for on...\n",
      "2    new zealand end rohit sharma led india match w...\n",
      "3    aegon life iterm insurance plan helps customer...\n",
      "4    have known hirani for yrs what if metoo claims...\n",
      "Name: headlines, dtype: object\n"
     ]
    }
   ],
   "source": [
    "# 전체 Summary 데이터에 대한 전처리 : 5분 이상 시간이 걸릴 수 있습니다. \n",
    "clean_headlines = []\n",
    "\n",
    "# [[YOUR CODE]]\n",
    "\n",
    "clean_headlines = data['headlines'].apply(lambda x: preprocess_sentence(x,remove_stopwords=False) if pd.notnull(x) else \"\")\n",
    "print(\"headlines 전처리 후 결과: \", clean_headlines[:5])"
   ]
  },
  {
   "cell_type": "code",
   "execution_count": 139,
   "id": "556b3202",
   "metadata": {},
   "outputs": [
    {
     "name": "stdout",
     "output_type": "stream",
     "text": [
      "=3\n"
     ]
    }
   ],
   "source": [
    "data['text'] = clean_text\n",
    "data['headlines'] = clean_headlines\n",
    "\n",
    "# 빈 값을 Null 값으로 변환\n",
    "data.replace('', np.nan, inplace=True)\n",
    "print('=3')"
   ]
  },
  {
   "cell_type": "code",
   "execution_count": 140,
   "id": "7927a887",
   "metadata": {},
   "outputs": [
    {
     "data": {
      "text/plain": [
       "headlines    0\n",
       "text         0\n",
       "dtype: int64"
      ]
     },
     "execution_count": 140,
     "metadata": {},
     "output_type": "execute_result"
    }
   ],
   "source": [
    "data.isnull().sum()"
   ]
  },
  {
   "cell_type": "code",
   "execution_count": 141,
   "id": "0c778f75",
   "metadata": {},
   "outputs": [],
   "source": [
    "text_max_len = 50\n",
    "summary_max_len = 12"
   ]
  },
  {
   "cell_type": "code",
   "execution_count": 142,
   "id": "a2499965",
   "metadata": {},
   "outputs": [
    {
     "name": "stdout",
     "output_type": "stream",
     "text": [
      "=3\n"
     ]
    }
   ],
   "source": [
    "def below_threshold_len(max_len, nested_list):\n",
    "  cnt = 0\n",
    "  for s in nested_list:\n",
    "    if(len(s.split()) <= max_len):\n",
    "        cnt = cnt + 1\n",
    "  print('전체 샘플 중 길이가 %s 이하인 샘플의 비율: %s'%(max_len, (cnt / len(nested_list))))\n",
    "print('=3')"
   ]
  },
  {
   "cell_type": "code",
   "execution_count": 143,
   "id": "9922ac94",
   "metadata": {},
   "outputs": [
    {
     "name": "stdout",
     "output_type": "stream",
     "text": [
      "전체 샘플 중 길이가 50 이하인 샘플의 비율: 0.9998576657177715\n",
      "전체 샘플 중 길이가 12 이하인 샘플의 비율: 0.9881150874339162\n"
     ]
    }
   ],
   "source": [
    "below_threshold_len(text_max_len, data['text'])\n",
    "below_threshold_len(summary_max_len,  data['headlines'])"
   ]
  },
  {
   "cell_type": "code",
   "execution_count": 144,
   "id": "9a6d1b45",
   "metadata": {},
   "outputs": [],
   "source": [
    "# 굳이 할 필요 없을 것 같긴한데...\n",
    "# text 열에서 단어 시퀀스 길이 제한\n",
    "data['text'] = data['text'].apply(lambda s: ' '.join(s.split()[:text_max_len]) if pd.notnull(s) else s)\n",
    "\n",
    "# headlines 열에서 단어 시퀀스 길이 제한\n",
    "data['headlines'] = data['headlines'].apply(lambda s: ' '.join(s.split()[:summary_max_len]) if pd.notnull(s) else s)"
   ]
  },
  {
   "cell_type": "code",
   "execution_count": 145,
   "id": "b93a9c5e",
   "metadata": {},
   "outputs": [
    {
     "name": "stdout",
     "output_type": "stream",
     "text": [
      "전체 샘플수 : 98360\n"
     ]
    }
   ],
   "source": [
    "print('전체 샘플수 :', (len(data)))"
   ]
  },
  {
   "cell_type": "code",
   "execution_count": 146,
   "id": "2a0f7460",
   "metadata": {},
   "outputs": [
    {
     "data": {
      "text/html": [
       "<div>\n",
       "<style scoped>\n",
       "    .dataframe tbody tr th:only-of-type {\n",
       "        vertical-align: middle;\n",
       "    }\n",
       "\n",
       "    .dataframe tbody tr th {\n",
       "        vertical-align: top;\n",
       "    }\n",
       "\n",
       "    .dataframe thead th {\n",
       "        text-align: right;\n",
       "    }\n",
       "</style>\n",
       "<table border=\"1\" class=\"dataframe\">\n",
       "  <thead>\n",
       "    <tr style=\"text-align: right;\">\n",
       "      <th></th>\n",
       "      <th>headlines</th>\n",
       "      <th>text</th>\n",
       "      <th>decoder_input</th>\n",
       "      <th>decoder_target</th>\n",
       "    </tr>\n",
       "  </thead>\n",
       "  <tbody>\n",
       "    <tr>\n",
       "      <th>0</th>\n",
       "      <td>upgrad learner switches to career in ml al wit...</td>\n",
       "      <td>saurav kant alumnus upgrad iiit pg program mac...</td>\n",
       "      <td>sostoken upgrad learner switches to career in ...</td>\n",
       "      <td>upgrad learner switches to career in ml al wit...</td>\n",
       "    </tr>\n",
       "    <tr>\n",
       "      <th>1</th>\n",
       "      <td>delhi techie wins free food from swiggy for on...</td>\n",
       "      <td>kunal shah credit card bill payment platform c...</td>\n",
       "      <td>sostoken delhi techie wins free food from swig...</td>\n",
       "      <td>delhi techie wins free food from swiggy for on...</td>\n",
       "    </tr>\n",
       "    <tr>\n",
       "      <th>2</th>\n",
       "      <td>new zealand end rohit sharma led india match w...</td>\n",
       "      <td>new zealand defeated india wickets fourth odi ...</td>\n",
       "      <td>sostoken new zealand end rohit sharma led indi...</td>\n",
       "      <td>new zealand end rohit sharma led india match w...</td>\n",
       "    </tr>\n",
       "    <tr>\n",
       "      <th>3</th>\n",
       "      <td>aegon life iterm insurance plan helps customer...</td>\n",
       "      <td>aegon life iterm insurance plan customers enjo...</td>\n",
       "      <td>sostoken aegon life iterm insurance plan helps...</td>\n",
       "      <td>aegon life iterm insurance plan helps customer...</td>\n",
       "    </tr>\n",
       "    <tr>\n",
       "      <th>4</th>\n",
       "      <td>have known hirani for yrs what if metoo claims...</td>\n",
       "      <td>speaking sexual harassment allegations rajkuma...</td>\n",
       "      <td>sostoken have known hirani for yrs what if met...</td>\n",
       "      <td>have known hirani for yrs what if metoo claims...</td>\n",
       "    </tr>\n",
       "  </tbody>\n",
       "</table>\n",
       "</div>"
      ],
      "text/plain": [
       "                                           headlines  \\\n",
       "0  upgrad learner switches to career in ml al wit...   \n",
       "1  delhi techie wins free food from swiggy for on...   \n",
       "2  new zealand end rohit sharma led india match w...   \n",
       "3  aegon life iterm insurance plan helps customer...   \n",
       "4  have known hirani for yrs what if metoo claims...   \n",
       "\n",
       "                                                text  \\\n",
       "0  saurav kant alumnus upgrad iiit pg program mac...   \n",
       "1  kunal shah credit card bill payment platform c...   \n",
       "2  new zealand defeated india wickets fourth odi ...   \n",
       "3  aegon life iterm insurance plan customers enjo...   \n",
       "4  speaking sexual harassment allegations rajkuma...   \n",
       "\n",
       "                                       decoder_input  \\\n",
       "0  sostoken upgrad learner switches to career in ...   \n",
       "1  sostoken delhi techie wins free food from swig...   \n",
       "2  sostoken new zealand end rohit sharma led indi...   \n",
       "3  sostoken aegon life iterm insurance plan helps...   \n",
       "4  sostoken have known hirani for yrs what if met...   \n",
       "\n",
       "                                      decoder_target  \n",
       "0  upgrad learner switches to career in ml al wit...  \n",
       "1  delhi techie wins free food from swiggy for on...  \n",
       "2  new zealand end rohit sharma led india match w...  \n",
       "3  aegon life iterm insurance plan helps customer...  \n",
       "4  have known hirani for yrs what if metoo claims...  "
      ]
     },
     "execution_count": 146,
     "metadata": {},
     "output_type": "execute_result"
    }
   ],
   "source": [
    "# 제목에는 시작 토큰과 종료 토큰을 추가한다.\n",
    "data['decoder_input'] = data['headlines'].apply(lambda x : 'sostoken '+ x)\n",
    "data['decoder_target'] = data['headlines'].apply(lambda x : x + ' eostoken')\n",
    "data.head()"
   ]
  },
  {
   "cell_type": "code",
   "execution_count": 147,
   "id": "e19723bf",
   "metadata": {},
   "outputs": [],
   "source": [
    "encoder_input = np.array(data['text']) # 인코더의 입력\n",
    "decoder_input = np.array(data['decoder_input']) # 디코더의 입력\n",
    "decoder_target = np.array(data['decoder_target']) # 디코더의 레이블"
   ]
  },
  {
   "cell_type": "code",
   "execution_count": 148,
   "id": "38959519",
   "metadata": {},
   "outputs": [
    {
     "name": "stdout",
     "output_type": "stream",
     "text": [
      "[41129 83074 46320 ... 78006 92386 90138]\n"
     ]
    }
   ],
   "source": [
    "# 셔플 \n",
    "indices = np.arange(encoder_input.shape[0])\n",
    "np.random.shuffle(indices)\n",
    "print(indices)"
   ]
  },
  {
   "cell_type": "code",
   "execution_count": 149,
   "id": "ca00fd50",
   "metadata": {},
   "outputs": [],
   "source": [
    "# 동일하게 \n",
    "encoder_input = encoder_input[indices]\n",
    "decoder_input = decoder_input[indices]\n",
    "decoder_target = decoder_target[indices]"
   ]
  },
  {
   "cell_type": "code",
   "execution_count": 150,
   "id": "f2230d64",
   "metadata": {},
   "outputs": [
    {
     "name": "stdout",
     "output_type": "stream",
     "text": [
      "테스트 데이터의 수 : 19672\n"
     ]
    }
   ],
   "source": [
    "n_of_val = int(len(encoder_input)*0.2)\n",
    "print('테스트 데이터의 수 :', n_of_val)"
   ]
  },
  {
   "cell_type": "code",
   "execution_count": 237,
   "id": "29e35550",
   "metadata": {},
   "outputs": [
    {
     "name": "stdout",
     "output_type": "stream",
     "text": [
      "훈련 데이터의 개수 : 78688\n",
      "훈련 레이블의 개수 : 78688\n",
      "테스트 데이터의 개수 : 19672\n",
      "테스트 레이블의 개수 : 19672\n"
     ]
    }
   ],
   "source": [
    "encoder_input_train = encoder_input[:-n_of_val]\n",
    "decoder_input_train = decoder_input[:-n_of_val]\n",
    "decoder_target_train = decoder_target[:-n_of_val]\n",
    "\n",
    "encoder_input_test = encoder_input[-n_of_val:]\n",
    "decoder_input_test = decoder_input[-n_of_val:]\n",
    "decoder_target_test = decoder_target[-n_of_val:]\n",
    "\n",
    "print('훈련 데이터의 개수 :', len(encoder_input_train))\n",
    "print('훈련 레이블의 개수 :', len(decoder_input_train))\n",
    "print('테스트 데이터의 개수 :', len(encoder_input_test))\n",
    "print('테스트 레이블의 개수 :', len(decoder_input_test))"
   ]
  },
  {
   "cell_type": "markdown",
   "id": "3a04bb3c",
   "metadata": {},
   "source": [
    "### 인코더 "
   ]
  },
  {
   "cell_type": "code",
   "execution_count": 238,
   "id": "d1976043",
   "metadata": {},
   "outputs": [],
   "source": [
    "src_tokenizer = Tokenizer() # 토크나이저 정의\n",
    "src_tokenizer.fit_on_texts(encoder_input_train) # 입력된 데이터로부터 단어 집합 생성"
   ]
  },
  {
   "cell_type": "code",
   "execution_count": 239,
   "id": "35b55aae",
   "metadata": {},
   "outputs": [
    {
     "data": {
      "text/plain": [
       "78688"
      ]
     },
     "execution_count": 239,
     "metadata": {},
     "output_type": "execute_result"
    }
   ],
   "source": [
    "len(encoder_input_train)"
   ]
  },
  {
   "cell_type": "code",
   "execution_count": 240,
   "id": "8833d91b",
   "metadata": {},
   "outputs": [],
   "source": [
    "import math"
   ]
  },
  {
   "cell_type": "code",
   "execution_count": 243,
   "id": "c00f46e7",
   "metadata": {
    "scrolled": false
   },
   "outputs": [
    {
     "name": "stdout",
     "output_type": "stream",
     "text": [
      "단어 집합(vocabulary)의 크기 : 69782\n",
      "등장 빈도가 5번 이하인 희귀 단어의 수: 45803\n",
      "단어 집합에서 희귀 단어를 제외시킬 경우의 단어 집합의 크기 : 23979\n",
      "단어 집합에서 희귀 단어의 비율 : 65.63727035625233\n",
      "전체 등장 빈도에서 희귀 단어 등장 빈도 비율 : 3.1020956817483905\n",
      "         word  frequency  inverse_frequency  freq_inverse_ratio        TF  \\\n",
      "0  government       8915           0.000112                 1.0  1.000000   \n",
      "1      monday       3673           0.000272                 1.0  0.291786   \n",
      "2     imposed        564           0.001773                 1.0  0.042883   \n",
      "3      import        114           0.008772                 1.0  0.008593   \n",
      "4        duty        382           0.002618                 1.0  0.027989   \n",
      "\n",
      "        IDF    TF-IDF  \n",
      "0  2.177656  2.177656  \n",
      "1  3.064222  0.894097  \n",
      "2  4.936433  0.211690  \n",
      "3  6.528327  0.056100  \n",
      "4  5.325224  0.149050  \n"
     ]
    }
   ],
   "source": [
    "threshold = 6\n",
    "total_cnt = len(src_tokenizer.word_index)  # 단어 집합 크기\n",
    "rare_cnt = 0  # 등장 빈도수가 threshold보다 작은 단어 개수\n",
    "total_freq = 0  # 전체 단어 빈도수 총합\n",
    "rare_freq = 0  # 희귀 단어 빈도수 총합\n",
    "\n",
    "# 전체 문서 수 (예: 샘플 수)\n",
    "total_documents = len(encoder_input_train)\n",
    "# 결과 저장용 리스트\n",
    "freq_inverse_freq_data = []\n",
    "\n",
    "# 단어와 빈도수의 쌍(pair)을 key와 value로 받는다.\n",
    "for key, value in src_tokenizer.word_counts.items():\n",
    "    # 전체 빈도수 합계\n",
    "    total_freq += value\n",
    "\n",
    "    # 희귀 단어 체크\n",
    "    if value < threshold:\n",
    "        rare_cnt += 1\n",
    "        rare_freq += value\n",
    "\n",
    "    # 빈도-역빈도 계산 (TF와 IDF 추가)\n",
    "    tf = value / total_freq  # Term Frequency (TF)\n",
    "    idf = math.log((total_documents + 1) / (value + 1))  # Inverse Document Frequency (IDF)\n",
    "    tf_idf = tf * idf  # TF-IDF 계산\n",
    "\n",
    "    # 빈도, 역빈도, TF-IDF 데이터 저장\n",
    "    inverse_frequency = 1 / value\n",
    "    freq_inverse_ratio = value * inverse_frequency\n",
    "    freq_inverse_freq_data.append((key, value, inverse_frequency, freq_inverse_ratio, tf, idf, tf_idf))\n",
    "\n",
    "# 결과 출력\n",
    "print('단어 집합(vocabulary)의 크기 :', total_cnt)\n",
    "print('등장 빈도가 %s번 이하인 희귀 단어의 수: %s' % (threshold - 1, rare_cnt))\n",
    "print('단어 집합에서 희귀 단어를 제외시킬 경우의 단어 집합의 크기 : %s' % (total_cnt - rare_cnt))\n",
    "print(\"단어 집합에서 희귀 단어의 비율 :\", (rare_cnt / total_cnt) * 100)\n",
    "print(\"전체 등장 빈도에서 희귀 단어 등장 빈도 비율 :\", (rare_freq / total_freq) * 100)\n",
    "\n",
    "# 빈도-역빈도 데이터프레임 생성\n",
    "import pandas as pd\n",
    "freq_df = pd.DataFrame(freq_inverse_freq_data, columns=[\n",
    "    \"word\", \"frequency\", \"inverse_frequency\", \"freq_inverse_ratio\", \"TF\", \"IDF\", \"TF-IDF\"\n",
    "])\n",
    "\n",
    "# 상위 몇 개 단어를 출력\n",
    "print(freq_df.head())"
   ]
  },
  {
   "cell_type": "code",
   "execution_count": 210,
   "id": "168603ed",
   "metadata": {},
   "outputs": [
    {
     "data": {
      "text/plain": [
       "0.00032806689789110225"
      ]
     },
     "execution_count": 210,
     "metadata": {},
     "output_type": "execute_result"
    }
   ],
   "source": [
    "freq_df['TF-IDF'].mean()"
   ]
  },
  {
   "cell_type": "code",
   "execution_count": 244,
   "id": "a7141399",
   "metadata": {},
   "outputs": [
    {
     "name": "stdout",
     "output_type": "stream",
     "text": [
      "=3\n"
     ]
    }
   ],
   "source": [
    "src_vocab = 10000\n",
    "src_tokenizer = Tokenizer(num_words=src_vocab) # 단어 집합의 크기를 8,000으로 제한\n",
    "src_tokenizer.fit_on_texts(encoder_input_train) # 단어 집합 재생성\n",
    "print('=3')"
   ]
  },
  {
   "cell_type": "code",
   "execution_count": 245,
   "id": "c0ed4ee8",
   "metadata": {},
   "outputs": [
    {
     "name": "stdout",
     "output_type": "stream",
     "text": [
      "[[8, 60, 897, 3958, 1365, 30, 1788, 1275, 5763, 2135, 3054, 1036, 2474, 5763, 1170, 1414, 3158, 4732, 163, 289, 33, 1138, 8, 293, 3958, 1365, 592, 1414], [24, 2792, 744, 87, 24, 1935, 71, 160, 111, 441, 130, 95, 757, 71, 2413, 2212, 107, 2243, 1637, 130, 692, 1889, 71, 2212, 2413, 107, 76, 904, 130, 4252, 71], [196, 2648, 14, 1227, 3159, 6984, 4253, 1943, 9177, 815, 1289, 1801, 2633, 2920, 187, 171, 1638, 584, 4, 815, 8428, 1289, 4057, 3160, 101, 55, 80, 2576]]\n"
     ]
    }
   ],
   "source": [
    "# 텍스트 시퀀스를 정수 시퀀스로 변환\n",
    "encoder_input_train = src_tokenizer.texts_to_sequences(encoder_input_train) \n",
    "encoder_input_test = src_tokenizer.texts_to_sequences(encoder_input_test)\n",
    "\n",
    "# 잘 진행되었는지 샘플 출력\n",
    "print(encoder_input_train[:3])"
   ]
  },
  {
   "cell_type": "markdown",
   "id": "1c89f06b",
   "metadata": {},
   "source": [
    "### 디코더 (타겟) "
   ]
  },
  {
   "cell_type": "code",
   "execution_count": 246,
   "id": "b3e4141b",
   "metadata": {},
   "outputs": [],
   "source": [
    "tar_tokenizer = Tokenizer()\n",
    "tar_tokenizer.fit_on_texts(decoder_input_train)"
   ]
  },
  {
   "cell_type": "code",
   "execution_count": 247,
   "id": "52b2c20b",
   "metadata": {},
   "outputs": [
    {
     "name": "stdout",
     "output_type": "stream",
     "text": [
      "단어 집합(vocabulary)의 크기 : 30212\n",
      "등장 빈도가 6번 이하인 희귀 단어의 수: 20709\n",
      "단어 집합에서 희귀 단어를 제외시킬 경우의 단어 집합의 크기 : 9503\n",
      "단어 집합에서 희귀 단어의 비율 : 68.54561101549054\n",
      "전체 등장 빈도에서 희귀 단어 등장 빈도 비율 : 5.349849686517276\n",
      "       word  frequency  inverse_frequency  freq_inverse_ratio        TF  \\\n",
      "0  sostoken      78688           0.000013                 1.0  1.000000   \n",
      "1      govt       2182           0.000458                 1.0  0.026982   \n",
      "2   imposes         52           0.019231                 1.0  0.000643   \n",
      "3       tax        298           0.003356                 1.0  0.003669   \n",
      "4        on      10154           0.000098                 1.0  0.111126   \n",
      "\n",
      "        IDF    TF-IDF  \n",
      "0  0.000000  0.000000  \n",
      "1  3.584803  0.096724  \n",
      "2  7.302967  0.004693  \n",
      "3  5.572815  0.020447  \n",
      "4  2.047537  0.227534  \n"
     ]
    }
   ],
   "source": [
    "threshold = 7\n",
    "total_cnt = len(tar_tokenizer.word_index)  # 단어 집합 크기\n",
    "rare_cnt = 0  # 등장 빈도수가 threshold보다 작은 단어 개수\n",
    "total_freq = 0  # 전체 단어 빈도수 총합\n",
    "rare_freq = 0  # 희귀 단어 빈도수 총합\n",
    "\n",
    "# 전체 문서 수 (예: 샘플 수)\n",
    "total_documents = len(decoder_input_train)\n",
    "# 결과 저장용 리스트\n",
    "freq_inverse_freq_data = []\n",
    "\n",
    "# 단어와 빈도수의 쌍(pair)을 key와 value로 받는다.\n",
    "for key, value in tar_tokenizer.word_counts.items():\n",
    "    # 전체 빈도수 합계\n",
    "    total_freq += value\n",
    "\n",
    "    # 희귀 단어 체크\n",
    "    if value < threshold:\n",
    "        rare_cnt += 1\n",
    "        rare_freq += value\n",
    "\n",
    "    # 빈도-역빈도 계산 (TF와 IDF 추가)\n",
    "    tf = value / total_freq  # Term Frequency (TF)\n",
    "    idf = math.log((total_documents + 1) / (value + 1))  # Inverse Document Frequency (IDF)\n",
    "    tf_idf = tf * idf  # TF-IDF 계산\n",
    "\n",
    "    # 빈도, 역빈도, TF-IDF 데이터 저장\n",
    "    inverse_frequency = 1 / value\n",
    "    freq_inverse_ratio = value * inverse_frequency\n",
    "    freq_inverse_freq_data.append((key, value, inverse_frequency, freq_inverse_ratio, tf, idf, tf_idf))\n",
    "\n",
    "# 결과 출력\n",
    "print('단어 집합(vocabulary)의 크기 :', total_cnt)\n",
    "print('등장 빈도가 %s번 이하인 희귀 단어의 수: %s' % (threshold - 1, rare_cnt))\n",
    "print('단어 집합에서 희귀 단어를 제외시킬 경우의 단어 집합의 크기 : %s' % (total_cnt - rare_cnt))\n",
    "print(\"단어 집합에서 희귀 단어의 비율 :\", (rare_cnt / total_cnt) * 100)\n",
    "print(\"전체 등장 빈도에서 희귀 단어 등장 빈도 비율 :\", (rare_freq / total_freq) * 100)\n",
    "\n",
    "# 빈도-역빈도 데이터프레임 생성\n",
    "import pandas as pd\n",
    "freq_df = pd.DataFrame(freq_inverse_freq_data, columns=[\n",
    "    \"word\", \"frequency\", \"inverse_frequency\", \"freq_inverse_ratio\", \"TF\", \"IDF\", \"TF-IDF\"\n",
    "])\n",
    "\n",
    "# 상위 몇 개 단어를 출력\n",
    "print(freq_df.head()) "
   ]
  },
  {
   "cell_type": "code",
   "execution_count": 219,
   "id": "9fc4749b",
   "metadata": {},
   "outputs": [
    {
     "name": "stdout",
     "output_type": "stream",
     "text": [
      "input\n",
      "input  [[1, 24, 2230, 342, 7, 3261, 6, 2441, 1639], [1, 161, 1435, 194, 4835, 158, 3333], [1, 4249, 151, 250, 1407, 3, 6849, 2961, 754], [1, 379, 820, 6, 1923, 3, 5218, 58, 47, 1811], [1, 3899, 176, 3678, 95, 3, 21, 353, 924, 6479]]\n",
      "target\n",
      "decoder  [[24, 2230, 342, 7, 3261, 6, 2441, 1639, 2], [161, 1435, 194, 4835, 158, 3333, 2], [4249, 151, 250, 1407, 3, 6849, 2961, 754, 2], [379, 820, 6, 1923, 3, 5218, 58, 47, 1811, 2], [3899, 176, 3678, 95, 3, 21, 353, 924, 6479, 2]]\n"
     ]
    }
   ],
   "source": [
    "tar_vocab = 8000\n",
    "tar_tokenizer = Tokenizer(num_words=tar_vocab) \n",
    "tar_tokenizer.fit_on_texts(decoder_input_train)\n",
    "tar_tokenizer.fit_on_texts(decoder_target_train)\n",
    "\n",
    "# 텍스트 시퀀스를 정수 시퀀스로 변환\n",
    "decoder_input_train = tar_tokenizer.texts_to_sequences(decoder_input_train) \n",
    "decoder_target_train = tar_tokenizer.texts_to_sequences(decoder_target_train)\n",
    "decoder_input_test = tar_tokenizer.texts_to_sequences(decoder_input_test)\n",
    "decoder_target_test = tar_tokenizer.texts_to_sequences(decoder_target_test)\n",
    "\n",
    "# 잘 변환되었는지 확인\n",
    "print('input')\n",
    "print('input ',decoder_input_train[:5])\n",
    "print('target')\n",
    "print('decoder ',decoder_target_train[:5])"
   ]
  },
  {
   "cell_type": "code",
   "execution_count": 220,
   "id": "21cd0a68",
   "metadata": {},
   "outputs": [
    {
     "name": "stdout",
     "output_type": "stream",
     "text": [
      "삭제할 훈련 데이터의 개수 : 1\n",
      "삭제할 테스트 데이터의 개수 : 0\n",
      "훈련 데이터의 개수 : 78687\n",
      "훈련 레이블의 개수 : 78687\n",
      "테스트 데이터의 개수 : 19672\n",
      "테스트 레이블의 개수 : 19672\n"
     ]
    }
   ],
   "source": [
    "drop_train = [index for index, sentence in enumerate(decoder_input_train) if len(sentence) == 1]\n",
    "drop_test = [index for index, sentence in enumerate(decoder_input_test) if len(sentence) == 1]\n",
    "\n",
    "print('삭제할 훈련 데이터의 개수 :', len(drop_train))\n",
    "print('삭제할 테스트 데이터의 개수 :', len(drop_test))\n",
    "\n",
    "encoder_input_train = [sentence for index, sentence in enumerate(encoder_input_train) if index not in drop_train]\n",
    "decoder_input_train = [sentence for index, sentence in enumerate(decoder_input_train) if index not in drop_train]\n",
    "decoder_target_train = [sentence for index, sentence in enumerate(decoder_target_train) if index not in drop_train]\n",
    "\n",
    "encoder_input_test = [sentence for index, sentence in enumerate(encoder_input_test) if index not in drop_test]\n",
    "decoder_input_test = [sentence for index, sentence in enumerate(decoder_input_test) if index not in drop_test]\n",
    "decoder_target_test = [sentence for index, sentence in enumerate(decoder_target_test) if index not in drop_test]\n",
    "\n",
    "print('훈련 데이터의 개수 :', len(encoder_input_train))\n",
    "print('훈련 레이블의 개수 :', len(decoder_input_train))\n",
    "print('테스트 데이터의 개수 :', len(encoder_input_test))\n",
    "print('테스트 레이블의 개수 :', len(decoder_input_test))"
   ]
  },
  {
   "cell_type": "code",
   "execution_count": 221,
   "id": "b42b22ec",
   "metadata": {},
   "outputs": [],
   "source": [
    "encoder_input_train = pad_sequences(encoder_input_train, maxlen=text_max_len, padding='post')\n",
    "encoder_input_test = pad_sequences(encoder_input_test, maxlen=text_max_len, padding='post')\n",
    "decoder_input_train = pad_sequences(decoder_input_train, maxlen=summary_max_len, padding='post')\n",
    "decoder_target_train = pad_sequences(decoder_target_train, maxlen=summary_max_len, padding='post')\n",
    "decoder_input_test = pad_sequences(decoder_input_test, maxlen=summary_max_len, padding='post')\n",
    "decoder_target_test = pad_sequences(decoder_target_test, maxlen=summary_max_len, padding='post')"
   ]
  },
  {
   "cell_type": "markdown",
   "id": "f705683e",
   "metadata": {},
   "source": [
    "### 어텐션 메커니즘 사용하기(추상적 요약)"
   ]
  },
  {
   "cell_type": "markdown",
   "id": "61e9c768",
   "metadata": {},
   "source": [
    "* layer와 텐서 라이브러리가 위 과정 어딘가에서 더럽혀지는 현상이 확인되었다.\n",
    "* 재정의를 해주니까 에러없이 진행"
   ]
  },
  {
   "cell_type": "code",
   "execution_count": 222,
   "id": "4b0f8ab9",
   "metadata": {},
   "outputs": [],
   "source": [
    "import tensorflow as tf\n",
    "from tensorflow.keras.layers import Dense, Embedding, LayerNormalization, Dropout\n",
    "from tensorflow.keras.layers import Input\n",
    "from tensorflow.keras.models import Model"
   ]
  },
  {
   "cell_type": "code",
   "execution_count": 223,
   "id": "31962a3f",
   "metadata": {},
   "outputs": [],
   "source": [
    "# Positional Encoding \n",
    "\n",
    "def positional_encoding(max_position, d_model):\n",
    "    positions = np.arange(max_position)[:, np.newaxis]\n",
    "    div_term = np.exp(np.arange(0, d_model, 2) * -(np.log(10000.0) / d_model))\n",
    "    pos_encoding = np.zeros((max_position, d_model))\n",
    "    pos_encoding[:, 0::2] = np.sin(positions * div_term)\n",
    "    pos_encoding[:, 1::2] = np.cos(positions * div_term)\n",
    "    return tf.cast(pos_encoding[np.newaxis, ...], dtype=tf.float32)\n",
    "\n",
    "#어텐션 블록\n",
    "def scaled_dot_product_attention(q, k, v, mask=None):\n",
    "    matmul_qk = tf.matmul(q, k, transpose_b=True)\n",
    "    dk = tf.cast(tf.shape(k)[-1], tf.float32)\n",
    "    scaled_attention_logits = matmul_qk / tf.math.sqrt(dk)\n",
    "    if mask is not None:\n",
    "        scaled_attention_logits += (mask * -1e9)\n",
    "    attention_weights = tf.nn.softmax(scaled_attention_logits, axis=-1)\n",
    "    output = tf.matmul(attention_weights, v)\n",
    "    return output, attention_weights\n",
    "\n",
    "# 멀티헤드 \n",
    "class MultiHeadAttention(tf.keras.layers.Layer):\n",
    "    def __init__(self, d_model, num_heads):\n",
    "        super(MultiHeadAttention, self).__init__()\n",
    "        self.num_heads = num_heads\n",
    "        self.d_model = d_model\n",
    "        assert d_model % self.num_heads == 0\n",
    "        self.depth = d_model // self.num_heads\n",
    "        self.wq = Dense(d_model)\n",
    "        self.wk = Dense(d_model)\n",
    "        self.wv = Dense(d_model)\n",
    "        self.dense = Dense(d_model)\n",
    "\n",
    "    def split_heads(self, x, batch_size):\n",
    "        x = tf.reshape(x, (batch_size, -1, self.num_heads, self.depth))\n",
    "        return tf.transpose(x, perm=[0, 2, 1, 3])\n",
    "\n",
    "    def call(self, q, k, v, mask=None):\n",
    "        batch_size = tf.shape(q)[0]\n",
    "        q = self.split_heads(self.wq(q), batch_size)\n",
    "        k = self.split_heads(self.wk(k), batch_size)\n",
    "        v = self.split_heads(self.wv(v), batch_size)\n",
    "        scaled_attention, _ = scaled_dot_product_attention(q, k, v, mask)\n",
    "        scaled_attention = tf.transpose(scaled_attention, perm=[0, 2, 1, 3])\n",
    "        concat_attention = tf.reshape(scaled_attention, (batch_size, -1, self.d_model))\n",
    "        output = self.dense(concat_attention)\n",
    "        return output\n",
    "\n",
    "# ffn\n",
    "def point_wise_feed_forward_network(d_model, dff):\n",
    "    return tf.keras.Sequential([\n",
    "        Dense(dff, activation='relu'),\n",
    "        Dense(d_model)\n",
    "    ])\n",
    "\n",
    "# 트랜스포머 \n",
    "class TransformerLayer(tf.keras.layers.Layer):\n",
    "    def __init__(self, d_model, num_heads, dff, rate=0.1, name=None):\n",
    "        super(TransformerLayer, self).__init__(name=name)  # 이름을 부모 클래스에 전달\n",
    "        self.mha = MultiHeadAttention(d_model, num_heads)\n",
    "        self.ffn = point_wise_feed_forward_network(d_model, dff)\n",
    "        self.layernorm1 = LayerNormalization(epsilon=1e-6)\n",
    "        self.layernorm2 = LayerNormalization(epsilon=1e-6)\n",
    "        self.dropout1 = Dropout(rate)\n",
    "        self.dropout2 = Dropout(rate)\n",
    "\n",
    "    def call(self, x, mask=None):\n",
    "        attn_output = self.mha(x, x, x, mask)\n",
    "        attn_output = self.dropout1(attn_output)\n",
    "        out1 = self.layernorm1(x + attn_output)\n",
    "        ffn_output = self.ffn(out1)\n",
    "        ffn_output = self.dropout2(ffn_output)\n",
    "        out2 = self.layernorm2(out1 + ffn_output)\n",
    "        return out2\n",
    "\n",
    "\n",
    "# 함수 \n",
    "def build_transformer_model(text_vocab_size, summary_vocab_size, text_max_len, summary_max_len, d_model=128, num_heads=4, dff=512, num_layers=4, dropout_rate=0.1):\n",
    "    # Encoder\n",
    "    encoder_inputs = Input(shape=(text_max_len,), name=\"encoder_inputs\")\n",
    "    encoder_embedding = Embedding(text_vocab_size, d_model)(encoder_inputs)\n",
    "    encoder_pos_encoding = positional_encoding(text_max_len, d_model)\n",
    "    encoder_output = encoder_embedding + encoder_pos_encoding\n",
    "\n",
    "    for i in range(num_layers):\n",
    "        encoder_output = TransformerLayer(d_model, num_heads, dff, dropout_rate, name=f\"encoder_layer_{i}\")(encoder_output)\n",
    "\n",
    "    # Decoder\n",
    "    decoder_inputs = Input(shape=(summary_max_len,), name=\"decoder_inputs\")\n",
    "    decoder_embedding = Embedding(summary_vocab_size, d_model)(decoder_inputs)\n",
    "    decoder_pos_encoding = positional_encoding(summary_max_len, d_model)\n",
    "    decoder_output = decoder_embedding + decoder_pos_encoding\n",
    "\n",
    "    for i in range(num_layers):\n",
    "        # 디코더는 인코더 출력를 받게끔\n",
    "        decoder_output = TransformerLayer(d_model, num_heads, dff, dropout_rate, name=f\"decoder_layer_{i}\")(decoder_output)\n",
    "        attention_output = MultiHeadAttention(d_model, num_heads)(decoder_output, encoder_output, encoder_output)\n",
    "        decoder_output = tf.keras.layers.LayerNormalization(epsilon=1e-6)(decoder_output + attention_output)\n",
    "\n",
    "    # 최종\n",
    "    final_output = Dense(summary_vocab_size, activation='softmax', name=\"final_dense\")(decoder_output)\n",
    "\n",
    "    return Model(inputs=[encoder_inputs, decoder_inputs], outputs=final_output)"
   ]
  },
  {
   "cell_type": "code",
   "execution_count": 225,
   "id": "0c7dd5d6",
   "metadata": {},
   "outputs": [],
   "source": [
    "from tensorflow.keras.optimizers import Adam\n",
    "\n",
    "# 모델 \n",
    "text_vocab_size = 15000  \n",
    "summary_vocab_size = 8000  \n",
    "text_max_len = 50\n",
    "summary_max_len = 12\n",
    "d_model = 128  # 임베딩 차원\n",
    "num_heads = 4  # 멀티헤드 어텐션의 헤드 수\n",
    "dff = 512  # FFN의 차원\n",
    "num_layers = 4  # 트랜스포머 레이어\n",
    "dropout_rate = 0.1\n",
    "\n",
    "# 모델 빌드\n",
    "model = build_transformer_model(\n",
    "    text_vocab_size=text_vocab_size,\n",
    "    summary_vocab_size=summary_vocab_size,\n",
    "    text_max_len=text_max_len,\n",
    "    summary_max_len=summary_max_len,\n",
    "    d_model=d_model,\n",
    "    num_heads=num_heads,\n",
    "    dff=dff,\n",
    "    num_layers=num_layers,\n",
    "    dropout_rate=dropout_rate\n",
    ")"
   ]
  },
  {
   "cell_type": "code",
   "execution_count": 226,
   "id": "4e131d19",
   "metadata": {},
   "outputs": [
    {
     "name": "stdout",
     "output_type": "stream",
     "text": [
      "Model: \"model_12\"\n",
      "__________________________________________________________________________________________________\n",
      "Layer (type)                    Output Shape         Param #     Connected to                     \n",
      "==================================================================================================\n",
      "encoder_inputs (InputLayer)     [(None, 50)]         0                                            \n",
      "__________________________________________________________________________________________________\n",
      "embedding_10 (Embedding)        (None, 50, 128)      1920000     encoder_inputs[0][0]             \n",
      "__________________________________________________________________________________________________\n",
      "tf.__operators__.add_34 (TFOpLa (None, 50, 128)      0           embedding_10[0][0]               \n",
      "__________________________________________________________________________________________________\n",
      "decoder_inputs (InputLayer)     [(None, 12)]         0                                            \n",
      "__________________________________________________________________________________________________\n",
      "encoder_layer_0 (TransformerLay (None, 50, 128)      198272      tf.__operators__.add_34[0][0]    \n",
      "__________________________________________________________________________________________________\n",
      "embedding_11 (Embedding)        (None, 12, 128)      1024000     decoder_inputs[0][0]             \n",
      "__________________________________________________________________________________________________\n",
      "encoder_layer_1 (TransformerLay (None, 50, 128)      198272      encoder_layer_0[0][0]            \n",
      "__________________________________________________________________________________________________\n",
      "tf.__operators__.add_35 (TFOpLa (None, 12, 128)      0           embedding_11[0][0]               \n",
      "__________________________________________________________________________________________________\n",
      "encoder_layer_2 (TransformerLay (None, 50, 128)      198272      encoder_layer_1[0][0]            \n",
      "__________________________________________________________________________________________________\n",
      "decoder_layer_0 (TransformerLay (None, 12, 128)      198272      tf.__operators__.add_35[0][0]    \n",
      "__________________________________________________________________________________________________\n",
      "encoder_layer_3 (TransformerLay (None, 50, 128)      198272      encoder_layer_2[0][0]            \n",
      "__________________________________________________________________________________________________\n",
      "multi_head_attention_45 (MultiH (None, None, 128)    66048       decoder_layer_0[0][0]            \n",
      "                                                                 encoder_layer_3[0][0]            \n",
      "                                                                 encoder_layer_3[0][0]            \n",
      "__________________________________________________________________________________________________\n",
      "tf.__operators__.add_36 (TFOpLa (None, 12, 128)      0           decoder_layer_0[0][0]            \n",
      "                                                                 multi_head_attention_45[0][0]    \n",
      "__________________________________________________________________________________________________\n",
      "layer_normalization_92 (LayerNo (None, 12, 128)      256         tf.__operators__.add_36[0][0]    \n",
      "__________________________________________________________________________________________________\n",
      "decoder_layer_1 (TransformerLay (None, 12, 128)      198272      layer_normalization_92[0][0]     \n",
      "__________________________________________________________________________________________________\n",
      "multi_head_attention_47 (MultiH (None, None, 128)    66048       decoder_layer_1[0][0]            \n",
      "                                                                 encoder_layer_3[0][0]            \n",
      "                                                                 encoder_layer_3[0][0]            \n",
      "__________________________________________________________________________________________________\n",
      "tf.__operators__.add_37 (TFOpLa (None, 12, 128)      0           decoder_layer_1[0][0]            \n",
      "                                                                 multi_head_attention_47[0][0]    \n",
      "__________________________________________________________________________________________________\n",
      "layer_normalization_95 (LayerNo (None, 12, 128)      256         tf.__operators__.add_37[0][0]    \n",
      "__________________________________________________________________________________________________\n",
      "decoder_layer_2 (TransformerLay (None, 12, 128)      198272      layer_normalization_95[0][0]     \n",
      "__________________________________________________________________________________________________\n",
      "multi_head_attention_49 (MultiH (None, None, 128)    66048       decoder_layer_2[0][0]            \n",
      "                                                                 encoder_layer_3[0][0]            \n",
      "                                                                 encoder_layer_3[0][0]            \n",
      "__________________________________________________________________________________________________\n",
      "tf.__operators__.add_38 (TFOpLa (None, 12, 128)      0           decoder_layer_2[0][0]            \n",
      "                                                                 multi_head_attention_49[0][0]    \n",
      "__________________________________________________________________________________________________\n",
      "layer_normalization_98 (LayerNo (None, 12, 128)      256         tf.__operators__.add_38[0][0]    \n",
      "__________________________________________________________________________________________________\n",
      "decoder_layer_3 (TransformerLay (None, 12, 128)      198272      layer_normalization_98[0][0]     \n",
      "__________________________________________________________________________________________________\n",
      "multi_head_attention_51 (MultiH (None, None, 128)    66048       decoder_layer_3[0][0]            \n",
      "                                                                 encoder_layer_3[0][0]            \n",
      "                                                                 encoder_layer_3[0][0]            \n",
      "__________________________________________________________________________________________________\n",
      "tf.__operators__.add_39 (TFOpLa (None, 12, 128)      0           decoder_layer_3[0][0]            \n",
      "                                                                 multi_head_attention_51[0][0]    \n",
      "__________________________________________________________________________________________________\n",
      "layer_normalization_101 (LayerN (None, 12, 128)      256         tf.__operators__.add_39[0][0]    \n",
      "__________________________________________________________________________________________________\n",
      "final_dense (Dense)             (None, 12, 8000)     1032000     layer_normalization_101[0][0]    \n",
      "==================================================================================================\n",
      "Total params: 5,827,392\n",
      "Trainable params: 5,827,392\n",
      "Non-trainable params: 0\n",
      "__________________________________________________________________________________________________\n"
     ]
    }
   ],
   "source": [
    "# 모델 구조 \n",
    "model.summary()"
   ]
  },
  {
   "cell_type": "code",
   "execution_count": 227,
   "id": "9f452af8",
   "metadata": {},
   "outputs": [],
   "source": [
    "# 모델 컴파일\n",
    "model.compile(\n",
    "    optimizer=Adam(learning_rate=0.001),\n",
    "    loss='sparse_categorical_crossentropy', \n",
    "    metrics=['accuracy']\n",
    ")"
   ]
  },
  {
   "cell_type": "markdown",
   "id": "38c35b3f",
   "metadata": {},
   "source": [
    "### accuracy는 괜히 넣은듯 싶다\n",
    "* 과적합까지 굉장히 오래 걸릴 듯 싶다."
   ]
  },
  {
   "cell_type": "code",
   "execution_count": 228,
   "id": "73208cd3",
   "metadata": {},
   "outputs": [
    {
     "name": "stdout",
     "output_type": "stream",
     "text": [
      "Epoch 1/5\n",
      "1230/1230 [==============================] - 79s 56ms/step - loss: 6.2053 - accuracy: 0.2038 - val_loss: 6.1197 - val_accuracy: 0.2071\n",
      "\n",
      "Epoch 00001: val_loss improved from inf to 6.11969, saving model to best_transformer_weights.h5\n",
      "Epoch 2/5\n",
      "1230/1230 [==============================] - 67s 55ms/step - loss: 6.1561 - accuracy: 0.2040 - val_loss: 6.1154 - val_accuracy: 0.2071\n",
      "\n",
      "Epoch 00002: val_loss improved from 6.11969 to 6.11545, saving model to best_transformer_weights.h5\n",
      "Epoch 3/5\n",
      "1230/1230 [==============================] - 68s 55ms/step - loss: 6.1514 - accuracy: 0.2040 - val_loss: 6.1101 - val_accuracy: 0.2071\n",
      "\n",
      "Epoch 00003: val_loss improved from 6.11545 to 6.11012, saving model to best_transformer_weights.h5\n",
      "Epoch 4/5\n",
      "1230/1230 [==============================] - 67s 55ms/step - loss: 6.1488 - accuracy: 0.2040 - val_loss: 6.1096 - val_accuracy: 0.2071\n",
      "\n",
      "Epoch 00004: val_loss improved from 6.11012 to 6.10957, saving model to best_transformer_weights.h5\n",
      "Epoch 5/5\n",
      "1230/1230 [==============================] - 67s 55ms/step - loss: 6.1472 - accuracy: 0.2040 - val_loss: 6.1073 - val_accuracy: 0.2071\n",
      "\n",
      "Epoch 00005: val_loss improved from 6.10957 to 6.10726, saving model to best_transformer_weights.h5\n"
     ]
    }
   ],
   "source": [
    "# 가중치 저장 콜백\n",
    "checkpoint = ModelCheckpoint(\n",
    "    filepath='best_transformer_weights.h5',  \n",
    "    monitor='val_loss', \n",
    "    save_best_only=True, \n",
    "    save_weights_only=True, \n",
    "    verbose=1\n",
    ")\n",
    "\n",
    "# 학습 실행\n",
    "history = model.fit(\n",
    "    [encoder_input_train, decoder_input_train], \n",
    "    decoder_target_train,  \n",
    "    validation_data=([encoder_input_test, decoder_input_test], decoder_target_test), \n",
    "    epochs=5, \n",
    "    batch_size=64,\n",
    "    callbacks=[checkpoint]\n",
    ")"
   ]
  },
  {
   "cell_type": "markdown",
   "id": "8002df86",
   "metadata": {},
   "source": [
    "## 과적합까지 시간이 없어 도달하지 못했지만, loss는 꾸준히 감소한다."
   ]
  },
  {
   "cell_type": "code",
   "execution_count": 172,
   "id": "f9f2c2e7",
   "metadata": {},
   "outputs": [
    {
     "data": {
      "image/png": "[encoded data removed]",
      "text/plain": [
       "<Figure size 432x288 with 1 Axes>"
      ]
     },
     "metadata": {
      "needs_background": "light"
     },
     "output_type": "display_data"
    }
   ],
   "source": [
    "plt.plot(history.history['loss'], label='train')\n",
    "plt.plot(history.history['val_loss'], label='test')\n",
    "plt.legend()\n",
    "plt.show()"
   ]
  },
  {
   "cell_type": "code",
   "execution_count": 173,
   "id": "34c55e52",
   "metadata": {},
   "outputs": [],
   "source": [
    "# 저장된 가중치 로드\n",
    "model.load_weights('best_transformer_weights.h5')"
   ]
  },
  {
   "cell_type": "markdown",
   "id": "1c725cbe",
   "metadata": {},
   "source": [
    "### 실제 결과와 요약문 비교하기(추상적 요약)"
   ]
  },
  {
   "cell_type": "code",
   "execution_count": 230,
   "id": "27b09275",
   "metadata": {},
   "outputs": [],
   "source": [
    "# 주요 변수 확인 및 매핑\n",
    "src_index_to_word = src_tokenizer.index_word  # 원문 단어 집합에서 정수 -> 단어\n",
    "tar_word_to_index = tar_tokenizer.word_index  # 요약 단어 집합에서 단어 -> 정수\n",
    "tar_index_to_word = tar_tokenizer.index_word  # 요약 단어 집합에서 정수 -> 단어"
   ]
  },
  {
   "cell_type": "code",
   "execution_count": 231,
   "id": "45fb5527",
   "metadata": {},
   "outputs": [],
   "source": [
    "from tensorflow.keras.models import Model\n",
    "\n",
    "encoder_model = Model(\n",
    "    inputs=model.input[0],  \n",
    "    outputs=model.get_layer(\"encoder_layer_3\").output  \n",
    ")"
   ]
  },
  {
   "cell_type": "code",
   "execution_count": 233,
   "id": "2574ddf4",
   "metadata": {},
   "outputs": [],
   "source": [
    "from tensorflow.keras.layers import LayerNormalization\n",
    "\n",
    "decoder_inputs = Input(shape=(1,), name=\"decoder_inputs_test\")  # 단어 단위 \n",
    "decoder_embedding = model.get_layer(\"embedding_11\")(decoder_inputs)  # 디코더 임베딩 \n",
    "decoder_pos_encoding = positional_encoding(1, d_model)  # 포지셔널 \n",
    "decoder_outputs = decoder_embedding + decoder_pos_encoding\n",
    "\n",
    "encoder_outputs = Input(shape=(text_max_len, d_model), name=\"encoder_outputs_test\")\n",
    "\n",
    "for i in range(4):  \n",
    "    decoder_layer = model.get_layer(f\"decoder_layer_{i}\")\n",
    "    mha_layer = model.get_layer(f\"multi_head_attention_{45 + i * 2}\")  # 정확한 레이어 이름 매핑\n",
    "    decoder_outputs = decoder_layer(decoder_outputs)\n",
    "    attention_output = mha_layer(decoder_outputs, encoder_outputs, encoder_outputs)\n",
    "    decoder_outputs = LayerNormalization(epsilon=1e-6)(decoder_outputs + attention_output)\n",
    "\n",
    "final_output = model.get_layer(\"final_dense\")(decoder_outputs)\n",
    "\n",
    "decoder_model = Model(inputs=[decoder_inputs, encoder_outputs], outputs=final_output)"
   ]
  },
  {
   "cell_type": "code",
   "execution_count": 234,
   "id": "cd208dbc",
   "metadata": {},
   "outputs": [],
   "source": [
    "def decode_sequence(input_seq):\n",
    "    \n",
    "    encoder_output = encoder_model.predict(input_seq)\n",
    "\n",
    "   \n",
    "    target_seq = np.zeros((1, 1))\n",
    "    target_seq[0, 0] = tar_word_to_index['sostoken']\n",
    "\n",
    "    stop_condition = False\n",
    "    decoded_sentence = ''\n",
    "\n",
    "    while not stop_condition:\n",
    "        \n",
    "        output_tokens = decoder_model.predict([target_seq, encoder_output])\n",
    "        sampled_token_index = np.argmax(output_tokens[0, -1, :])\n",
    "        sampled_token = tar_index_to_word.get(sampled_token_index, '<UNK>')\n",
    "\n",
    "        if sampled_token != 'eostoken':\n",
    "            decoded_sentence += ' ' + sampled_token\n",
    "\n",
    "        \n",
    "        if (sampled_token == 'eostoken' or len(decoded_sentence.split()) >= (summary_max_len - 1)):\n",
    "            stop_condition = True\n",
    "\n",
    "       \n",
    "        target_seq = np.zeros((1, 1))\n",
    "        target_seq[0, 0] = sampled_token_index\n",
    "\n",
    "    return decoded_sentence.strip()"
   ]
  },
  {
   "cell_type": "code",
   "execution_count": 196,
   "id": "c1ec5301",
   "metadata": {},
   "outputs": [
    {
     "ename": "ValueError",
     "evalue": "Data cardinality is ambiguous:\n  x sizes: 1, 19672\nMake sure all arrays contain the same number of samples.",
     "output_type": "error",
     "traceback": [
      "\u001b[0;31m---------------------------------------------------------------------------\u001b[0m",
      "\u001b[0;31mValueError\u001b[0m                                Traceback (most recent call last)",
      "\u001b[0;32m/tmp/ipykernel_80/3271191860.py\u001b[0m in \u001b[0;36m<module>\u001b[0;34m\u001b[0m\n\u001b[0;32m----> 1\u001b[0;31m \u001b[0mdecode_sequence\u001b[0m\u001b[0;34m(\u001b[0m\u001b[0mencoder_input_test\u001b[0m\u001b[0;34m)\u001b[0m\u001b[0;34m\u001b[0m\u001b[0;34m\u001b[0m\u001b[0m\n\u001b[0m",
      "\u001b[0;32m/tmp/ipykernel_80/2017408077.py\u001b[0m in \u001b[0;36mdecode_sequence\u001b[0;34m(input_seq)\u001b[0m\n\u001b[1;32m     12\u001b[0m     \u001b[0;32mwhile\u001b[0m \u001b[0;32mnot\u001b[0m \u001b[0mstop_condition\u001b[0m\u001b[0;34m:\u001b[0m\u001b[0;34m\u001b[0m\u001b[0;34m\u001b[0m\u001b[0m\n\u001b[1;32m     13\u001b[0m         \u001b[0;31m# 디코더 예측\u001b[0m\u001b[0;34m\u001b[0m\u001b[0;34m\u001b[0m\u001b[0m\n\u001b[0;32m---> 14\u001b[0;31m         \u001b[0moutput_tokens\u001b[0m \u001b[0;34m=\u001b[0m \u001b[0mdecoder_model\u001b[0m\u001b[0;34m.\u001b[0m\u001b[0mpredict\u001b[0m\u001b[0;34m(\u001b[0m\u001b[0;34m[\u001b[0m\u001b[0mtarget_seq\u001b[0m\u001b[0;34m,\u001b[0m \u001b[0mencoder_output\u001b[0m\u001b[0;34m]\u001b[0m\u001b[0;34m)\u001b[0m\u001b[0;34m\u001b[0m\u001b[0;34m\u001b[0m\u001b[0m\n\u001b[0m\u001b[1;32m     15\u001b[0m         \u001b[0msampled_token_index\u001b[0m \u001b[0;34m=\u001b[0m \u001b[0mnp\u001b[0m\u001b[0;34m.\u001b[0m\u001b[0margmax\u001b[0m\u001b[0;34m(\u001b[0m\u001b[0moutput_tokens\u001b[0m\u001b[0;34m[\u001b[0m\u001b[0;36m0\u001b[0m\u001b[0;34m,\u001b[0m \u001b[0;34m-\u001b[0m\u001b[0;36m1\u001b[0m\u001b[0;34m,\u001b[0m \u001b[0;34m:\u001b[0m\u001b[0;34m]\u001b[0m\u001b[0;34m)\u001b[0m\u001b[0;34m\u001b[0m\u001b[0;34m\u001b[0m\u001b[0m\n\u001b[1;32m     16\u001b[0m \u001b[0;34m\u001b[0m\u001b[0m\n",
      "\u001b[0;32m/opt/conda/lib/python3.9/site-packages/keras/engine/training.py\u001b[0m in \u001b[0;36mpredict\u001b[0;34m(self, x, batch_size, verbose, steps, callbacks, max_queue_size, workers, use_multiprocessing)\u001b[0m\n\u001b[1;32m   1718\u001b[0m                         '. Consider setting it to AutoShardPolicy.DATA.')\n\u001b[1;32m   1719\u001b[0m \u001b[0;34m\u001b[0m\u001b[0m\n\u001b[0;32m-> 1720\u001b[0;31m       data_handler = data_adapter.get_data_handler(\n\u001b[0m\u001b[1;32m   1721\u001b[0m           \u001b[0mx\u001b[0m\u001b[0;34m=\u001b[0m\u001b[0mx\u001b[0m\u001b[0;34m,\u001b[0m\u001b[0;34m\u001b[0m\u001b[0;34m\u001b[0m\u001b[0m\n\u001b[1;32m   1722\u001b[0m           \u001b[0mbatch_size\u001b[0m\u001b[0;34m=\u001b[0m\u001b[0mbatch_size\u001b[0m\u001b[0;34m,\u001b[0m\u001b[0;34m\u001b[0m\u001b[0;34m\u001b[0m\u001b[0m\n",
      "\u001b[0;32m/opt/conda/lib/python3.9/site-packages/keras/engine/data_adapter.py\u001b[0m in \u001b[0;36mget_data_handler\u001b[0;34m(*args, **kwargs)\u001b[0m\n\u001b[1;32m   1381\u001b[0m   \u001b[0;32mif\u001b[0m \u001b[0mgetattr\u001b[0m\u001b[0;34m(\u001b[0m\u001b[0mkwargs\u001b[0m\u001b[0;34m[\u001b[0m\u001b[0;34m\"model\"\u001b[0m\u001b[0;34m]\u001b[0m\u001b[0;34m,\u001b[0m \u001b[0;34m\"_cluster_coordinator\"\u001b[0m\u001b[0;34m,\u001b[0m \u001b[0;32mNone\u001b[0m\u001b[0;34m)\u001b[0m\u001b[0;34m:\u001b[0m\u001b[0;34m\u001b[0m\u001b[0;34m\u001b[0m\u001b[0m\n\u001b[1;32m   1382\u001b[0m     \u001b[0;32mreturn\u001b[0m \u001b[0m_ClusterCoordinatorDataHandler\u001b[0m\u001b[0;34m(\u001b[0m\u001b[0;34m*\u001b[0m\u001b[0margs\u001b[0m\u001b[0;34m,\u001b[0m \u001b[0;34m**\u001b[0m\u001b[0mkwargs\u001b[0m\u001b[0;34m)\u001b[0m\u001b[0;34m\u001b[0m\u001b[0;34m\u001b[0m\u001b[0m\n\u001b[0;32m-> 1383\u001b[0;31m   \u001b[0;32mreturn\u001b[0m \u001b[0mDataHandler\u001b[0m\u001b[0;34m(\u001b[0m\u001b[0;34m*\u001b[0m\u001b[0margs\u001b[0m\u001b[0;34m,\u001b[0m \u001b[0;34m**\u001b[0m\u001b[0mkwargs\u001b[0m\u001b[0;34m)\u001b[0m\u001b[0;34m\u001b[0m\u001b[0;34m\u001b[0m\u001b[0m\n\u001b[0m\u001b[1;32m   1384\u001b[0m \u001b[0;34m\u001b[0m\u001b[0m\n\u001b[1;32m   1385\u001b[0m \u001b[0;34m\u001b[0m\u001b[0m\n",
      "\u001b[0;32m/opt/conda/lib/python3.9/site-packages/keras/engine/data_adapter.py\u001b[0m in \u001b[0;36m__init__\u001b[0;34m(self, x, y, sample_weight, batch_size, steps_per_epoch, initial_epoch, epochs, shuffle, class_weight, max_queue_size, workers, use_multiprocessing, model, steps_per_execution, distribute)\u001b[0m\n\u001b[1;32m   1136\u001b[0m \u001b[0;34m\u001b[0m\u001b[0m\n\u001b[1;32m   1137\u001b[0m     \u001b[0madapter_cls\u001b[0m \u001b[0;34m=\u001b[0m \u001b[0mselect_data_adapter\u001b[0m\u001b[0;34m(\u001b[0m\u001b[0mx\u001b[0m\u001b[0;34m,\u001b[0m \u001b[0my\u001b[0m\u001b[0;34m)\u001b[0m\u001b[0;34m\u001b[0m\u001b[0;34m\u001b[0m\u001b[0m\n\u001b[0;32m-> 1138\u001b[0;31m     self._adapter = adapter_cls(\n\u001b[0m\u001b[1;32m   1139\u001b[0m         \u001b[0mx\u001b[0m\u001b[0;34m,\u001b[0m\u001b[0;34m\u001b[0m\u001b[0;34m\u001b[0m\u001b[0m\n\u001b[1;32m   1140\u001b[0m         \u001b[0my\u001b[0m\u001b[0;34m,\u001b[0m\u001b[0;34m\u001b[0m\u001b[0;34m\u001b[0m\u001b[0m\n",
      "\u001b[0;32m/opt/conda/lib/python3.9/site-packages/keras/engine/data_adapter.py\u001b[0m in \u001b[0;36m__init__\u001b[0;34m(self, x, y, sample_weights, sample_weight_modes, batch_size, epochs, steps, shuffle, **kwargs)\u001b[0m\n\u001b[1;32m    239\u001b[0m \u001b[0;34m\u001b[0m\u001b[0m\n\u001b[1;32m    240\u001b[0m     \u001b[0mnum_samples\u001b[0m \u001b[0;34m=\u001b[0m \u001b[0mset\u001b[0m\u001b[0;34m(\u001b[0m\u001b[0mint\u001b[0m\u001b[0;34m(\u001b[0m\u001b[0mi\u001b[0m\u001b[0;34m.\u001b[0m\u001b[0mshape\u001b[0m\u001b[0;34m[\u001b[0m\u001b[0;36m0\u001b[0m\u001b[0;34m]\u001b[0m\u001b[0;34m)\u001b[0m \u001b[0;32mfor\u001b[0m \u001b[0mi\u001b[0m \u001b[0;32min\u001b[0m \u001b[0mtf\u001b[0m\u001b[0;34m.\u001b[0m\u001b[0mnest\u001b[0m\u001b[0;34m.\u001b[0m\u001b[0mflatten\u001b[0m\u001b[0;34m(\u001b[0m\u001b[0minputs\u001b[0m\u001b[0;34m)\u001b[0m\u001b[0;34m)\u001b[0m\u001b[0;34m.\u001b[0m\u001b[0mpop\u001b[0m\u001b[0;34m(\u001b[0m\u001b[0;34m)\u001b[0m\u001b[0;34m\u001b[0m\u001b[0;34m\u001b[0m\u001b[0m\n\u001b[0;32m--> 241\u001b[0;31m     \u001b[0m_check_data_cardinality\u001b[0m\u001b[0;34m(\u001b[0m\u001b[0minputs\u001b[0m\u001b[0;34m)\u001b[0m\u001b[0;34m\u001b[0m\u001b[0;34m\u001b[0m\u001b[0m\n\u001b[0m\u001b[1;32m    242\u001b[0m \u001b[0;34m\u001b[0m\u001b[0m\n\u001b[1;32m    243\u001b[0m     \u001b[0;31m# If batch_size is not passed but steps is, calculate from the input data.\u001b[0m\u001b[0;34m\u001b[0m\u001b[0;34m\u001b[0m\u001b[0m\n",
      "\u001b[0;32m/opt/conda/lib/python3.9/site-packages/keras/engine/data_adapter.py\u001b[0m in \u001b[0;36m_check_data_cardinality\u001b[0;34m(data)\u001b[0m\n\u001b[1;32m   1647\u001b[0m           label, \", \".join(str(i.shape[0]) for i in tf.nest.flatten(single_data)))\n\u001b[1;32m   1648\u001b[0m     \u001b[0mmsg\u001b[0m \u001b[0;34m+=\u001b[0m \u001b[0;34m\"Make sure all arrays contain the same number of samples.\"\u001b[0m\u001b[0;34m\u001b[0m\u001b[0;34m\u001b[0m\u001b[0m\n\u001b[0;32m-> 1649\u001b[0;31m     \u001b[0;32mraise\u001b[0m \u001b[0mValueError\u001b[0m\u001b[0;34m(\u001b[0m\u001b[0mmsg\u001b[0m\u001b[0;34m)\u001b[0m\u001b[0;34m\u001b[0m\u001b[0;34m\u001b[0m\u001b[0m\n\u001b[0m\u001b[1;32m   1650\u001b[0m \u001b[0;34m\u001b[0m\u001b[0m\n\u001b[1;32m   1651\u001b[0m \u001b[0;34m\u001b[0m\u001b[0m\n",
      "\u001b[0;31mValueError\u001b[0m: Data cardinality is ambiguous:\n  x sizes: 1, 19672\nMake sure all arrays contain the same number of samples."
     ]
    }
   ],
   "source": [
    "decode_sequence(encoder_input_test)"
   ]
  },
  {
   "cell_type": "markdown",
   "id": "716d009e",
   "metadata": {},
   "source": [
    "### 인코더 디코더 분리에서 에러가 났다. \n",
    " * 1) 학습이 덜 되어서 문제가 일어났다.\n",
    " * 2) 인코더 디코더 분리 함수 자체에 문제가 있다. \n",
    "    * 받아오는 레이어 층수에 충돌이 난 것"
   ]
  },
  {
   "cell_type": "markdown",
   "id": "b50d7698",
   "metadata": {},
   "source": [
    "### Summa을 이용해서 추출적 요약해보기"
   ]
  },
  {
   "cell_type": "code",
   "execution_count": 3,
   "id": "5ae16004",
   "metadata": {},
   "outputs": [
    {
     "name": "stdout",
     "output_type": "stream",
     "text": [
      "Requirement already satisfied: summa in /opt/conda/lib/python3.9/site-packages (1.2.0)\n",
      "Requirement already satisfied: scipy>=0.19 in /opt/conda/lib/python3.9/site-packages (from summa) (1.7.1)\n",
      "Requirement already satisfied: numpy<1.23.0,>=1.16.5 in /opt/conda/lib/python3.9/site-packages (from scipy>=0.19->summa) (1.21.4)\n",
      "\u001b[33mWARNING: Running pip as the 'root' user can result in broken permissions and conflicting behaviour with the system package manager. It is recommended to use a virtual environment instead: https://pip.pypa.io/warnings/venv\u001b[0m\n",
      "Note: you may need to restart the kernel to use updated packages.\n"
     ]
    }
   ],
   "source": [
    "pip install summa"
   ]
  },
  {
   "cell_type": "code",
   "execution_count": 4,
   "id": "14c32942",
   "metadata": {},
   "outputs": [
    {
     "data": {
      "text/html": [
       "<div>\n",
       "<style scoped>\n",
       "    .dataframe tbody tr th:only-of-type {\n",
       "        vertical-align: middle;\n",
       "    }\n",
       "\n",
       "    .dataframe tbody tr th {\n",
       "        vertical-align: top;\n",
       "    }\n",
       "\n",
       "    .dataframe thead th {\n",
       "        text-align: right;\n",
       "    }\n",
       "</style>\n",
       "<table border=\"1\" class=\"dataframe\">\n",
       "  <thead>\n",
       "    <tr style=\"text-align: right;\">\n",
       "      <th></th>\n",
       "      <th>headlines</th>\n",
       "      <th>text</th>\n",
       "    </tr>\n",
       "  </thead>\n",
       "  <tbody>\n",
       "    <tr>\n",
       "      <th>0</th>\n",
       "      <td>upGrad learner switches to career in ML &amp; Al w...</td>\n",
       "      <td>Saurav Kant, an alumnus of upGrad and IIIT-B's...</td>\n",
       "    </tr>\n",
       "    <tr>\n",
       "      <th>1</th>\n",
       "      <td>Delhi techie wins free food from Swiggy for on...</td>\n",
       "      <td>Kunal Shah's credit card bill payment platform...</td>\n",
       "    </tr>\n",
       "    <tr>\n",
       "      <th>2</th>\n",
       "      <td>New Zealand end Rohit Sharma-led India's 12-ma...</td>\n",
       "      <td>New Zealand defeated India by 8 wickets in the...</td>\n",
       "    </tr>\n",
       "    <tr>\n",
       "      <th>3</th>\n",
       "      <td>Aegon life iTerm insurance plan helps customer...</td>\n",
       "      <td>With Aegon Life iTerm Insurance plan, customer...</td>\n",
       "    </tr>\n",
       "    <tr>\n",
       "      <th>4</th>\n",
       "      <td>Have known Hirani for yrs, what if MeToo claim...</td>\n",
       "      <td>Speaking about the sexual harassment allegatio...</td>\n",
       "    </tr>\n",
       "  </tbody>\n",
       "</table>\n",
       "</div>"
      ],
      "text/plain": [
       "                                           headlines  \\\n",
       "0  upGrad learner switches to career in ML & Al w...   \n",
       "1  Delhi techie wins free food from Swiggy for on...   \n",
       "2  New Zealand end Rohit Sharma-led India's 12-ma...   \n",
       "3  Aegon life iTerm insurance plan helps customer...   \n",
       "4  Have known Hirani for yrs, what if MeToo claim...   \n",
       "\n",
       "                                                text  \n",
       "0  Saurav Kant, an alumnus of upGrad and IIIT-B's...  \n",
       "1  Kunal Shah's credit card bill payment platform...  \n",
       "2  New Zealand defeated India by 8 wickets in the...  \n",
       "3  With Aegon Life iTerm Insurance plan, customer...  \n",
       "4  Speaking about the sexual harassment allegatio...  "
      ]
     },
     "execution_count": 4,
     "metadata": {},
     "output_type": "execute_result"
    }
   ],
   "source": [
    "data.head()"
   ]
  },
  {
   "cell_type": "code",
   "execution_count": 8,
   "id": "80c89666",
   "metadata": {},
   "outputs": [
    {
     "name": "stdout",
     "output_type": "stream",
     "text": [
      "headlines:\n",
      "Saurav Kant, an alumnus of upGrad and IIIT-B's PG Program in Machine learning and Artificial Intelligence, was a Sr Systems Engineer at Infosys with almost 5 years of work experience.\n",
      "The program and upGrad's 360-degree career support helped him transition to a Data Scientist at Tech Mahindra with 90% salary hike.\n",
      "upGrad's Online Power Learning has powered 3 lakh+ careers.\n"
     ]
    }
   ],
   "source": [
    "from summa import summarizer\n",
    "\n",
    "# 첫번째행만\n",
    "text_to_summarize = data['text'][0]  \n",
    "\n",
    "# 요약\n",
    "summary = summarizer.summarize(text_to_summarize, ratio=0.3,words=50)\n",
    "\n",
    "# 요약이 비어있음?\n",
    "if summary:\n",
    "    print(\"headlines:\")\n",
    "    print(summary)\n",
    "else:\n",
    "    print(\"요약없음\")"
   ]
  },
  {
   "cell_type": "code",
   "execution_count": 9,
   "id": "9b78d6cb",
   "metadata": {},
   "outputs": [
    {
     "name": "stdout",
     "output_type": "stream",
     "text": [
      "headlines:\n",
      "The program and upGrad's 360-degree career support helped him transition to a Data Scientist at Tech Mahindra with 90% salary hike.\n",
      "upGrad's Online Power Learning has powered 3 lakh+ careers.\n"
     ]
    }
   ],
   "source": [
    "# 첫번째행만\n",
    "text_to_summarize = data['text'][0]  \n",
    "\n",
    "# 요약\n",
    "summary = summarizer.summarize(text_to_summarize, ratio=0.3,words=40)\n",
    "\n",
    "# 요약이 비어있음?\n",
    "if summary:\n",
    "    print(\"headlines:\")\n",
    "    print(summary)\n",
    "else:\n",
    "    print(\"요약없음\")"
   ]
  },
  {
   "cell_type": "markdown",
   "id": "9e8b5999",
   "metadata": {},
   "source": [
    "* decoder 시퀀스 디버깅 후, 원문과 비교한 다음\n",
    "* summa와 비교해볼것"
   ]
  }
 ],
 "metadata": {
  "kernelspec": {
   "display_name": "Python 3 (ipykernel)",
   "language": "python",
   "name": "python3"
  },
  "language_info": {
   "codemirror_mode": {
    "name": "ipython",
    "version": 3
   },
   "file_extension": ".py",
   "mimetype": "text/x-python",
   "name": "python",
   "nbconvert_exporter": "python",
   "pygments_lexer": "ipython3",
   "version": "3.9.7"
  }
 },
 "nbformat": 4,
 "nbformat_minor": 5
}
