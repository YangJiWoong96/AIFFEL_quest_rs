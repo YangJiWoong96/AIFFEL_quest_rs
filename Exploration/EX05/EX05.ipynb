{
 "cells": [
  {
   "cell_type": "markdown",
   "id": "e6753921",
   "metadata": {},
   "source": [
    "### 각 모델 간 임베딩 레이어 비교를 통한 고찰을 추가"
   ]
  },
  {
   "cell_type": "code",
   "execution_count": 2,
   "id": "cf91784f",
   "metadata": {},
   "outputs": [
    {
     "name": "stdout",
     "output_type": "stream",
     "text": [
      "1.3.3\n",
      "0.5.2\n",
      "4.1.2\n"
     ]
    }
   ],
   "source": [
    "import pandas\n",
    "import konlpy\n",
    "import gensim\n",
    "\n",
    "print(pandas.__version__)\n",
    "print(konlpy.__version__)\n",
    "print(gensim.__version__)"
   ]
  },
  {
   "cell_type": "code",
   "execution_count": 3,
   "id": "d79b48cd",
   "metadata": {},
   "outputs": [],
   "source": [
    "import pandas as pd\n",
    "import numpy as np\n",
    "import tensorflow as tf\n",
    "import os\n",
    "from konlpy.tag import Mecab\n",
    "from collections import Counter"
   ]
  },
  {
   "cell_type": "code",
   "execution_count": 4,
   "id": "60ffebf2",
   "metadata": {},
   "outputs": [
    {
     "data": {
      "text/html": [
       "<div>\n",
       "<style scoped>\n",
       "    .dataframe tbody tr th:only-of-type {\n",
       "        vertical-align: middle;\n",
       "    }\n",
       "\n",
       "    .dataframe tbody tr th {\n",
       "        vertical-align: top;\n",
       "    }\n",
       "\n",
       "    .dataframe thead th {\n",
       "        text-align: right;\n",
       "    }\n",
       "</style>\n",
       "<table border=\"1\" class=\"dataframe\">\n",
       "  <thead>\n",
       "    <tr style=\"text-align: right;\">\n",
       "      <th></th>\n",
       "      <th>id</th>\n",
       "      <th>document</th>\n",
       "      <th>label</th>\n",
       "    </tr>\n",
       "  </thead>\n",
       "  <tbody>\n",
       "    <tr>\n",
       "      <th>0</th>\n",
       "      <td>9976970</td>\n",
       "      <td>아 더빙.. 진짜 짜증나네요 목소리</td>\n",
       "      <td>0</td>\n",
       "    </tr>\n",
       "    <tr>\n",
       "      <th>1</th>\n",
       "      <td>3819312</td>\n",
       "      <td>흠...포스터보고 초딩영화줄....오버연기조차 가볍지 않구나</td>\n",
       "      <td>1</td>\n",
       "    </tr>\n",
       "    <tr>\n",
       "      <th>2</th>\n",
       "      <td>10265843</td>\n",
       "      <td>너무재밓었다그래서보는것을추천한다</td>\n",
       "      <td>0</td>\n",
       "    </tr>\n",
       "    <tr>\n",
       "      <th>3</th>\n",
       "      <td>9045019</td>\n",
       "      <td>교도소 이야기구먼 ..솔직히 재미는 없다..평점 조정</td>\n",
       "      <td>0</td>\n",
       "    </tr>\n",
       "    <tr>\n",
       "      <th>4</th>\n",
       "      <td>6483659</td>\n",
       "      <td>사이몬페그의 익살스런 연기가 돋보였던 영화!스파이더맨에서 늙어보이기만 했던 커스틴 ...</td>\n",
       "      <td>1</td>\n",
       "    </tr>\n",
       "  </tbody>\n",
       "</table>\n",
       "</div>"
      ],
      "text/plain": [
       "         id                                           document  label\n",
       "0   9976970                                아 더빙.. 진짜 짜증나네요 목소리      0\n",
       "1   3819312                  흠...포스터보고 초딩영화줄....오버연기조차 가볍지 않구나      1\n",
       "2  10265843                                  너무재밓었다그래서보는것을추천한다      0\n",
       "3   9045019                      교도소 이야기구먼 ..솔직히 재미는 없다..평점 조정      0\n",
       "4   6483659  사이몬페그의 익살스런 연기가 돋보였던 영화!스파이더맨에서 늙어보이기만 했던 커스틴 ...      1"
      ]
     },
     "execution_count": 4,
     "metadata": {},
     "output_type": "execute_result"
    }
   ],
   "source": [
    "# 데이터를 읽어봅시다. \n",
    "train_data = pd.read_csv('~/aiffel/sentiment_classification/data/ratings_train.txt', delimiter='\\t')\n",
    "test_data = pd.read_csv('~/aiffel/sentiment_classification/data/ratings_test.txt', delimiter='\\t')\n",
    "\n",
    "train_data.head()"
   ]
  },
  {
   "cell_type": "markdown",
   "id": "2e8aff4a",
   "metadata": {},
   "source": [
    "* 숫자 인덱스로 변환된 텍스트와 word_to_index 딕셔너리까지 친절하게 제공합니다. \n",
    "* 그러나 이번에 다루게 될 nsmc 데이터셋은 전혀 가공되지 않은 텍스트 파일로 이루어져 있습니다. \n",
    "* 이것을 읽어서 imdb.data_loader()와 동일하게 동작하는 자신만의 data_loader를 만들어 보는 것으로 시작합니다. \n",
    "* data_loader 안에서는 다음을 수행해야 합니다.\n",
    "    * 데이터의 중복 제거\n",
    "    * NaN 결측치 제거\n",
    "    * 한국어 토크나이저로 토큰화\n",
    "    * 불용어(Stopwords) 제거\n",
    "    * 사전word_to_index 구성\n",
    "    * 텍스트 스트링을 사전 인덱스 스트링으로 변환\n",
    "    * X_train, y_train, X_test, y_test, word_to_index 리턴"
   ]
  },
  {
   "cell_type": "markdown",
   "id": "a9bfacba",
   "metadata": {},
   "source": [
    "## 전처리"
   ]
  },
  {
   "cell_type": "code",
   "execution_count": 5,
   "id": "7fdeac36",
   "metadata": {},
   "outputs": [
    {
     "data": {
      "text/plain": [
       "False    146183\n",
       "True       3817\n",
       "Name: document, dtype: int64"
      ]
     },
     "execution_count": 5,
     "metadata": {},
     "output_type": "execute_result"
    }
   ],
   "source": [
    "train_data['document'].duplicated().value_counts()"
   ]
  },
  {
   "cell_type": "code",
   "execution_count": 6,
   "id": "035fd73c",
   "metadata": {},
   "outputs": [
    {
     "data": {
      "text/plain": [
       "False    149995\n",
       "True          5\n",
       "Name: document, dtype: int64"
      ]
     },
     "execution_count": 6,
     "metadata": {},
     "output_type": "execute_result"
    }
   ],
   "source": [
    "train_data['document'].isnull().value_counts()"
   ]
  },
  {
   "cell_type": "code",
   "execution_count": 7,
   "id": "19f4b882",
   "metadata": {},
   "outputs": [
    {
     "data": {
      "text/html": [
       "<div>\n",
       "<style scoped>\n",
       "    .dataframe tbody tr th:only-of-type {\n",
       "        vertical-align: middle;\n",
       "    }\n",
       "\n",
       "    .dataframe tbody tr th {\n",
       "        vertical-align: top;\n",
       "    }\n",
       "\n",
       "    .dataframe thead th {\n",
       "        text-align: right;\n",
       "    }\n",
       "</style>\n",
       "<table border=\"1\" class=\"dataframe\">\n",
       "  <thead>\n",
       "    <tr style=\"text-align: right;\">\n",
       "      <th></th>\n",
       "      <th>id</th>\n",
       "      <th>document</th>\n",
       "      <th>label</th>\n",
       "    </tr>\n",
       "  </thead>\n",
       "  <tbody>\n",
       "    <tr>\n",
       "      <th>53</th>\n",
       "      <td>7865630</td>\n",
       "      <td>난또 저 꼬마애가 무슨 원한이 깊길래.,. 했더니 OO 그냥 혼자 나대다 OO걸 어...</td>\n",
       "      <td>0</td>\n",
       "    </tr>\n",
       "    <tr>\n",
       "      <th>262</th>\n",
       "      <td>5124760</td>\n",
       "      <td>아 OOO기.. 이걸 본 내눈이 아깝다 ㅡㅡ 진짜 아놔 진짜 OOO기명작이네요</td>\n",
       "      <td>0</td>\n",
       "    </tr>\n",
       "    <tr>\n",
       "      <th>263</th>\n",
       "      <td>6931068</td>\n",
       "      <td>필름값이 아깝다..재미 더럽게없다..2점부터 점수준것들 매미 OO</td>\n",
       "      <td>0</td>\n",
       "    </tr>\n",
       "    <tr>\n",
       "      <th>269</th>\n",
       "      <td>10274403</td>\n",
       "      <td>OOO영화 뭘전달하려는지모르겠네 오글거리고</td>\n",
       "      <td>0</td>\n",
       "    </tr>\n",
       "    <tr>\n",
       "      <th>387</th>\n",
       "      <td>10232830</td>\n",
       "      <td>림프비즈킷의 OST만 10점. 개봉 당시 극장에서 봤는데 영화내내 오우삼 쥑이고 싶...</td>\n",
       "      <td>0</td>\n",
       "    </tr>\n",
       "    <tr>\n",
       "      <th>...</th>\n",
       "      <td>...</td>\n",
       "      <td>...</td>\n",
       "      <td>...</td>\n",
       "    </tr>\n",
       "    <tr>\n",
       "      <th>149625</th>\n",
       "      <td>8882106</td>\n",
       "      <td>평점 주기도 아깝다 고은정 OOO 깉은 거시기도 그렇고 역기들 더럽게 못한다 허비한...</td>\n",
       "      <td>0</td>\n",
       "    </tr>\n",
       "    <tr>\n",
       "      <th>149690</th>\n",
       "      <td>9939429</td>\n",
       "      <td>좋은 영화는 OOO CG도배가 아니라 이런 탄탄한 스토리와 뭔가 묵직한 것을 가슴에...</td>\n",
       "      <td>1</td>\n",
       "    </tr>\n",
       "    <tr>\n",
       "      <th>149706</th>\n",
       "      <td>9427140</td>\n",
       "      <td>OOO~ 시간 버리지마삼~</td>\n",
       "      <td>0</td>\n",
       "    </tr>\n",
       "    <tr>\n",
       "      <th>149949</th>\n",
       "      <td>3924716</td>\n",
       "      <td>OO 영화</td>\n",
       "      <td>0</td>\n",
       "    </tr>\n",
       "    <tr>\n",
       "      <th>149983</th>\n",
       "      <td>6455011</td>\n",
       "      <td>그냥생각없이 평점좀 쓰지마 OOO들아 두 배우의연기가 너무맘에 들었다</td>\n",
       "      <td>1</td>\n",
       "    </tr>\n",
       "  </tbody>\n",
       "</table>\n",
       "<p>1956 rows × 3 columns</p>\n",
       "</div>"
      ],
      "text/plain": [
       "              id                                           document  label\n",
       "53       7865630  난또 저 꼬마애가 무슨 원한이 깊길래.,. 했더니 OO 그냥 혼자 나대다 OO걸 어...      0\n",
       "262      5124760        아 OOO기.. 이걸 본 내눈이 아깝다 ㅡㅡ 진짜 아놔 진짜 OOO기명작이네요      0\n",
       "263      6931068               필름값이 아깝다..재미 더럽게없다..2점부터 점수준것들 매미 OO      0\n",
       "269     10274403                            OOO영화 뭘전달하려는지모르겠네 오글거리고      0\n",
       "387     10232830  림프비즈킷의 OST만 10점. 개봉 당시 극장에서 봤는데 영화내내 오우삼 쥑이고 싶...      0\n",
       "...          ...                                                ...    ...\n",
       "149625   8882106  평점 주기도 아깝다 고은정 OOO 깉은 거시기도 그렇고 역기들 더럽게 못한다 허비한...      0\n",
       "149690   9939429  좋은 영화는 OOO CG도배가 아니라 이런 탄탄한 스토리와 뭔가 묵직한 것을 가슴에...      1\n",
       "149706   9427140                                     OOO~ 시간 버리지마삼~      0\n",
       "149949   3924716                                              OO 영화      0\n",
       "149983   6455011             그냥생각없이 평점좀 쓰지마 OOO들아 두 배우의연기가 너무맘에 들었다      1\n",
       "\n",
       "[1956 rows x 3 columns]"
      ]
     },
     "execution_count": 7,
     "metadata": {},
     "output_type": "execute_result"
    }
   ],
   "source": [
    "train_data[train_data['document'].str.contains('O', na=False)]"
   ]
  },
  {
   "cell_type": "markdown",
   "id": "199d2fe5",
   "metadata": {},
   "source": [
    "### formal 하지 않은 웹 상에서 감정 분석을 진행하면, 욕설은 굉장히 중요한 요소일 것"
   ]
  },
  {
   "cell_type": "code",
   "execution_count": 8,
   "id": "c40bbafc",
   "metadata": {},
   "outputs": [
    {
     "data": {
      "text/html": [
       "<div>\n",
       "<style scoped>\n",
       "    .dataframe tbody tr th:only-of-type {\n",
       "        vertical-align: middle;\n",
       "    }\n",
       "\n",
       "    .dataframe tbody tr th {\n",
       "        vertical-align: top;\n",
       "    }\n",
       "\n",
       "    .dataframe thead th {\n",
       "        text-align: right;\n",
       "    }\n",
       "</style>\n",
       "<table border=\"1\" class=\"dataframe\">\n",
       "  <thead>\n",
       "    <tr style=\"text-align: right;\">\n",
       "      <th></th>\n",
       "      <th>id</th>\n",
       "      <th>document</th>\n",
       "      <th>label</th>\n",
       "    </tr>\n",
       "  </thead>\n",
       "  <tbody>\n",
       "    <tr>\n",
       "      <th>31</th>\n",
       "      <td>9005897</td>\n",
       "      <td>졸쓰레기 진부하고말도안됌ㅋㅋ 아..시간아까워</td>\n",
       "      <td>0</td>\n",
       "    </tr>\n",
       "    <tr>\n",
       "      <th>84</th>\n",
       "      <td>9875922</td>\n",
       "      <td>정말쓰레기영화입니다</td>\n",
       "      <td>0</td>\n",
       "    </tr>\n",
       "    <tr>\n",
       "      <th>119</th>\n",
       "      <td>9753792</td>\n",
       "      <td>절대 보지마라 쓰레기 영화</td>\n",
       "      <td>0</td>\n",
       "    </tr>\n",
       "    <tr>\n",
       "      <th>232</th>\n",
       "      <td>8309459</td>\n",
       "      <td>하..진짜 댓글보고 한번쯤볼만한 영화인거같아서봤지만 기가찬다..이게무슨버킷리스트인가...</td>\n",
       "      <td>0</td>\n",
       "    </tr>\n",
       "    <tr>\n",
       "      <th>307</th>\n",
       "      <td>7713083</td>\n",
       "      <td>쓰레기 연예인 재기의 장~~그러나...</td>\n",
       "      <td>0</td>\n",
       "    </tr>\n",
       "    <tr>\n",
       "      <th>...</th>\n",
       "      <td>...</td>\n",
       "      <td>...</td>\n",
       "      <td>...</td>\n",
       "    </tr>\n",
       "    <tr>\n",
       "      <th>149734</th>\n",
       "      <td>5530071</td>\n",
       "      <td>그럴 듯 하게 포장했지만.. 쓰레기통..</td>\n",
       "      <td>0</td>\n",
       "    </tr>\n",
       "    <tr>\n",
       "      <th>149738</th>\n",
       "      <td>7340570</td>\n",
       "      <td>안봐도 걍 개ㅈ쓰레기 보슬영화네ㅉㅉ 아참 영화도 아니지이건</td>\n",
       "      <td>0</td>\n",
       "    </tr>\n",
       "    <tr>\n",
       "      <th>149745</th>\n",
       "      <td>5383356</td>\n",
       "      <td>피터잭슨도 이런 쓰레기 영화에서 출발했었구나 역시 저자본 영화는 연출이 병맛</td>\n",
       "      <td>0</td>\n",
       "    </tr>\n",
       "    <tr>\n",
       "      <th>149771</th>\n",
       "      <td>2325900</td>\n",
       "      <td>정말 쓰레기다. 감독도 다음작품 내지도 못했음 ㅉㅉ 여자배우 몸이라도 이뻤으면</td>\n",
       "      <td>0</td>\n",
       "    </tr>\n",
       "    <tr>\n",
       "      <th>149915</th>\n",
       "      <td>7002001</td>\n",
       "      <td>쓰레기</td>\n",
       "      <td>0</td>\n",
       "    </tr>\n",
       "  </tbody>\n",
       "</table>\n",
       "<p>3191 rows × 3 columns</p>\n",
       "</div>"
      ],
      "text/plain": [
       "             id                                           document  label\n",
       "31      9005897                           졸쓰레기 진부하고말도안됌ㅋㅋ 아..시간아까워      0\n",
       "84      9875922                                         정말쓰레기영화입니다      0\n",
       "119     9753792                                     절대 보지마라 쓰레기 영화      0\n",
       "232     8309459  하..진짜 댓글보고 한번쯤볼만한 영화인거같아서봤지만 기가찬다..이게무슨버킷리스트인가...      0\n",
       "307     7713083                              쓰레기 연예인 재기의 장~~그러나...      0\n",
       "...         ...                                                ...    ...\n",
       "149734  5530071                             그럴 듯 하게 포장했지만.. 쓰레기통..      0\n",
       "149738  7340570                   안봐도 걍 개ㅈ쓰레기 보슬영화네ㅉㅉ 아참 영화도 아니지이건      0\n",
       "149745  5383356         피터잭슨도 이런 쓰레기 영화에서 출발했었구나 역시 저자본 영화는 연출이 병맛      0\n",
       "149771  2325900        정말 쓰레기다. 감독도 다음작품 내지도 못했음 ㅉㅉ 여자배우 몸이라도 이뻤으면      0\n",
       "149915  7002001                                                쓰레기      0\n",
       "\n",
       "[3191 rows x 3 columns]"
      ]
     },
     "execution_count": 8,
     "metadata": {},
     "output_type": "execute_result"
    }
   ],
   "source": [
    "train_data[train_data['document'].str.contains('쓰레기', na=False)]"
   ]
  },
  {
   "cell_type": "code",
   "execution_count": 9,
   "id": "7ee947a6",
   "metadata": {},
   "outputs": [
    {
     "data": {
      "text/html": [
       "<div>\n",
       "<style scoped>\n",
       "    .dataframe tbody tr th:only-of-type {\n",
       "        vertical-align: middle;\n",
       "    }\n",
       "\n",
       "    .dataframe tbody tr th {\n",
       "        vertical-align: top;\n",
       "    }\n",
       "\n",
       "    .dataframe thead th {\n",
       "        text-align: right;\n",
       "    }\n",
       "</style>\n",
       "<table border=\"1\" class=\"dataframe\">\n",
       "  <thead>\n",
       "    <tr style=\"text-align: right;\">\n",
       "      <th></th>\n",
       "      <th>id</th>\n",
       "      <th>document</th>\n",
       "      <th>label</th>\n",
       "    </tr>\n",
       "  </thead>\n",
       "  <tbody>\n",
       "    <tr>\n",
       "      <th>67</th>\n",
       "      <td>7956793</td>\n",
       "      <td>김남길의 백점짜리 연기력과 초반 몰입도에도 불구하고 지루하고 손예진 ㅈㅈ</td>\n",
       "      <td>0</td>\n",
       "    </tr>\n",
       "    <tr>\n",
       "      <th>165</th>\n",
       "      <td>10122280</td>\n",
       "      <td>\"영화 끝나갈때쯤에 멍하다가 다보고나면 한마디 나올거임 \"\"ㅈ같다.\"\"\"</td>\n",
       "      <td>1</td>\n",
       "    </tr>\n",
       "    <tr>\n",
       "      <th>1091</th>\n",
       "      <td>9431078</td>\n",
       "      <td>훈훈한만남. . .가슴따듯ㅈ해짐</td>\n",
       "      <td>1</td>\n",
       "    </tr>\n",
       "    <tr>\n",
       "      <th>1727</th>\n",
       "      <td>5213934</td>\n",
       "      <td>이거평점이해가안가 ㅈㄴ재미없엇는대</td>\n",
       "      <td>0</td>\n",
       "    </tr>\n",
       "    <tr>\n",
       "      <th>2135</th>\n",
       "      <td>7974428</td>\n",
       "      <td>아니 왜왜왜 증거도 있는데 미궁사건이여 참 이해 못하겄내 ㅅㅂ 이러면 안되는데 사고...</td>\n",
       "      <td>1</td>\n",
       "    </tr>\n",
       "    <tr>\n",
       "      <th>...</th>\n",
       "      <td>...</td>\n",
       "      <td>...</td>\n",
       "      <td>...</td>\n",
       "    </tr>\n",
       "    <tr>\n",
       "      <th>148444</th>\n",
       "      <td>10264971</td>\n",
       "      <td>개ㅈ노잼 이딴걸 미쳤다고 돈주고 보냐</td>\n",
       "      <td>0</td>\n",
       "    </tr>\n",
       "    <tr>\n",
       "      <th>148673</th>\n",
       "      <td>880472</td>\n",
       "      <td>ㅈㅐ밌어요 ㅋㅋ</td>\n",
       "      <td>1</td>\n",
       "    </tr>\n",
       "    <tr>\n",
       "      <th>149010</th>\n",
       "      <td>7920696</td>\n",
       "      <td>ㅈㄴ 김</td>\n",
       "      <td>0</td>\n",
       "    </tr>\n",
       "    <tr>\n",
       "      <th>149738</th>\n",
       "      <td>7340570</td>\n",
       "      <td>안봐도 걍 개ㅈ쓰레기 보슬영화네ㅉㅉ 아참 영화도 아니지이건</td>\n",
       "      <td>0</td>\n",
       "    </tr>\n",
       "    <tr>\n",
       "      <th>149965</th>\n",
       "      <td>9907479</td>\n",
       "      <td>ㄱ, ㅈ같ㅇ ㅍㄹㄱ 섹귀들~!!!</td>\n",
       "      <td>1</td>\n",
       "    </tr>\n",
       "  </tbody>\n",
       "</table>\n",
       "<p>231 rows × 3 columns</p>\n",
       "</div>"
      ],
      "text/plain": [
       "              id                                           document  label\n",
       "67       7956793           김남길의 백점짜리 연기력과 초반 몰입도에도 불구하고 지루하고 손예진 ㅈㅈ      0\n",
       "165     10122280           \"영화 끝나갈때쯤에 멍하다가 다보고나면 한마디 나올거임 \"\"ㅈ같다.\"\"\"      1\n",
       "1091     9431078                                  훈훈한만남. . .가슴따듯ㅈ해짐      1\n",
       "1727     5213934                                 이거평점이해가안가 ㅈㄴ재미없엇는대      0\n",
       "2135     7974428  아니 왜왜왜 증거도 있는데 미궁사건이여 참 이해 못하겄내 ㅅㅂ 이러면 안되는데 사고...      1\n",
       "...          ...                                                ...    ...\n",
       "148444  10264971                               개ㅈ노잼 이딴걸 미쳤다고 돈주고 보냐      0\n",
       "148673    880472                                           ㅈㅐ밌어요 ㅋㅋ      1\n",
       "149010   7920696                                               ㅈㄴ 김      0\n",
       "149738   7340570                   안봐도 걍 개ㅈ쓰레기 보슬영화네ㅉㅉ 아참 영화도 아니지이건      0\n",
       "149965   9907479                                 ㄱ, ㅈ같ㅇ ㅍㄹㄱ 섹귀들~!!!      1\n",
       "\n",
       "[231 rows x 3 columns]"
      ]
     },
     "execution_count": 9,
     "metadata": {},
     "output_type": "execute_result"
    }
   ],
   "source": [
    "train_data[train_data['document'].str.contains('ㅈ', na=False)]"
   ]
  },
  {
   "cell_type": "markdown",
   "id": "8188102d",
   "metadata": {},
   "source": [
    "#### 반어법은? "
   ]
  },
  {
   "cell_type": "code",
   "execution_count": 10,
   "id": "f9474d65",
   "metadata": {},
   "outputs": [
    {
     "name": "stdout",
     "output_type": "stream",
     "text": [
      "['아', '더', '빙', '.', '.', '진짜', '짜증', '나', '네요', '목소리']\n",
      "[('아', 'IC'), ('더', 'MAG'), ('빙', 'MAG'), ('.', 'SF'), ('.', 'SY'), ('진짜', 'MAG'), ('짜증', 'NNG'), ('나', 'NP'), ('네요', 'VCP+EC'), ('목소리', 'NNG')]\n",
      "['짜증', '나', '목소리']\n"
     ]
    }
   ],
   "source": [
    "mecab = Mecab()\n",
    "sentence = train_data['document'][0]\n",
    "morphs = mecab.morphs(sentence)\n",
    "print(morphs)\n",
    "pos = mecab.pos(sentence)\n",
    "print(pos)\n",
    "nouns = mecab.nouns(sentence)\n",
    "print(nouns)  # ['나', '밥']"
   ]
  },
  {
   "cell_type": "code",
   "execution_count": 11,
   "id": "aa8bf702",
   "metadata": {},
   "outputs": [],
   "source": [
    "import re\n",
    "\n",
    "def remove_punctuation(text):\n",
    "    # 정규표현식으로 한글, 공백 빼고 전부 제거\n",
    "    return re.sub(r'[^가-힣\\s]', '', text)"
   ]
  },
  {
   "cell_type": "code",
   "execution_count": 12,
   "id": "60911b65",
   "metadata": {},
   "outputs": [],
   "source": [
    "tokenizer = Mecab()\n",
    "# ? 불용어 이걸로 충분할까? \n",
    "stopwords = stopwords = ['의', '가', '이', '은', '들', '는', '좀', '잘', '걍', '과', '도', '를', '으로', '자', '에', '와', '한', '하다',\n",
    "    '그', '저', '것', '같다', '때문', '있다', '없다', '더', '하지만', '또한','그리고', '근데', '그래서', '즉', '뭐','이게','고','에서',\n",
    "    '아서','인가','다','구나','네요','요']\n",
    "\n",
    "def preprocess_data(data, text_column):\n",
    "    # 중복 제거\n",
    "    data = data.drop_duplicates(subset=[text_column])\n",
    "    # 결측치 제거\n",
    "    data = data.dropna(subset=[text_column])\n",
    "    # 구두점 제거\n",
    "    data[text_column] = data[text_column].apply(remove_punctuation)\n",
    "    # 토큰화 및 불용어 제거\n",
    "    data['tokenized'] = data[text_column].apply(\n",
    "        lambda x: [word for word in tokenizer.morphs(x) if word not in stopwords]\n",
    "    )\n",
    "    return data"
   ]
  },
  {
   "cell_type": "code",
   "execution_count": 13,
   "id": "f12bc995",
   "metadata": {},
   "outputs": [],
   "source": [
    "# 1차 전처리 결과 -> tokenized\n",
    "train_data = preprocess_data(train_data, text_column='document')\n",
    "test_data = preprocess_data(test_data, text_column='document')"
   ]
  },
  {
   "cell_type": "code",
   "execution_count": 14,
   "id": "bdb4096c",
   "metadata": {
    "scrolled": true
   },
   "outputs": [
    {
     "data": {
      "text/html": [
       "<div>\n",
       "<style scoped>\n",
       "    .dataframe tbody tr th:only-of-type {\n",
       "        vertical-align: middle;\n",
       "    }\n",
       "\n",
       "    .dataframe tbody tr th {\n",
       "        vertical-align: top;\n",
       "    }\n",
       "\n",
       "    .dataframe thead th {\n",
       "        text-align: right;\n",
       "    }\n",
       "</style>\n",
       "<table border=\"1\" class=\"dataframe\">\n",
       "  <thead>\n",
       "    <tr style=\"text-align: right;\">\n",
       "      <th></th>\n",
       "      <th>id</th>\n",
       "      <th>document</th>\n",
       "      <th>label</th>\n",
       "      <th>tokenized</th>\n",
       "    </tr>\n",
       "  </thead>\n",
       "  <tbody>\n",
       "    <tr>\n",
       "      <th>0</th>\n",
       "      <td>9976970</td>\n",
       "      <td>아 더빙 진짜 짜증나네요 목소리</td>\n",
       "      <td>0</td>\n",
       "      <td>[아, 빙, 진짜, 짜증, 나, 목소리]</td>\n",
       "    </tr>\n",
       "    <tr>\n",
       "      <th>1</th>\n",
       "      <td>3819312</td>\n",
       "      <td>흠포스터보고 초딩영화줄오버연기조차 가볍지 않구나</td>\n",
       "      <td>1</td>\n",
       "      <td>[흠, 포스터, 보고, 초딩, 영화, 줄, 오버, 연기, 조차, 가볍, 지, 않]</td>\n",
       "    </tr>\n",
       "    <tr>\n",
       "      <th>2</th>\n",
       "      <td>10265843</td>\n",
       "      <td>너무재밓었다그래서보는것을추천한다</td>\n",
       "      <td>0</td>\n",
       "      <td>[너무, 재, 밓었다그래서보는것을추천한다]</td>\n",
       "    </tr>\n",
       "    <tr>\n",
       "      <th>3</th>\n",
       "      <td>9045019</td>\n",
       "      <td>교도소 이야기구먼 솔직히 재미는 없다평점 조정</td>\n",
       "      <td>0</td>\n",
       "      <td>[교도소, 이야기, 구먼, 솔직히, 재미, 없, 평점, 조정]</td>\n",
       "    </tr>\n",
       "    <tr>\n",
       "      <th>4</th>\n",
       "      <td>6483659</td>\n",
       "      <td>사이몬페그의 익살스런 연기가 돋보였던 영화스파이더맨에서 늙어보이기만 했던 커스틴 던...</td>\n",
       "      <td>1</td>\n",
       "      <td>[사이몬페그, 익살, 스런, 연기, 돋보였, 던, 영화, 스파이더맨, 늙, 어, 보...</td>\n",
       "    </tr>\n",
       "    <tr>\n",
       "      <th>...</th>\n",
       "      <td>...</td>\n",
       "      <td>...</td>\n",
       "      <td>...</td>\n",
       "      <td>...</td>\n",
       "    </tr>\n",
       "    <tr>\n",
       "      <th>149995</th>\n",
       "      <td>6222902</td>\n",
       "      <td>인간이 문제지 소는 뭔죄인가</td>\n",
       "      <td>0</td>\n",
       "      <td>[인간, 문제지, 소, 뭔, 죄]</td>\n",
       "    </tr>\n",
       "    <tr>\n",
       "      <th>149996</th>\n",
       "      <td>8549745</td>\n",
       "      <td>평점이 너무 낮아서</td>\n",
       "      <td>1</td>\n",
       "      <td>[평점, 너무, 낮]</td>\n",
       "    </tr>\n",
       "    <tr>\n",
       "      <th>149997</th>\n",
       "      <td>9311800</td>\n",
       "      <td>이게 뭐요 한국인은 거들먹거리고 필리핀 혼혈은 착하다</td>\n",
       "      <td>0</td>\n",
       "      <td>[한국인, 거들먹거리, 필리핀, 혼혈, 착하]</td>\n",
       "    </tr>\n",
       "    <tr>\n",
       "      <th>149998</th>\n",
       "      <td>2376369</td>\n",
       "      <td>청춘 영화의 최고봉방황과 우울했던 날들의 자화상</td>\n",
       "      <td>1</td>\n",
       "      <td>[청춘, 영화, 최고봉, 방황, 우울, 했, 던, 날, 자화상]</td>\n",
       "    </tr>\n",
       "    <tr>\n",
       "      <th>149999</th>\n",
       "      <td>9619869</td>\n",
       "      <td>한국 영화 최초로 수간하는 내용이 담긴 영화</td>\n",
       "      <td>0</td>\n",
       "      <td>[한국, 영화, 최초, 로, 수간, 하, 내용, 담긴, 영화]</td>\n",
       "    </tr>\n",
       "  </tbody>\n",
       "</table>\n",
       "<p>146182 rows × 4 columns</p>\n",
       "</div>"
      ],
      "text/plain": [
       "              id                                           document  label  \\\n",
       "0        9976970                                  아 더빙 진짜 짜증나네요 목소리      0   \n",
       "1        3819312                         흠포스터보고 초딩영화줄오버연기조차 가볍지 않구나      1   \n",
       "2       10265843                                  너무재밓었다그래서보는것을추천한다      0   \n",
       "3        9045019                          교도소 이야기구먼 솔직히 재미는 없다평점 조정      0   \n",
       "4        6483659  사이몬페그의 익살스런 연기가 돋보였던 영화스파이더맨에서 늙어보이기만 했던 커스틴 던...      1   \n",
       "...          ...                                                ...    ...   \n",
       "149995   6222902                                    인간이 문제지 소는 뭔죄인가      0   \n",
       "149996   8549745                                         평점이 너무 낮아서      1   \n",
       "149997   9311800                      이게 뭐요 한국인은 거들먹거리고 필리핀 혼혈은 착하다      0   \n",
       "149998   2376369                         청춘 영화의 최고봉방황과 우울했던 날들의 자화상      1   \n",
       "149999   9619869                           한국 영화 최초로 수간하는 내용이 담긴 영화      0   \n",
       "\n",
       "                                                tokenized  \n",
       "0                                  [아, 빙, 진짜, 짜증, 나, 목소리]  \n",
       "1           [흠, 포스터, 보고, 초딩, 영화, 줄, 오버, 연기, 조차, 가볍, 지, 않]  \n",
       "2                                 [너무, 재, 밓었다그래서보는것을추천한다]  \n",
       "3                      [교도소, 이야기, 구먼, 솔직히, 재미, 없, 평점, 조정]  \n",
       "4       [사이몬페그, 익살, 스런, 연기, 돋보였, 던, 영화, 스파이더맨, 늙, 어, 보...  \n",
       "...                                                   ...  \n",
       "149995                                 [인간, 문제지, 소, 뭔, 죄]  \n",
       "149996                                        [평점, 너무, 낮]  \n",
       "149997                          [한국인, 거들먹거리, 필리핀, 혼혈, 착하]  \n",
       "149998                [청춘, 영화, 최고봉, 방황, 우울, 했, 던, 날, 자화상]  \n",
       "149999                 [한국, 영화, 최초, 로, 수간, 하, 내용, 담긴, 영화]  \n",
       "\n",
       "[146182 rows x 4 columns]"
      ]
     },
     "execution_count": 14,
     "metadata": {},
     "output_type": "execute_result"
    }
   ],
   "source": [
    "train_data"
   ]
  },
  {
   "cell_type": "markdown",
   "id": "1aaec7d6",
   "metadata": {},
   "source": [
    "#### 명사 빈도 카운트 flatten 시켜서 전체 처리하면 약 27시간 소요"
   ]
  },
  {
   "cell_type": "code",
   "execution_count": 30,
   "id": "3a516968",
   "metadata": {},
   "outputs": [],
   "source": [
    "# from konlpy.tag import Hannanum\n",
    "# from multiprocessing import Pool\n",
    "# import pandas as pd\n",
    "# from tqdm import tqdm\n",
    "\n",
    "# # 병렬 처리\n",
    "# def extract_nouns(row):\n",
    "#     hannanum = Hannanum()  # 병렬 환경에서는 객체를 각 프로세스에서 초기화해야 함\n",
    "#     sentence = ' '.join(row)  # 토큰 리스트를 문자열로 변환\n",
    "#     return hannanum.nouns(sentence)  # 명사 추출\n",
    "\n",
    "# # 2. 병렬 처리 실행\n",
    "# with Pool(processes=4) as pool:  # 4개의 프로세스를 사용\n",
    "#     # tqdm을 사용해 진행 상태 표시\n",
    "#     result = list(tqdm(pool.imap(extract_nouns, train_data['tokenized'].tolist()), \n",
    "#                        desc=\"Processing rows\", total=len(train_data)))\n",
    "\n",
    "# # 3. 결과 병합\n",
    "# nouns = [word for sublist in result for word in sublist]\n",
    "\n",
    "# # 4. 명사를 데이터프레임으로 변환\n",
    "# df_word = pd.DataFrame({\"word\": nouns})\n",
    "\n",
    "# # 5. 글자 수 필터링\n",
    "# df_word[\"count\"] = df_word[\"word\"].str.len()\n",
    "# df_word = df_word.query(\"count >= 2\")\n",
    "\n",
    "# # 6. 단어별 빈도 계산\n",
    "# df_word = df_word.groupby(\"word\", as_index=False) \\\n",
    "#     .agg(n=(\"word\", \"size\")) \\\n",
    "#     .sort_values(\"n\", ascending=False)\n",
    "\n",
    "# # 7. 상위 20개 단어 추출\n",
    "# top20 = df_word.head(20)\n",
    "\n",
    "# # 결과 확인\n",
    "# print(top20)"
   ]
  },
  {
   "cell_type": "code",
   "execution_count": 15,
   "id": "c4d62058",
   "metadata": {},
   "outputs": [],
   "source": [
    "def load_data(train_data, test_data, text_column, label_column, num_words=10000):\n",
    "    \"\"\"\n",
    "    train_data, test_data : 1차 전처리된 데이터프레임\n",
    "    text_column : 텍스트 열\n",
    "    label_column : 라벨 열\n",
    "    num_words: 어휘사전크기\n",
    "    \"\"\"\n",
    "\n",
    "    # word_to_index\n",
    "    words = [word for tokens in train_data['tokenized'] for word in tokens]\n",
    "    word_freq = Counter(words)\n",
    "    vocab = [word for word, freq in word_freq.most_common(num_words - 3)]  # PAD(0), BOS(1), UNK(2) 제외\n",
    "    word_to_index = {word: idx + 3 for idx, word in enumerate(vocab)}  # 3부터 시작 \n",
    "    word_to_index['<PAD>'] = 0\n",
    "    word_to_index['<BOS>'] = 1\n",
    "    word_to_index['<UNK>'] = 2\n",
    "\n",
    "    def encode_sentence(tokens, word_to_index):\n",
    "        # 시작 <BOS> 토큰 추가, 사전에 없는 단어는 <UNK>로 처리\n",
    "        encoded = [word_to_index['<BOS>']]\n",
    "        encoded.extend([word_to_index.get(word, 2) for word in tokens])  \n",
    "        return encoded\n",
    "\n",
    "    # 인덱싱\n",
    "    X_train = train_data['tokenized'].apply(lambda x: encode_sentence(x, word_to_index)).tolist()\n",
    "    y_train = train_data[label_column].values\n",
    "    X_test = test_data['tokenized'].apply(lambda x: encode_sentence(x, word_to_index)).tolist()\n",
    "    y_test = test_data[label_column].values\n",
    "\n",
    "    return X_train, y_train, X_test, y_test, word_to_index"
   ]
  },
  {
   "cell_type": "code",
   "execution_count": 16,
   "id": "8c721309",
   "metadata": {},
   "outputs": [],
   "source": [
    "# 로드 \n",
    "X_train, y_train, X_test, y_test, word_to_index = load_data(\n",
    "    train_data=train_data,\n",
    "    test_data=test_data,\n",
    "    text_column='document',\n",
    "    label_column='label'\n",
    ")"
   ]
  },
  {
   "cell_type": "code",
   "execution_count": 17,
   "id": "2e0db0c0",
   "metadata": {},
   "outputs": [
    {
     "name": "stdout",
     "output_type": "stream",
     "text": [
      "문장길이 평균 :  13.451215579070231\n",
      "문장길이 최대 :  78\n",
      "문장길이 표준편차 :  10.522363421297582\n"
     ]
    }
   ],
   "source": [
    "total_data_text = list(X_train) + list(X_test)\n",
    "# 텍스트데이터 문장길이의 리스트를 생성한 후\n",
    "num_tokens = [len(tokens) for tokens in total_data_text]\n",
    "num_tokens = np.array(num_tokens)\n",
    "# 문장길이의 평균값, 최대값, 표준편차를 계산해 본다. \n",
    "print('문장길이 평균 : ', np.mean(num_tokens))\n",
    "print('문장길이 최대 : ', np.max(num_tokens))\n",
    "print('문장길이 표준편차 : ', np.std(num_tokens))"
   ]
  },
  {
   "cell_type": "code",
   "execution_count": 18,
   "id": "5e4f8156",
   "metadata": {},
   "outputs": [
    {
     "name": "stdout",
     "output_type": "stream",
     "text": [
      "pad_sequences maxlen :  45\n",
      "전체 문장의 0.9731799589431706%가 maxlen 설정값 이내에 포함됩니다. \n"
     ]
    }
   ],
   "source": [
    "# 예를들어, 최대 길이를 (평균 + 2*표준편차)로 한다면? 정규화 이상치 제거에서국룰은 3시그마다. 약 99.7퍼 포함\n",
    "max_tokens = np.mean(num_tokens) + 3 * np.std(num_tokens)\n",
    "maxlen = int(max_tokens)\n",
    "print('pad_sequences maxlen : ', maxlen)\n",
    "print(f'전체 문장의 {np.sum(num_tokens < max_tokens) / len(num_tokens)}%가 maxlen 설정값 이내에 포함됩니다. ')"
   ]
  },
  {
   "cell_type": "code",
   "execution_count": 19,
   "id": "6fcaf18f",
   "metadata": {},
   "outputs": [
    {
     "name": "stdout",
     "output_type": "stream",
     "text": [
      "(146182, 45)\n"
     ]
    }
   ],
   "source": [
    "X_train = tf.keras.preprocessing.sequence.pad_sequences(X_train,\n",
    "                                                        value=word_to_index[\"<PAD>\"],\n",
    "                                                        padding='post', # 혹은 'pre'\n",
    "                                                        maxlen=maxlen)\n",
    "\n",
    "X_test = tf.keras.preprocessing.sequence.pad_sequences(X_test,\n",
    "                                                       value=word_to_index[\"<PAD>\"],\n",
    "                                                       padding='post', # 혹은 'pre'\n",
    "                                                       maxlen=maxlen)\n",
    "\n",
    "print(X_train.shape)"
   ]
  },
  {
   "cell_type": "code",
   "execution_count": 55,
   "id": "9640c56e",
   "metadata": {},
   "outputs": [
    {
     "data": {
      "text/plain": [
       "42943.799999999996"
      ]
     },
     "execution_count": 55,
     "metadata": {},
     "output_type": "execute_result"
    }
   ],
   "source": [
    "143146*0.3"
   ]
  },
  {
   "cell_type": "code",
   "execution_count": 20,
   "id": "7a7e2390",
   "metadata": {},
   "outputs": [
    {
     "name": "stdout",
     "output_type": "stream",
     "text": [
      "<class 'numpy.ndarray'>\n",
      "(103238, 45)\n",
      "(103238,)\n",
      "<class 'numpy.ndarray'>\n"
     ]
    }
   ],
   "source": [
    "# 7:3 train, val set 분리\n",
    "x_val = X_train[:42944]   \n",
    "y_val = y_train[:42944]\n",
    "\n",
    "partial_x_train = X_train[42944:]  \n",
    "partial_y_train = y_train[42944:]\n",
    "print(type(partial_x_train))\n",
    "print(partial_x_train.shape)\n",
    "print(partial_y_train.shape)\n",
    "\n",
    "partial_x_train = np.array(partial_x_train)\n",
    "partial_y_train = np.array(partial_y_train)\n",
    "\n",
    "print(type(partial_x_train))"
   ]
  },
  {
   "cell_type": "markdown",
   "id": "d1bf914d",
   "metadata": {},
   "source": [
    "### LSTM"
   ]
  },
  {
   "cell_type": "code",
   "execution_count": 23,
   "id": "e73ce530",
   "metadata": {},
   "outputs": [
    {
     "name": "stdout",
     "output_type": "stream",
     "text": [
      "Model: \"sequential_1\"\n",
      "_________________________________________________________________\n",
      "Layer (type)                 Output Shape              Param #   \n",
      "=================================================================\n",
      "embedding_1 (Embedding)      (None, None, 32)          320000    \n",
      "_________________________________________________________________\n",
      "lstm (LSTM)                  (None, 32)                8320      \n",
      "_________________________________________________________________\n",
      "dense_2 (Dense)              (None, 16)                528       \n",
      "_________________________________________________________________\n",
      "dense_3 (Dense)              (None, 8)                 136       \n",
      "_________________________________________________________________\n",
      "dense_4 (Dense)              (None, 1)                 9         \n",
      "=================================================================\n",
      "Total params: 328,993\n",
      "Trainable params: 328,993\n",
      "Non-trainable params: 0\n",
      "_________________________________________________________________\n"
     ]
    }
   ],
   "source": [
    "vocab_size = 10000    # 어휘 사전의 크기입니다(10,000개의 단어)\n",
    "word_vector_dim = 32  # 워드 벡터의 차원 수 (변경 가능한 하이퍼파라미터)\n",
    "\n",
    "# model 설계 - 딥러닝 모델 코드를 직접 작성해 주세요.\n",
    "model = tf.keras.Sequential()\n",
    "model.add(tf.keras.layers.Embedding(vocab_size, word_vector_dim, input_shape=(None,)))\n",
    "model.add(tf.keras.layers.LSTM(32))   \n",
    "model.add(tf.keras.layers.Dense(16, activation='relu'))\n",
    "model.add(tf.keras.layers.Dense(8, activation='relu'))\n",
    "model.add(tf.keras.layers.Dense(1, activation='sigmoid')) \n",
    "\n",
    "model.summary()"
   ]
  },
  {
   "cell_type": "code",
   "execution_count": 24,
   "id": "17df5d51",
   "metadata": {},
   "outputs": [
    {
     "name": "stdout",
     "output_type": "stream",
     "text": [
      "Epoch 1/15\n",
      "404/404 [==============================] - 7s 8ms/step - loss: 0.5167 - accuracy: 0.7061 - val_loss: 0.3737 - val_accuracy: 0.8333\n",
      "Epoch 2/15\n",
      "404/404 [==============================] - 2s 6ms/step - loss: 0.3517 - accuracy: 0.8464 - val_loss: 0.3649 - val_accuracy: 0.8368\n",
      "Epoch 3/15\n",
      "404/404 [==============================] - 2s 6ms/step - loss: 0.3262 - accuracy: 0.8572 - val_loss: 0.3628 - val_accuracy: 0.8389\n",
      "Epoch 4/15\n",
      "404/404 [==============================] - 2s 6ms/step - loss: 0.3035 - accuracy: 0.8653 - val_loss: 0.3819 - val_accuracy: 0.8378\n",
      "Epoch 5/15\n",
      "404/404 [==============================] - 2s 6ms/step - loss: 0.2841 - accuracy: 0.8731 - val_loss: 0.3868 - val_accuracy: 0.8373\n",
      "Epoch 6/15\n",
      "404/404 [==============================] - 2s 6ms/step - loss: 0.2636 - accuracy: 0.8802 - val_loss: 0.3854 - val_accuracy: 0.8380\n",
      "Epoch 7/15\n",
      "404/404 [==============================] - 2s 6ms/step - loss: 0.2461 - accuracy: 0.8893 - val_loss: 0.4100 - val_accuracy: 0.8370\n",
      "Epoch 8/15\n",
      "404/404 [==============================] - 2s 6ms/step - loss: 0.2309 - accuracy: 0.8970 - val_loss: 0.4380 - val_accuracy: 0.8349\n",
      "Epoch 9/15\n",
      "404/404 [==============================] - 2s 6ms/step - loss: 0.2160 - accuracy: 0.9048 - val_loss: 0.4518 - val_accuracy: 0.8358\n",
      "Epoch 10/15\n",
      "404/404 [==============================] - 2s 6ms/step - loss: 0.2036 - accuracy: 0.9115 - val_loss: 0.4660 - val_accuracy: 0.8306\n",
      "Epoch 11/15\n",
      "404/404 [==============================] - 2s 6ms/step - loss: 0.1930 - accuracy: 0.9160 - val_loss: 0.4825 - val_accuracy: 0.8277\n",
      "Epoch 12/15\n",
      "404/404 [==============================] - 2s 6ms/step - loss: 0.1835 - accuracy: 0.9211 - val_loss: 0.5121 - val_accuracy: 0.8238\n",
      "Epoch 13/15\n",
      "404/404 [==============================] - 2s 6ms/step - loss: 0.1736 - accuracy: 0.9260 - val_loss: 0.5276 - val_accuracy: 0.8285\n",
      "Epoch 14/15\n",
      "404/404 [==============================] - 2s 6ms/step - loss: 0.1671 - accuracy: 0.9292 - val_loss: 0.5255 - val_accuracy: 0.8252\n",
      "Epoch 15/15\n",
      "404/404 [==============================] - 2s 6ms/step - loss: 0.1601 - accuracy: 0.9311 - val_loss: 0.5583 - val_accuracy: 0.8259\n"
     ]
    }
   ],
   "source": [
    "model.compile(optimizer='adam',\n",
    "              loss='binary_crossentropy',\n",
    "              metrics=['accuracy'])\n",
    "              \n",
    "epochs=15  # 몇 epoch를 훈련하면 좋을지 결과를 보면서 바꾸어 봅시다. \n",
    "\n",
    "\n",
    "\n",
    "history = model.fit(partial_x_train,\n",
    "                    partial_y_train,\n",
    "                    epochs=epochs,\n",
    "                    batch_size=256,\n",
    "                    validation_data=(x_val, y_val),\n",
    "                    verbose=1)"
   ]
  },
  {
   "cell_type": "code",
   "execution_count": 25,
   "id": "1aa98027",
   "metadata": {},
   "outputs": [
    {
     "name": "stdout",
     "output_type": "stream",
     "text": [
      "1537/1537 - 3s - loss: 0.5490 - accuracy: 0.8270\n",
      "[0.5490152835845947, 0.8270439505577087]\n"
     ]
    }
   ],
   "source": [
    "results = model.evaluate(X_test,  y_test, verbose=2)\n",
    "\n",
    "print(results)"
   ]
  },
  {
   "cell_type": "code",
   "execution_count": 29,
   "id": "aa5b8367",
   "metadata": {},
   "outputs": [],
   "source": [
    "from gensim.models.keyedvectors import KeyedVectors"
   ]
  },
  {
   "cell_type": "markdown",
   "id": "9d2bea2a",
   "metadata": {},
   "source": [
    "## LSTM으로 학습된 임베딩 레이어의 단어 간 연관도"
   ]
  },
  {
   "cell_type": "code",
   "execution_count": 30,
   "id": "5ef7d25f",
   "metadata": {},
   "outputs": [
    {
     "name": "stderr",
     "output_type": "stream",
     "text": [
      "/opt/conda/lib/python3.9/site-packages/gensim/models/keyedvectors.py:478: UserWarning: Adding single vectors to a KeyedVectors which grows by one each time can be costly. Consider adding in batches or preallocating to the required size.\n",
      "  warnings.warn(\n"
     ]
    },
    {
     "name": "stdout",
     "output_type": "stream",
     "text": [
      "영화와 유사한 단어:\n",
      "봄: 0.6236\n",
      "이야기: 0.5444\n",
      "대해: 0.5369\n",
      "드라마: 0.5097\n",
      "네여: 0.5032\n",
      "부질없: 0.4990\n",
      "따윈: 0.4978\n",
      "쏘우: 0.4978\n",
      "차이: 0.4936\n",
      "불쌍: 0.4880\n"
     ]
    }
   ],
   "source": [
    "embedding_layer = model.layers[0]  \n",
    "embedding_weights = embedding_layer.get_weights()[0]  \n",
    "\n",
    "# 다시 index_to_word\n",
    "index_to_word = {index: word for word, index in word_to_index.items()}\n",
    "\n",
    "# 매핑\n",
    "word_vectors = KeyedVectors(vector_size=word_vector_dim)\n",
    "for i in range(3, vocab_size):  # 특수 토큰 3개\n",
    "    if i in index_to_word:\n",
    "        word_vectors.add_vector(index_to_word[i], embedding_weights[i])\n",
    "\n",
    "# 4. 유사도 측정\n",
    "print(\"영화와 유사한 단어:\")\n",
    "similar_words = word_vectors.similar_by_word(\"영화\", topn=10)\n",
    "for word, similarity in similar_words:\n",
    "    print(f\"{word}: {similarity:.4f}\")"
   ]
  },
  {
   "cell_type": "code",
   "execution_count": 31,
   "id": "42354c94",
   "metadata": {},
   "outputs": [
    {
     "name": "stdout",
     "output_type": "stream",
     "text": [
      "영화와 유사한 단어:\n",
      "별로: 0.9800\n",
      "오만: 0.9764\n",
      "일수록: 0.9752\n",
      "허접: 0.9743\n",
      "최루성: 0.9695\n",
      "하품: 0.9694\n",
      "엉성: 0.9670\n",
      "쥐어짜: 0.9665\n",
      "왜곡: 0.9656\n",
      "지루함: 0.9654\n"
     ]
    }
   ],
   "source": [
    "embedding_layer = model.layers[0]  \n",
    "embedding_weights = embedding_layer.get_weights()[0]  \n",
    "\n",
    "# 다시 index_to_word\n",
    "index_to_word = {index: word for word, index in word_to_index.items()}\n",
    "\n",
    "# 매핑\n",
    "word_vectors = KeyedVectors(vector_size=word_vector_dim)\n",
    "for i in range(3, vocab_size):  # 특수 토큰 3개\n",
    "    if i in index_to_word:\n",
    "        word_vectors.add_vector(index_to_word[i], embedding_weights[i])\n",
    "\n",
    "# 4. 유사도 측정\n",
    "print(\"쓰레기와 유사한 단어:\")\n",
    "similar_words = word_vectors.similar_by_word(\"쓰레기\", topn=10)\n",
    "for word, similarity in similar_words:\n",
    "    print(f\"{word}: {similarity:.4f}\")"
   ]
  },
  {
   "cell_type": "code",
   "execution_count": 50,
   "id": "2af4f209",
   "metadata": {},
   "outputs": [
    {
     "name": "stdout",
     "output_type": "stream",
     "text": [
      "영화와 유사한 단어:\n",
      "스킵: 0.9776\n",
      "딱히: 0.9754\n",
      "전작: 0.9658\n",
      "싸구려: 0.9654\n",
      "심형래: 0.9628\n",
      "오징어: 0.9607\n",
      "쓰레기: 0.9596\n",
      "한심: 0.9586\n",
      "아마추어: 0.9584\n",
      "육성: 0.9578\n"
     ]
    }
   ],
   "source": [
    "embedding_layer = model.layers[0]  \n",
    "embedding_weights = embedding_layer.get_weights()[0]  \n",
    "\n",
    "# 다시 index_to_word\n",
    "index_to_word = {index: word for word, index in word_to_index.items()}\n",
    "\n",
    "# 매핑\n",
    "word_vectors = KeyedVectors(vector_size=word_vector_dim)\n",
    "for i in range(3, vocab_size):  # 특수 토큰 3개\n",
    "    if i in index_to_word:\n",
    "        word_vectors.add_vector(index_to_word[i], embedding_weights[i])\n",
    "\n",
    "# 4. 유사도 측정\n",
    "print(\"재미없-과 유사한 단어:\")\n",
    "similar_words = word_vectors.similar_by_word(\"재미없\", topn=10)\n",
    "for word, similarity in similar_words:\n",
    "    print(f\"{word}: {similarity:.4f}\")"
   ]
  },
  {
   "cell_type": "code",
   "execution_count": 26,
   "id": "cc778bdc",
   "metadata": {},
   "outputs": [
    {
     "name": "stdout",
     "output_type": "stream",
     "text": [
      "dict_keys(['loss', 'accuracy', 'val_loss', 'val_accuracy'])\n"
     ]
    }
   ],
   "source": [
    "history_dict = history.history\n",
    "print(history_dict.keys()) # epoch에 따른 그래프를 그려볼 수 있는 항목들"
   ]
  },
  {
   "cell_type": "code",
   "execution_count": 27,
   "id": "437f57a5",
   "metadata": {},
   "outputs": [
    {
     "data": {
      "image/png": "[encoded data removed]",
      "text/plain": [
       "<Figure size 432x288 with 1 Axes>"
      ]
     },
     "metadata": {
      "needs_background": "light"
     },
     "output_type": "display_data"
    }
   ],
   "source": [
    "import matplotlib.pyplot as plt\n",
    "\n",
    "acc = history_dict['accuracy']\n",
    "val_acc = history_dict['val_accuracy']\n",
    "loss = history_dict['loss']\n",
    "val_loss = history_dict['val_loss']\n",
    "\n",
    "epochs = range(1, len(acc) + 1)\n",
    "\n",
    "# \"bo\"는 \"파란색 점\"입니다\n",
    "plt.plot(epochs, loss, 'bo', label='Training loss')\n",
    "# b는 \"파란 실선\"입니다\n",
    "plt.plot(epochs, val_loss, 'b', label='Validation loss')\n",
    "plt.title('Training and validation loss')\n",
    "plt.xlabel('Epochs')\n",
    "plt.ylabel('Loss')\n",
    "plt.legend()\n",
    "\n",
    "plt.show()"
   ]
  },
  {
   "cell_type": "code",
   "execution_count": 28,
   "id": "83bda770",
   "metadata": {},
   "outputs": [
    {
     "data": {
      "image/png": "[encoded data removed]",
      "text/plain": [
       "<Figure size 432x288 with 1 Axes>"
      ]
     },
     "metadata": {
      "needs_background": "light"
     },
     "output_type": "display_data"
    }
   ],
   "source": [
    "plt.clf()   # 그림을 초기화합니다\n",
    "\n",
    "plt.plot(epochs, acc, 'bo', label='Training acc')\n",
    "plt.plot(epochs, val_acc, 'b', label='Validation acc')\n",
    "plt.title('Training and validation accuracy')\n",
    "plt.xlabel('Epochs')\n",
    "plt.ylabel('Accuracy')\n",
    "plt.legend()\n",
    "\n",
    "plt.show()"
   ]
  },
  {
   "cell_type": "markdown",
   "id": "05c39108",
   "metadata": {},
   "source": [
    "* 갈 길이 멀다. "
   ]
  },
  {
   "cell_type": "markdown",
   "id": "cf5e6dcc",
   "metadata": {},
   "source": [
    "### 양방향 LSTM"
   ]
  },
  {
   "cell_type": "code",
   "execution_count": 51,
   "id": "dacb3258",
   "metadata": {},
   "outputs": [
    {
     "name": "stdout",
     "output_type": "stream",
     "text": [
      "Model: \"sequential_2\"\n",
      "_________________________________________________________________\n",
      "Layer (type)                 Output Shape              Param #   \n",
      "=================================================================\n",
      "embedding_2 (Embedding)      (None, None, 32)          320000    \n",
      "_________________________________________________________________\n",
      "bidirectional (Bidirectional (None, None, 128)         49664     \n",
      "_________________________________________________________________\n",
      "dropout_3 (Dropout)          (None, None, 128)         0         \n",
      "_________________________________________________________________\n",
      "batch_normalization_3 (Batch (None, None, 128)         512       \n",
      "_________________________________________________________________\n",
      "bidirectional_1 (Bidirection (None, 128)               98816     \n",
      "_________________________________________________________________\n",
      "dropout_4 (Dropout)          (None, 128)               0         \n",
      "_________________________________________________________________\n",
      "batch_normalization_4 (Batch (None, 128)               512       \n",
      "_________________________________________________________________\n",
      "dense_5 (Dense)              (None, 32)                4128      \n",
      "_________________________________________________________________\n",
      "dropout_5 (Dropout)          (None, 32)                0         \n",
      "_________________________________________________________________\n",
      "batch_normalization_5 (Batch (None, 32)                128       \n",
      "_________________________________________________________________\n",
      "dense_6 (Dense)              (None, 16)                528       \n",
      "_________________________________________________________________\n",
      "dropout_6 (Dropout)          (None, 16)                0         \n",
      "_________________________________________________________________\n",
      "batch_normalization_6 (Batch (None, 16)                64        \n",
      "_________________________________________________________________\n",
      "dense_7 (Dense)              (None, 8)                 136       \n",
      "_________________________________________________________________\n",
      "dropout_7 (Dropout)          (None, 8)                 0         \n",
      "_________________________________________________________________\n",
      "batch_normalization_7 (Batch (None, 8)                 32        \n",
      "_________________________________________________________________\n",
      "dense_8 (Dense)              (None, 1)                 9         \n",
      "=================================================================\n",
      "Total params: 474,529\n",
      "Trainable params: 473,905\n",
      "Non-trainable params: 624\n",
      "_________________________________________________________________\n"
     ]
    }
   ],
   "source": [
    "vocab_size = 10000 \n",
    "word_vector_dim = 32 \n",
    "\n",
    "# 모델 \n",
    "model = tf.keras.Sequential()\n",
    "model.add(tf.keras.layers.Embedding(vocab_size, word_vector_dim, input_shape=(None,)))\n",
    "\n",
    "# 양방향 LSTM + Dropout + 배치 정규화\n",
    "model.add(tf.keras.layers.Bidirectional(tf.keras.layers.LSTM(64, return_sequences=True)))\n",
    "model.add(tf.keras.layers.Dropout(0.5))\n",
    "model.add(tf.keras.layers.BatchNormalization())\n",
    "\n",
    "# gpt가 양방향 LSTM층을 하나 더 넣으면 학습하는데 더 좋다고 한다.  한 번 넣어보자. \n",
    "model.add(tf.keras.layers.Bidirectional(tf.keras.layers.LSTM(64)))\n",
    "model.add(tf.keras.layers.Dropout(0.5))\n",
    "model.add(tf.keras.layers.BatchNormalization())\n",
    "\n",
    "# Dense LAYER\n",
    "model.add(tf.keras.layers.Dense(32, activation='relu'))\n",
    "model.add(tf.keras.layers.Dropout(0.5))\n",
    "model.add(tf.keras.layers.BatchNormalization())\n",
    "\n",
    "model.add(tf.keras.layers.Dense(16, activation='relu'))\n",
    "model.add(tf.keras.layers.Dropout(0.5))\n",
    "model.add(tf.keras.layers.BatchNormalization())\n",
    "\n",
    "model.add(tf.keras.layers.Dense(8, activation='relu'))\n",
    "model.add(tf.keras.layers.Dropout(0.5))\n",
    "model.add(tf.keras.layers.BatchNormalization())\n",
    "\n",
    "# 출력 시그모이드\n",
    "model.add(tf.keras.layers.Dense(1, activation='sigmoid'))\n",
    "\n",
    "model.summary()"
   ]
  },
  {
   "cell_type": "code",
   "execution_count": 52,
   "id": "f91e71cf",
   "metadata": {},
   "outputs": [],
   "source": [
    "from tensorflow.keras.callbacks import ModelCheckpoint"
   ]
  },
  {
   "cell_type": "code",
   "execution_count": 53,
   "id": "e174d078",
   "metadata": {},
   "outputs": [],
   "source": [
    "# 콜백 \n",
    "checkpoint_path = \"best_model.h5\"\n",
    "checkpoint = ModelCheckpoint(filepath=checkpoint_path,\n",
    "                             monitor='val_accuracy',  # val_accuracy 가 가장 높은거\n",
    "                             save_best_only=True,\n",
    "                             verbose=1)"
   ]
  },
  {
   "cell_type": "code",
   "execution_count": 54,
   "id": "ab7ffc4e",
   "metadata": {},
   "outputs": [
    {
     "name": "stdout",
     "output_type": "stream",
     "text": [
      "Epoch 1/15\n",
      "404/404 [==============================] - 14s 21ms/step - loss: 0.7224 - accuracy: 0.5520 - val_loss: 0.6276 - val_accuracy: 0.6304\n",
      "\n",
      "Epoch 00001: val_accuracy improved from -inf to 0.63036, saving model to best_model.h5\n",
      "Epoch 2/15\n",
      "404/404 [==============================] - 7s 18ms/step - loss: 0.5147 - accuracy: 0.7653 - val_loss: 0.4040 - val_accuracy: 0.8126\n",
      "\n",
      "Epoch 00002: val_accuracy improved from 0.63036 to 0.81259, saving model to best_model.h5\n",
      "Epoch 3/15\n",
      "404/404 [==============================] - 7s 18ms/step - loss: 0.4392 - accuracy: 0.8137 - val_loss: 0.3920 - val_accuracy: 0.8225\n",
      "\n",
      "Epoch 00003: val_accuracy improved from 0.81259 to 0.82249, saving model to best_model.h5\n",
      "Epoch 4/15\n",
      "404/404 [==============================] - 7s 18ms/step - loss: 0.4029 - accuracy: 0.8308 - val_loss: 0.4173 - val_accuracy: 0.8024\n",
      "\n",
      "Epoch 00004: val_accuracy did not improve from 0.82249\n",
      "Epoch 5/15\n",
      "404/404 [==============================] - 7s 18ms/step - loss: 0.3788 - accuracy: 0.8425 - val_loss: 0.3731 - val_accuracy: 0.8400\n",
      "\n",
      "Epoch 00005: val_accuracy improved from 0.82249 to 0.83995, saving model to best_model.h5\n",
      "Epoch 6/15\n",
      "404/404 [==============================] - 7s 18ms/step - loss: 0.3546 - accuracy: 0.8549 - val_loss: 0.4060 - val_accuracy: 0.8204\n",
      "\n",
      "Epoch 00006: val_accuracy did not improve from 0.83995\n",
      "Epoch 7/15\n",
      "404/404 [==============================] - 7s 18ms/step - loss: 0.3319 - accuracy: 0.8648 - val_loss: 0.3885 - val_accuracy: 0.8295\n",
      "\n",
      "Epoch 00007: val_accuracy did not improve from 0.83995\n",
      "Epoch 8/15\n",
      "404/404 [==============================] - 8s 19ms/step - loss: 0.3143 - accuracy: 0.8734 - val_loss: 0.4439 - val_accuracy: 0.8217\n",
      "\n",
      "Epoch 00008: val_accuracy did not improve from 0.83995\n",
      "Epoch 9/15\n",
      "404/404 [==============================] - 8s 19ms/step - loss: 0.2979 - accuracy: 0.8829 - val_loss: 0.4389 - val_accuracy: 0.8273\n",
      "\n",
      "Epoch 00009: val_accuracy did not improve from 0.83995\n",
      "Epoch 10/15\n",
      "404/404 [==============================] - 8s 19ms/step - loss: 0.2812 - accuracy: 0.8887 - val_loss: 0.4564 - val_accuracy: 0.8371\n",
      "\n",
      "Epoch 00010: val_accuracy did not improve from 0.83995\n",
      "Epoch 11/15\n",
      "404/404 [==============================] - 7s 18ms/step - loss: 0.2687 - accuracy: 0.8962 - val_loss: 0.5189 - val_accuracy: 0.8392\n",
      "\n",
      "Epoch 00011: val_accuracy did not improve from 0.83995\n",
      "Epoch 12/15\n",
      "404/404 [==============================] - 7s 18ms/step - loss: 0.2556 - accuracy: 0.9013 - val_loss: 0.5118 - val_accuracy: 0.8365\n",
      "\n",
      "Epoch 00012: val_accuracy did not improve from 0.83995\n",
      "Epoch 13/15\n",
      "404/404 [==============================] - 7s 18ms/step - loss: 0.2478 - accuracy: 0.9036 - val_loss: 0.5215 - val_accuracy: 0.8300\n",
      "\n",
      "Epoch 00013: val_accuracy did not improve from 0.83995\n",
      "Epoch 14/15\n",
      "404/404 [==============================] - 7s 18ms/step - loss: 0.2352 - accuracy: 0.9097 - val_loss: 0.5904 - val_accuracy: 0.8341\n",
      "\n",
      "Epoch 00014: val_accuracy did not improve from 0.83995\n",
      "Epoch 15/15\n",
      "404/404 [==============================] - 7s 18ms/step - loss: 0.2249 - accuracy: 0.9129 - val_loss: 0.6424 - val_accuracy: 0.8339\n",
      "\n",
      "Epoch 00015: val_accuracy did not improve from 0.83995\n"
     ]
    }
   ],
   "source": [
    "model.compile(optimizer='adam',\n",
    "              loss='binary_crossentropy',\n",
    "              metrics=['accuracy'])\n",
    "              \n",
    "epochs=15  # 몇 epoch를 훈련하면 좋을지 결과를 보면서 바꾸어 봅시다. \n",
    "\n",
    "\n",
    "history = model.fit(partial_x_train,\n",
    "                    partial_y_train,\n",
    "                    epochs=epochs,\n",
    "                    batch_size=256,\n",
    "                    validation_data=(x_val, y_val),\n",
    "                    callbacks=[checkpoint], \n",
    "                    verbose=1)"
   ]
  },
  {
   "cell_type": "code",
   "execution_count": 55,
   "id": "835de69c",
   "metadata": {},
   "outputs": [
    {
     "name": "stdout",
     "output_type": "stream",
     "text": [
      "영화와 유사한 단어:\n",
      "디카프리오: 0.7609\n",
      "는다: 0.7443\n",
      "바라: 0.7265\n",
      "중심: 0.7229\n",
      "어요: 0.7130\n",
      "고발: 0.7067\n",
      "조지클루니: 0.7062\n",
      "지울: 0.7055\n",
      "로봇: 0.6987\n",
      "본성: 0.6938\n"
     ]
    }
   ],
   "source": [
    "embedding_layer = model.layers[0]  \n",
    "embedding_weights = embedding_layer.get_weights()[0]  \n",
    "\n",
    "# 다시 index_to_word\n",
    "index_to_word = {index: word for word, index in word_to_index.items()}\n",
    "\n",
    "# 매핑\n",
    "word_vectors = KeyedVectors(vector_size=word_vector_dim)\n",
    "for i in range(3, vocab_size):  # 특수 토큰 3개\n",
    "    if i in index_to_word:\n",
    "        word_vectors.add_vector(index_to_word[i], embedding_weights[i])\n",
    "\n",
    "# 4. 유사도 측정\n",
    "print(\"영화와 유사한 단어:\")\n",
    "similar_words = word_vectors.similar_by_word(\"영화\", topn=10)\n",
    "for word, similarity in similar_words:\n",
    "    print(f\"{word}: {similarity:.4f}\")"
   ]
  },
  {
   "cell_type": "markdown",
   "id": "2eeeb390",
   "metadata": {},
   "source": [
    "## 양방향 LSTM으로 학습된 임베딩 레이어의 단어 간 연관도\n",
    "### 쓰레기와 재미없-이 가장 큰 유사도를 보이기 시작했다. 그 아래로도 졸작, 어이없- 이딴- 같은 거친? 언어들이 높은 유사도를 보인다"
   ]
  },
  {
   "cell_type": "code",
   "execution_count": 56,
   "id": "693b0956",
   "metadata": {},
   "outputs": [
    {
     "name": "stdout",
     "output_type": "stream",
     "text": [
      "쓰레기와 유사한 단어:\n",
      "재미없: 0.9705\n",
      "쓸데없이: 0.9417\n",
      "졸작: 0.9331\n",
      "이딴: 0.9313\n",
      "망하: 0.9258\n",
      "산만: 0.9207\n",
      "허접: 0.9192\n",
      "어이없: 0.9153\n",
      "둘째: 0.9121\n",
      "한숨: 0.9093\n"
     ]
    }
   ],
   "source": [
    "embedding_layer = model.layers[0]  \n",
    "embedding_weights = embedding_layer.get_weights()[0]  \n",
    "\n",
    "# 다시 index_to_word\n",
    "index_to_word = {index: word for word, index in word_to_index.items()}\n",
    "\n",
    "# 매핑\n",
    "word_vectors = KeyedVectors(vector_size=word_vector_dim)\n",
    "for i in range(3, vocab_size):  # 특수 토큰 3개\n",
    "    if i in index_to_word:\n",
    "        word_vectors.add_vector(index_to_word[i], embedding_weights[i])\n",
    "\n",
    "# 4. 유사도 측정\n",
    "print(\"쓰레기와 유사한 단어:\")\n",
    "similar_words = word_vectors.similar_by_word(\"쓰레기\", topn=10)\n",
    "for word, similarity in similar_words:\n",
    "    print(f\"{word}: {similarity:.4f}\")"
   ]
  },
  {
   "cell_type": "code",
   "execution_count": 79,
   "id": "456fb0fa",
   "metadata": {},
   "outputs": [
    {
     "name": "stdout",
     "output_type": "stream",
     "text": [
      "1509/1509 - 7s - loss: 0.4708 - accuracy: 0.8374\n",
      "Test Loss, Test Accuracy: [0.4708107113838196, 0.837425172328949]\n"
     ]
    }
   ],
   "source": [
    "# 제일 좋은 가중치 로드\n",
    "model.load_weights(checkpoint_path)\n",
    "\n",
    "# 평가\n",
    "results = model.evaluate(X_test, y_test, verbose=2)\n",
    "print(\"Test Loss, Test Accuracy:\", results)"
   ]
  },
  {
   "cell_type": "code",
   "execution_count": 80,
   "id": "985e2ad2",
   "metadata": {},
   "outputs": [
    {
     "name": "stdout",
     "output_type": "stream",
     "text": [
      "dict_keys(['loss', 'accuracy', 'val_loss', 'val_accuracy'])\n"
     ]
    }
   ],
   "source": [
    "history_dict = history.history\n",
    "print(history_dict.keys()) # epoch에 따른 그래프를 그려볼 수 있는 항목들"
   ]
  },
  {
   "cell_type": "code",
   "execution_count": 81,
   "id": "1febe706",
   "metadata": {},
   "outputs": [
    {
     "data": {
      "image/png": "[encoded data removed]",
      "text/plain": [
       "<Figure size 432x288 with 1 Axes>"
      ]
     },
     "metadata": {
      "needs_background": "light"
     },
     "output_type": "display_data"
    }
   ],
   "source": [
    "acc = history_dict['accuracy']\n",
    "val_acc = history_dict['val_accuracy']\n",
    "loss = history_dict['loss']\n",
    "val_loss = history_dict['val_loss']\n",
    "\n",
    "epochs = range(1, len(acc) + 1)\n",
    "\n",
    "# \"bo\"는 \"파란색 점\"입니다\n",
    "plt.plot(epochs, loss, 'bo', label='Training loss')\n",
    "# b는 \"파란 실선\"입니다\n",
    "plt.plot(epochs, val_loss, 'b', label='Validation loss')\n",
    "plt.title('Training and validation loss')\n",
    "plt.xlabel('Epochs')\n",
    "plt.ylabel('Loss')\n",
    "plt.legend()\n",
    "\n",
    "plt.show()"
   ]
  },
  {
   "cell_type": "code",
   "execution_count": 82,
   "id": "5f2e8103",
   "metadata": {},
   "outputs": [
    {
     "data": {
      "image/png": "[encoded data removed]",
      "text/plain": [
       "<Figure size 432x288 with 1 Axes>"
      ]
     },
     "metadata": {
      "needs_background": "light"
     },
     "output_type": "display_data"
    }
   ],
   "source": [
    "plt.clf()   # 그림을 초기화합니다\n",
    "\n",
    "plt.plot(epochs, acc, 'bo', label='Training acc')\n",
    "plt.plot(epochs, val_acc, 'b', label='Validation acc')\n",
    "plt.title('Training and validation accuracy')\n",
    "plt.xlabel('Epochs')\n",
    "plt.ylabel('Accuracy')\n",
    "plt.legend()\n",
    "\n",
    "plt.show()"
   ]
  },
  {
   "cell_type": "markdown",
   "id": "5715a7cd",
   "metadata": {},
   "source": [
    "* 비슷하다. 차이를 못 느끼겠다."
   ]
  },
  {
   "cell_type": "markdown",
   "id": "c91ab36e",
   "metadata": {},
   "source": [
    "### 1D Conv"
   ]
  },
  {
   "cell_type": "code",
   "execution_count": 60,
   "id": "d94031d7",
   "metadata": {},
   "outputs": [
    {
     "name": "stdout",
     "output_type": "stream",
     "text": [
      "Model: \"sequential_4\"\n",
      "_________________________________________________________________\n",
      "Layer (type)                 Output Shape              Param #   \n",
      "=================================================================\n",
      "embedding_4 (Embedding)      (None, None, 64)          640000    \n",
      "_________________________________________________________________\n",
      "conv1d_4 (Conv1D)            (None, None, 64)          16448     \n",
      "_________________________________________________________________\n",
      "batch_normalization_11 (Batc (None, None, 64)          256       \n",
      "_________________________________________________________________\n",
      "max_pooling1d_2 (MaxPooling1 (None, None, 64)          0         \n",
      "_________________________________________________________________\n",
      "dropout_11 (Dropout)         (None, None, 64)          0         \n",
      "_________________________________________________________________\n",
      "conv1d_5 (Conv1D)            (None, None, 32)          8224      \n",
      "_________________________________________________________________\n",
      "batch_normalization_12 (Batc (None, None, 32)          128       \n",
      "_________________________________________________________________\n",
      "global_max_pooling1d_2 (Glob (None, 32)                0         \n",
      "_________________________________________________________________\n",
      "dropout_12 (Dropout)         (None, 32)                0         \n",
      "_________________________________________________________________\n",
      "dense_11 (Dense)             (None, 8)                 264       \n",
      "_________________________________________________________________\n",
      "batch_normalization_13 (Batc (None, 8)                 32        \n",
      "_________________________________________________________________\n",
      "dropout_13 (Dropout)         (None, 8)                 0         \n",
      "_________________________________________________________________\n",
      "dense_12 (Dense)             (None, 1)                 9         \n",
      "=================================================================\n",
      "Total params: 665,361\n",
      "Trainable params: 665,153\n",
      "Non-trainable params: 208\n",
      "_________________________________________________________________\n"
     ]
    }
   ],
   "source": [
    "vocab_size = 10000 \n",
    "word_vector_dim = 64 # 임베딩 차원을 늘려보자\n",
    "\n",
    "# 모델 \n",
    "model = tf.keras.Sequential()\n",
    "model.add(tf.keras.layers.Embedding(vocab_size, word_vector_dim, input_shape=(None,)))\n",
    "\n",
    "# Conv1D + BatchNorm + Dropout\n",
    "model.add(tf.keras.layers.Conv1D(64, 4, activation='relu'))\n",
    "model.add(tf.keras.layers.BatchNormalization()) \n",
    "model.add(tf.keras.layers.MaxPooling1D(5))\n",
    "model.add(tf.keras.layers.Dropout(0.5)) \n",
    "\n",
    "model.add(tf.keras.layers.Conv1D(32, 4, activation='relu'))\n",
    "model.add(tf.keras.layers.BatchNormalization()) \n",
    "model.add(tf.keras.layers.GlobalMaxPooling1D())\n",
    "model.add(tf.keras.layers.Dropout(0.5)) \n",
    "\n",
    "# Dense layer\n",
    "model.add(tf.keras.layers.Dense(8, activation='relu'))\n",
    "model.add(tf.keras.layers.BatchNormalization())\n",
    "model.add(tf.keras.layers.Dropout(0.5)) \n",
    "\n",
    "model.add(tf.keras.layers.Dense(1, activation='sigmoid'))\n",
    "\n",
    "model.summary()"
   ]
  },
  {
   "cell_type": "code",
   "execution_count": 61,
   "id": "c1cebdd2",
   "metadata": {},
   "outputs": [],
   "source": [
    "# 콜백 \n",
    "checkpoint_path = \"best_model_1DConv.h5\"\n",
    "checkpoint = ModelCheckpoint(filepath=checkpoint_path,\n",
    "                             monitor='val_accuracy', \n",
    "                             save_best_only=True,\n",
    "                             verbose=1)"
   ]
  },
  {
   "cell_type": "code",
   "execution_count": 62,
   "id": "32021c1b",
   "metadata": {},
   "outputs": [
    {
     "name": "stdout",
     "output_type": "stream",
     "text": [
      "Epoch 1/10\n",
      "404/404 [==============================] - 4s 7ms/step - loss: 0.7433 - accuracy: 0.5909 - val_loss: 0.5634 - val_accuracy: 0.8010\n",
      "\n",
      "Epoch 00001: val_accuracy improved from -inf to 0.80100, saving model to best_model_1DConv.h5\n",
      "Epoch 2/10\n",
      "404/404 [==============================] - 3s 7ms/step - loss: 0.4634 - accuracy: 0.7931 - val_loss: 0.3756 - val_accuracy: 0.8327\n",
      "\n",
      "Epoch 00002: val_accuracy improved from 0.80100 to 0.83269, saving model to best_model_1DConv.h5\n",
      "Epoch 3/10\n",
      "404/404 [==============================] - 3s 7ms/step - loss: 0.4005 - accuracy: 0.8334 - val_loss: 0.3598 - val_accuracy: 0.8396\n",
      "\n",
      "Epoch 00003: val_accuracy improved from 0.83269 to 0.83956, saving model to best_model_1DConv.h5\n",
      "Epoch 4/10\n",
      "404/404 [==============================] - 3s 7ms/step - loss: 0.3660 - accuracy: 0.8541 - val_loss: 0.3533 - val_accuracy: 0.8427\n",
      "\n",
      "Epoch 00004: val_accuracy improved from 0.83956 to 0.84268, saving model to best_model_1DConv.h5\n",
      "Epoch 5/10\n",
      "404/404 [==============================] - 3s 7ms/step - loss: 0.3367 - accuracy: 0.8697 - val_loss: 0.3564 - val_accuracy: 0.8448\n",
      "\n",
      "Epoch 00005: val_accuracy improved from 0.84268 to 0.84480, saving model to best_model_1DConv.h5\n",
      "Epoch 6/10\n",
      "404/404 [==============================] - 3s 7ms/step - loss: 0.3106 - accuracy: 0.8813 - val_loss: 0.3614 - val_accuracy: 0.8448\n",
      "\n",
      "Epoch 00006: val_accuracy did not improve from 0.84480\n",
      "Epoch 7/10\n",
      "404/404 [==============================] - 3s 7ms/step - loss: 0.2872 - accuracy: 0.8917 - val_loss: 0.3712 - val_accuracy: 0.8441\n",
      "\n",
      "Epoch 00007: val_accuracy did not improve from 0.84480\n",
      "Epoch 8/10\n",
      "404/404 [==============================] - 3s 7ms/step - loss: 0.2639 - accuracy: 0.9020 - val_loss: 0.3873 - val_accuracy: 0.8444\n",
      "\n",
      "Epoch 00008: val_accuracy did not improve from 0.84480\n",
      "Epoch 9/10\n",
      "404/404 [==============================] - 3s 7ms/step - loss: 0.2465 - accuracy: 0.9098 - val_loss: 0.4037 - val_accuracy: 0.8416\n",
      "\n",
      "Epoch 00009: val_accuracy did not improve from 0.84480\n",
      "Epoch 10/10\n",
      "404/404 [==============================] - 3s 7ms/step - loss: 0.2318 - accuracy: 0.9165 - val_loss: 0.4167 - val_accuracy: 0.8412\n",
      "\n",
      "Epoch 00010: val_accuracy did not improve from 0.84480\n"
     ]
    }
   ],
   "source": [
    "model.compile(optimizer='adam',\n",
    "              loss='binary_crossentropy',\n",
    "              metrics=['accuracy'])\n",
    "              \n",
    "epochs=10  # 몇 epoch를 훈련하면 좋을지 결과를 보면서 바꾸어 봅시다. \n",
    "\n",
    "\n",
    "history = model.fit(partial_x_train,\n",
    "                    partial_y_train,\n",
    "                    epochs=epochs,\n",
    "                    batch_size=256,\n",
    "                    validation_data=(x_val, y_val),\n",
    "                    callbacks=[checkpoint], \n",
    "                    verbose=1)"
   ]
  },
  {
   "cell_type": "markdown",
   "id": "7423dbeb",
   "metadata": {},
   "source": [
    "## 1DConv로 학습된 임베딩 레이어의 단어 간 연관도\n",
    "* 재미없-의 유사성이 양방향 LSTM보다 0.1 가량 떨어졌다.\n",
    "* 그 아래로도 맥락 상 큰 유사성을 직관적으로 느끼긴 힘들어보인다."
   ]
  },
  {
   "cell_type": "code",
   "execution_count": 63,
   "id": "dab9e53d",
   "metadata": {},
   "outputs": [
    {
     "name": "stdout",
     "output_type": "stream",
     "text": [
      "쓰레기와 유사한 단어:\n",
      "재미없: 0.8329\n",
      "건질: 0.8239\n",
      "백설: 0.8109\n",
      "제로: 0.8083\n",
      "관상: 0.8041\n",
      "플래툰: 0.8040\n",
      "안드로메다: 0.8040\n",
      "중단: 0.8029\n",
      "모욕: 0.7989\n",
      "둠: 0.7976\n"
     ]
    }
   ],
   "source": [
    "embedding_layer = model.layers[0]  \n",
    "embedding_weights = embedding_layer.get_weights()[0]  \n",
    "\n",
    "# 다시 index_to_word\n",
    "index_to_word = {index: word for word, index in word_to_index.items()}\n",
    "\n",
    "# 매핑\n",
    "word_vectors = KeyedVectors(vector_size=word_vector_dim)\n",
    "for i in range(3, vocab_size):  # 특수 토큰 3개\n",
    "    if i in index_to_word:\n",
    "        word_vectors.add_vector(index_to_word[i], embedding_weights[i])\n",
    "\n",
    "# 4. 유사도 측정\n",
    "print(\"쓰레기와 유사한 단어:\")\n",
    "similar_words = word_vectors.similar_by_word(\"쓰레기\", topn=10)\n",
    "for word, similarity in similar_words:\n",
    "    print(f\"{word}: {similarity:.4f}\")"
   ]
  },
  {
   "cell_type": "code",
   "execution_count": 150,
   "id": "9f2d6ce9",
   "metadata": {},
   "outputs": [
    {
     "name": "stdout",
     "output_type": "stream",
     "text": [
      "1509/1509 - 3s - loss: 0.3623 - accuracy: 0.8442\n",
      "Test Loss, Test Accuracy: [0.36226388812065125, 0.8442413806915283]\n"
     ]
    }
   ],
   "source": [
    "model.load_weights(checkpoint_path)\n",
    "\n",
    "# 평가\n",
    "results = model.evaluate(X_test, y_test, verbose=2)\n",
    "print(\"Test Loss, Test Accuracy:\", results)"
   ]
  },
  {
   "cell_type": "code",
   "execution_count": 151,
   "id": "4a39b159",
   "metadata": {},
   "outputs": [
    {
     "data": {
      "image/png": "[encoded data removed]",
      "text/plain": [
       "<Figure size 432x288 with 1 Axes>"
      ]
     },
     "metadata": {
      "needs_background": "light"
     },
     "output_type": "display_data"
    }
   ],
   "source": [
    "acc = history_dict['accuracy']\n",
    "val_acc = history_dict['val_accuracy']\n",
    "loss = history_dict['loss']\n",
    "val_loss = history_dict['val_loss']\n",
    "\n",
    "epochs = range(1, len(acc) + 1)\n",
    "\n",
    "# \"bo\"는 \"파란색 점\"입니다\n",
    "plt.plot(epochs, loss, 'bo', label='Training loss')\n",
    "# b는 \"파란 실선\"입니다\n",
    "plt.plot(epochs, val_loss, 'b', label='Validation loss')\n",
    "plt.title('Training and validation loss')\n",
    "plt.xlabel('Epochs')\n",
    "plt.ylabel('Loss')\n",
    "plt.legend()\n",
    "\n",
    "plt.show()"
   ]
  },
  {
   "cell_type": "code",
   "execution_count": 152,
   "id": "036aec7f",
   "metadata": {},
   "outputs": [
    {
     "data": {
      "image/png": "[encoded data removed]",
      "text/plain": [
       "<Figure size 432x288 with 1 Axes>"
      ]
     },
     "metadata": {
      "needs_background": "light"
     },
     "output_type": "display_data"
    }
   ],
   "source": [
    "plt.clf()   # 그림을 초기화합니다\n",
    "\n",
    "plt.plot(epochs, acc, 'bo', label='Training acc')\n",
    "plt.plot(epochs, val_acc, 'b', label='Validation acc')\n",
    "plt.title('Training and validation accuracy')\n",
    "plt.xlabel('Epochs')\n",
    "plt.ylabel('Accuracy')\n",
    "plt.legend()\n",
    "\n",
    "plt.show()"
   ]
  },
  {
   "cell_type": "markdown",
   "id": "e064b54b",
   "metadata": {},
   "source": [
    "* 쥐꼬리만큼 좋아졌다."
   ]
  },
  {
   "cell_type": "markdown",
   "id": "8741959f",
   "metadata": {},
   "source": [
    "### 사전 학습된 임베딩\n",
    "### 그냥 1DConv or LSTM보다 앞 뒤 정보를 받아오는 1DConv+LSTM을 쓰면 더 좋다고 한다.\n",
    "* 1DConv에 국소적 정보 학습\n",
    "* LSTM의 장기기억 + 순차정보 기억 \n",
    "    * EX) 않, 좋 "
   ]
  },
  {
   "cell_type": "code",
   "execution_count": 64,
   "id": "7749cda3",
   "metadata": {},
   "outputs": [
    {
     "name": "stdout",
     "output_type": "stream",
     "text": [
      "(10000, 64)\n"
     ]
    }
   ],
   "source": [
    "# 현재 내 임베딩 가중치 차원\n",
    "embedding_layer = model.layers[0]\n",
    "weights = embedding_layer.get_weights()[0]\n",
    "print(weights.shape)    # shape: (vocab_size, embedding_dim)"
   ]
  },
  {
   "cell_type": "code",
   "execution_count": 65,
   "id": "378deb63",
   "metadata": {},
   "outputs": [],
   "source": [
    "from tensorflow.keras.initializers import Constant\n",
    "\n",
    "# 1. Word2Vec 모델 로드\n",
    "from gensim.models import Word2Vec\n",
    "word2vec_path = os.getenv('HOME') + '/data/word2vec_ko.model'  # Word2Vec 한국어 모델 경로\n",
    "word2vec = Word2Vec.load(word2vec_path)\n",
    "\n",
    "# 2. word_to_index를 기반으로 index_to_word 생성\n",
    "index_to_word = {index: word for word, index in word_to_index.items()}"
   ]
  },
  {
   "cell_type": "code",
   "execution_count": 66,
   "id": "2bcfd813",
   "metadata": {},
   "outputs": [
    {
     "name": "stdout",
     "output_type": "stream",
     "text": [
      "Word2Vec 벡터 크기: 100\n"
     ]
    }
   ],
   "source": [
    "# 얘는 300차원이 아니다. \n",
    "print(\"Word2Vec 벡터 크기:\", word2vec.vector_size)"
   ]
  },
  {
   "cell_type": "code",
   "execution_count": 67,
   "id": "3577239f",
   "metadata": {},
   "outputs": [],
   "source": [
    "# 3. embedding_matrix 초기화\n",
    "vocab_size = 10000 # 어휘사전크기 동일하게\n",
    "word_vector_dim = word2vec.vector_size  # Word2Vec 모델과 동일한 차원으로 \n",
    "embedding_matrix = np.random.rand(vocab_size, word_vector_dim)\n",
    "\n",
    "# Word2Vec 벡터를 embedding_matrix에 복사\n",
    "for i in range(3, vocab_size):  # 예제에서 4번 필요없으니 빼고 특수 토큰 3개만 제외\n",
    "    if index_to_word[i] in word2vec.wv:\n",
    "        embedding_matrix[i] = word2vec.wv[index_to_word[i]]"
   ]
  },
  {
   "cell_type": "code",
   "execution_count": 68,
   "id": "4921f3b9",
   "metadata": {},
   "outputs": [
    {
     "name": "stdout",
     "output_type": "stream",
     "text": [
      "Model: \"sequential_5\"\n",
      "_________________________________________________________________\n",
      "Layer (type)                 Output Shape              Param #   \n",
      "=================================================================\n",
      "embedding_5 (Embedding)      (None, 45, 100)           1000000   \n",
      "_________________________________________________________________\n",
      "conv1d_6 (Conv1D)            (None, 39, 64)            44864     \n",
      "_________________________________________________________________\n",
      "batch_normalization_14 (Batc (None, 39, 64)            256       \n",
      "_________________________________________________________________\n",
      "dropout_14 (Dropout)         (None, 39, 64)            0         \n",
      "_________________________________________________________________\n",
      "max_pooling1d_3 (MaxPooling1 (None, 7, 64)             0         \n",
      "_________________________________________________________________\n",
      "bidirectional_2 (Bidirection (None, 7, 128)            66048     \n",
      "_________________________________________________________________\n",
      "global_max_pooling1d_3 (Glob (None, 128)               0         \n",
      "_________________________________________________________________\n",
      "dense_13 (Dense)             (None, 32)                4128      \n",
      "_________________________________________________________________\n",
      "dropout_15 (Dropout)         (None, 32)                0         \n",
      "_________________________________________________________________\n",
      "dense_14 (Dense)             (None, 16)                528       \n",
      "_________________________________________________________________\n",
      "dense_15 (Dense)             (None, 1)                 17        \n",
      "=================================================================\n",
      "Total params: 1,115,841\n",
      "Trainable params: 1,115,713\n",
      "Non-trainable params: 128\n",
      "_________________________________________________________________\n"
     ]
    }
   ],
   "source": [
    "maxlen = 45  #  맥스 시퀀스 \n",
    "\n",
    "model = tf.keras.Sequential([\n",
    "    tf.keras.layers.Embedding(\n",
    "        input_dim=vocab_size, \n",
    "        output_dim=word_vector_dim, \n",
    "        embeddings_initializer=Constant(embedding_matrix),\n",
    "        input_length=maxlen, \n",
    "        trainable=True\n",
    "    ),\n",
    "    tf.keras.layers.Conv1D(64, 7, activation='relu'),\n",
    "    tf.keras.layers.BatchNormalization(),\n",
    "    tf.keras.layers.Dropout(0.5),\n",
    "    tf.keras.layers.MaxPooling1D(5),\n",
    "    tf.keras.layers.Bidirectional(tf.keras.layers.LSTM(64, return_sequences=True)),\n",
    "    tf.keras.layers.GlobalMaxPooling1D(),\n",
    "    tf.keras.layers.Dense(32, activation='relu'),\n",
    "    tf.keras.layers.Dropout(0.5),\n",
    "    tf.keras.layers.Dense(16, activation='relu'),\n",
    "    tf.keras.layers.Dense(1, activation='sigmoid')\n",
    "])\n",
    "\n",
    "model.summary()"
   ]
  },
  {
   "cell_type": "code",
   "execution_count": 69,
   "id": "0d759965",
   "metadata": {},
   "outputs": [],
   "source": [
    "# 콜백 \n",
    "checkpoint_path = \"best_model_embedding.h5\"\n",
    "checkpoint = ModelCheckpoint(filepath=checkpoint_path,\n",
    "                             monitor='val_accuracy', \n",
    "                             save_best_only=True,\n",
    "                             verbose=1)"
   ]
  },
  {
   "cell_type": "code",
   "execution_count": 195,
   "id": "24b75aca",
   "metadata": {},
   "outputs": [
    {
     "name": "stdout",
     "output_type": "stream",
     "text": [
      "Epoch 1/20\n",
      "392/392 [==============================] - 7s 10ms/step - loss: 0.5727 - accuracy: 0.6973 - val_loss: 0.4761 - val_accuracy: 0.7765\n",
      "\n",
      "Epoch 00001: val_accuracy improved from -inf to 0.77648, saving model to best_model_embedding.h5\n",
      "Epoch 2/20\n",
      "392/392 [==============================] - 3s 9ms/step - loss: 0.4600 - accuracy: 0.7883 - val_loss: 0.4118 - val_accuracy: 0.8063\n",
      "\n",
      "Epoch 00002: val_accuracy improved from 0.77648 to 0.80628, saving model to best_model_embedding.h5\n",
      "Epoch 3/20\n",
      "392/392 [==============================] - 3s 9ms/step - loss: 0.4069 - accuracy: 0.8178 - val_loss: 0.4110 - val_accuracy: 0.8234\n",
      "\n",
      "Epoch 00003: val_accuracy improved from 0.80628 to 0.82342, saving model to best_model_embedding.h5\n",
      "Epoch 4/20\n",
      "392/392 [==============================] - 3s 9ms/step - loss: 0.3747 - accuracy: 0.8338 - val_loss: 0.3975 - val_accuracy: 0.8305\n",
      "\n",
      "Epoch 00004: val_accuracy improved from 0.82342 to 0.83052, saving model to best_model_embedding.h5\n",
      "Epoch 5/20\n",
      "392/392 [==============================] - 3s 9ms/step - loss: 0.3527 - accuracy: 0.8454 - val_loss: 0.3917 - val_accuracy: 0.8340\n",
      "\n",
      "Epoch 00005: val_accuracy improved from 0.83052 to 0.83404, saving model to best_model_embedding.h5\n",
      "Epoch 6/20\n",
      "392/392 [==============================] - 3s 9ms/step - loss: 0.3355 - accuracy: 0.8546 - val_loss: 0.3620 - val_accuracy: 0.8404\n",
      "\n",
      "Epoch 00006: val_accuracy improved from 0.83404 to 0.84037, saving model to best_model_embedding.h5\n",
      "Epoch 7/20\n",
      "392/392 [==============================] - 3s 9ms/step - loss: 0.3243 - accuracy: 0.8602 - val_loss: 0.3587 - val_accuracy: 0.8431\n",
      "\n",
      "Epoch 00007: val_accuracy improved from 0.84037 to 0.84305, saving model to best_model_embedding.h5\n",
      "Epoch 8/20\n",
      "392/392 [==============================] - 3s 9ms/step - loss: 0.3122 - accuracy: 0.8660 - val_loss: 0.3829 - val_accuracy: 0.8424\n",
      "\n",
      "Epoch 00008: val_accuracy did not improve from 0.84305\n",
      "Epoch 9/20\n",
      "392/392 [==============================] - 3s 9ms/step - loss: 0.3032 - accuracy: 0.8702 - val_loss: 0.3689 - val_accuracy: 0.8485\n",
      "\n",
      "Epoch 00009: val_accuracy improved from 0.84305 to 0.84855, saving model to best_model_embedding.h5\n",
      "Epoch 10/20\n",
      "392/392 [==============================] - 3s 9ms/step - loss: 0.2951 - accuracy: 0.8736 - val_loss: 0.3615 - val_accuracy: 0.8488\n",
      "\n",
      "Epoch 00010: val_accuracy improved from 0.84855 to 0.84883, saving model to best_model_embedding.h5\n",
      "Epoch 11/20\n",
      "392/392 [==============================] - 3s 9ms/step - loss: 0.2870 - accuracy: 0.8791 - val_loss: 0.3693 - val_accuracy: 0.8499\n",
      "\n",
      "Epoch 00011: val_accuracy improved from 0.84883 to 0.84987, saving model to best_model_embedding.h5\n",
      "Epoch 12/20\n",
      "392/392 [==============================] - 3s 9ms/step - loss: 0.2798 - accuracy: 0.8823 - val_loss: 0.3656 - val_accuracy: 0.8482\n",
      "\n",
      "Epoch 00012: val_accuracy did not improve from 0.84987\n",
      "Epoch 13/20\n",
      "392/392 [==============================] - 3s 9ms/step - loss: 0.2729 - accuracy: 0.8838 - val_loss: 0.3483 - val_accuracy: 0.8507\n",
      "\n",
      "Epoch 00013: val_accuracy improved from 0.84987 to 0.85067, saving model to best_model_embedding.h5\n",
      "Epoch 14/20\n",
      "392/392 [==============================] - 3s 9ms/step - loss: 0.2666 - accuracy: 0.8877 - val_loss: 0.3531 - val_accuracy: 0.8515\n",
      "\n",
      "Epoch 00014: val_accuracy improved from 0.85067 to 0.85150, saving model to best_model_embedding.h5\n",
      "Epoch 15/20\n",
      "392/392 [==============================] - 3s 9ms/step - loss: 0.2615 - accuracy: 0.8904 - val_loss: 0.3679 - val_accuracy: 0.8468\n",
      "\n",
      "Epoch 00015: val_accuracy did not improve from 0.85150\n",
      "Epoch 16/20\n",
      "392/392 [==============================] - 3s 9ms/step - loss: 0.2571 - accuracy: 0.8922 - val_loss: 0.3563 - val_accuracy: 0.8496\n",
      "\n",
      "Epoch 00016: val_accuracy did not improve from 0.85150\n",
      "Epoch 17/20\n",
      "392/392 [==============================] - 3s 9ms/step - loss: 0.2518 - accuracy: 0.8957 - val_loss: 0.3671 - val_accuracy: 0.8490\n",
      "\n",
      "Epoch 00017: val_accuracy did not improve from 0.85150\n",
      "Epoch 18/20\n",
      "392/392 [==============================] - 3s 9ms/step - loss: 0.2473 - accuracy: 0.8973 - val_loss: 0.3601 - val_accuracy: 0.8493\n",
      "\n",
      "Epoch 00018: val_accuracy did not improve from 0.85150\n",
      "Epoch 19/20\n",
      "392/392 [==============================] - 3s 9ms/step - loss: 0.2421 - accuracy: 0.8994 - val_loss: 0.3635 - val_accuracy: 0.8491\n",
      "\n",
      "Epoch 00019: val_accuracy did not improve from 0.85150\n",
      "Epoch 20/20\n",
      "392/392 [==============================] - 3s 9ms/step - loss: 0.2372 - accuracy: 0.9022 - val_loss: 0.3638 - val_accuracy: 0.8492\n",
      "\n",
      "Epoch 00020: val_accuracy did not improve from 0.85150\n"
     ]
    }
   ],
   "source": [
    "model.compile(optimizer='adam',\n",
    "              loss='binary_crossentropy',\n",
    "              metrics=['accuracy'])\n",
    "              \n",
    "epochs=20  # 몇 epoch를 훈련하면 좋을지 결과를 보면서 바꾸어 봅시다. \n",
    "\n",
    "history = model.fit(partial_x_train,\n",
    "                    partial_y_train,\n",
    "                    epochs=epochs,\n",
    "                    batch_size=256,\n",
    "                    validation_data=(x_val, y_val),\n",
    "                    callbacks=[checkpoint],\n",
    "                    verbose=1)"
   ]
  },
  {
   "cell_type": "code",
   "execution_count": 196,
   "id": "d3b8b64e",
   "metadata": {},
   "outputs": [
    {
     "name": "stdout",
     "output_type": "stream",
     "text": [
      "1509/1509 - 4s - loss: 0.3594 - accuracy: 0.8480\n",
      "Test Loss, Test Accuracy: [0.3593617379665375, 0.8480120897293091]\n"
     ]
    }
   ],
   "source": [
    "model.load_weights(checkpoint_path)\n",
    "\n",
    "# 평가\n",
    "results = model.evaluate(X_test, y_test, verbose=2)\n",
    "print(\"Test Loss, Test Accuracy:\", results)"
   ]
  },
  {
   "cell_type": "markdown",
   "id": "9158fa8f",
   "metadata": {},
   "source": [
    "* 아직 할 게 더 있다. "
   ]
  },
  {
   "cell_type": "markdown",
   "id": "f85cb2e2",
   "metadata": {},
   "source": [
    "### LeakyReLU+ BatchNormalization + Dropout + 층 쌓기\n",
    "    * 해당 코드에선 지웠으나 1DConv+ LSTM 층 2개를 활용하면 성능이 더 안 좋다. "
   ]
  },
  {
   "cell_type": "code",
   "execution_count": 72,
   "id": "fb0b74dd",
   "metadata": {},
   "outputs": [
    {
     "name": "stdout",
     "output_type": "stream",
     "text": [
      "Model: \"sequential_6\"\n",
      "_________________________________________________________________\n",
      "Layer (type)                 Output Shape              Param #   \n",
      "=================================================================\n",
      "embedding_6 (Embedding)      (None, 45, 100)           1000000   \n",
      "_________________________________________________________________\n",
      "conv1d_7 (Conv1D)            (None, 40, 256)           153856    \n",
      "_________________________________________________________________\n",
      "leaky_re_lu (LeakyReLU)      (None, 40, 256)           0         \n",
      "_________________________________________________________________\n",
      "batch_normalization_15 (Batc (None, 40, 256)           1024      \n",
      "_________________________________________________________________\n",
      "dropout_16 (Dropout)         (None, 40, 256)           0         \n",
      "_________________________________________________________________\n",
      "max_pooling1d_4 (MaxPooling1 (None, 8, 256)            0         \n",
      "_________________________________________________________________\n",
      "bidirectional_3 (Bidirection (None, 8, 512)            1050624   \n",
      "_________________________________________________________________\n",
      "global_max_pooling1d_4 (Glob (None, 512)               0         \n",
      "_________________________________________________________________\n",
      "dense_16 (Dense)             (None, 128)               65664     \n",
      "_________________________________________________________________\n",
      "leaky_re_lu_1 (LeakyReLU)    (None, 128)               0         \n",
      "_________________________________________________________________\n",
      "dropout_17 (Dropout)         (None, 128)               0         \n",
      "_________________________________________________________________\n",
      "dense_17 (Dense)             (None, 64)                8256      \n",
      "_________________________________________________________________\n",
      "leaky_re_lu_2 (LeakyReLU)    (None, 64)                0         \n",
      "_________________________________________________________________\n",
      "dropout_18 (Dropout)         (None, 64)                0         \n",
      "_________________________________________________________________\n",
      "dense_18 (Dense)             (None, 32)                2080      \n",
      "_________________________________________________________________\n",
      "leaky_re_lu_3 (LeakyReLU)    (None, 32)                0         \n",
      "_________________________________________________________________\n",
      "dropout_19 (Dropout)         (None, 32)                0         \n",
      "_________________________________________________________________\n",
      "dense_19 (Dense)             (None, 16)                528       \n",
      "_________________________________________________________________\n",
      "leaky_re_lu_4 (LeakyReLU)    (None, 16)                0         \n",
      "_________________________________________________________________\n",
      "dropout_20 (Dropout)         (None, 16)                0         \n",
      "_________________________________________________________________\n",
      "dense_20 (Dense)             (None, 8)                 136       \n",
      "_________________________________________________________________\n",
      "leaky_re_lu_5 (LeakyReLU)    (None, 8)                 0         \n",
      "_________________________________________________________________\n",
      "dense_21 (Dense)             (None, 1)                 9         \n",
      "=================================================================\n",
      "Total params: 2,282,177\n",
      "Trainable params: 2,281,665\n",
      "Non-trainable params: 512\n",
      "_________________________________________________________________\n"
     ]
    }
   ],
   "source": [
    "from tensorflow.keras.layers import LeakyReLU\n",
    "\n",
    "maxlen = 45  \n",
    "\n",
    "model = tf.keras.Sequential([\n",
    "    tf.keras.layers.Embedding(\n",
    "        input_dim=vocab_size, \n",
    "        output_dim=word_vector_dim, \n",
    "        embeddings_initializer=Constant(embedding_matrix),\n",
    "        input_length=maxlen, \n",
    "        trainable=True\n",
    "    ),\n",
    "    tf.keras.layers.Conv1D(256, 6), \n",
    "    LeakyReLU(alpha=0.1), \n",
    "    tf.keras.layers.BatchNormalization(),\n",
    "    tf.keras.layers.Dropout(0.5),\n",
    "    tf.keras.layers.MaxPooling1D(5),\n",
    "    tf.keras.layers.Bidirectional(tf.keras.layers.LSTM(256, return_sequences=True)),\n",
    "    tf.keras.layers.GlobalMaxPooling1D(),\n",
    "    tf.keras.layers.Dense(128), \n",
    "    LeakyReLU(alpha=0.1), \n",
    "    tf.keras.layers.Dropout(0.5),\n",
    "    tf.keras.layers.Dense(64), \n",
    "    LeakyReLU(alpha=0.1), \n",
    "    tf.keras.layers.Dropout(0.5),\n",
    "    tf.keras.layers.Dense(32), \n",
    "    LeakyReLU(alpha=0.1), \n",
    "    tf.keras.layers.Dropout(0.5),\n",
    "    tf.keras.layers.Dense(16), \n",
    "    LeakyReLU(alpha=0.1), \n",
    "    tf.keras.layers.Dropout(0.5),\n",
    "    tf.keras.layers.Dense(8),\n",
    "    LeakyReLU(alpha=0.1),  \n",
    "    tf.keras.layers.Dense(1, activation='sigmoid') \n",
    "])\n",
    "\n",
    "model.summary()"
   ]
  },
  {
   "cell_type": "code",
   "execution_count": 229,
   "id": "bbc2150c",
   "metadata": {},
   "outputs": [
    {
     "name": "stdout",
     "output_type": "stream",
     "text": [
      "Epoch 1/15\n",
      "783/783 [==============================] - 13s 13ms/step - loss: 0.6896 - accuracy: 0.5227 - val_loss: 0.6134 - val_accuracy: 0.6869\n",
      "\n",
      "Epoch 00001: val_accuracy improved from -inf to 0.68692, saving model to best_model_embedding.h5\n",
      "Epoch 2/15\n",
      "783/783 [==============================] - 9s 12ms/step - loss: 0.5174 - accuracy: 0.7606 - val_loss: 0.4305 - val_accuracy: 0.8059\n",
      "\n",
      "Epoch 00002: val_accuracy improved from 0.68692 to 0.80593, saving model to best_model_embedding.h5\n",
      "Epoch 3/15\n",
      "783/783 [==============================] - 9s 12ms/step - loss: 0.4154 - accuracy: 0.8196 - val_loss: 0.3748 - val_accuracy: 0.8322\n",
      "\n",
      "Epoch 00003: val_accuracy improved from 0.80593 to 0.83225, saving model to best_model_embedding.h5\n",
      "Epoch 4/15\n",
      "783/783 [==============================] - 9s 12ms/step - loss: 0.3724 - accuracy: 0.8413 - val_loss: 0.3704 - val_accuracy: 0.8421\n",
      "\n",
      "Epoch 00004: val_accuracy improved from 0.83225 to 0.84212, saving model to best_model_embedding.h5\n",
      "Epoch 5/15\n",
      "783/783 [==============================] - 9s 12ms/step - loss: 0.3464 - accuracy: 0.8527 - val_loss: 0.3567 - val_accuracy: 0.8459\n",
      "\n",
      "Epoch 00005: val_accuracy improved from 0.84212 to 0.84592, saving model to best_model_embedding.h5\n",
      "Epoch 6/15\n",
      "783/783 [==============================] - 9s 12ms/step - loss: 0.3258 - accuracy: 0.8627 - val_loss: 0.3515 - val_accuracy: 0.8502\n",
      "\n",
      "Epoch 00006: val_accuracy improved from 0.84592 to 0.85015, saving model to best_model_embedding.h5\n",
      "Epoch 7/15\n",
      "783/783 [==============================] - 9s 12ms/step - loss: 0.3127 - accuracy: 0.8688 - val_loss: 0.3624 - val_accuracy: 0.8475\n",
      "\n",
      "Epoch 00007: val_accuracy did not improve from 0.85015\n",
      "Epoch 8/15\n",
      "783/783 [==============================] - 9s 12ms/step - loss: 0.3006 - accuracy: 0.8753 - val_loss: 0.3447 - val_accuracy: 0.8510\n",
      "\n",
      "Epoch 00008: val_accuracy improved from 0.85015 to 0.85099, saving model to best_model_embedding.h5\n",
      "Epoch 9/15\n",
      "783/783 [==============================] - 9s 12ms/step - loss: 0.2874 - accuracy: 0.8802 - val_loss: 0.3726 - val_accuracy: 0.8472\n",
      "\n",
      "Epoch 00009: val_accuracy did not improve from 0.85099\n",
      "Epoch 10/15\n",
      "783/783 [==============================] - 9s 12ms/step - loss: 0.2794 - accuracy: 0.8845 - val_loss: 0.3542 - val_accuracy: 0.8498\n",
      "\n",
      "Epoch 00010: val_accuracy did not improve from 0.85099\n",
      "Epoch 11/15\n",
      "783/783 [==============================] - 9s 12ms/step - loss: 0.2704 - accuracy: 0.8894 - val_loss: 0.3430 - val_accuracy: 0.8525\n",
      "\n",
      "Epoch 00011: val_accuracy improved from 0.85099 to 0.85253, saving model to best_model_embedding.h5\n",
      "Epoch 12/15\n",
      "783/783 [==============================] - 9s 12ms/step - loss: 0.2622 - accuracy: 0.8924 - val_loss: 0.3740 - val_accuracy: 0.8502\n",
      "\n",
      "Epoch 00012: val_accuracy did not improve from 0.85253\n",
      "Epoch 13/15\n",
      "783/783 [==============================] - 9s 12ms/step - loss: 0.2526 - accuracy: 0.8971 - val_loss: 0.3611 - val_accuracy: 0.8524\n",
      "\n",
      "Epoch 00013: val_accuracy did not improve from 0.85253\n",
      "Epoch 14/15\n",
      "783/783 [==============================] - 9s 12ms/step - loss: 0.2467 - accuracy: 0.8995 - val_loss: 0.3720 - val_accuracy: 0.8523\n",
      "\n",
      "Epoch 00014: val_accuracy did not improve from 0.85253\n",
      "Epoch 15/15\n",
      "783/783 [==============================] - 9s 12ms/step - loss: 0.2399 - accuracy: 0.9016 - val_loss: 0.3618 - val_accuracy: 0.8519\n",
      "\n",
      "Epoch 00015: val_accuracy did not improve from 0.85253\n"
     ]
    }
   ],
   "source": [
    "model.compile(optimizer='adam',\n",
    "              loss='binary_crossentropy',\n",
    "              metrics=['accuracy'])\n",
    "              \n",
    "epochs=15  # 몇 epoch를 훈련하면 좋을지 결과를 보면서 바꾸어 봅시다. \n",
    "\n",
    "history = model.fit(partial_x_train,\n",
    "                    partial_y_train,\n",
    "                    epochs=epochs,\n",
    "                    batch_size=128, # 배치 사이즈도 작게\n",
    "                    validation_data=(x_val, y_val),\n",
    "                    callbacks=[checkpoint],\n",
    "                    verbose=1)"
   ]
  },
  {
   "cell_type": "markdown",
   "id": "b9851157",
   "metadata": {},
   "source": [
    "## 최종 모델 - 기학습된 임베딩 레이어의 단어 연관도\n",
    "* 영화 내부에서 학습한 단어보다 일반적인 쓰레기의 의미를 학습한 것으로 보인다."
   ]
  },
  {
   "cell_type": "code",
   "execution_count": 76,
   "id": "ac4dfdf4",
   "metadata": {},
   "outputs": [
    {
     "name": "stderr",
     "output_type": "stream",
     "text": [
      "/opt/conda/lib/python3.9/site-packages/gensim/models/keyedvectors.py:478: UserWarning: Adding single vectors to a KeyedVectors which grows by one each time can be costly. Consider adding in batches or preallocating to the required size.\n",
      "  warnings.warn(\n"
     ]
    },
    {
     "name": "stdout",
     "output_type": "stream",
     "text": [
      "쓰레기와 유사한 단어:\n",
      "쓰레기통: 0.6518\n",
      "창고: 0.6368\n",
      "모래: 0.6087\n",
      "가스: 0.6072\n",
      "먼지: 0.6036\n",
      "찌꺼기: 0.5735\n",
      "낚시: 0.5634\n",
      "죄다: 0.5565\n",
      "방사능: 0.5510\n",
      "용도: 0.5485\n"
     ]
    }
   ],
   "source": [
    "embedding_layer = model.layers[0]  \n",
    "embedding_weights = embedding_layer.get_weights()[0]  \n",
    "\n",
    "# 다시 index_to_word\n",
    "index_to_word = {index: word for word, index in word_to_index.items()}\n",
    "\n",
    "# 매핑\n",
    "word_vectors = KeyedVectors(vector_size=word_vector_dim)\n",
    "for i in range(3, vocab_size):  # 특수 토큰 3개\n",
    "    if i in index_to_word:\n",
    "        word_vectors.add_vector(index_to_word[i], embedding_weights[i])\n",
    "\n",
    "# 4. 유사도 측정\n",
    "print(\"쓰레기와 유사한 단어:\")\n",
    "similar_words = word_vectors.similar_by_word(\"쓰레기\", topn=10)\n",
    "for word, similarity in similar_words:\n",
    "    print(f\"{word}: {similarity:.4f}\")"
   ]
  },
  {
   "cell_type": "markdown",
   "id": "23ee42f2",
   "metadata": {},
   "source": [
    "### 대충 몇번 하이퍼파라미터 조정하니까 넘겼다. overfitting이 굉장히 빨리 일어난다. 7번째"
   ]
  },
  {
   "cell_type": "code",
   "execution_count": 230,
   "id": "cd03f7a7",
   "metadata": {},
   "outputs": [
    {
     "name": "stdout",
     "output_type": "stream",
     "text": [
      "1509/1509 - 4s - loss: 0.3494 - accuracy: 0.8504\n",
      "Test Loss, Test Accuracy: [0.34935885667800903, 0.8503532409667969]\n"
     ]
    }
   ],
   "source": [
    "model.load_weights(checkpoint_path)\n",
    "\n",
    "# 평가\n",
    "results = model.evaluate(X_test, y_test, verbose=2)\n",
    "print(\"Test Loss, Test Accuracy:\", results)"
   ]
  },
  {
   "cell_type": "code",
   "execution_count": 231,
   "id": "dfa5c334",
   "metadata": {},
   "outputs": [
    {
     "data": {
      "image/png": "[encoded data removed]",
      "text/plain": [
       "<Figure size 432x288 with 1 Axes>"
      ]
     },
     "metadata": {
      "needs_background": "light"
     },
     "output_type": "display_data"
    }
   ],
   "source": [
    "acc = history_dict['accuracy']\n",
    "val_acc = history_dict['val_accuracy']\n",
    "loss = history_dict['loss']\n",
    "val_loss = history_dict['val_loss']\n",
    "\n",
    "epochs = range(1, len(acc) + 1)\n",
    "\n",
    "# \"bo\"는 \"파란색 점\"입니다\n",
    "plt.plot(epochs, loss, 'bo', label='Training loss')\n",
    "# b는 \"파란 실선\"입니다\n",
    "plt.plot(epochs, val_loss, 'b', label='Validation loss')\n",
    "plt.title('Training and validation loss')\n",
    "plt.xlabel('Epochs')\n",
    "plt.ylabel('Loss')\n",
    "plt.legend()\n",
    "\n",
    "plt.show()"
   ]
  },
  {
   "cell_type": "code",
   "execution_count": 232,
   "id": "f4a04882",
   "metadata": {},
   "outputs": [
    {
     "data": {
      "image/png": "[encoded data removed]",
      "text/plain": [
       "<Figure size 432x288 with 1 Axes>"
      ]
     },
     "metadata": {
      "needs_background": "light"
     },
     "output_type": "display_data"
    }
   ],
   "source": [
    "plt.clf()   # 그림을 초기화합니다\n",
    "\n",
    "plt.plot(epochs, acc, 'bo', label='Training acc')\n",
    "plt.plot(epochs, val_acc, 'b', label='Validation acc')\n",
    "plt.title('Training and validation accuracy')\n",
    "plt.xlabel('Epochs')\n",
    "plt.ylabel('Accuracy')\n",
    "plt.legend()\n",
    "\n",
    "plt.show()"
   ]
  },
  {
   "cell_type": "markdown",
   "id": "5c22f66e",
   "metadata": {},
   "source": [
    "### 혹시나 했다.\n",
    "* 기학습된 임베딩 레이어는 일반적인 유사도를 보이기에 영화 관련된 세부적인 연관도가 낮다.\n",
    "* 그렇다면 혹시?? \n",
    "* 혹시, 최종 모델에서 자체학습한 임베딩 레이어를 쓰게되면??\n"
   ]
  },
  {
   "cell_type": "code",
   "execution_count": 77,
   "id": "c1306b83",
   "metadata": {},
   "outputs": [
    {
     "name": "stdout",
     "output_type": "stream",
     "text": [
      "Model: \"sequential_7\"\n",
      "_________________________________________________________________\n",
      "Layer (type)                 Output Shape              Param #   \n",
      "=================================================================\n",
      "embedding_7 (Embedding)      (None, 45, 128)           1280000   \n",
      "_________________________________________________________________\n",
      "conv1d_8 (Conv1D)            (None, 40, 256)           196864    \n",
      "_________________________________________________________________\n",
      "leaky_re_lu_6 (LeakyReLU)    (None, 40, 256)           0         \n",
      "_________________________________________________________________\n",
      "batch_normalization_16 (Batc (None, 40, 256)           1024      \n",
      "_________________________________________________________________\n",
      "dropout_21 (Dropout)         (None, 40, 256)           0         \n",
      "_________________________________________________________________\n",
      "max_pooling1d_5 (MaxPooling1 (None, 8, 256)            0         \n",
      "_________________________________________________________________\n",
      "bidirectional_4 (Bidirection (None, 8, 512)            1050624   \n",
      "_________________________________________________________________\n",
      "global_max_pooling1d_5 (Glob (None, 512)               0         \n",
      "_________________________________________________________________\n",
      "dense_22 (Dense)             (None, 128)               65664     \n",
      "_________________________________________________________________\n",
      "leaky_re_lu_7 (LeakyReLU)    (None, 128)               0         \n",
      "_________________________________________________________________\n",
      "dropout_22 (Dropout)         (None, 128)               0         \n",
      "_________________________________________________________________\n",
      "dense_23 (Dense)             (None, 64)                8256      \n",
      "_________________________________________________________________\n",
      "leaky_re_lu_8 (LeakyReLU)    (None, 64)                0         \n",
      "_________________________________________________________________\n",
      "dropout_23 (Dropout)         (None, 64)                0         \n",
      "_________________________________________________________________\n",
      "dense_24 (Dense)             (None, 32)                2080      \n",
      "_________________________________________________________________\n",
      "leaky_re_lu_9 (LeakyReLU)    (None, 32)                0         \n",
      "_________________________________________________________________\n",
      "dropout_24 (Dropout)         (None, 32)                0         \n",
      "_________________________________________________________________\n",
      "dense_25 (Dense)             (None, 16)                528       \n",
      "_________________________________________________________________\n",
      "leaky_re_lu_10 (LeakyReLU)   (None, 16)                0         \n",
      "_________________________________________________________________\n",
      "dropout_25 (Dropout)         (None, 16)                0         \n",
      "_________________________________________________________________\n",
      "dense_26 (Dense)             (None, 8)                 136       \n",
      "_________________________________________________________________\n",
      "leaky_re_lu_11 (LeakyReLU)   (None, 8)                 0         \n",
      "_________________________________________________________________\n",
      "dense_27 (Dense)             (None, 1)                 9         \n",
      "=================================================================\n",
      "Total params: 2,605,185\n",
      "Trainable params: 2,604,673\n",
      "Non-trainable params: 512\n",
      "_________________________________________________________________\n"
     ]
    }
   ],
   "source": [
    "from tensorflow.keras.layers import LeakyReLU\n",
    "\n",
    "vocab_size = 10000 \n",
    "word_vector_dim = 128  # 임베딩 차원을 늘려보자\n",
    "\n",
    "# 모델 \n",
    "model = tf.keras.Sequential([\n",
    "    tf.keras.layers.Embedding(\n",
    "        input_dim=vocab_size, \n",
    "        output_dim=word_vector_dim, \n",
    "        input_length=maxlen,  # 시퀀스 길이\n",
    "        trainable=True        # 자체 학습 활성화\n",
    "    ),\n",
    "    tf.keras.layers.Conv1D(256, 6), \n",
    "    LeakyReLU(alpha=0.1), \n",
    "    tf.keras.layers.BatchNormalization(),\n",
    "    tf.keras.layers.Dropout(0.5),\n",
    "    tf.keras.layers.MaxPooling1D(5),\n",
    "    tf.keras.layers.Bidirectional(tf.keras.layers.LSTM(256, return_sequences=True)),\n",
    "    tf.keras.layers.GlobalMaxPooling1D(),\n",
    "    tf.keras.layers.Dense(128), \n",
    "    LeakyReLU(alpha=0.1), \n",
    "    tf.keras.layers.Dropout(0.5),\n",
    "    tf.keras.layers.Dense(64), \n",
    "    LeakyReLU(alpha=0.1), \n",
    "    tf.keras.layers.Dropout(0.5),\n",
    "    tf.keras.layers.Dense(32), \n",
    "    LeakyReLU(alpha=0.1), \n",
    "    tf.keras.layers.Dropout(0.5),\n",
    "    tf.keras.layers.Dense(16), \n",
    "    LeakyReLU(alpha=0.1), \n",
    "    tf.keras.layers.Dropout(0.5),\n",
    "    tf.keras.layers.Dense(8),\n",
    "    LeakyReLU(alpha=0.1),  \n",
    "    tf.keras.layers.Dense(1, activation='sigmoid') \n",
    "])\n",
    "\n",
    "model.summary()"
   ]
  },
  {
   "cell_type": "code",
   "execution_count": 78,
   "id": "7d7b81e8",
   "metadata": {},
   "outputs": [],
   "source": [
    "# 콜백 \n",
    "checkpoint_path = \"best_model_embedding.h5\"\n",
    "checkpoint = ModelCheckpoint(filepath=checkpoint_path,\n",
    "                             monitor='val_accuracy', \n",
    "                             save_best_only=True,\n",
    "                             verbose=1)"
   ]
  },
  {
   "cell_type": "code",
   "execution_count": 79,
   "id": "134755f4",
   "metadata": {
    "scrolled": false
   },
   "outputs": [
    {
     "name": "stdout",
     "output_type": "stream",
     "text": [
      "Epoch 1/15\n",
      "807/807 [==============================] - 14s 13ms/step - loss: 0.5603 - accuracy: 0.6789 - val_loss: 0.3878 - val_accuracy: 0.8364\n",
      "\n",
      "Epoch 00001: val_accuracy improved from -inf to 0.83644, saving model to best_model_embedding.h5\n",
      "Epoch 2/15\n",
      "807/807 [==============================] - 9s 12ms/step - loss: 0.3584 - accuracy: 0.8506 - val_loss: 0.3590 - val_accuracy: 0.8464\n",
      "\n",
      "Epoch 00002: val_accuracy improved from 0.83644 to 0.84638, saving model to best_model_embedding.h5\n",
      "Epoch 3/15\n",
      "807/807 [==============================] - 10s 12ms/step - loss: 0.3004 - accuracy: 0.8768 - val_loss: 0.3566 - val_accuracy: 0.8404\n",
      "\n",
      "Epoch 00003: val_accuracy did not improve from 0.84638\n",
      "Epoch 4/15\n",
      "807/807 [==============================] - 10s 12ms/step - loss: 0.2519 - accuracy: 0.8984 - val_loss: 0.4203 - val_accuracy: 0.8433\n",
      "\n",
      "Epoch 00004: val_accuracy did not improve from 0.84638\n",
      "Epoch 5/15\n",
      "807/807 [==============================] - 10s 12ms/step - loss: 0.2134 - accuracy: 0.9153 - val_loss: 0.3704 - val_accuracy: 0.8401\n",
      "\n",
      "Epoch 00005: val_accuracy did not improve from 0.84638\n",
      "Epoch 6/15\n",
      "807/807 [==============================] - 10s 12ms/step - loss: 0.1795 - accuracy: 0.9298 - val_loss: 0.4220 - val_accuracy: 0.8364\n",
      "\n",
      "Epoch 00006: val_accuracy did not improve from 0.84638\n",
      "Epoch 7/15\n",
      "807/807 [==============================] - 10s 12ms/step - loss: 0.1548 - accuracy: 0.9394 - val_loss: 0.4607 - val_accuracy: 0.8279\n",
      "\n",
      "Epoch 00007: val_accuracy did not improve from 0.84638\n",
      "Epoch 8/15\n",
      "807/807 [==============================] - 10s 12ms/step - loss: 0.1350 - accuracy: 0.9481 - val_loss: 0.4698 - val_accuracy: 0.8363\n",
      "\n",
      "Epoch 00008: val_accuracy did not improve from 0.84638\n",
      "Epoch 9/15\n",
      "807/807 [==============================] - 10s 12ms/step - loss: 0.1203 - accuracy: 0.9542 - val_loss: 0.5405 - val_accuracy: 0.8354\n",
      "\n",
      "Epoch 00009: val_accuracy did not improve from 0.84638\n",
      "Epoch 10/15\n",
      "807/807 [==============================] - 10s 12ms/step - loss: 0.1104 - accuracy: 0.9578 - val_loss: 0.5354 - val_accuracy: 0.8333\n",
      "\n",
      "Epoch 00010: val_accuracy did not improve from 0.84638\n",
      "Epoch 11/15\n",
      "807/807 [==============================] - 10s 12ms/step - loss: 0.0989 - accuracy: 0.9624 - val_loss: 0.5352 - val_accuracy: 0.8335\n",
      "\n",
      "Epoch 00011: val_accuracy did not improve from 0.84638\n",
      "Epoch 12/15\n",
      "807/807 [==============================] - 10s 12ms/step - loss: 0.0912 - accuracy: 0.9652 - val_loss: 0.5997 - val_accuracy: 0.8354\n",
      "\n",
      "Epoch 00012: val_accuracy did not improve from 0.84638\n",
      "Epoch 13/15\n",
      "807/807 [==============================] - 10s 12ms/step - loss: 0.0843 - accuracy: 0.9676 - val_loss: 0.5493 - val_accuracy: 0.8309\n",
      "\n",
      "Epoch 00013: val_accuracy did not improve from 0.84638\n",
      "Epoch 14/15\n",
      "807/807 [==============================] - 10s 12ms/step - loss: 0.0791 - accuracy: 0.9694 - val_loss: 0.5708 - val_accuracy: 0.8277\n",
      "\n",
      "Epoch 00014: val_accuracy did not improve from 0.84638\n",
      "Epoch 15/15\n",
      "807/807 [==============================] - 10s 12ms/step - loss: 0.0755 - accuracy: 0.9714 - val_loss: 0.6777 - val_accuracy: 0.8295\n",
      "\n",
      "Epoch 00015: val_accuracy did not improve from 0.84638\n"
     ]
    }
   ],
   "source": [
    "model.compile(optimizer='adam',\n",
    "              loss='binary_crossentropy',\n",
    "              metrics=['accuracy'])\n",
    "              \n",
    "epochs=15  # 몇 epoch를 훈련하면 좋을지 결과를 보면서 바꾸어 봅시다. \n",
    "\n",
    "history = model.fit(partial_x_train,\n",
    "                    partial_y_train,\n",
    "                    epochs=epochs,\n",
    "                    batch_size=128, # 배치 사이즈도 작게\n",
    "                    validation_data=(x_val, y_val),\n",
    "                    callbacks=[checkpoint],\n",
    "                    verbose=1)"
   ]
  },
  {
   "cell_type": "markdown",
   "id": "c0ea27cd",
   "metadata": {},
   "source": [
    "## 그렇다. TEST는 돌려볼 필요도 없다. 연관성이고 뭐고 1순위는 언제나 데이터의 양이다."
   ]
  },
  {
   "cell_type": "markdown",
   "id": "8d57b839",
   "metadata": {},
   "source": [
    "## 회고\n",
    "* 전처리를 좀 더 하면 더 성능이 좋을 것이다. \n",
    "* 불용어에서 데이터를 제외시켰는데, 한국어의 특성 상 조사를 더욱 많은 형태로 제외시킬 필요성이 있어보인다.\n",
    "* 욕설을 비롯한 블라인드 처리와 반어법 등 그 밖에도 생각해볼 요소가 많다. \n",
    "* 트랜스포머 모델에도 한 번 돌려볼 법? 하다."
   ]
  }
 ],
 "metadata": {
  "kernelspec": {
   "display_name": "Python 3 (ipykernel)",
   "language": "python",
   "name": "python3"
  },
  "language_info": {
   "codemirror_mode": {
    "name": "ipython",
    "version": 3
   },
   "file_extension": ".py",
   "mimetype": "text/x-python",
   "name": "python",
   "nbconvert_exporter": "python",
   "pygments_lexer": "ipython3",
   "version": "3.9.7"
  }
 },
 "nbformat": 4,
 "nbformat_minor": 5
}
