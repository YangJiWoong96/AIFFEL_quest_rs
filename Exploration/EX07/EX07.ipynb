{
 "cells": [
  {
   "cell_type": "code",
   "execution_count": 80,
   "id": "747cb3f7",
   "metadata": {},
   "outputs": [],
   "source": [
    "import tensorflow as tf\n",
    "import tensorflow_datasets as tfds\n",
    "import os\n",
    "import re\n",
    "import numpy as np\n",
    "import pandas as pd\n",
    "import matplotlib.pyplot as plt"
   ]
  },
  {
   "cell_type": "code",
   "execution_count": 81,
   "id": "41522771",
   "metadata": {},
   "outputs": [],
   "source": [
    "# 포지셔널 인코딩 레이어\n",
    "class PositionalEncoding(tf.keras.layers.Layer):\n",
    "\n",
    "  def __init__(self, position, d_model):\n",
    "    super(PositionalEncoding, self).__init__()\n",
    "    self.pos_encoding = self.positional_encoding(position, d_model)\n",
    "\n",
    "  def get_angles(self, position, i, d_model):\n",
    "    angles = 1 / tf.pow(10000, (2 * (i // 2)) / tf.cast(d_model, tf.float32))\n",
    "    return position * angles\n",
    "\n",
    "  def positional_encoding(self, position, d_model):\n",
    "    # 각도 배열 생성\n",
    "    angle_rads = self.get_angles(\n",
    "        position=tf.range(position, dtype=tf.float32)[:, tf.newaxis],\n",
    "        i=tf.range(d_model, dtype=tf.float32)[tf.newaxis, :],\n",
    "        d_model=d_model)\n",
    "\n",
    "    # 배열의 짝수 인덱스에는 sin 함수 적용\n",
    "    sines = tf.math.sin(angle_rads[:, 0::2])\n",
    "    # 배열의 홀수 인덱스에는 cosine 함수 적용\n",
    "    cosines = tf.math.cos(angle_rads[:, 1::2])\n",
    "\n",
    "    # sin과 cosine이 교차되도록 재배열\n",
    "    pos_encoding = tf.stack([sines, cosines], axis=0)\n",
    "    pos_encoding = tf.transpose(pos_encoding, [1, 2, 0]) \n",
    "    pos_encoding = tf.reshape(pos_encoding, [position, d_model])\n",
    "\n",
    "    pos_encoding = pos_encoding[tf.newaxis, ...]\n",
    "    return tf.cast(pos_encoding, tf.float32)\n",
    "\n",
    "  def call(self, inputs):\n",
    "    # SparseTensor를 일반 Dense Tensor로 변환\n",
    "    if isinstance(inputs, tf.SparseTensor):\n",
    "      inputs = tf.sparse.to_dense(inputs)\n",
    "    return inputs + self.pos_encoding[:, :tf.shape(inputs)[1], :]"
   ]
  },
  {
   "cell_type": "code",
   "execution_count": 82,
   "id": "61cf45c3",
   "metadata": {},
   "outputs": [],
   "source": [
    "# 스케일드 닷 프로덕트 어텐션 함수\n",
    "def scaled_dot_product_attention(query, key, value, mask):\n",
    "  # 어텐션 가중치는 Q와 K의 닷 프로덕트\n",
    "  matmul_qk = tf.matmul(query, key, transpose_b=True)\n",
    "\n",
    "  # 가중치를 정규화\n",
    "  depth = tf.cast(tf.shape(key)[-1], tf.float32)\n",
    "  logits = matmul_qk / tf.math.sqrt(depth)\n",
    "\n",
    "  # 패딩에 마스크 추가\n",
    "  if mask is not None:\n",
    "    logits += (mask * -1e9)\n",
    "\n",
    "  # softmax적용\n",
    "  attention_weights = tf.nn.softmax(logits, axis=-1)\n",
    "\n",
    "  # 최종 어텐션은 가중치와 V의 닷 프로덕트\n",
    "  output = tf.matmul(attention_weights, value)\n",
    "  return output"
   ]
  },
  {
   "cell_type": "code",
   "execution_count": 83,
   "id": "ab55744f",
   "metadata": {},
   "outputs": [],
   "source": [
    "class MultiHeadAttention(tf.keras.layers.Layer):\n",
    "\n",
    "  def __init__(self, d_model, num_heads, name=\"multi_head_attention\"):\n",
    "    super(MultiHeadAttention, self).__init__(name=name)\n",
    "    self.num_heads = num_heads\n",
    "    self.d_model = d_model\n",
    "\n",
    "    assert d_model % self.num_heads == 0\n",
    "\n",
    "    self.depth = d_model // self.num_heads\n",
    "\n",
    "    self.query_dense = tf.keras.layers.Dense(units=d_model)\n",
    "    self.key_dense = tf.keras.layers.Dense(units=d_model)\n",
    "    self.value_dense = tf.keras.layers.Dense(units=d_model)\n",
    "\n",
    "    self.dense = tf.keras.layers.Dense(units=d_model)\n",
    "\n",
    "  def split_heads(self, inputs, batch_size):\n",
    "    inputs = tf.reshape(\n",
    "        inputs, shape=(batch_size, -1, self.num_heads, self.depth))\n",
    "    return tf.transpose(inputs, perm=[0, 2, 1, 3])\n",
    "\n",
    "  def call(self, inputs):\n",
    "    query, key, value, mask = inputs['query'], inputs['key'], inputs[\n",
    "        'value'], inputs['mask']\n",
    "    batch_size = tf.shape(query)[0]\n",
    "\n",
    "    # Q, K, V에 각각 Dense를 적용합니다\n",
    "    query = self.query_dense(query)\n",
    "    key = self.key_dense(key)\n",
    "    value = self.value_dense(value)\n",
    "\n",
    "    # 병렬 연산을 위한 머리를 여러 개 만듭니다\n",
    "    query = self.split_heads(query, batch_size)\n",
    "    key = self.split_heads(key, batch_size)\n",
    "    value = self.split_heads(value, batch_size)\n",
    "\n",
    "    # 스케일드 닷 프로덕트 어텐션 함수\n",
    "    scaled_attention = scaled_dot_product_attention(query, key, value, mask)\n",
    "\n",
    "    scaled_attention = tf.transpose(scaled_attention, perm=[0, 2, 1, 3])\n",
    "\n",
    "    # 어텐션 연산 후에 각 결과를 다시 연결(concatenate)합니다\n",
    "    concat_attention = tf.reshape(scaled_attention,\n",
    "                                  (batch_size, -1, self.d_model))\n",
    "\n",
    "    # 최종 결과에도 Dense를 한 번 더 적용합니다\n",
    "    outputs = self.dense(concat_attention)\n",
    "\n",
    "    return outputs"
   ]
  },
  {
   "cell_type": "code",
   "execution_count": 84,
   "id": "3b63717f",
   "metadata": {},
   "outputs": [
    {
     "name": "stdout",
     "output_type": "stream",
     "text": [
      "슝=3\n",
      "슝=3\n"
     ]
    }
   ],
   "source": [
    "def create_padding_mask(x):\n",
    "  mask = tf.cast(tf.math.equal(x, 0), tf.float32)\n",
    "  # (batch_size, 1, 1, sequence length)\n",
    "  return mask[:, tf.newaxis, tf.newaxis, :]\n",
    "print(\"슝=3\")\n",
    "\n",
    "def create_look_ahead_mask(x):\n",
    "  seq_len = tf.shape(x)[1]\n",
    "  look_ahead_mask = 1 - tf.linalg.band_part(tf.ones((seq_len, seq_len)), -1, 0)\n",
    "  padding_mask = create_padding_mask(x)\n",
    "  return tf.maximum(look_ahead_mask, padding_mask)\n",
    "print(\"슝=3\")"
   ]
  },
  {
   "cell_type": "code",
   "execution_count": 85,
   "id": "a5c8dde9",
   "metadata": {},
   "outputs": [
    {
     "name": "stdout",
     "output_type": "stream",
     "text": [
      "슝=3\n"
     ]
    }
   ],
   "source": [
    "# 인코더 하나의 레이어를 함수로 구현.\n",
    "# 이 하나의 레이어 안에는 두 개의 서브 레이어가 존재합니다.\n",
    "def encoder_layer(units, d_model, num_heads, dropout, name=\"encoder_layer\"):\n",
    "  inputs = tf.keras.Input(shape=(None, d_model), name=\"inputs\")\n",
    "\n",
    "  # 패딩 마스크 사용\n",
    "  padding_mask = tf.keras.Input(shape=(1, 1, None), name=\"padding_mask\")\n",
    "\n",
    "  # 첫 번째 서브 레이어 : 멀티 헤드 어텐션 수행 (셀프 어텐션)\n",
    "  attention = MultiHeadAttention(\n",
    "      d_model, num_heads, name=\"attention\")({\n",
    "          'query': inputs,\n",
    "          'key': inputs,\n",
    "          'value': inputs,\n",
    "          'mask': padding_mask\n",
    "      })\n",
    "\n",
    "  # 어텐션의 결과는 Dropout과 Layer Normalization이라는 훈련을 돕는 테크닉을 수행\n",
    "  attention = tf.keras.layers.Dropout(rate=dropout)(attention)\n",
    "  attention = tf.keras.layers.LayerNormalization(\n",
    "      epsilon=1e-6)(inputs + attention)\n",
    "\n",
    "  # 두 번째 서브 레이어 : 2개의 완전연결층\n",
    "  outputs = tf.keras.layers.Dense(units=units, activation='relu')(attention)\n",
    "  outputs = tf.keras.layers.Dense(units=d_model)(outputs)\n",
    "\n",
    "  # 완전연결층의 결과는 Dropout과 LayerNormalization이라는 훈련을 돕는 테크닉을 수행\n",
    "  outputs = tf.keras.layers.Dropout(rate=dropout)(outputs)\n",
    "  outputs = tf.keras.layers.LayerNormalization(\n",
    "      epsilon=1e-6)(attention + outputs)\n",
    "\n",
    "  return tf.keras.Model(\n",
    "      inputs=[inputs, padding_mask], outputs=outputs, name=name)\n",
    "print(\"슝=3\")"
   ]
  },
  {
   "cell_type": "code",
   "execution_count": 86,
   "id": "11b83ef7",
   "metadata": {},
   "outputs": [],
   "source": [
    "def encoder(vocab_size,\n",
    "            num_layers,\n",
    "            units,\n",
    "            d_model,\n",
    "            num_heads,\n",
    "            dropout,\n",
    "            name=\"encoder\"):\n",
    "  inputs = tf.keras.Input(shape=(None,), name=\"inputs\")\n",
    "\n",
    "  # 패딩 마스크 사용\n",
    "  padding_mask = tf.keras.Input(shape=(1, 1, None), name=\"padding_mask\")\n",
    "\n",
    "  # 임베딩 레이어\n",
    "  embeddings = tf.keras.layers.Embedding(vocab_size, d_model)(inputs)\n",
    "  embeddings *= tf.math.sqrt(tf.cast(d_model, tf.float32))\n",
    "\n",
    "  # 포지셔널 인코딩\n",
    "  embeddings = PositionalEncoding(vocab_size, d_model)(embeddings)\n",
    "\n",
    "  outputs = tf.keras.layers.Dropout(rate=dropout)(embeddings)\n",
    "\n",
    "  # num_layers만큼 쌓아올린 인코더의 층.\n",
    "  for i in range(num_layers):\n",
    "    outputs = encoder_layer(\n",
    "        units=units,\n",
    "        d_model=d_model,\n",
    "        num_heads=num_heads,\n",
    "        dropout=dropout,\n",
    "        name=\"encoder_layer_{}\".format(i),\n",
    "    )([outputs, padding_mask])\n",
    "\n",
    "  return tf.keras.Model(\n",
    "      inputs=[inputs, padding_mask], outputs=outputs, name=name)"
   ]
  },
  {
   "cell_type": "code",
   "execution_count": 87,
   "id": "2ba60c5e",
   "metadata": {},
   "outputs": [
    {
     "name": "stdout",
     "output_type": "stream",
     "text": [
      "슝=3\n"
     ]
    }
   ],
   "source": [
    "# 디코더 하나의 레이어를 함수로 구현.\n",
    "# 이 하나의 레이어 안에는 세 개의 서브 레이어가 존재합니다.\n",
    "def decoder_layer(units, d_model, num_heads, dropout, name=\"decoder_layer\"):\n",
    "  inputs = tf.keras.Input(shape=(None, d_model), name=\"inputs\")\n",
    "  enc_outputs = tf.keras.Input(shape=(None, d_model), name=\"encoder_outputs\")\n",
    "  look_ahead_mask = tf.keras.Input(\n",
    "      shape=(1, None, None), name=\"look_ahead_mask\")\n",
    "  padding_mask = tf.keras.Input(shape=(1, 1, None), name='padding_mask')\n",
    "\n",
    "  # 첫 번째 서브 레이어 : 멀티 헤드 어텐션 수행 (셀프 어텐션)\n",
    "  attention1 = MultiHeadAttention(\n",
    "      d_model, num_heads, name=\"attention_1\")(inputs={\n",
    "          'query': inputs,\n",
    "          'key': inputs,\n",
    "          'value': inputs,\n",
    "          'mask': look_ahead_mask\n",
    "      })\n",
    "\n",
    "  # 멀티 헤드 어텐션의 결과는 LayerNormalization이라는 훈련을 돕는 테크닉을 수행\n",
    "  attention1 = tf.keras.layers.LayerNormalization(\n",
    "      epsilon=1e-6)(attention1 + inputs)\n",
    "\n",
    "  # 두 번째 서브 레이어 : 마스크드 멀티 헤드 어텐션 수행 (인코더-디코더 어텐션)\n",
    "  attention2 = MultiHeadAttention(\n",
    "      d_model, num_heads, name=\"attention_2\")(inputs={\n",
    "          'query': attention1,\n",
    "          'key': enc_outputs,\n",
    "          'value': enc_outputs,\n",
    "          'mask': padding_mask\n",
    "      })\n",
    "\n",
    "  # 마스크드 멀티 헤드 어텐션의 결과는\n",
    "  # Dropout과 LayerNormalization이라는 훈련을 돕는 테크닉을 수행\n",
    "  attention2 = tf.keras.layers.Dropout(rate=dropout)(attention2)\n",
    "  attention2 = tf.keras.layers.LayerNormalization(\n",
    "      epsilon=1e-6)(attention2 + attention1)\n",
    "\n",
    "  # 세 번째 서브 레이어 : 2개의 완전연결층\n",
    "  outputs = tf.keras.layers.Dense(units=units, activation='relu')(attention2)\n",
    "  outputs = tf.keras.layers.Dense(units=d_model)(outputs)\n",
    "\n",
    "  # 완전연결층의 결과는 Dropout과 LayerNormalization 수행\n",
    "  outputs = tf.keras.layers.Dropout(rate=dropout)(outputs)\n",
    "  outputs = tf.keras.layers.LayerNormalization(\n",
    "      epsilon=1e-6)(outputs + attention2)\n",
    "\n",
    "  return tf.keras.Model(\n",
    "      inputs=[inputs, enc_outputs, look_ahead_mask, padding_mask],\n",
    "      outputs=outputs,\n",
    "      name=name)\n",
    "print(\"슝=3\")"
   ]
  },
  {
   "cell_type": "code",
   "execution_count": 88,
   "id": "b2426712",
   "metadata": {},
   "outputs": [
    {
     "name": "stdout",
     "output_type": "stream",
     "text": [
      "슝=3\n"
     ]
    }
   ],
   "source": [
    "def decoder(vocab_size,\n",
    "            num_layers,\n",
    "            units,\n",
    "            d_model,\n",
    "            num_heads,\n",
    "            dropout,\n",
    "            name='decoder'):\n",
    "  inputs = tf.keras.Input(shape=(None,), name='inputs')\n",
    "  enc_outputs = tf.keras.Input(shape=(None, d_model), name='encoder_outputs')\n",
    "  look_ahead_mask = tf.keras.Input(\n",
    "      shape=(1, None, None), name='look_ahead_mask')\n",
    "\n",
    "  # 패딩 마스크\n",
    "  padding_mask = tf.keras.Input(shape=(1, 1, None), name='padding_mask')\n",
    "  \n",
    "  # 임베딩 레이어\n",
    "  embeddings = tf.keras.layers.Embedding(vocab_size, d_model)(inputs)\n",
    "  embeddings *= tf.math.sqrt(tf.cast(d_model, tf.float32))\n",
    "\n",
    "  # 포지셔널 인코딩\n",
    "  embeddings = PositionalEncoding(vocab_size, d_model)(embeddings)\n",
    "\n",
    "  # Dropout이라는 훈련을 돕는 테크닉을 수행\n",
    "  outputs = tf.keras.layers.Dropout(rate=dropout)(embeddings)\n",
    "\n",
    "  for i in range(num_layers):\n",
    "    outputs = decoder_layer(\n",
    "        units=units,\n",
    "        d_model=d_model,\n",
    "        num_heads=num_heads,\n",
    "        dropout=dropout,\n",
    "        name='decoder_layer_{}'.format(i),\n",
    "    )(inputs=[outputs, enc_outputs, look_ahead_mask, padding_mask])\n",
    "\n",
    "  return tf.keras.Model(\n",
    "      inputs=[inputs, enc_outputs, look_ahead_mask, padding_mask],\n",
    "      outputs=outputs,\n",
    "      name=name)\n",
    "print(\"슝=3\")"
   ]
  },
  {
   "cell_type": "code",
   "execution_count": 89,
   "id": "3503c77a",
   "metadata": {},
   "outputs": [],
   "source": [
    "data = pd.read_csv('~/aiffel/songys_chatbot/data/ChatbotData.csv')"
   ]
  },
  {
   "cell_type": "markdown",
   "id": "3325511f",
   "metadata": {},
   "source": [
    "### 특이하게도 라벨이 존재한다\n",
    "* 0 : 중립\n",
    "* 1 : 긍정\n",
    "* 2 : 부정\n",
    "#### 이라고 하는데 아래 예시만봐도 틀린게 있는 것 같다"
   ]
  },
  {
   "cell_type": "code",
   "execution_count": 90,
   "id": "4827cab9",
   "metadata": {},
   "outputs": [
    {
     "data": {
      "text/html": [
       "<div>\n",
       "<style scoped>\n",
       "    .dataframe tbody tr th:only-of-type {\n",
       "        vertical-align: middle;\n",
       "    }\n",
       "\n",
       "    .dataframe tbody tr th {\n",
       "        vertical-align: top;\n",
       "    }\n",
       "\n",
       "    .dataframe thead th {\n",
       "        text-align: right;\n",
       "    }\n",
       "</style>\n",
       "<table border=\"1\" class=\"dataframe\">\n",
       "  <thead>\n",
       "    <tr style=\"text-align: right;\">\n",
       "      <th></th>\n",
       "      <th>Q</th>\n",
       "      <th>A</th>\n",
       "      <th>label</th>\n",
       "    </tr>\n",
       "  </thead>\n",
       "  <tbody>\n",
       "    <tr>\n",
       "      <th>0</th>\n",
       "      <td>12시 땡!</td>\n",
       "      <td>하루가 또 가네요.</td>\n",
       "      <td>0</td>\n",
       "    </tr>\n",
       "    <tr>\n",
       "      <th>1</th>\n",
       "      <td>1지망 학교 떨어졌어</td>\n",
       "      <td>위로해 드립니다.</td>\n",
       "      <td>0</td>\n",
       "    </tr>\n",
       "    <tr>\n",
       "      <th>2</th>\n",
       "      <td>3박4일 놀러가고 싶다</td>\n",
       "      <td>여행은 언제나 좋죠.</td>\n",
       "      <td>0</td>\n",
       "    </tr>\n",
       "    <tr>\n",
       "      <th>3</th>\n",
       "      <td>3박4일 정도 놀러가고 싶다</td>\n",
       "      <td>여행은 언제나 좋죠.</td>\n",
       "      <td>0</td>\n",
       "    </tr>\n",
       "    <tr>\n",
       "      <th>4</th>\n",
       "      <td>PPL 심하네</td>\n",
       "      <td>눈살이 찌푸려지죠.</td>\n",
       "      <td>0</td>\n",
       "    </tr>\n",
       "    <tr>\n",
       "      <th>...</th>\n",
       "      <td>...</td>\n",
       "      <td>...</td>\n",
       "      <td>...</td>\n",
       "    </tr>\n",
       "    <tr>\n",
       "      <th>11818</th>\n",
       "      <td>훔쳐보는 것도 눈치 보임.</td>\n",
       "      <td>티가 나니까 눈치가 보이는 거죠!</td>\n",
       "      <td>2</td>\n",
       "    </tr>\n",
       "    <tr>\n",
       "      <th>11819</th>\n",
       "      <td>훔쳐보는 것도 눈치 보임.</td>\n",
       "      <td>훔쳐보는 거 티나나봐요.</td>\n",
       "      <td>2</td>\n",
       "    </tr>\n",
       "    <tr>\n",
       "      <th>11820</th>\n",
       "      <td>흑기사 해주는 짝남.</td>\n",
       "      <td>설렜겠어요.</td>\n",
       "      <td>2</td>\n",
       "    </tr>\n",
       "    <tr>\n",
       "      <th>11821</th>\n",
       "      <td>힘든 연애 좋은 연애라는게 무슨 차이일까?</td>\n",
       "      <td>잘 헤어질 수 있는 사이 여부인 거 같아요.</td>\n",
       "      <td>2</td>\n",
       "    </tr>\n",
       "    <tr>\n",
       "      <th>11822</th>\n",
       "      <td>힘들어서 결혼할까봐</td>\n",
       "      <td>도피성 결혼은 하지 않길 바라요.</td>\n",
       "      <td>2</td>\n",
       "    </tr>\n",
       "  </tbody>\n",
       "</table>\n",
       "<p>11823 rows × 3 columns</p>\n",
       "</div>"
      ],
      "text/plain": [
       "                             Q                         A  label\n",
       "0                       12시 땡!                하루가 또 가네요.      0\n",
       "1                  1지망 학교 떨어졌어                 위로해 드립니다.      0\n",
       "2                 3박4일 놀러가고 싶다               여행은 언제나 좋죠.      0\n",
       "3              3박4일 정도 놀러가고 싶다               여행은 언제나 좋죠.      0\n",
       "4                      PPL 심하네                눈살이 찌푸려지죠.      0\n",
       "...                        ...                       ...    ...\n",
       "11818           훔쳐보는 것도 눈치 보임.        티가 나니까 눈치가 보이는 거죠!      2\n",
       "11819           훔쳐보는 것도 눈치 보임.             훔쳐보는 거 티나나봐요.      2\n",
       "11820              흑기사 해주는 짝남.                    설렜겠어요.      2\n",
       "11821  힘든 연애 좋은 연애라는게 무슨 차이일까?  잘 헤어질 수 있는 사이 여부인 거 같아요.      2\n",
       "11822               힘들어서 결혼할까봐        도피성 결혼은 하지 않길 바라요.      2\n",
       "\n",
       "[11823 rows x 3 columns]"
      ]
     },
     "execution_count": 90,
     "metadata": {},
     "output_type": "execute_result"
    }
   ],
   "source": [
    "data"
   ]
  },
  {
   "cell_type": "code",
   "execution_count": 91,
   "id": "ebc608f1",
   "metadata": {},
   "outputs": [
    {
     "data": {
      "text/plain": [
       "0    5290\n",
       "1    3570\n",
       "2    2963\n",
       "Name: label, dtype: int64"
      ]
     },
     "execution_count": 91,
     "metadata": {},
     "output_type": "execute_result"
    }
   ],
   "source": [
    "data['label'].value_counts()"
   ]
  },
  {
   "cell_type": "code",
   "execution_count": 92,
   "id": "05212e6e",
   "metadata": {},
   "outputs": [
    {
     "name": "stdout",
     "output_type": "stream",
     "text": [
      "Text 열에서 중복을 배제한 유일한 샘플의 수 : 11662\n",
      "Summary 열에서 중복을 배제한 유일한 샘플의 수 : 7779\n"
     ]
    }
   ],
   "source": [
    "print('Text 열에서 중복을 배제한 유일한 샘플의 수 :', data['Q'].nunique())\n",
    "print('Summary 열에서 중복을 배제한 유일한 샘플의 수 :', data['A'].nunique())"
   ]
  },
  {
   "cell_type": "code",
   "execution_count": 93,
   "id": "0d0590c6",
   "metadata": {},
   "outputs": [
    {
     "data": {
      "text/plain": [
       "Q        0\n",
       "A        0\n",
       "label    0\n",
       "dtype: int64"
      ]
     },
     "execution_count": 93,
     "metadata": {},
     "output_type": "execute_result"
    }
   ],
   "source": [
    "data.isnull().sum()"
   ]
  },
  {
   "cell_type": "markdown",
   "id": "ac079971",
   "metadata": {},
   "source": [
    "### GPT는 이럴때 효율이 최고다"
   ]
  },
  {
   "cell_type": "code",
   "execution_count": 94,
   "id": "5704279c",
   "metadata": {},
   "outputs": [],
   "source": [
    "korean_contractions = {\n",
    "    \"맘\": \"마음\",\n",
    "    \"가바\": \"가봐\",\n",
    "    \"그런건가바\": \"그런 건가 봐\",\n",
    "    \"배고프당\": \"배고프다\",\n",
    "    \"졸리당\": \"졸리다\",\n",
    "    \"몰겠엉\": \"모르겠어\",\n",
    "    \"맛있엉\": \"맛있어\",\n",
    "    \"ㅂㅂ\": \"바이바이\",\n",
    "    \"ㅎㅇ\": \"안녕하세요\",\n",
    "    \"안녕ㅎㅇ\": \"안녕하세요\",\n",
    "    \"ㅋㅋ\": \"웃음\",\n",
    "    \"ㅠㅠ\": \"슬픔\",\n",
    "    \"ㅇㅇ\": \"응\",\n",
    "    \"ㅈㅅ\": \"죄송\",\n",
    "    \"ㅁㄹ\": \"모르겠어\",\n",
    "    \"넘\": \"너무\",\n",
    "    \"귀찮앙\": \"귀찮아\",\n",
    "    \"고마웡\": \"고마워\",\n",
    "    \"미안행\": \"미안해\",\n",
    "    \"알겠엉\": \"알겠어\",\n",
    "    \"안뇽\": \"안녕하세요\",\n",
    "    \"하쥬\": \"하죠\",\n",
    "    \"이게모얌\": \"이게 뭐야\",\n",
    "    \"졸려죽겟다\": \"졸려 죽겠다\",\n",
    "    \"재밋어\": \"재미있어\",\n",
    "    \"재밋엇다\": \"재미있었다\",\n",
    "    \"힘드러\": \"힘들어\",\n",
    "    \"잘될꺼야\": \"잘 될 거야\",\n",
    "    \"배고파죽겟어\": \"배고파 죽겠어\",\n",
    "    \"뭐하냥\": \"뭐하니\",\n",
    "    \"하루종일잇었엉\": \"하루 종일 있었어\",\n",
    "    \"괜찮을깡\": \"괜찮을까\",\n",
    "    \"모르겟다\": \"모르겠다\",\n",
    "    \"먹엇어\": \"먹었어\",\n",
    "    \"피곤해죽겟어\": \"피곤해 죽겠어\",\n",
    "    \"ㄱㄷ\": \"기다려\",\n",
    "    \"ㄱㅅ\": \"감사\",\n",
    "    \"ㄴㄴ\": \"아니야\",\n",
    "    \"ㄱㅇㄷ\": \"개이득\",\n",
    "    \"ㅎㄹ\": \"할래\",\n",
    "    \"ㅊㅋ\": \"축하\",\n",
    "    \"이해안대\": \"이해 안 돼\",\n",
    "    \"잘자용\": \"잘 자\",\n",
    "    \"ㅂㅇㅂㅇ\": \"바이바이\",\n",
    "    \"감동이얌\": \"감동이야\",\n",
    "    \"빠이\": \"안녕\",\n",
    "    \"몰루\": \"몰라\",\n",
    "    \"넘좋아\": \"너무 좋아\",\n",
    "    \"쫌만더\": \"조금만 더\",\n",
    "    \"심심해쥬금\": \"심심해 죽겠음\",\n",
    "    \"알았엉\": \"알았어\",\n",
    "    \"피곤해쥬금\": \"피곤해 죽겠음\",\n",
    "    \"기달려\": \"기다려\",\n",
    "    \"그랬엉\": \"그랬어\",\n",
    "    \"졸려죽겟음\": \"졸려 죽겠음\",\n",
    "    \"도와줘잉\": \"도와줘\",\n",
    "    \"배아파쥬금\": \"배 아파 죽겠음\",\n",
    "    \"배불러죽겟어\": \"배불러 죽겠어\",\n",
    "    \"행복해쥬금\": \"행복해 죽겠어\",\n",
    "    \"맛없엉\": \"맛없어\",\n",
    "    \"피곤햌\": \"피곤해\",\n",
    "    \"귀찮아용\": \"귀찮아\",\n",
    "    \"미치겟다\": \"미치겠다\",\n",
    "    \"좋아햌\": \"좋아해\",\n",
    "    \"재밋겟당\": \"재미있겠다\",\n",
    "    \"잘잇어\": \"잘 있어\",\n",
    "    \"오랜만이얌\": \"오랜만이야\",\n",
    "    \"대박이얌\": \"대박이야\",\n",
    "    \"웃기당\": \"웃기다\",\n",
    "    \"졸귀\": \"졸라 귀여워\",\n",
    "    \"행쇼\": \"행복하자\",\n",
    "    \"안믿겟다\": \"안 믿겠다\",\n",
    "    \"모햌\": \"뭐해\",\n",
    "    \"배고팡\": \"배고파\",\n",
    "    \"슬프당\": \"슬프다\",\n",
    "    \"귀찮앜\": \"귀찮아\",\n",
    "    \"졸립다\": \"졸리다\",\n",
    "    \"머해\": \"뭐해\",\n",
    "    \"놀자아\": \"놀자\",\n",
    "    \"알겟엉\": \"알겠어\",\n",
    "    \"반가웡\": \"반가워\",\n",
    "    \"어케해\": \"어떻게 해\",\n",
    "    \"배불러옹\": \"배불러\",\n",
    "    \"오키\": \"오케이\",\n",
    "    \"뭐해용\": \"뭐해\",\n",
    "    \"행복햌\": \"행복해\",\n",
    "    \"쩐다\": \"대단하다\",\n",
    "    \"빨리해줘\": \"빨리 해줘\",\n",
    "    \"나쫌졸려\": \"나 좀 졸려\",\n",
    "    \"짱나\": \"짜증나\",\n",
    "    \"놀고싶당\": \"놀고 싶다\",\n",
    "    \"모르겟엉\": \"모르겠어\",\n",
    "    \"졸려어\": \"졸려\",\n",
    "    \"그럴껄\": \"그럴 걸\",\n",
    "    \"밥먹엇니\": \"밥 먹었니\",\n",
    "    \"뭐드셧어요\": \"뭐 드셨어요\",\n",
    "    \"맛있어보엉\": \"맛있어 보여\",\n",
    "    \"나힘들어ㅠ\": \"나 힘들어\",\n",
    "    \"배부르당\": \"배부르다\",\n",
    "    \"웃기넼\": \"웃기네\",\n",
    "    \"이해안됨\": \"이해 안 돼\",\n",
    "    \"졸림\": \"졸려\",\n",
    "    \"집에갈랭\": \"집에 갈래\",\n",
    "    \"덥다아\": \"덥다\",\n",
    "    \"좋겠다아\": \"좋겠다\",\n",
    "    \"심심햌\": \"심심해\",\n",
    "    \"집가고싶엉\": \"집 가고 싶어\",\n",
    "    \"뭐임\": \"뭐야\",\n",
    "    \"미쳣다\": \"미쳤다\",\n",
    "    \"오랫만\": \"오랜만\",\n",
    "    \"어케알았어\": \"어떻게 알았어\",\n",
    "    \"신기하당\": \"신기하다\",\n",
    "    \"조심하세용\": \"조심하세요\",\n",
    "    \"잼잇당\": \"재미있다\",\n",
    "    \"심심하당\": \"심심하다\",\n",
    "    \"감사합니당\": \"감사합니다\",\n",
    "    \"감동이얌\": \"감동이야\",\n",
    "    \"피곤해욤\": \"피곤해요\",\n",
    "    \"알앗어\": \"알았어\",\n",
    "    \"즐겁당\": \"즐겁다\",\n",
    "    \"귀여웡\": \"귀여워\",\n",
    "    \"힘들엉\": \"힘들어\",\n",
    "    \"속상해쥬금\": \"속상해 죽겠음\",\n",
    "    \"아깝당\": \"아깝다\",\n",
    "    \"잘못햇어\": \"잘못했어\",\n",
    "    \"이뻐용\": \"예뻐요\",\n",
    "    \"맛있겠당\": \"맛있겠다\",\n",
    "    \"멋져용\": \"멋져요\",\n",
    "    \"좋아욤\": \"좋아요\",\n",
    "    \"졸린다아\": \"졸린다\",\n",
    "    \"보고싶당\": \"보고 싶다\",\n",
    "    \"힘들다아\": \"힘들다\",\n",
    "    \"이해했엉\": \"이해했어\",\n",
    "    \"맛나보엉\": \"맛나 보여\",\n",
    "    \"웃곀\": \"웃겨\",\n",
    "    \"귀찮군\": \"귀찮아\",\n",
    "    \"보고싶엉\": \"보고 싶어\",\n",
    "    \"짜증난당\": \"짜증난다\",\n",
    "    \"잘될꺼얌\": \"잘 될 거야\",\n",
    "    \"잘잤엉\": \"잘 잤어\",\n",
    "    \"졸리웡\": \"졸려\",\n",
    "    \"미안혀\": \"미안해\",\n",
    "    \"힘내세욤\": \"힘내세요\",\n",
    "    \"졸린당\": \"졸리다\",\n",
    "    \"모르겟삼\": \"모르겠다\",\n",
    "    \"빨리와\": \"빨리 와\",\n",
    "    \"헐대박\": \"정말 대단하다\",\n",
    "    \"놀랫자나\": \"놀랐잖아\",\n",
    "    \"기여워\": \"귀여워\",\n",
    "    \"심심해요ㅠ\": \"심심해요\",\n",
    "    \"사랑햌\": \"사랑해\",\n",
    "    \"어이엄슴\": \"어이없음\",\n",
    "    \"몰라욤\": \"몰라요\",\n",
    "    \"뭥미\": \"뭐임\",\n",
    "    \"덥당\": \"덥다\",\n",
    "    \"추웡\": \"추워\",\n",
    "    \"대단하당\": \"대단하다\",\n",
    "    \"기다리쥬\": \"기다려줘\",\n",
    "    \"뭐하냥용\": \"뭐하니\",\n",
    "    \"못참겟어\": \"못 참겠어\",\n",
    "    \"미쳤넼\": \"미쳤네\",\n",
    "    \"졸려죽겟엉\": \"졸려 죽겠어\"\n",
    "}\n",
    "\n",
    "# 정규화 \n",
    "def normalize_text(text, contractions_dict):\n",
    "    for contraction, expansion in contractions_dict.items():\n",
    "        text = text.replace(contraction, expansion)\n",
    "    return text"
   ]
  },
  {
   "cell_type": "markdown",
   "id": "0492caf8",
   "metadata": {},
   "source": [
    "### 라벨을 줬는데 이걸 안 써먹을 순 없겠다.\n",
    "### 학습할 때, 라벨을 맨 앞에 넣어준다면? 그 라벨을 따라서 방향을 학습하겠지\n",
    "* 단, 중립,긍정,부정이라는 말이 우리의 일상에서도 쓰이기 때문에 유의해야할 것이다. 숫자(1,2,3?)로 넣으면??"
   ]
  },
  {
   "cell_type": "code",
   "execution_count": 95,
   "id": "d8b1084f",
   "metadata": {
    "scrolled": true
   },
   "outputs": [
    {
     "data": {
      "text/html": [
       "<div>\n",
       "<style scoped>\n",
       "    .dataframe tbody tr th:only-of-type {\n",
       "        vertical-align: middle;\n",
       "    }\n",
       "\n",
       "    .dataframe tbody tr th {\n",
       "        vertical-align: top;\n",
       "    }\n",
       "\n",
       "    .dataframe thead th {\n",
       "        text-align: right;\n",
       "    }\n",
       "</style>\n",
       "<table border=\"1\" class=\"dataframe\">\n",
       "  <thead>\n",
       "    <tr style=\"text-align: right;\">\n",
       "      <th></th>\n",
       "      <th>Q</th>\n",
       "      <th>A</th>\n",
       "      <th>label</th>\n",
       "    </tr>\n",
       "  </thead>\n",
       "  <tbody>\n",
       "    <tr>\n",
       "      <th>0</th>\n",
       "      <td>중립 12시 땡!</td>\n",
       "      <td>하루가 또 가네요.</td>\n",
       "      <td>0</td>\n",
       "    </tr>\n",
       "    <tr>\n",
       "      <th>1</th>\n",
       "      <td>중립 1지망 학교 떨어졌어</td>\n",
       "      <td>위로해 드립니다.</td>\n",
       "      <td>0</td>\n",
       "    </tr>\n",
       "    <tr>\n",
       "      <th>2</th>\n",
       "      <td>중립 3박4일 놀러가고 싶다</td>\n",
       "      <td>여행은 언제나 좋죠.</td>\n",
       "      <td>0</td>\n",
       "    </tr>\n",
       "    <tr>\n",
       "      <th>3</th>\n",
       "      <td>중립 3박4일 정도 놀러가고 싶다</td>\n",
       "      <td>여행은 언제나 좋죠.</td>\n",
       "      <td>0</td>\n",
       "    </tr>\n",
       "    <tr>\n",
       "      <th>4</th>\n",
       "      <td>중립 PPL 심하네</td>\n",
       "      <td>눈살이 찌푸려지죠.</td>\n",
       "      <td>0</td>\n",
       "    </tr>\n",
       "    <tr>\n",
       "      <th>...</th>\n",
       "      <td>...</td>\n",
       "      <td>...</td>\n",
       "      <td>...</td>\n",
       "    </tr>\n",
       "    <tr>\n",
       "      <th>11818</th>\n",
       "      <td>부정 훔쳐보는 것도 눈치 보임.</td>\n",
       "      <td>티가 나니까 눈치가 보이는 거죠!</td>\n",
       "      <td>2</td>\n",
       "    </tr>\n",
       "    <tr>\n",
       "      <th>11819</th>\n",
       "      <td>부정 훔쳐보는 것도 눈치 보임.</td>\n",
       "      <td>훔쳐보는 거 티나나봐요.</td>\n",
       "      <td>2</td>\n",
       "    </tr>\n",
       "    <tr>\n",
       "      <th>11820</th>\n",
       "      <td>부정 흑기사 해주는 짝남.</td>\n",
       "      <td>설렜겠어요.</td>\n",
       "      <td>2</td>\n",
       "    </tr>\n",
       "    <tr>\n",
       "      <th>11821</th>\n",
       "      <td>부정 힘든 연애 좋은 연애라는게 무슨 차이일까?</td>\n",
       "      <td>잘 헤어질 수 있는 사이 여부인 거 같아요.</td>\n",
       "      <td>2</td>\n",
       "    </tr>\n",
       "    <tr>\n",
       "      <th>11822</th>\n",
       "      <td>부정 힘들어서 결혼할까봐</td>\n",
       "      <td>도피성 결혼은 하지 않길 바라요.</td>\n",
       "      <td>2</td>\n",
       "    </tr>\n",
       "  </tbody>\n",
       "</table>\n",
       "<p>11823 rows × 3 columns</p>\n",
       "</div>"
      ],
      "text/plain": [
       "                                Q                         A  label\n",
       "0                       중립 12시 땡!                하루가 또 가네요.      0\n",
       "1                  중립 1지망 학교 떨어졌어                 위로해 드립니다.      0\n",
       "2                 중립 3박4일 놀러가고 싶다               여행은 언제나 좋죠.      0\n",
       "3              중립 3박4일 정도 놀러가고 싶다               여행은 언제나 좋죠.      0\n",
       "4                      중립 PPL 심하네                눈살이 찌푸려지죠.      0\n",
       "...                           ...                       ...    ...\n",
       "11818           부정 훔쳐보는 것도 눈치 보임.        티가 나니까 눈치가 보이는 거죠!      2\n",
       "11819           부정 훔쳐보는 것도 눈치 보임.             훔쳐보는 거 티나나봐요.      2\n",
       "11820              부정 흑기사 해주는 짝남.                    설렜겠어요.      2\n",
       "11821  부정 힘든 연애 좋은 연애라는게 무슨 차이일까?  잘 헤어질 수 있는 사이 여부인 거 같아요.      2\n",
       "11822               부정 힘들어서 결혼할까봐        도피성 결혼은 하지 않길 바라요.      2\n",
       "\n",
       "[11823 rows x 3 columns]"
      ]
     },
     "execution_count": 95,
     "metadata": {},
     "output_type": "execute_result"
    }
   ],
   "source": [
    "# 정규화 적용\n",
    "data['Q'] = data['Q'].apply(lambda x: normalize_text(x, korean_contractions))\n",
    "\n",
    "# 라벨링 써먹기 \n",
    "label_mapping = {0: '중립', 1: '긍정', 2: '부정'}\n",
    "data['Q'] = data.apply(lambda row: f\"{label_mapping[row['label']]} {row['Q']}\", axis=1)\n",
    "\n",
    "data"
   ]
  },
  {
   "cell_type": "code",
   "execution_count": 96,
   "id": "57ae60c3",
   "metadata": {},
   "outputs": [],
   "source": [
    "# 전처리 \n",
    "def preprocess_sentence(sentence):\n",
    "    # 입력받은 sentence를 양쪽 공백을 제거\n",
    "    sentence = sentence.strip()\n",
    "\n",
    "    # 단어와 구두점(punctuation) 사이의 거리를 만듭니다.\n",
    "    # 예를 들어서 \"I am a student.\" => \"I am a student .\"와 같이\n",
    "    # student와 온점 사이에 거리를 만듭니다.\n",
    "    sentence = re.sub(r\"([?.!,])\", r\" \\1 \", sentence)\n",
    "    sentence = re.sub(r'[\"]+', \" \", sentence)\n",
    "\n",
    "    # (ㄱ-ㅎ, 가-힣, a-z, A-Z, 0-9, \".\", \"?\", \"!\", \",\")를 제외한 모든 문자를 공백으로 대체합니다. (숫자+한글+영어+문장부호)\n",
    "    sentence = re.sub(r\"[^ㄱ-ㅎ가-힣a-zA-Z0-9?.!,]+\", \" \", sentence) #정규표현식\n",
    "    sentence = sentence.strip()\n",
    "    return sentence"
   ]
  },
  {
   "cell_type": "code",
   "execution_count": 97,
   "id": "88ad8270",
   "metadata": {},
   "outputs": [
    {
     "name": "stdout",
     "output_type": "stream",
     "text": [
      "전체 샘플 수 : 11823\n",
      "전체 샘플 수 : 11823\n"
     ]
    }
   ],
   "source": [
    "# data['Q']와 data['A']에 대해 질문과 답변 쌍 생성 함수\n",
    "def load_conversations(data):\n",
    "    inputs, outputs = [], []\n",
    "    for q, a in zip(data['Q'], data['A']):\n",
    "        # 전처리 함수를 질문에만 적용 (답변에는 적용하지 않음)\n",
    "        inputs.append(preprocess_sentence(q))\n",
    "        outputs.append(a)\n",
    "    return inputs, outputs\n",
    "\n",
    "# 데이터를 로드하고 전처리하여 질문을 questions, 답변을 answers에 저장합니다.\n",
    "questions, answers = load_conversations(data)\n",
    "\n",
    "print('전체 샘플 수 :', len(questions))\n",
    "print('전체 샘플 수 :', len(answers))"
   ]
  },
  {
   "cell_type": "code",
   "execution_count": 98,
   "id": "fb8ddb20",
   "metadata": {},
   "outputs": [
    {
     "name": "stdout",
     "output_type": "stream",
     "text": [
      "전처리 후의 22번째 질문 샘플: 중립 가스비 장난 아님\n",
      "전처리 후의 22번째 답변 샘플: 다음 달에는 더 절약해봐요.\n"
     ]
    }
   ],
   "source": [
    "print('전처리 후의 22번째 질문 샘플: {}'.format(questions[21]))\n",
    "print('전처리 후의 22번째 답변 샘플: {}'.format(answers[21]))"
   ]
  },
  {
   "cell_type": "code",
   "execution_count": 99,
   "id": "52bfeae7",
   "metadata": {},
   "outputs": [
    {
     "data": {
      "text/plain": [
       "23646"
      ]
     },
     "execution_count": 99,
     "metadata": {},
     "output_type": "execute_result"
    }
   ],
   "source": [
    "len(questions + answers)"
   ]
  },
  {
   "cell_type": "code",
   "execution_count": 100,
   "id": "93a6ee38",
   "metadata": {},
   "outputs": [
    {
     "data": {
      "text/plain": [
       "16384"
      ]
     },
     "execution_count": 100,
     "metadata": {},
     "output_type": "execute_result"
    }
   ],
   "source": [
    "2**14"
   ]
  },
  {
   "cell_type": "markdown",
   "id": "30bdee21",
   "metadata": {},
   "source": [
    "### 이왕이면 2의 승수로 맞춰주자"
   ]
  },
  {
   "cell_type": "code",
   "execution_count": 101,
   "id": "3618a86b",
   "metadata": {},
   "outputs": [],
   "source": [
    "tokenizer = tfds.deprecated.text.SubwordTextEncoder.build_from_corpus(questions + answers, target_vocab_size=2**14)"
   ]
  },
  {
   "cell_type": "code",
   "execution_count": 102,
   "id": "87bc5eff",
   "metadata": {},
   "outputs": [],
   "source": [
    "# 시작 토큰과 종료 토큰에 고유한 정수를 부여합니다.\n",
    "START_TOKEN, END_TOKEN = [tokenizer.vocab_size], [tokenizer.vocab_size + 1]"
   ]
  },
  {
   "cell_type": "code",
   "execution_count": 103,
   "id": "0369aeaf",
   "metadata": {},
   "outputs": [
    {
     "name": "stdout",
     "output_type": "stream",
     "text": [
      "START_TOKEN의 번호 : [14396]\n",
      "END_TOKEN의 번호 : [14397]\n"
     ]
    }
   ],
   "source": [
    "print('START_TOKEN의 번호 :' ,[tokenizer.vocab_size])\n",
    "print('END_TOKEN의 번호 :' ,[tokenizer.vocab_size + 1])"
   ]
  },
  {
   "cell_type": "code",
   "execution_count": 104,
   "id": "93872746",
   "metadata": {},
   "outputs": [
    {
     "name": "stdout",
     "output_type": "stream",
     "text": [
      "14398\n"
     ]
    }
   ],
   "source": [
    "# 시작 토큰과 종료 토큰을 고려하여 +2를 하여 단어장의 크기를 산정합니다.\n",
    "VOCAB_SIZE = tokenizer.vocab_size + 2\n",
    "print(VOCAB_SIZE)"
   ]
  },
  {
   "cell_type": "markdown",
   "id": "a7d1b204",
   "metadata": {},
   "source": [
    "?"
   ]
  },
  {
   "cell_type": "code",
   "execution_count": 105,
   "id": "52a714be",
   "metadata": {},
   "outputs": [
    {
     "name": "stdout",
     "output_type": "stream",
     "text": [
      "정수 인코딩 후의 21번째 질문 샘플: [3, 8, 9009, 6922, 124, 208, 55]\n",
      "정수 인코딩 후의 21번째 답변 샘플: [3918, 13509, 472, 24, 621, 28, 14186]\n"
     ]
    }
   ],
   "source": [
    "# 임의의 22번째 샘플에 대해서 정수 인코딩 작업을 수행.\n",
    "# 각 토큰을 고유한 정수로 변환\n",
    "print('정수 인코딩 후의 21번째 질문 샘플: {}'.format(tokenizer.encode(questions[9555]))) # 혹시 1,2,3으로 들어갔나? \n",
    "print('정수 인코딩 후의 21번째 답변 샘플: {}'.format(tokenizer.encode(answers[9555])))"
   ]
  },
  {
   "cell_type": "code",
   "execution_count": 32,
   "id": "5f7e7cad",
   "metadata": {},
   "outputs": [
    {
     "name": "stdout",
     "output_type": "stream",
     "text": [
      "질문 최대 길이: 16\n",
      "대답 최대 길이: 21\n"
     ]
    }
   ],
   "source": [
    "# 데이터프레임 열에 대해 최대 길이를 추출하는 함수\n",
    "def get_max_length_for_column(dataframe, column_name):\n",
    "    return max(len(sentence.split()) for sentence in dataframe[column_name])\n",
    "\n",
    "# data 데이터프레임의 'Q' 열에 대해 최대 길이 추출\n",
    "max_len_questions = get_max_length_for_column(pd.DataFrame(data), 'Q')\n",
    "print('질문 최대 길이:', max_len_questions)\n",
    "\n",
    "# data 데이터프레임의 'A' 열에 대해 최대 길이 추출\n",
    "max_len_questions = get_max_length_for_column(pd.DataFrame(data), 'A')\n",
    "print('대답 최대 길이:', max_len_questions)"
   ]
  },
  {
   "cell_type": "code",
   "execution_count": 33,
   "id": "b89e887e",
   "metadata": {},
   "outputs": [
    {
     "name": "stdout",
     "output_type": "stream",
     "text": [
      "20\n"
     ]
    }
   ],
   "source": [
    "# 최대길이 설정 깔끔하게[]\n",
    "MAX_LENGTH = 20\n",
    "print(MAX_LENGTH)"
   ]
  },
  {
   "cell_type": "code",
   "execution_count": 34,
   "id": "2d8e2e20",
   "metadata": {},
   "outputs": [
    {
     "name": "stdout",
     "output_type": "stream",
     "text": [
      "슝=3\n"
     ]
    }
   ],
   "source": [
    "# 정수 인코딩, 최대 길이를 초과하는 샘플 제거, 패딩\n",
    "def tokenize_and_filter(inputs, outputs):\n",
    "  tokenized_inputs, tokenized_outputs = [], []\n",
    "  \n",
    "  for (sentence1, sentence2) in zip(inputs, outputs):\n",
    "    # 정수 인코딩 과정에서 시작 토큰과 종료 토큰을 추가\n",
    "    sentence1 = START_TOKEN + tokenizer.encode(sentence1) + END_TOKEN\n",
    "    sentence2 = START_TOKEN + tokenizer.encode(sentence2) + END_TOKEN\n",
    "\n",
    "    # 최대 길이 40 이하인 경우에만 데이터셋으로 허용\n",
    "    if len(sentence1) <= MAX_LENGTH and len(sentence2) <= MAX_LENGTH:\n",
    "      tokenized_inputs.append(sentence1)\n",
    "      tokenized_outputs.append(sentence2)\n",
    "  \n",
    "  # 최대 길이 40으로 모든 데이터셋을 패딩\n",
    "  tokenized_inputs = tf.keras.preprocessing.sequence.pad_sequences(\n",
    "      tokenized_inputs, maxlen=MAX_LENGTH, padding='post')\n",
    "  tokenized_outputs = tf.keras.preprocessing.sequence.pad_sequences(\n",
    "      tokenized_outputs, maxlen=MAX_LENGTH, padding='post')\n",
    "  \n",
    "  return tokenized_inputs, tokenized_outputs\n",
    "print(\"슝=3\")"
   ]
  },
  {
   "cell_type": "code",
   "execution_count": 35,
   "id": "0355c26f",
   "metadata": {},
   "outputs": [
    {
     "name": "stdout",
     "output_type": "stream",
     "text": [
      "단어장의 크기 : 14398\n",
      "필터링 후의 질문 샘플 개수: 11805\n",
      "필터링 후의 답변 샘플 개수: 11805\n"
     ]
    }
   ],
   "source": [
    "questions, answers = tokenize_and_filter(questions, answers)\n",
    "print('단어장의 크기 :',(VOCAB_SIZE))\n",
    "print('필터링 후의 질문 샘플 개수: {}'.format(len(questions)))\n",
    "print('필터링 후의 답변 샘플 개수: {}'.format(len(answers)))"
   ]
  },
  {
   "cell_type": "code",
   "execution_count": 36,
   "id": "f20190d7",
   "metadata": {},
   "outputs": [
    {
     "name": "stdout",
     "output_type": "stream",
     "text": [
      "슝=3\n"
     ]
    }
   ],
   "source": [
    "BATCH_SIZE = 64\n",
    "BUFFER_SIZE = 12000 \n",
    "\n",
    "# 디코더는 이전의 target을 다음의 input으로 사용합니다.\n",
    "# 이에 따라 outputs에서는 START_TOKEN을 제거하겠습니다.\n",
    "dataset = tf.data.Dataset.from_tensor_slices((\n",
    "    {\n",
    "        'inputs': questions,\n",
    "        'dec_inputs': answers[:, :-1]\n",
    "    },\n",
    "    {\n",
    "        'outputs': answers[:, 1:]\n",
    "    },\n",
    "))\n",
    "\n",
    "dataset = dataset.cache()\n",
    "dataset = dataset.shuffle(BUFFER_SIZE)\n",
    "dataset = dataset.batch(BATCH_SIZE)\n",
    "dataset = dataset.prefetch(tf.data.experimental.AUTOTUNE)\n",
    "print(\"슝=3\")"
   ]
  },
  {
   "cell_type": "code",
   "execution_count": 37,
   "id": "44d4f596",
   "metadata": {},
   "outputs": [],
   "source": [
    "def transformer(vocab_size,\n",
    "                num_layers,\n",
    "                units,\n",
    "                d_model,\n",
    "                num_heads,\n",
    "                dropout,\n",
    "                name=\"transformer\"):\n",
    "  inputs = tf.keras.Input(shape=(None,), name=\"inputs\")\n",
    "  dec_inputs = tf.keras.Input(shape=(None,), name=\"dec_inputs\")\n",
    "\n",
    "  # 인코더에서 패딩을 위한 마스크\n",
    "  enc_padding_mask = tf.keras.layers.Lambda(\n",
    "      create_padding_mask, output_shape=(1, 1, None),\n",
    "      name='enc_padding_mask')(inputs)\n",
    "\n",
    "  # 디코더에서 미래의 토큰을 마스크 하기 위해서 사용합니다.\n",
    "  # 내부적으로 패딩 마스크도 포함되어져 있습니다.\n",
    "  look_ahead_mask = tf.keras.layers.Lambda(\n",
    "      create_look_ahead_mask,\n",
    "      output_shape=(1, None, None),\n",
    "      name='look_ahead_mask')(dec_inputs)\n",
    "\n",
    "  # 두 번째 어텐션 블록에서 인코더의 벡터들을 마스킹\n",
    "  # 디코더에서 패딩을 위한 마스크\n",
    "  dec_padding_mask = tf.keras.layers.Lambda(\n",
    "      create_padding_mask, output_shape=(1, 1, None),\n",
    "      name='dec_padding_mask')(inputs)\n",
    "\n",
    "  # 인코더\n",
    "  enc_outputs = encoder(\n",
    "      vocab_size=vocab_size,\n",
    "      num_layers=num_layers,\n",
    "      units=units,\n",
    "      d_model=d_model,\n",
    "      num_heads=num_heads,\n",
    "      dropout=dropout,\n",
    "  )(inputs=[inputs, enc_padding_mask])\n",
    "\n",
    "  # 디코더\n",
    "  dec_outputs = decoder(\n",
    "      vocab_size=vocab_size,\n",
    "      num_layers=num_layers,\n",
    "      units=units,\n",
    "      d_model=d_model,\n",
    "      num_heads=num_heads,\n",
    "      dropout=dropout,\n",
    "  )(inputs=[dec_inputs, enc_outputs, look_ahead_mask, dec_padding_mask])\n",
    "\n",
    "  # 완전연결층\n",
    "  outputs = tf.keras.layers.Dense(units=vocab_size, name=\"outputs\")(dec_outputs)\n",
    "\n",
    "  return tf.keras.Model(inputs=[inputs, dec_inputs], outputs=outputs, name=name)"
   ]
  },
  {
   "cell_type": "code",
   "execution_count": 38,
   "id": "7c736c09",
   "metadata": {},
   "outputs": [
    {
     "name": "stdout",
     "output_type": "stream",
     "text": [
      "Model: \"transformer\"\n",
      "__________________________________________________________________________________________________\n",
      "Layer (type)                    Output Shape         Param #     Connected to                     \n",
      "==================================================================================================\n",
      "inputs (InputLayer)             [(None, None)]       0                                            \n",
      "__________________________________________________________________________________________________\n",
      "dec_inputs (InputLayer)         [(None, None)]       0                                            \n",
      "__________________________________________________________________________________________________\n",
      "enc_padding_mask (Lambda)       (None, 1, 1, None)   0           inputs[0][0]                     \n",
      "__________________________________________________________________________________________________\n",
      "encoder (Functional)            (None, None, 256)    4740096     inputs[0][0]                     \n",
      "                                                                 enc_padding_mask[0][0]           \n",
      "__________________________________________________________________________________________________\n",
      "look_ahead_mask (Lambda)        (None, 1, None, None 0           dec_inputs[0][0]                 \n",
      "__________________________________________________________________________________________________\n",
      "dec_padding_mask (Lambda)       (None, 1, 1, None)   0           inputs[0][0]                     \n",
      "__________________________________________________________________________________________________\n",
      "decoder (Functional)            (None, None, 256)    5267456     dec_inputs[0][0]                 \n",
      "                                                                 encoder[0][0]                    \n",
      "                                                                 look_ahead_mask[0][0]            \n",
      "                                                                 dec_padding_mask[0][0]           \n",
      "__________________________________________________________________________________________________\n",
      "outputs (Dense)                 (None, None, 14398)  3700286     decoder[0][0]                    \n",
      "==================================================================================================\n",
      "Total params: 13,707,838\n",
      "Trainable params: 13,707,838\n",
      "Non-trainable params: 0\n",
      "__________________________________________________________________________________________________\n"
     ]
    }
   ],
   "source": [
    "tf.keras.backend.clear_session()\n",
    "\n",
    "# 하이퍼파라미터\n",
    "NUM_LAYERS = 2 # 인코더와 디코더의 층의 개수\n",
    "D_MODEL = 256 # 인코더와 디코더 내부의 입, 출력의 고정 차원\n",
    "NUM_HEADS = 8 # 멀티 헤드 어텐션에서의 헤드 수 \n",
    "UNITS = 512 # 피드 포워드 신경망의 은닉층의 크기\n",
    "DROPOUT = 0.1 # 드롭아웃의 비율\n",
    "\n",
    "model = transformer(\n",
    "    vocab_size=VOCAB_SIZE,\n",
    "    num_layers=NUM_LAYERS,\n",
    "    units=UNITS,\n",
    "    d_model=D_MODEL,\n",
    "    num_heads=NUM_HEADS,\n",
    "    dropout=DROPOUT)\n",
    "\n",
    "model.summary()"
   ]
  },
  {
   "cell_type": "code",
   "execution_count": 39,
   "id": "46d588b9",
   "metadata": {},
   "outputs": [],
   "source": [
    "def loss_function(y_true, y_pred):\n",
    "    # y_pred의 길이에 맞춰 y_true를 reshape\n",
    "    y_true = tf.reshape(y_true, shape=(-1, tf.shape(y_pred)[1]))\n",
    "\n",
    "    loss = tf.keras.losses.SparseCategoricalCrossentropy(\n",
    "        from_logits=True, reduction='none')(y_true, y_pred)\n",
    "    \n",
    "    return tf.reduce_mean(loss)"
   ]
  },
  {
   "cell_type": "code",
   "execution_count": 40,
   "id": "eedeffe4",
   "metadata": {},
   "outputs": [],
   "source": [
    "class CustomSchedule(tf.keras.optimizers.schedules.LearningRateSchedule):\n",
    "    def __init__(self, d_model, warmup_steps=4000):\n",
    "        super(CustomSchedule, self).__init__()\n",
    "\n",
    "        self.d_model = d_model\n",
    "        self.d_model = tf.cast(self.d_model, tf.float32)\n",
    "\n",
    "        self.warmup_steps = warmup_steps\n",
    "\n",
    "    def __call__(self, step):\n",
    "        # step을 float32로 변환\n",
    "        step = tf.cast(step, tf.float32) # 타입 맞춰주기\n",
    "        arg1 = tf.math.rsqrt(step)\n",
    "        arg2 = step * (self.warmup_steps**-1.5)\n",
    "\n",
    "        return tf.math.rsqrt(self.d_model) * tf.math.minimum(arg1, arg2)"
   ]
  },
  {
   "cell_type": "code",
   "execution_count": 41,
   "id": "fc7fd216",
   "metadata": {},
   "outputs": [
    {
     "data": {
      "text/plain": [
       "Text(0.5, 0, 'Train Step')"
      ]
     },
     "execution_count": 41,
     "metadata": {},
     "output_type": "execute_result"
    },
    {
     "data": {
      "image/png": "[encoded data removed]",
      "text/plain": [
       "<Figure size 432x288 with 1 Axes>"
      ]
     },
     "metadata": {
      "needs_background": "light"
     },
     "output_type": "display_data"
    }
   ],
   "source": [
    "sample_learning_rate = CustomSchedule(d_model=128)\n",
    "\n",
    "plt.plot(sample_learning_rate(tf.range(200000, dtype=tf.float32)))\n",
    "plt.ylabel(\"Learning Rate\")\n",
    "plt.xlabel(\"Train Step\")"
   ]
  },
  {
   "cell_type": "code",
   "execution_count": 42,
   "id": "1a146b48",
   "metadata": {},
   "outputs": [
    {
     "name": "stdout",
     "output_type": "stream",
     "text": [
      "슝=3\n"
     ]
    }
   ],
   "source": [
    "learning_rate = CustomSchedule(D_MODEL)\n",
    "\n",
    "optimizer = tf.keras.optimizers.Adam(\n",
    "    learning_rate, beta_1=0.9, beta_2=0.98, epsilon=1e-9)\n",
    "\n",
    "def accuracy(y_true, y_pred):\n",
    "    # 여기도 y_pred의 길이에 맞춰 y_true를 reshape\n",
    "    y_true = tf.reshape(y_true, shape=(-1, tf.shape(y_pred)[1]))\n",
    "    return tf.keras.metrics.sparse_categorical_accuracy(y_true, y_pred)\n",
    "\n",
    "model.compile(optimizer=optimizer, loss=loss_function, metrics=[accuracy])\n",
    "print(\"슝=3\")"
   ]
  },
  {
   "cell_type": "code",
   "execution_count": 43,
   "id": "2e156cfc",
   "metadata": {},
   "outputs": [
    {
     "name": "stdout",
     "output_type": "stream",
     "text": [
      "Epoch 1/10\n",
      "185/185 [==============================] - 15s 47ms/step - loss: 7.8428 - accuracy: 0.5520\n",
      "Epoch 2/10\n",
      "185/185 [==============================] - 9s 47ms/step - loss: 4.4687 - accuracy: 0.6814\n",
      "Epoch 3/10\n",
      "185/185 [==============================] - 9s 47ms/step - loss: 2.0940 - accuracy: 0.7754\n",
      "Epoch 4/10\n",
      "185/185 [==============================] - 9s 47ms/step - loss: 1.7508 - accuracy: 0.7861\n",
      "Epoch 5/10\n",
      "185/185 [==============================] - 9s 47ms/step - loss: 1.6213 - accuracy: 0.7927\n",
      "Epoch 6/10\n",
      "185/185 [==============================] - 9s 47ms/step - loss: 1.5144 - accuracy: 0.7986\n",
      "Epoch 7/10\n",
      "185/185 [==============================] - 9s 47ms/step - loss: 1.3947 - accuracy: 0.8072\n",
      "Epoch 8/10\n",
      "185/185 [==============================] - 9s 47ms/step - loss: 1.2646 - accuracy: 0.8190\n",
      "Epoch 9/10\n",
      "185/185 [==============================] - 9s 47ms/step - loss: 1.1288 - accuracy: 0.8344\n",
      "Epoch 10/10\n",
      "185/185 [==============================] - 9s 47ms/step - loss: 0.9877 - accuracy: 0.8510\n"
     ]
    },
    {
     "data": {
      "text/plain": [
       "<keras.callbacks.History at 0x7d58daed49d0>"
      ]
     },
     "execution_count": 43,
     "metadata": {},
     "output_type": "execute_result"
    }
   ],
   "source": [
    "EPOCHS = 10\n",
    "model.fit(dataset, epochs=EPOCHS, verbose=1)"
   ]
  },
  {
   "cell_type": "markdown",
   "id": "f9f42d23",
   "metadata": {},
   "source": [
    "### 10번만 더해보자"
   ]
  },
  {
   "cell_type": "code",
   "execution_count": 61,
   "id": "adb95795",
   "metadata": {},
   "outputs": [
    {
     "name": "stdout",
     "output_type": "stream",
     "text": [
      "Epoch 1/10\n",
      "185/185 [==============================] - 9s 48ms/step - loss: 0.8421 - accuracy: 0.8669\n",
      "Epoch 2/10\n",
      "185/185 [==============================] - 9s 47ms/step - loss: 0.6923 - accuracy: 0.8854\n",
      "Epoch 3/10\n",
      "185/185 [==============================] - 9s 48ms/step - loss: 0.5487 - accuracy: 0.9050\n",
      "Epoch 4/10\n",
      "185/185 [==============================] - 9s 48ms/step - loss: 0.4211 - accuracy: 0.9236\n",
      "Epoch 5/10\n",
      "185/185 [==============================] - 9s 48ms/step - loss: 0.3087 - accuracy: 0.9430\n",
      "Epoch 6/10\n",
      "185/185 [==============================] - 9s 48ms/step - loss: 0.2186 - accuracy: 0.9585\n",
      "Epoch 7/10\n",
      "185/185 [==============================] - 9s 48ms/step - loss: 0.1498 - accuracy: 0.9717\n",
      "Epoch 8/10\n",
      "185/185 [==============================] - 9s 48ms/step - loss: 0.1076 - accuracy: 0.9793\n",
      "Epoch 9/10\n",
      "185/185 [==============================] - 9s 48ms/step - loss: 0.0822 - accuracy: 0.9837\n",
      "Epoch 10/10\n",
      "185/185 [==============================] - 9s 49ms/step - loss: 0.0688 - accuracy: 0.9855\n"
     ]
    },
    {
     "data": {
      "image/png": "[encoded data removed]",
      "text/plain": [
       "<Figure size 432x288 with 1 Axes>"
      ]
     },
     "metadata": {
      "needs_background": "light"
     },
     "output_type": "display_data"
    }
   ],
   "source": [
    "EPOCHS = 10\n",
    "history = model.fit(dataset, epochs=EPOCHS, verbose=1)\n",
    "\n",
    "# 손실 저장\n",
    "loss = history.history['loss']\n",
    "val_loss = history.history.get('val_loss', None) # VAL 존재x\n",
    "\n",
    "plt.plot(range(EPOCHS), loss, label='Training Loss')\n",
    "if val_loss is not None:\n",
    "    plt.plot(range(EPOCHS), val_loss, label='Validation Loss')\n",
    "\n",
    "plt.xlabel('Epochs')\n",
    "plt.ylabel('Loss')\n",
    "plt.title('Training and Validation Loss')\n",
    "plt.legend()\n",
    "plt.show()"
   ]
  },
  {
   "cell_type": "markdown",
   "id": "0607c6a5",
   "metadata": {},
   "source": [
    "### 그래프로는 뭔가 수상쩍은데 일단 진행해보자."
   ]
  },
  {
   "cell_type": "code",
   "execution_count": 62,
   "id": "5d532efa",
   "metadata": {},
   "outputs": [
    {
     "name": "stdout",
     "output_type": "stream",
     "text": [
      "슝=3\n"
     ]
    }
   ],
   "source": [
    "def decoder_inference(sentence):\n",
    "  sentence = preprocess_sentence(sentence)\n",
    "\n",
    "  # 입력된 문장을 정수 인코딩 후, 시작 토큰과 종료 토큰을 앞뒤로 추가.\n",
    "  # ex) Where have you been? → [[8331   86   30    5 1059    7 8332]]\n",
    "  sentence = tf.expand_dims(\n",
    "      START_TOKEN + tokenizer.encode(sentence) + END_TOKEN, axis=0)\n",
    "\n",
    "  # 디코더의 현재까지의 예측한 출력 시퀀스가 지속적으로 저장되는 변수.\n",
    "  # 처음에는 예측한 내용이 없음으로 시작 토큰만 별도 저장. ex) 8331\n",
    "  output_sequence = tf.expand_dims(START_TOKEN, 0)\n",
    "\n",
    "  # 디코더의 인퍼런스 단계\n",
    "  for i in range(MAX_LENGTH):\n",
    "    # 디코더는 최대 MAX_LENGTH의 길이만큼 다음 단어 예측을 반복합니다.\n",
    "    predictions = model(inputs=[sentence, output_sequence], training=False)\n",
    "    predictions = predictions[:, -1:, :]\n",
    "\n",
    "    # 현재 예측한 단어의 정수\n",
    "    predicted_id = tf.cast(tf.argmax(predictions, axis=-1), tf.int32)\n",
    "\n",
    "    # 만약 현재 예측한 단어가 종료 토큰이라면 for문을 종료\n",
    "    if tf.equal(predicted_id, END_TOKEN[0]):\n",
    "      break\n",
    "\n",
    "    # 예측한 단어들은 지속적으로 output_sequence에 추가됩니다.\n",
    "    # 이 output_sequence는 다시 디코더의 입력이 됩니다.\n",
    "    output_sequence = tf.concat([output_sequence, predicted_id], axis=-1)\n",
    "\n",
    "  return tf.squeeze(output_sequence, axis=0)\n",
    "print(\"슝=3\")"
   ]
  },
  {
   "cell_type": "code",
   "execution_count": 63,
   "id": "928a6c9c",
   "metadata": {},
   "outputs": [
    {
     "name": "stdout",
     "output_type": "stream",
     "text": [
      "슝=3\n"
     ]
    }
   ],
   "source": [
    "def sentence_generation(sentence):\n",
    "  # 입력 문장에 대해서 디코더를 동작 시켜 예측된 정수 시퀀스를 리턴받습니다.\n",
    "  prediction = decoder_inference(sentence)\n",
    "\n",
    "  # 정수 시퀀스를 다시 텍스트 시퀀스로 변환합니다.\n",
    "  predicted_sentence = tokenizer.decode(\n",
    "      [i for i in prediction if i < tokenizer.vocab_size])\n",
    "\n",
    "  print('입력 : {}'.format(sentence))\n",
    "  print('출력 : {}'.format(predicted_sentence))\n",
    "\n",
    "  return predicted_sentence\n",
    "print(\"슝=3\")"
   ]
  },
  {
   "cell_type": "code",
   "execution_count": 67,
   "id": "cdf9deee",
   "metadata": {},
   "outputs": [
    {
     "name": "stdout",
     "output_type": "stream",
     "text": [
      "입력 : 죽고싶다...\n",
      "출력 : 제가 곁에 있을게요.\n"
     ]
    },
    {
     "data": {
      "text/plain": [
       "'제가 곁에 있을게요.'"
      ]
     },
     "execution_count": 67,
     "metadata": {},
     "output_type": "execute_result"
    }
   ],
   "source": [
    "sentence_generation(\"죽고싶다...\")"
   ]
  },
  {
   "cell_type": "code",
   "execution_count": 68,
   "id": "1e365a8c",
   "metadata": {},
   "outputs": [
    {
     "name": "stdout",
     "output_type": "stream",
     "text": [
      "입력 : 안녕?\n",
      "출력 : 안녕하세요.\n"
     ]
    },
    {
     "data": {
      "text/plain": [
       "'안녕하세요.'"
      ]
     },
     "execution_count": 68,
     "metadata": {},
     "output_type": "execute_result"
    }
   ],
   "source": [
    "sentence_generation(\"안녕?\")"
   ]
  },
  {
   "cell_type": "code",
   "execution_count": 71,
   "id": "ef33023c",
   "metadata": {},
   "outputs": [
    {
     "name": "stdout",
     "output_type": "stream",
     "text": [
      "입력 : 너 바보야?\n",
      "출력 : 저는 위로봇입니다.\n"
     ]
    },
    {
     "data": {
      "text/plain": [
       "'저는 위로봇입니다.'"
      ]
     },
     "execution_count": 71,
     "metadata": {},
     "output_type": "execute_result"
    }
   ],
   "source": [
    "sentence_generation(\"너 바보야?\")"
   ]
  },
  {
   "cell_type": "code",
   "execution_count": 75,
   "id": "b781e227",
   "metadata": {},
   "outputs": [
    {
     "name": "stdout",
     "output_type": "stream",
     "text": [
      "입력 : 위로 해줘\n",
      "출력 : 제게 기대세요.\n"
     ]
    },
    {
     "data": {
      "text/plain": [
       "'제게 기대세요.'"
      ]
     },
     "execution_count": 75,
     "metadata": {},
     "output_type": "execute_result"
    }
   ],
   "source": [
    "sentence_generation(\"위로 해줘\")"
   ]
  },
  {
   "cell_type": "code",
   "execution_count": 76,
   "id": "178618c7",
   "metadata": {},
   "outputs": [
    {
     "name": "stdout",
     "output_type": "stream",
     "text": [
      "입력 : 고맙다\n",
      "출력 : 감사합니다.\n"
     ]
    },
    {
     "data": {
      "text/plain": [
       "'감사합니다.'"
      ]
     },
     "execution_count": 76,
     "metadata": {},
     "output_type": "execute_result"
    }
   ],
   "source": [
    "sentence_generation(\"고맙다\")"
   ]
  },
  {
   "cell_type": "code",
   "execution_count": 77,
   "id": "daf17229",
   "metadata": {},
   "outputs": [
    {
     "name": "stdout",
     "output_type": "stream",
     "text": [
      "입력 : 오늘 날씨 어때?\n",
      "출력 : 날씨 어플에 물어보세요.\n"
     ]
    },
    {
     "data": {
      "text/plain": [
       "'날씨 어플에 물어보세요.'"
      ]
     },
     "execution_count": 77,
     "metadata": {},
     "output_type": "execute_result"
    }
   ],
   "source": [
    "sentence_generation(\"오늘 날씨 어때?\")"
   ]
  },
  {
   "cell_type": "markdown",
   "id": "3f18d532",
   "metadata": {},
   "source": [
    "### 생각보다 성능이 좋다. 데이터셋이 굉장히 단순하기 때문일 것\n",
    "* 데이터셋이 굉장히 늘어났을때가 궁금해지는 실습이었다"
   ]
  }
 ],
 "metadata": {
  "kernelspec": {
   "display_name": "Python 3 (ipykernel)",
   "language": "python",
   "name": "python3"
  },
  "language_info": {
   "codemirror_mode": {
    "name": "ipython",
    "version": 3
   },
   "file_extension": ".py",
   "mimetype": "text/x-python",
   "name": "python",
   "nbconvert_exporter": "python",
   "pygments_lexer": "ipython3",
   "version": "3.9.7"
  }
 },
 "nbformat": 4,
 "nbformat_minor": 5
}
